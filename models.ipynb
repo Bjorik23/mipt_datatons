{
 "cells": [
  {
   "cell_type": "code",
   "execution_count": 2,
   "metadata": {},
   "outputs": [],
   "source": [
    "import pandas as pd\n",
    "from sklearn.model_selection import train_test_split\n",
    "from sklearn.linear_model import LinearRegression, Lasso\n",
    "from sklearn.model_selection import GridSearchCV\n",
    "from sklearn.metrics import r2_score, mean_absolute_error\n",
    "from sklearn.ensemble import RandomForestRegressor\n",
    "import matplotlib.pyplot as plt \n",
    "import seaborn as sns\n",
    "import pickle \n",
    "from sklearn.svm import SVR\n",
    "from sklearn.ensemble import GradientBoostingRegressor\n",
    "from sklearn.neighbors import KNeighborsRegressor\n",
    "from sklearn.preprocessing import StandardScaler"
   ]
  },
  {
   "cell_type": "code",
   "execution_count": 8,
   "metadata": {},
   "outputs": [],
   "source": [
    "df = pd.read_csv('processd_df.csv', sep = ';')\n",
    "y = df['CO(GT)']\n",
    "x = df.loc[:, ['Month', 'Weekday', 'Hour', 'PT08.S1(CO)', 'C6H6(GT)', 'PT08.S2(NMHC)', 'NOx(GT)', 'PT08.S3(NOx)', 'NO2(GT)', 'PT08.S4(NO2)', 'PT08.S5(O3)', 'T', 'RH', 'AH']]\n",
    "X_train, X_test, y_train, y_test = train_test_split(x, y, test_size=0.1, random_state=42)"
   ]
  },
  {
   "cell_type": "code",
   "execution_count": 5,
   "metadata": {},
   "outputs": [],
   "source": [
    "scaler = StandardScaler()\n",
    "X_train = scaler.fit_transform(X_train)\n",
    "X_test = scaler.transform(X_test)"
   ]
  },
  {
   "cell_type": "code",
   "execution_count": 9,
   "metadata": {},
   "outputs": [
    {
     "name": "stdout",
     "output_type": "stream",
     "text": [
      "Метрика R2: 0.9184234442438407\n",
      "MAE: 0.24967928601306666\n"
     ]
    }
   ],
   "source": [
    "lin_model = LinearRegression()\n",
    "lin_model.fit(X_train, y_train)\n",
    "y_pred = lin_model.predict(X_test)\n",
    "print('Метрика R2:', r2_score(y_test, y_pred))\n",
    "print('MAE:', mean_absolute_error(y_test, y_pred))"
   ]
  },
  {
   "cell_type": "code",
   "execution_count": 10,
   "metadata": {},
   "outputs": [
    {
     "name": "stdout",
     "output_type": "stream",
     "text": [
      "Лучшие гиперпараметры {'alpha': 0.1}\n",
      "Метрика R2: 0.9096827831592366\n",
      "MAE: 0.26393723019037146\n"
     ]
    }
   ],
   "source": [
    "lasso_model = Lasso()\n",
    "parameters = {'alpha': [0.1, 0.5, 1, 3, 5]}\n",
    "lasso = GridSearchCV(lasso_model, parameters)\n",
    "lasso.fit(X_train, y_train)\n",
    "y_pred = lasso.predict(X_test)\n",
    "print('Лучшие гиперпараметры', lasso.best_params_)\n",
    "print('Метрика R2:', r2_score(y_test, y_pred))\n",
    "print('MAE:', mean_absolute_error(y_test, y_pred))"
   ]
  },
  {
   "cell_type": "code",
   "execution_count": 17,
   "metadata": {},
   "outputs": [
    {
     "name": "stdout",
     "output_type": "stream",
     "text": [
      "Лучшие гиперпараметры SVR(C=12)\n",
      "Метрика R2: 0.9582851577546982\n",
      "MAE: 0.16804714849495195\n"
     ]
    }
   ],
   "source": [
    "parameters = {'kernel':('linear', 'rbf'), 'C':[1, 5, 10, 12]}\n",
    "svr_model = SVR()\n",
    "svr = GridSearchCV(svr_model, parameters)\n",
    "svr.fit(X_train, y_train)\n",
    "print('Лучшие гиперпараметры', svr.best_params_)\n",
    "y_pred = svr.predict(X_test)\n",
    "print('Метрика R2:', r2_score(y_test, y_pred))\n",
    "print('MAE:', mean_absolute_error(y_test, y_pred))"
   ]
  },
  {
   "cell_type": "code",
   "execution_count": 16,
   "metadata": {},
   "outputs": [
    {
     "name": "stdout",
     "output_type": "stream",
     "text": [
      "Лучшие гиперпараметры RandomForestRegressor(max_depth=20, max_features='log2', n_estimators=150,\n",
      "                      warm_start=True)\n",
      "Метрика R2: 0.9381254897286039\n",
      "MAE: 0.20787898523315865\n"
     ]
    }
   ],
   "source": [
    "forest_model = RandomForestRegressor(warm_start = True)\n",
    "parameters = {'n_estimators':(100, 150, 200), \n",
    "                'criterion':['squared_error', 'absolute_error'],\n",
    "                'max_depth': [10, 15, 20],\n",
    "                'max_features': ['sqrt', 'log2']}\n",
    "\n",
    "\n",
    "forest = GridSearchCV(forest_model, parameters)\n",
    "forest.fit(X_train, y_train)\n",
    "print('Лучшие гиперпараметры', forest.best_params_)\n",
    "y_pred = forest.predict(X_test)\n",
    "print('Метрика R2:', r2_score(y_test, y_pred))\n",
    "print('MAE:', mean_absolute_error(y_test, y_pred))"
   ]
  },
  {
   "cell_type": "code",
   "execution_count": 12,
   "metadata": {},
   "outputs": [
    {
     "name": "stdout",
     "output_type": "stream",
     "text": [
      "Лучшие гиперпараметры {'algorithm': 'auto', 'n_neighbors': 9, 'weights': 'distance'}\n",
      "Метрика R2: 0.9128641605892815\n",
      "MAE: 0.2505828366632603\n"
     ]
    }
   ],
   "source": [
    "#K-ближайших соседей\n",
    "neigh_model = KNeighborsRegressor()\n",
    "parameters = {'n_neighbors': (3, 5, 7, 9, 11), \n",
    "                'weights': ['uniform', 'distance'],\n",
    "                'algorithm': ['auto', 'ball_tree', 'kd_tree']}\n",
    "\n",
    "\n",
    "neigh = GridSearchCV(neigh_model, parameters)\n",
    "neigh.fit(X_train, y_train)\n",
    "print('Лучшие гиперпараметры', neigh.best_params_)\n",
    "y_pred = neigh.predict(X_test)\n",
    "print('Метрика R2:', r2_score(y_test, y_pred))\n",
    "print('MAE:', mean_absolute_error(y_test, y_pred))"
   ]
  }
 ],
 "metadata": {
  "kernelspec": {
   "display_name": "Python 3",
   "language": "python",
   "name": "python3"
  },
  "language_info": {
   "codemirror_mode": {
    "name": "ipython",
    "version": 3
   },
   "file_extension": ".py",
   "mimetype": "text/x-python",
   "name": "python",
   "nbconvert_exporter": "python",
   "pygments_lexer": "ipython3",
   "version": "3.10.11"
  },
  "orig_nbformat": 4,
  "vscode": {
   "interpreter": {
    "hash": "7b1f2b33e866b0bf2409397e5f58ba9cdf170d3b7f64c8f359c79998e2f88ad4"
   }
  }
 },
 "nbformat": 4,
 "nbformat_minor": 2
}
