{
 "cells": [
  {
   "cell_type": "code",
   "execution_count": 33,
   "metadata": {},
   "outputs": [],
   "source": [
    "import pandas as pd\n",
    "import numpy as np\n",
    "from sklearn.model_selection import train_test_split\n",
    "from sklearn.linear_model import LinearRegression, Lasso\n",
    "from sklearn.model_selection import GridSearchCV\n",
    "from sklearn.metrics import r2_score, mean_absolute_error\n",
    "from sklearn.ensemble import RandomForestRegressor\n",
    "import matplotlib.pyplot as plt \n",
    "import seaborn as sns\n",
    "import pickle \n",
    "from sklearn.svm import SVR\n",
    "from sklearn.ensemble import GradientBoostingRegressor\n",
    "from sklearn.neighbors import KNeighborsRegressor\n",
    "from sklearn.preprocessing import StandardScaler"
   ]
  },
  {
   "attachments": {},
   "cell_type": "markdown",
   "metadata": {},
   "source": [
    "### загружаем обработанную таблицу и разбиваем на обучающий и валидационный набор"
   ]
  },
  {
   "cell_type": "code",
   "execution_count": 69,
   "metadata": {},
   "outputs": [],
   "source": [
    "df = pd.read_csv('processd_df.csv', sep = ';') #загрузка таблицы\n",
    "y = df['CO(GT)'] #берём таргет\n",
    "x = df.loc[:, ['Month', 'Weekday', 'Hour', 'PT08.S1(CO)', 'C6H6(GT)', 'PT08.S2(NMHC)', 'NOx(GT)', 'PT08.S3(NOx)', 'NO2(GT)', 'PT08.S4(NO2)', 'PT08.S5(O3)', 'T', 'RH', 'AH']] #оставляем столбцы без таргета\n",
    "X_train, X_test, y_train, y_test = train_test_split(x, y, test_size=0.1, random_state=42) #разбиваем на обучающую и валидационные выборки"
   ]
  },
  {
   "attachments": {},
   "cell_type": "markdown",
   "metadata": {},
   "source": [
    "### Нормализуем данные при помощи класса StandardScaler пакета sklearn. "
   ]
  },
  {
   "cell_type": "code",
   "execution_count": 70,
   "metadata": {},
   "outputs": [],
   "source": [
    "scaler = StandardScaler()\n",
    "X_train = scaler.fit_transform(X_train) #находим параметры нормализации и на месте нормализуем обучающий набор\n",
    "X_test = scaler.transform(X_test) # также валидационынй набор"
   ]
  },
  {
   "cell_type": "code",
   "execution_count": 202,
   "metadata": {},
   "outputs": [],
   "source": [
    "with open('models\\scaler.pkl', 'wb') as file: #сохраняем StandartScaler для использования его параметрах на данных для предсказания\n",
    "    pickle.dump(scaler, file)"
   ]
  },
  {
   "attachments": {},
   "cell_type": "markdown",
   "metadata": {},
   "source": [
    "### Далее поочерёдно обучаем Линейную модель, Лассо, Случайный лес, Support Vector Regressor (SVR), К-ближайших соседей и полносвязанную нейронную сеть"
   ]
  },
  {
   "cell_type": "code",
   "execution_count": 182,
   "metadata": {},
   "outputs": [
    {
     "name": "stdout",
     "output_type": "stream",
     "text": [
      "Метрика R2: 0.9184234442438407\n",
      "MAE: 0.24967928601306663\n"
     ]
    }
   ],
   "source": [
    "lin_model = LinearRegression() #загружаем модель\n",
    "lin_model.fit(X_train, y_train) #обучаем на данных\n",
    "y_pred = lin_model.predict(X_test) #делаем предсказания\n",
    "print('Метрика R2:', r2_score(y_test, y_pred)) #смотрим метрику r2\n",
    "print('MAE:', mean_absolute_error(y_test, y_pred)) # смотрим размер ошибки MAE"
   ]
  },
  {
   "cell_type": "code",
   "execution_count": 179,
   "metadata": {},
   "outputs": [],
   "source": [
    "with open('models\\linear_model.pkl', 'wb') as file: #сохраняем линейную модель\n",
    "    pickle.dump(lin_model, file)"
   ]
  },
  {
   "attachments": {},
   "cell_type": "markdown",
   "metadata": {},
   "source": [
    "### Обучаем Lasso и подбираем лучшие гиперапараметры методом \"поиска по сетке\" с кросс-валидацией на k-folds = 5"
   ]
  },
  {
   "cell_type": "code",
   "execution_count": 10,
   "metadata": {},
   "outputs": [
    {
     "name": "stdout",
     "output_type": "stream",
     "text": [
      "Лучшие гиперпараметры {'alpha': 0.1}\n",
      "Метрика R2: 0.9096827831592366\n",
      "MAE: 0.26393723019037146\n"
     ]
    }
   ],
   "source": [
    "lasso_model = Lasso() #загружаем модель\n",
    "parameters = {'alpha': [0.1, 0.5, 1, 3, 5]} #гиперпараметы (всего 5 вариантов модели с  разными гиперпараметрами будет построено)\n",
    "lasso = GridSearchCV(lasso_model, parameters)\n",
    "lasso.fit(X_train, y_train) #обучаем на данных\n",
    "y_pred = lasso.predict(X_test) #делаем предсказания\n",
    "print('Лучшие гиперпараметры', lasso.best_params_)  #смотрим лучший вариант гиперпараметров\n",
    "print('Метрика R2:', r2_score(y_test, y_pred)) #смотрим метрику r2\n",
    "print('MAE:', mean_absolute_error(y_test, y_pred)) # смотрим размер ошибки MAE"
   ]
  },
  {
   "cell_type": "code",
   "execution_count": 183,
   "metadata": {},
   "outputs": [],
   "source": [
    "with open('models\\lasso_model.pkl', 'wb') as file: #сохраняем модель\n",
    "    pickle.dump(lasso, file)"
   ]
  },
  {
   "attachments": {},
   "cell_type": "markdown",
   "metadata": {},
   "source": [
    "### Обучаем Support Vector Regressor и подбираем лучшие гиперапараметры методом \"поиска по сетке\" с кросс-валидацией на k-folds = 5"
   ]
  },
  {
   "cell_type": "code",
   "execution_count": 184,
   "metadata": {},
   "outputs": [
    {
     "name": "stdout",
     "output_type": "stream",
     "text": [
      "Лучшие гиперпараметры {'C': 12, 'kernel': 'rbf'}\n",
      "Метрика R2: 0.9582851577546982\n",
      "MAE: 0.16804714849495195\n"
     ]
    }
   ],
   "source": [
    "parameters = {'kernel':('linear', 'rbf'), 'C':[1, 5, 10, 12]}  #гиперпараметы (всего 8 вариантов модели с  разными гиперпараметрами будет построено)\n",
    "svr_model = SVR() #загружаем модель\n",
    "svr = GridSearchCV(svr_model, parameters)\n",
    "svr.fit(X_train, y_train) #обучаем на данных\n",
    "print('Лучшие гиперпараметры', svr.best_params_) #смотрим лучший вариант гиперпараметров\n",
    "y_pred = svr.predict(X_test)#делаем предсказания\n",
    "print('Метрика R2:', r2_score(y_test, y_pred)) #смотрим метрику r2\n",
    "print('MAE:', mean_absolute_error(y_test, y_pred)) # смотрим размер ошибки MAE"
   ]
  },
  {
   "cell_type": "code",
   "execution_count": 185,
   "metadata": {},
   "outputs": [],
   "source": [
    "with open('models\\svr_model.pkl', 'wb') as file: #сохраняем модель\n",
    "    pickle.dump(svr, file)"
   ]
  },
  {
   "attachments": {},
   "cell_type": "markdown",
   "metadata": {},
   "source": [
    "### Обучаем Случайный лес и подбираем лучшие гиперапараметры методом \"поиска по сетке\" с кросс-валидацией на k-folds = 3"
   ]
  },
  {
   "cell_type": "code",
   "execution_count": 186,
   "metadata": {},
   "outputs": [
    {
     "name": "stdout",
     "output_type": "stream",
     "text": [
      "Лучшие гиперпараметры {'criterion': 'squared_error', 'max_depth': 15, 'max_features': 'sqrt', 'n_estimators': 200}\n",
      "Метрика R2: 0.937878178448896\n",
      "MAE: 0.20816606826314796\n"
     ]
    }
   ],
   "source": [
    "forest_model = RandomForestRegressor(warm_start = True) #загружаем модель\n",
    "parameters = {'n_estimators':(100, 150, 200), \n",
    "                'criterion':['squared_error', 'absolute_error'],\n",
    "                'max_depth': [15, 20],\n",
    "                'max_features': ['sqrt', 'log2']}  #гиперпараметы (всего 24 вариантов модели с  разными гиперпараметрами будет построено)\n",
    "\n",
    "\n",
    "forest = GridSearchCV(forest_model, parameters, cv = 3)\n",
    "forest.fit(X_train, y_train) #обучаем на данных\n",
    "print('Лучшие гиперпараметры', forest.best_params_) #смотрим лучший вариант гиперпараметров\n",
    "y_pred = forest.predict(X_test) #делаем предсказания\n",
    "print('Метрика R2:', r2_score(y_test, y_pred)) #смотрим метрику r2\n",
    "print('MAE:', mean_absolute_error(y_test, y_pred)) # смотрим размер ошибки MAE"
   ]
  },
  {
   "cell_type": "code",
   "execution_count": 187,
   "metadata": {},
   "outputs": [],
   "source": [
    "with open(r'models\\forest_model.pkl', 'wb') as file: #сохраняем модель\n",
    "    pickle.dump(forest, file)"
   ]
  },
  {
   "attachments": {},
   "cell_type": "markdown",
   "metadata": {},
   "source": [
    "### Обучаем К ближайших соседей и подбираем лучшие гиперапараметры методом \"поиска по сетке\" с кросс-валидацией на k-folds = 5"
   ]
  },
  {
   "cell_type": "code",
   "execution_count": 188,
   "metadata": {},
   "outputs": [
    {
     "name": "stdout",
     "output_type": "stream",
     "text": [
      "Лучшие гиперпараметры {'algorithm': 'auto', 'n_neighbors': 5, 'weights': 'distance'}\n",
      "Метрика R2: 0.9449495321123889\n",
      "MAE: 0.2190635558916494\n"
     ]
    }
   ],
   "source": [
    "#K-ближайших соседей\n",
    "neigh_model = KNeighborsRegressor()\n",
    "parameters = {'n_neighbors': (3, 5, 7, 9, 11), \n",
    "                'weights': ['uniform', 'distance'],\n",
    "                'algorithm': ['auto', 'ball_tree', 'kd_tree']} #гиперпараметы (всего 30 вариантов модели с  разными гиперпараметрами будет построено)\n",
    "\n",
    "\n",
    "neigh = GridSearchCV(neigh_model, parameters)\n",
    "neigh.fit(X_train, y_train) #обучаем на данных\n",
    "print('Лучшие гиперпараметры', neigh.best_params_) #смотрим лучший вариант гиперпараметров\n",
    "y_pred = neigh.predict(X_test)  #делаем предсказания\n",
    "print('Метрика R2:', r2_score(y_test, y_pred)) #смотрим метрику r2\n",
    "print('MAE:', mean_absolute_error(y_test, y_pred)) # смотрим размер ошибки MAE"
   ]
  },
  {
   "cell_type": "code",
   "execution_count": 189,
   "metadata": {},
   "outputs": [],
   "source": [
    "with open(r'models\\knn_model.pkl', 'wb') as file: #сохраняем модель\n",
    "    pickle.dump(neigh, file)"
   ]
  },
  {
   "cell_type": "code",
   "execution_count": 6,
   "metadata": {},
   "outputs": [
    {
     "name": "stdout",
     "output_type": "stream",
     "text": [
      "Лучшие гиперпараметры {'learning_rate': 0.1, 'loss': 'squared_error', 'n_estimators': 200}\n",
      "Метрика R2: 0.936831457643704\n",
      "MAE: 0.2168103120171699\n"
     ]
    }
   ],
   "source": [
    "boosting_model = GradientBoostingRegressor()\n",
    "parameters = {'loss': ['squared_error', 'huber'], \n",
    "                'learning_rate': [0.1, 0.05],\n",
    "                'n_estimators': [100, 150, 200]} #гиперпараметы (всего 12 вариантов модели с  разными гиперпараметрами будет построено)\n",
    "\n",
    "boosting = GridSearchCV(boosting_model, parameters)\n",
    "boosting.fit(X_train, y_train) #обучаем на данных\n",
    "print('Лучшие гиперпараметры', boosting.best_params_) #смотрим лучший вариант гиперпараметров\n",
    "y_pred = boosting.predict(X_test)  #делаем предсказания\n",
    "print('Метрика R2:', r2_score(y_test, y_pred)) #смотрим метрику r2\n",
    "print('MAE:', mean_absolute_error(y_test, y_pred)) # смотрим размер ошибки MAE"
   ]
  },
  {
   "cell_type": "code",
   "execution_count": 8,
   "metadata": {},
   "outputs": [],
   "source": [
    "with open(r'models\\boosting_model.pkl', 'wb') as file: #сохраняем модель\n",
    "    pickle.dump(boosting, file)"
   ]
  },
  {
   "attachments": {},
   "cell_type": "markdown",
   "metadata": {},
   "source": [
    "### Далее создаём полносвязанную нейронную сеть, состоящую из 4 линейных слоёв, функции активации ReLu, нормализации и Dropout с вероятность 0.2. Для этого используем пакет pytroch"
   ]
  },
  {
   "cell_type": "code",
   "execution_count": 36,
   "metadata": {},
   "outputs": [],
   "source": [
    "from torch.utils.data import Dataset, DataLoader\n",
    "from torch import nn\n",
    "import torch"
   ]
  },
  {
   "cell_type": "code",
   "execution_count": 53,
   "metadata": {},
   "outputs": [],
   "source": [
    "#создаём класс для загрузки данных\n",
    "class air_dataset(Dataset): #наследуем от родительского класса Dataset\n",
    "    def __init__(self, x_train, y_train):\n",
    "        self.x = x_train\n",
    "        self.y = y_train\n",
    "    \n",
    "    def __len__(self):\n",
    "        return len(self.x)\n",
    "\n",
    "    def __getitem__(self, ind): \n",
    "        features = torch.from_numpy(self.x[ind]).to(torch.float32)  #переводим столбец таблицы в формата тензора с числами float 32\n",
    "        label = torch.tensor(self.y.iloc[ind]).to(torch.float32) #переводим столбец таблицы в формата тензора с числами float 32\n",
    "        return features, label  #возвращаем тензор с признаками и тензор с таргетами\n",
    "    "
   ]
  },
  {
   "cell_type": "code",
   "execution_count": 54,
   "metadata": {},
   "outputs": [],
   "source": [
    "train_dataset = air_dataset(X_train, y_train) #инициализируем класс загрузки данных для обучающего набора\n",
    "test_dataset = air_dataset(X_test, y_test) #инициализируем класс загрузки данных для валидационного набора\n",
    "\n",
    "train_loader = DataLoader(train_dataset, batch_size = 64, shuffle = True) #создаём dataloader для обучающего набора\n",
    "test_loader = DataLoader(test_dataset, batch_size = 128, shuffle = False) #создаём dataloader для валидационного набора"
   ]
  },
  {
   "attachments": {},
   "cell_type": "markdown",
   "metadata": {},
   "source": [
    "### Создаём класс полносвязанной нейронной сети"
   ]
  },
  {
   "cell_type": "code",
   "execution_count": 56,
   "metadata": {},
   "outputs": [],
   "source": [
    "class DenseNet(nn.Module):\n",
    "    def __init__(self):\n",
    "        super().__init__()\n",
    "        #простая последовательность слоёв\n",
    "        self.layers = nn.Sequential(nn.Linear(in_features=14, out_features = 14), #линейный слой\n",
    "                                    nn.ReLU(), #нелинейная функция активации\n",
    "                                    nn.BatchNorm1d(14), #нормализации данных\n",
    "                                    nn.Dropout(0.2), #отключение нейроной в вероятностью 0.2\n",
    "\n",
    "                                    nn.Linear(in_features=14, out_features = 8), #линейный слой\n",
    "                                    nn.ReLU(), #нелинейная функция активации\n",
    "                                    nn.BatchNorm1d(8), #нормализации данных\n",
    "                                    nn.Dropout(0.2), #отключение нейроной в вероятностью 0.2\n",
    "\n",
    "                                    nn.Linear(in_features=8, out_features = 4), #линейный слой\n",
    "                                    nn.ReLU(), #нелинейная функция активации\n",
    "                                    nn.BatchNorm1d(4), #нормализации данных\n",
    "                                    nn.Dropout(0.2), #отключение нейроной в вероятностью 0.2\n",
    "\n",
    "                                    nn.Linear(in_features=4, out_features = 1), #линейный слой\n",
    "                                    nn.ReLU() #нелинейная функция активации\n",
    "        )\n",
    "    \n",
    "    def forward(self, input): #функция прямого прохода нейроннйо сети\n",
    "        return self.layers(input)"
   ]
  },
  {
   "cell_type": "code",
   "execution_count": 59,
   "metadata": {},
   "outputs": [
    {
     "name": "stdout",
     "output_type": "stream",
     "text": [
      "Обучение будет проходить на cuda\n"
     ]
    }
   ],
   "source": [
    "device = 'cuda' if torch.cuda.is_available() else 'cpu' #если видеокарта доступна, то обучаем на ней\n",
    "model = DenseNet().to(device) #инициализируем модель и переносим на доступное устрйоство\n",
    "epochs = 8 #количество эпох\n",
    "lr = 0.01 #шаг обучения\n",
    "optimizer = torch.optim.Adam(model.parameters(), lr=lr) # оптимизаторв Adam\n",
    "loss_fn = nn.MSELoss() #функция потерь MSE\n",
    "print(f'Обучение будет проходить на {device}')"
   ]
  },
  {
   "cell_type": "code",
   "execution_count": 60,
   "metadata": {},
   "outputs": [
    {
     "name": "stdout",
     "output_type": "stream",
     "text": [
      "Эпоха обучения 1\n",
      "Потеря на обучении: 1.5348379605886888 R2 на обучении: 0.22310859032989763\n",
      "Потеря на валидации: 0.30933473507563275 R2 на валидации: 0.8260847047501676\n",
      "Эпоха обучения 2\n",
      "Потеря на обучении: 0.748789160531394 R2 на обучении: 0.6272092056930112\n",
      "Потеря на валидации: 0.265228216846784 R2 на валидации: 0.850934298325829\n",
      "Эпоха обучения 3\n",
      "Потеря на обучении: 0.6411294900641149 R2 на обучении: 0.6809028467028738\n",
      "Потеря на валидации: 0.25141756484905875 R2 на валидации: 0.8591473523166282\n",
      "Эпоха обучения 4\n",
      "Потеря на обучении: 0.5841344594955442 R2 на обучении: 0.7163099247906555\n",
      "Потеря на валидации: 0.19792191435893378 R2 на валидации: 0.8891871861045336\n",
      "Эпоха обучения 5\n",
      "Потеря на обучении: 0.5430430776002455 R2 на обучении: 0.7274433216659179\n",
      "Потеря на валидации: 0.18936079492171604 R2 на валидации: 0.8936029184015152\n",
      "Эпоха обучения 6\n",
      "Потеря на обучении: 0.5153614738766027 R2 на обучении: 0.747897219648755\n",
      "Потеря на валидации: 0.271955447892348 R2 на валидации: 0.847957686652106\n",
      "Эпоха обучения 7\n",
      "Потеря на обучении: 0.4889450847190253 R2 на обучении: 0.7568548064889605\n",
      "Потеря на валидации: 0.18838607023159662 R2 на валидации: 0.893957582174433\n",
      "Эпоха обучения 8\n",
      "Потеря на обучении: 0.4674522157530396 R2 на обучении: 0.7669065025419584\n",
      "Потеря на валидации: 0.21783255288998288 R2 на валидации: 0.8776802987281612\n"
     ]
    }
   ],
   "source": [
    "for epoch in range(epochs): # начинаем обучение в цикле\n",
    "    \n",
    "    #инициализруем метрики, которые будем считать по эпохам\n",
    "    train_loss = 0\n",
    "    r2_train = 0\n",
    "    r2_test = 0\n",
    "    test_loss = 0\n",
    "\n",
    "    model.train() #переводим модель в режим обучения\n",
    "    for batch, y in train_loader: #берём батч и таргет\n",
    "        batch, y = batch.to(device), y.to(device)  #переносим на доступное устрйоство\n",
    "        y_pred = model(batch).squeeze() #делаем предсказание\n",
    "        loss = loss_fn(y, y_pred) #счиатем потери\n",
    "        train_loss += loss.item()/len(train_loader) #сохраняем потери на текущей итерации\n",
    "        r2_train += r2_score(y.cpu().detach().numpy(), y_pred.cpu().detach().numpy())/len(train_loader) #счиатем метрику на текущей итерации\n",
    "        loss.backward() #обратное распространение ошибки\n",
    "        optimizer.step() #обновляем веса модели\n",
    "        optimizer.zero_grad() #обнулдяем градиент\n",
    "\n",
    "    model.eval() #переводим модель в режим предсказания\n",
    "    with torch.no_grad(): #отключаем подсчёт градиента \n",
    "        for batch, y in test_loader: #берём батч и таргет\n",
    "            batch, y = batch.to(device), y.to(device) #переносим на доступное устрйоство\n",
    "            y_pred = model(batch).squeeze() #делаем предсказание\n",
    "            loss = loss_fn(y, y_pred) #счиатем потери\n",
    "            test_loss += loss.item()/len(test_loader) #сохраняем потери на текущей итерации\n",
    "            r2_test += r2_score(y.cpu().detach().numpy(), y_pred.cpu().detach().numpy())/len(test_loader) #счиатем метрику на текущей итерации\n",
    "    \n",
    "    print(f'Эпоха обучения {epoch + 1}')\n",
    "    print(f'Потеря на обучении: {train_loss}', f'R2 на обучении: {r2_train}')\n",
    "    print(f'Потеря на валидации: {test_loss}', f'R2 на валидации: {r2_test}')"
   ]
  },
  {
   "cell_type": "code",
   "execution_count": 61,
   "metadata": {},
   "outputs": [],
   "source": [
    "torch.save(model, r'models\\nn.pt') #сохраняем обученную модель"
   ]
  },
  {
   "attachments": {},
   "cell_type": "markdown",
   "metadata": {},
   "source": [
    "### Итоговые потери и метрика R2 по всем построенным моделям с лучшей комбинацией гиперпараметров"
   ]
  },
  {
   "cell_type": "code",
   "execution_count": 62,
   "metadata": {},
   "outputs": [
    {
     "data": {
      "text/html": [
       "<div>\n",
       "<style scoped>\n",
       "    .dataframe tbody tr th:only-of-type {\n",
       "        vertical-align: middle;\n",
       "    }\n",
       "\n",
       "    .dataframe tbody tr th {\n",
       "        vertical-align: top;\n",
       "    }\n",
       "\n",
       "    .dataframe thead th {\n",
       "        text-align: right;\n",
       "    }\n",
       "</style>\n",
       "<table border=\"1\" class=\"dataframe\">\n",
       "  <thead>\n",
       "    <tr style=\"text-align: right;\">\n",
       "      <th></th>\n",
       "      <th>R2</th>\n",
       "      <th>MAE</th>\n",
       "      <th>Модель</th>\n",
       "    </tr>\n",
       "  </thead>\n",
       "  <tbody>\n",
       "    <tr>\n",
       "      <th>0</th>\n",
       "      <td>0.918</td>\n",
       "      <td>0.249</td>\n",
       "      <td>Линейная модель</td>\n",
       "    </tr>\n",
       "    <tr>\n",
       "      <th>1</th>\n",
       "      <td>0.909</td>\n",
       "      <td>0.263</td>\n",
       "      <td>Лассо</td>\n",
       "    </tr>\n",
       "    <tr>\n",
       "      <th>2</th>\n",
       "      <td>0.958</td>\n",
       "      <td>0.168</td>\n",
       "      <td>SVR</td>\n",
       "    </tr>\n",
       "    <tr>\n",
       "      <th>3</th>\n",
       "      <td>0.937</td>\n",
       "      <td>0.208</td>\n",
       "      <td>Случайный лес</td>\n",
       "    </tr>\n",
       "    <tr>\n",
       "      <th>4</th>\n",
       "      <td>0.944</td>\n",
       "      <td>0.219</td>\n",
       "      <td>KNN</td>\n",
       "    </tr>\n",
       "    <tr>\n",
       "      <th>5</th>\n",
       "      <td>0.936</td>\n",
       "      <td>0.216</td>\n",
       "      <td>Градиентный \\nбустинг</td>\n",
       "    </tr>\n",
       "    <tr>\n",
       "      <th>6</th>\n",
       "      <td>0.893</td>\n",
       "      <td>0.188</td>\n",
       "      <td>Полносвязанная \\n нейронная сеть</td>\n",
       "    </tr>\n",
       "  </tbody>\n",
       "</table>\n",
       "</div>"
      ],
      "text/plain": [
       "      R2    MAE                            Модель\n",
       "0  0.918  0.249                   Линейная модель\n",
       "1  0.909  0.263                             Лассо\n",
       "2  0.958  0.168                               SVR\n",
       "3  0.937  0.208                     Случайный лес\n",
       "4  0.944  0.219                               KNN\n",
       "5  0.936  0.216             Градиентный \\nбустинг\n",
       "6  0.893  0.188  Полносвязанная \\n нейронная сеть"
      ]
     },
     "execution_count": 62,
     "metadata": {},
     "output_type": "execute_result"
    }
   ],
   "source": [
    "metrics_df = pd.DataFrame(data = [[0.918, 0.249, 'Линейная модель'],\n",
    "                                 [0.909, 0.263, 'Лассо'],       \n",
    "                                 [0.958, 0.168, 'SVR'],\n",
    "                                 [0.937, 0.208, 'Случайный лес'],\n",
    "                                 [0.944, 0.219, 'KNN'],\n",
    "                                 [0.936, 0.216, 'Градиентный \\nбустинг'],\n",
    "                                 [0.893, 0.188, 'Полносвязанная \\n нейронная сеть']], columns = ['R2', 'MAE', 'Модель'])\n",
    "metrics_df                                 "
   ]
  },
  {
   "cell_type": "code",
   "execution_count": 63,
   "metadata": {},
   "outputs": [
    {
     "data": {
      "image/png": "[encoded data removed]",
      "text/plain": [
       "<Figure size 1000x600 with 1 Axes>"
      ]
     },
     "metadata": {},
     "output_type": "display_data"
    }
   ],
   "source": [
    "plt.figure(figsize=(10, 6))\n",
    " \n",
    "sns.set_style(\"darkgrid\", {\"grid.color\": \".6\", \"grid.linestyle\": \":\"})\n",
    "ax = sns.barplot(x='Модель', y='R2', data=metrics_df, color='green', alpha=0.7, label='R2')\n",
    "sns.barplot(x='Модель', y='MAE', data=metrics_df, color='red', alpha=0.7, label='MAE', ax = ax)\n",
    "plt.yticks(np.arange(0, 1, 0.05))  \n",
    "plt.xlabel('Модель')\n",
    "plt.ylabel('Значение')\n",
    "plt.title('Диаграмма метркии R2 и потерь MAE')\n",
    "plt.legend() \n",
    "plt.show() \n",
    "fig = ax.get_figure()\n",
    "fig.savefig('Диаграмма метркии R2 и потерь MAE')\n"
   ]
  }
 ],
 "metadata": {
  "kernelspec": {
   "display_name": "Python 3",
   "language": "python",
   "name": "python3"
  },
  "language_info": {
   "codemirror_mode": {
    "name": "ipython",
    "version": 3
   },
   "file_extension": ".py",
   "mimetype": "text/x-python",
   "name": "python",
   "nbconvert_exporter": "python",
   "pygments_lexer": "ipython3",
   "version": "3.10.11"
  },
  "orig_nbformat": 4,
  "vscode": {
   "interpreter": {
    "hash": "7b1f2b33e866b0bf2409397e5f58ba9cdf170d3b7f64c8f359c79998e2f88ad4"
   }
  }
 },
 "nbformat": 4,
 "nbformat_minor": 2
}
