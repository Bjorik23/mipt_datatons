{
 "cells": [
  {
   "cell_type": "markdown",
   "metadata": {
    "tags": []
   },
   "source": [
    "# **Создание модели на основе данных о качестве воздуха**\n",
    "\n",
    "В этом проекте наша команда будет исследовать набор данных о качестве воздуха, чтобы обучить модель машинного обучения (ML), способную предсказывать концентрацию угарного газа в воздухе на основе концентрации различных загрязнителей, таких как металлические оксиды и углеводороды. Это также даст нам возможность работать с временными рядами.\n",
    "\n",
    "Данные были получены из репозитория машинного обучения UCI здесь [UCI Machine Learning Repository - Air Quality Dataset](https://archive.ics.uci.edu/ml/datasets/Air+Quality). Этот набор данных охватывает данные датчиков по различным загрязнителям, собранные с марта 2004 года по февраль 2005 года (1 год)."
   ]
  },
  {
   "cell_type": "markdown",
   "metadata": {},
   "source": [
    "# **О наборе данных**\n",
    "\n",
    "Этот набор данных содержит ответы устройства многосенсорного газового детектора, размещенного на местности в итальянском городе. В нем записаны средние почасовые показания вместе с эталонными концентрациями газов, полученными с помощью сертифицированного анализатора. Данные взяты из репозитория машинного обучения UCI: [UCI Machine Learning Repository](https://archive.ics.uci.edu/ml/index.php)\n",
    "\n",
    "Набор данных содержит 9357 экземпляров почасовых усредненных ответов от массива из 5 химических сенсоров на основе металлических оксидов, встроенных в многосенсорное устройство контроля качества воздуха. Устройство было расположено на местности в значительно загрязненной области, на уровне дороги, в итальянском городе. Данные записывались с марта 2004 года по февраль 2005 года (один год), представляя самую длительную бесплатно доступную запись ответов устройств детектирования качества воздуха на местности. Почасовые усредненные концентрации для CO, неметановых углеводородов, бензола, общих оксидов азота (NOx) и диоксида азота (NO2) были предоставлены совместно расположенным эталонным сертифицированным анализатором. Присутствуют доказательства перекрестных чувствительностей, а также концептуальных и сенсорных сдвигов, как описано в работе Де Вито и др., Sens. And Act. B, Vol. 129,2,2008 (требуется цитирование), в конечном итоге влияющих на способности оценки концентраций сенсорами. Отсутствующие значения помечены значением -200. Этот набор данных может использоваться исключительно в исследовательских целях. Коммерческое использование полностью исключено."
   ]
  },
  {
   "cell_type": "markdown",
   "metadata": {
    "tags": []
   },
   "source": [
    "## **Открытие данных и изучение общей информации**"
   ]
  },
  {
   "cell_type": "code",
   "execution_count": 3,
   "metadata": {},
   "outputs": [],
   "source": [
    "# импортируем необходимы библиотеки для работы с данными\n",
    "import pandas as pd\n",
    "import numpy as np\n",
    "import datetime\n",
    "\n",
    "# для работы с визуализациями\n",
    "import plotly.graph_objects as go\n",
    "import plotly.express as px"
   ]
  },
  {
   "cell_type": "code",
   "execution_count": 4,
   "metadata": {},
   "outputs": [],
   "source": [
    "# считываем csv-файл датасета в перемнную data с использованием разделителей '\\'\n",
    "df = pd.read_csv('AirQuality.csv', sep=';')"
   ]
  },
  {
   "cell_type": "code",
   "execution_count": 5,
   "metadata": {},
   "outputs": [
    {
     "data": {
      "text/html": [
       "<div>\n",
       "<style scoped>\n",
       "    .dataframe tbody tr th:only-of-type {\n",
       "        vertical-align: middle;\n",
       "    }\n",
       "\n",
       "    .dataframe tbody tr th {\n",
       "        vertical-align: top;\n",
       "    }\n",
       "\n",
       "    .dataframe thead th {\n",
       "        text-align: right;\n",
       "    }\n",
       "</style>\n",
       "<table border=\"1\" class=\"dataframe\">\n",
       "  <thead>\n",
       "    <tr style=\"text-align: right;\">\n",
       "      <th></th>\n",
       "      <th>Date</th>\n",
       "      <th>Time</th>\n",
       "      <th>CO(GT)</th>\n",
       "      <th>PT08.S1(CO)</th>\n",
       "      <th>NMHC(GT)</th>\n",
       "      <th>C6H6(GT)</th>\n",
       "      <th>PT08.S2(NMHC)</th>\n",
       "      <th>NOx(GT)</th>\n",
       "      <th>PT08.S3(NOx)</th>\n",
       "      <th>NO2(GT)</th>\n",
       "      <th>PT08.S4(NO2)</th>\n",
       "      <th>PT08.S5(O3)</th>\n",
       "      <th>T</th>\n",
       "      <th>RH</th>\n",
       "      <th>AH</th>\n",
       "      <th>Unnamed: 15</th>\n",
       "      <th>Unnamed: 16</th>\n",
       "    </tr>\n",
       "  </thead>\n",
       "  <tbody>\n",
       "    <tr>\n",
       "      <th>0</th>\n",
       "      <td>10/03/2004</td>\n",
       "      <td>18.00.00</td>\n",
       "      <td>2,6</td>\n",
       "      <td>1360.0</td>\n",
       "      <td>150.0</td>\n",
       "      <td>11,9</td>\n",
       "      <td>1046.0</td>\n",
       "      <td>166.0</td>\n",
       "      <td>1056.0</td>\n",
       "      <td>113.0</td>\n",
       "      <td>1692.0</td>\n",
       "      <td>1268.0</td>\n",
       "      <td>13,6</td>\n",
       "      <td>48,9</td>\n",
       "      <td>0,7578</td>\n",
       "      <td>NaN</td>\n",
       "      <td>NaN</td>\n",
       "    </tr>\n",
       "    <tr>\n",
       "      <th>1</th>\n",
       "      <td>10/03/2004</td>\n",
       "      <td>19.00.00</td>\n",
       "      <td>2</td>\n",
       "      <td>1292.0</td>\n",
       "      <td>112.0</td>\n",
       "      <td>9,4</td>\n",
       "      <td>955.0</td>\n",
       "      <td>103.0</td>\n",
       "      <td>1174.0</td>\n",
       "      <td>92.0</td>\n",
       "      <td>1559.0</td>\n",
       "      <td>972.0</td>\n",
       "      <td>13,3</td>\n",
       "      <td>47,7</td>\n",
       "      <td>0,7255</td>\n",
       "      <td>NaN</td>\n",
       "      <td>NaN</td>\n",
       "    </tr>\n",
       "    <tr>\n",
       "      <th>2</th>\n",
       "      <td>10/03/2004</td>\n",
       "      <td>20.00.00</td>\n",
       "      <td>2,2</td>\n",
       "      <td>1402.0</td>\n",
       "      <td>88.0</td>\n",
       "      <td>9,0</td>\n",
       "      <td>939.0</td>\n",
       "      <td>131.0</td>\n",
       "      <td>1140.0</td>\n",
       "      <td>114.0</td>\n",
       "      <td>1555.0</td>\n",
       "      <td>1074.0</td>\n",
       "      <td>11,9</td>\n",
       "      <td>54,0</td>\n",
       "      <td>0,7502</td>\n",
       "      <td>NaN</td>\n",
       "      <td>NaN</td>\n",
       "    </tr>\n",
       "    <tr>\n",
       "      <th>3</th>\n",
       "      <td>10/03/2004</td>\n",
       "      <td>21.00.00</td>\n",
       "      <td>2,2</td>\n",
       "      <td>1376.0</td>\n",
       "      <td>80.0</td>\n",
       "      <td>9,2</td>\n",
       "      <td>948.0</td>\n",
       "      <td>172.0</td>\n",
       "      <td>1092.0</td>\n",
       "      <td>122.0</td>\n",
       "      <td>1584.0</td>\n",
       "      <td>1203.0</td>\n",
       "      <td>11,0</td>\n",
       "      <td>60,0</td>\n",
       "      <td>0,7867</td>\n",
       "      <td>NaN</td>\n",
       "      <td>NaN</td>\n",
       "    </tr>\n",
       "    <tr>\n",
       "      <th>4</th>\n",
       "      <td>10/03/2004</td>\n",
       "      <td>22.00.00</td>\n",
       "      <td>1,6</td>\n",
       "      <td>1272.0</td>\n",
       "      <td>51.0</td>\n",
       "      <td>6,5</td>\n",
       "      <td>836.0</td>\n",
       "      <td>131.0</td>\n",
       "      <td>1205.0</td>\n",
       "      <td>116.0</td>\n",
       "      <td>1490.0</td>\n",
       "      <td>1110.0</td>\n",
       "      <td>11,2</td>\n",
       "      <td>59,6</td>\n",
       "      <td>0,7888</td>\n",
       "      <td>NaN</td>\n",
       "      <td>NaN</td>\n",
       "    </tr>\n",
       "    <tr>\n",
       "      <th>5</th>\n",
       "      <td>10/03/2004</td>\n",
       "      <td>23.00.00</td>\n",
       "      <td>1,2</td>\n",
       "      <td>1197.0</td>\n",
       "      <td>38.0</td>\n",
       "      <td>4,7</td>\n",
       "      <td>750.0</td>\n",
       "      <td>89.0</td>\n",
       "      <td>1337.0</td>\n",
       "      <td>96.0</td>\n",
       "      <td>1393.0</td>\n",
       "      <td>949.0</td>\n",
       "      <td>11,2</td>\n",
       "      <td>59,2</td>\n",
       "      <td>0,7848</td>\n",
       "      <td>NaN</td>\n",
       "      <td>NaN</td>\n",
       "    </tr>\n",
       "    <tr>\n",
       "      <th>6</th>\n",
       "      <td>11/03/2004</td>\n",
       "      <td>00.00.00</td>\n",
       "      <td>1,2</td>\n",
       "      <td>1185.0</td>\n",
       "      <td>31.0</td>\n",
       "      <td>3,6</td>\n",
       "      <td>690.0</td>\n",
       "      <td>62.0</td>\n",
       "      <td>1462.0</td>\n",
       "      <td>77.0</td>\n",
       "      <td>1333.0</td>\n",
       "      <td>733.0</td>\n",
       "      <td>11,3</td>\n",
       "      <td>56,8</td>\n",
       "      <td>0,7603</td>\n",
       "      <td>NaN</td>\n",
       "      <td>NaN</td>\n",
       "    </tr>\n",
       "    <tr>\n",
       "      <th>7</th>\n",
       "      <td>11/03/2004</td>\n",
       "      <td>01.00.00</td>\n",
       "      <td>1</td>\n",
       "      <td>1136.0</td>\n",
       "      <td>31.0</td>\n",
       "      <td>3,3</td>\n",
       "      <td>672.0</td>\n",
       "      <td>62.0</td>\n",
       "      <td>1453.0</td>\n",
       "      <td>76.0</td>\n",
       "      <td>1333.0</td>\n",
       "      <td>730.0</td>\n",
       "      <td>10,7</td>\n",
       "      <td>60,0</td>\n",
       "      <td>0,7702</td>\n",
       "      <td>NaN</td>\n",
       "      <td>NaN</td>\n",
       "    </tr>\n",
       "    <tr>\n",
       "      <th>8</th>\n",
       "      <td>11/03/2004</td>\n",
       "      <td>02.00.00</td>\n",
       "      <td>0,9</td>\n",
       "      <td>1094.0</td>\n",
       "      <td>24.0</td>\n",
       "      <td>2,3</td>\n",
       "      <td>609.0</td>\n",
       "      <td>45.0</td>\n",
       "      <td>1579.0</td>\n",
       "      <td>60.0</td>\n",
       "      <td>1276.0</td>\n",
       "      <td>620.0</td>\n",
       "      <td>10,7</td>\n",
       "      <td>59,7</td>\n",
       "      <td>0,7648</td>\n",
       "      <td>NaN</td>\n",
       "      <td>NaN</td>\n",
       "    </tr>\n",
       "    <tr>\n",
       "      <th>9</th>\n",
       "      <td>11/03/2004</td>\n",
       "      <td>03.00.00</td>\n",
       "      <td>0,6</td>\n",
       "      <td>1010.0</td>\n",
       "      <td>19.0</td>\n",
       "      <td>1,7</td>\n",
       "      <td>561.0</td>\n",
       "      <td>-200.0</td>\n",
       "      <td>1705.0</td>\n",
       "      <td>-200.0</td>\n",
       "      <td>1235.0</td>\n",
       "      <td>501.0</td>\n",
       "      <td>10,3</td>\n",
       "      <td>60,2</td>\n",
       "      <td>0,7517</td>\n",
       "      <td>NaN</td>\n",
       "      <td>NaN</td>\n",
       "    </tr>\n",
       "    <tr>\n",
       "      <th>10</th>\n",
       "      <td>11/03/2004</td>\n",
       "      <td>04.00.00</td>\n",
       "      <td>-200</td>\n",
       "      <td>1011.0</td>\n",
       "      <td>14.0</td>\n",
       "      <td>1,3</td>\n",
       "      <td>527.0</td>\n",
       "      <td>21.0</td>\n",
       "      <td>1818.0</td>\n",
       "      <td>34.0</td>\n",
       "      <td>1197.0</td>\n",
       "      <td>445.0</td>\n",
       "      <td>10,1</td>\n",
       "      <td>60,5</td>\n",
       "      <td>0,7465</td>\n",
       "      <td>NaN</td>\n",
       "      <td>NaN</td>\n",
       "    </tr>\n",
       "    <tr>\n",
       "      <th>11</th>\n",
       "      <td>11/03/2004</td>\n",
       "      <td>05.00.00</td>\n",
       "      <td>0,7</td>\n",
       "      <td>1066.0</td>\n",
       "      <td>8.0</td>\n",
       "      <td>1,1</td>\n",
       "      <td>512.0</td>\n",
       "      <td>16.0</td>\n",
       "      <td>1918.0</td>\n",
       "      <td>28.0</td>\n",
       "      <td>1182.0</td>\n",
       "      <td>422.0</td>\n",
       "      <td>11,0</td>\n",
       "      <td>56,2</td>\n",
       "      <td>0,7366</td>\n",
       "      <td>NaN</td>\n",
       "      <td>NaN</td>\n",
       "    </tr>\n",
       "    <tr>\n",
       "      <th>12</th>\n",
       "      <td>11/03/2004</td>\n",
       "      <td>06.00.00</td>\n",
       "      <td>0,7</td>\n",
       "      <td>1052.0</td>\n",
       "      <td>16.0</td>\n",
       "      <td>1,6</td>\n",
       "      <td>553.0</td>\n",
       "      <td>34.0</td>\n",
       "      <td>1738.0</td>\n",
       "      <td>48.0</td>\n",
       "      <td>1221.0</td>\n",
       "      <td>472.0</td>\n",
       "      <td>10,5</td>\n",
       "      <td>58,1</td>\n",
       "      <td>0,7353</td>\n",
       "      <td>NaN</td>\n",
       "      <td>NaN</td>\n",
       "    </tr>\n",
       "    <tr>\n",
       "      <th>13</th>\n",
       "      <td>11/03/2004</td>\n",
       "      <td>07.00.00</td>\n",
       "      <td>1,1</td>\n",
       "      <td>1144.0</td>\n",
       "      <td>29.0</td>\n",
       "      <td>3,2</td>\n",
       "      <td>667.0</td>\n",
       "      <td>98.0</td>\n",
       "      <td>1490.0</td>\n",
       "      <td>82.0</td>\n",
       "      <td>1339.0</td>\n",
       "      <td>730.0</td>\n",
       "      <td>10,2</td>\n",
       "      <td>59,6</td>\n",
       "      <td>0,7417</td>\n",
       "      <td>NaN</td>\n",
       "      <td>NaN</td>\n",
       "    </tr>\n",
       "    <tr>\n",
       "      <th>14</th>\n",
       "      <td>11/03/2004</td>\n",
       "      <td>08.00.00</td>\n",
       "      <td>2</td>\n",
       "      <td>1333.0</td>\n",
       "      <td>64.0</td>\n",
       "      <td>8,0</td>\n",
       "      <td>900.0</td>\n",
       "      <td>174.0</td>\n",
       "      <td>1136.0</td>\n",
       "      <td>112.0</td>\n",
       "      <td>1517.0</td>\n",
       "      <td>1102.0</td>\n",
       "      <td>10,8</td>\n",
       "      <td>57,4</td>\n",
       "      <td>0,7408</td>\n",
       "      <td>NaN</td>\n",
       "      <td>NaN</td>\n",
       "    </tr>\n",
       "    <tr>\n",
       "      <th>15</th>\n",
       "      <td>11/03/2004</td>\n",
       "      <td>09.00.00</td>\n",
       "      <td>2,2</td>\n",
       "      <td>1351.0</td>\n",
       "      <td>87.0</td>\n",
       "      <td>9,5</td>\n",
       "      <td>960.0</td>\n",
       "      <td>129.0</td>\n",
       "      <td>1079.0</td>\n",
       "      <td>101.0</td>\n",
       "      <td>1583.0</td>\n",
       "      <td>1028.0</td>\n",
       "      <td>10,5</td>\n",
       "      <td>60,6</td>\n",
       "      <td>0,7691</td>\n",
       "      <td>NaN</td>\n",
       "      <td>NaN</td>\n",
       "    </tr>\n",
       "    <tr>\n",
       "      <th>16</th>\n",
       "      <td>11/03/2004</td>\n",
       "      <td>10.00.00</td>\n",
       "      <td>1,7</td>\n",
       "      <td>1233.0</td>\n",
       "      <td>77.0</td>\n",
       "      <td>6,3</td>\n",
       "      <td>827.0</td>\n",
       "      <td>112.0</td>\n",
       "      <td>1218.0</td>\n",
       "      <td>98.0</td>\n",
       "      <td>1446.0</td>\n",
       "      <td>860.0</td>\n",
       "      <td>10,8</td>\n",
       "      <td>58,4</td>\n",
       "      <td>0,7552</td>\n",
       "      <td>NaN</td>\n",
       "      <td>NaN</td>\n",
       "    </tr>\n",
       "    <tr>\n",
       "      <th>17</th>\n",
       "      <td>11/03/2004</td>\n",
       "      <td>11.00.00</td>\n",
       "      <td>1,5</td>\n",
       "      <td>1179.0</td>\n",
       "      <td>43.0</td>\n",
       "      <td>5,0</td>\n",
       "      <td>762.0</td>\n",
       "      <td>95.0</td>\n",
       "      <td>1328.0</td>\n",
       "      <td>92.0</td>\n",
       "      <td>1362.0</td>\n",
       "      <td>671.0</td>\n",
       "      <td>10,5</td>\n",
       "      <td>57,9</td>\n",
       "      <td>0,7352</td>\n",
       "      <td>NaN</td>\n",
       "      <td>NaN</td>\n",
       "    </tr>\n",
       "    <tr>\n",
       "      <th>18</th>\n",
       "      <td>11/03/2004</td>\n",
       "      <td>12.00.00</td>\n",
       "      <td>1,6</td>\n",
       "      <td>1236.0</td>\n",
       "      <td>61.0</td>\n",
       "      <td>5,2</td>\n",
       "      <td>774.0</td>\n",
       "      <td>104.0</td>\n",
       "      <td>1301.0</td>\n",
       "      <td>95.0</td>\n",
       "      <td>1401.0</td>\n",
       "      <td>664.0</td>\n",
       "      <td>9,5</td>\n",
       "      <td>66,8</td>\n",
       "      <td>0,7951</td>\n",
       "      <td>NaN</td>\n",
       "      <td>NaN</td>\n",
       "    </tr>\n",
       "    <tr>\n",
       "      <th>19</th>\n",
       "      <td>11/03/2004</td>\n",
       "      <td>13.00.00</td>\n",
       "      <td>1,9</td>\n",
       "      <td>1286.0</td>\n",
       "      <td>63.0</td>\n",
       "      <td>7,3</td>\n",
       "      <td>869.0</td>\n",
       "      <td>146.0</td>\n",
       "      <td>1162.0</td>\n",
       "      <td>112.0</td>\n",
       "      <td>1537.0</td>\n",
       "      <td>799.0</td>\n",
       "      <td>8,3</td>\n",
       "      <td>76,4</td>\n",
       "      <td>0,8393</td>\n",
       "      <td>NaN</td>\n",
       "      <td>NaN</td>\n",
       "    </tr>\n",
       "  </tbody>\n",
       "</table>\n",
       "</div>"
      ],
      "text/plain": [
       "          Date      Time CO(GT)  PT08.S1(CO)  NMHC(GT) C6H6(GT)  \\\n",
       "0   10/03/2004  18.00.00    2,6       1360.0     150.0     11,9   \n",
       "1   10/03/2004  19.00.00      2       1292.0     112.0      9,4   \n",
       "2   10/03/2004  20.00.00    2,2       1402.0      88.0      9,0   \n",
       "3   10/03/2004  21.00.00    2,2       1376.0      80.0      9,2   \n",
       "4   10/03/2004  22.00.00    1,6       1272.0      51.0      6,5   \n",
       "5   10/03/2004  23.00.00    1,2       1197.0      38.0      4,7   \n",
       "6   11/03/2004  00.00.00    1,2       1185.0      31.0      3,6   \n",
       "7   11/03/2004  01.00.00      1       1136.0      31.0      3,3   \n",
       "8   11/03/2004  02.00.00    0,9       1094.0      24.0      2,3   \n",
       "9   11/03/2004  03.00.00    0,6       1010.0      19.0      1,7   \n",
       "10  11/03/2004  04.00.00   -200       1011.0      14.0      1,3   \n",
       "11  11/03/2004  05.00.00    0,7       1066.0       8.0      1,1   \n",
       "12  11/03/2004  06.00.00    0,7       1052.0      16.0      1,6   \n",
       "13  11/03/2004  07.00.00    1,1       1144.0      29.0      3,2   \n",
       "14  11/03/2004  08.00.00      2       1333.0      64.0      8,0   \n",
       "15  11/03/2004  09.00.00    2,2       1351.0      87.0      9,5   \n",
       "16  11/03/2004  10.00.00    1,7       1233.0      77.0      6,3   \n",
       "17  11/03/2004  11.00.00    1,5       1179.0      43.0      5,0   \n",
       "18  11/03/2004  12.00.00    1,6       1236.0      61.0      5,2   \n",
       "19  11/03/2004  13.00.00    1,9       1286.0      63.0      7,3   \n",
       "\n",
       "    PT08.S2(NMHC)  NOx(GT)  PT08.S3(NOx)  NO2(GT)  PT08.S4(NO2)  PT08.S5(O3)  \\\n",
       "0          1046.0    166.0        1056.0    113.0        1692.0       1268.0   \n",
       "1           955.0    103.0        1174.0     92.0        1559.0        972.0   \n",
       "2           939.0    131.0        1140.0    114.0        1555.0       1074.0   \n",
       "3           948.0    172.0        1092.0    122.0        1584.0       1203.0   \n",
       "4           836.0    131.0        1205.0    116.0        1490.0       1110.0   \n",
       "5           750.0     89.0        1337.0     96.0        1393.0        949.0   \n",
       "6           690.0     62.0        1462.0     77.0        1333.0        733.0   \n",
       "7           672.0     62.0        1453.0     76.0        1333.0        730.0   \n",
       "8           609.0     45.0        1579.0     60.0        1276.0        620.0   \n",
       "9           561.0   -200.0        1705.0   -200.0        1235.0        501.0   \n",
       "10          527.0     21.0        1818.0     34.0        1197.0        445.0   \n",
       "11          512.0     16.0        1918.0     28.0        1182.0        422.0   \n",
       "12          553.0     34.0        1738.0     48.0        1221.0        472.0   \n",
       "13          667.0     98.0        1490.0     82.0        1339.0        730.0   \n",
       "14          900.0    174.0        1136.0    112.0        1517.0       1102.0   \n",
       "15          960.0    129.0        1079.0    101.0        1583.0       1028.0   \n",
       "16          827.0    112.0        1218.0     98.0        1446.0        860.0   \n",
       "17          762.0     95.0        1328.0     92.0        1362.0        671.0   \n",
       "18          774.0    104.0        1301.0     95.0        1401.0        664.0   \n",
       "19          869.0    146.0        1162.0    112.0        1537.0        799.0   \n",
       "\n",
       "       T    RH      AH  Unnamed: 15  Unnamed: 16  \n",
       "0   13,6  48,9  0,7578          NaN          NaN  \n",
       "1   13,3  47,7  0,7255          NaN          NaN  \n",
       "2   11,9  54,0  0,7502          NaN          NaN  \n",
       "3   11,0  60,0  0,7867          NaN          NaN  \n",
       "4   11,2  59,6  0,7888          NaN          NaN  \n",
       "5   11,2  59,2  0,7848          NaN          NaN  \n",
       "6   11,3  56,8  0,7603          NaN          NaN  \n",
       "7   10,7  60,0  0,7702          NaN          NaN  \n",
       "8   10,7  59,7  0,7648          NaN          NaN  \n",
       "9   10,3  60,2  0,7517          NaN          NaN  \n",
       "10  10,1  60,5  0,7465          NaN          NaN  \n",
       "11  11,0  56,2  0,7366          NaN          NaN  \n",
       "12  10,5  58,1  0,7353          NaN          NaN  \n",
       "13  10,2  59,6  0,7417          NaN          NaN  \n",
       "14  10,8  57,4  0,7408          NaN          NaN  \n",
       "15  10,5  60,6  0,7691          NaN          NaN  \n",
       "16  10,8  58,4  0,7552          NaN          NaN  \n",
       "17  10,5  57,9  0,7352          NaN          NaN  \n",
       "18   9,5  66,8  0,7951          NaN          NaN  \n",
       "19   8,3  76,4  0,8393          NaN          NaN  "
      ]
     },
     "metadata": {},
     "output_type": "display_data"
    },
    {
     "data": {
      "text/html": [
       "<div>\n",
       "<style scoped>\n",
       "    .dataframe tbody tr th:only-of-type {\n",
       "        vertical-align: middle;\n",
       "    }\n",
       "\n",
       "    .dataframe tbody tr th {\n",
       "        vertical-align: top;\n",
       "    }\n",
       "\n",
       "    .dataframe thead th {\n",
       "        text-align: right;\n",
       "    }\n",
       "</style>\n",
       "<table border=\"1\" class=\"dataframe\">\n",
       "  <thead>\n",
       "    <tr style=\"text-align: right;\">\n",
       "      <th></th>\n",
       "      <th>Date</th>\n",
       "      <th>Time</th>\n",
       "      <th>CO(GT)</th>\n",
       "      <th>PT08.S1(CO)</th>\n",
       "      <th>NMHC(GT)</th>\n",
       "      <th>C6H6(GT)</th>\n",
       "      <th>PT08.S2(NMHC)</th>\n",
       "      <th>NOx(GT)</th>\n",
       "      <th>PT08.S3(NOx)</th>\n",
       "      <th>NO2(GT)</th>\n",
       "      <th>PT08.S4(NO2)</th>\n",
       "      <th>PT08.S5(O3)</th>\n",
       "      <th>T</th>\n",
       "      <th>RH</th>\n",
       "      <th>AH</th>\n",
       "      <th>Unnamed: 15</th>\n",
       "      <th>Unnamed: 16</th>\n",
       "    </tr>\n",
       "  </thead>\n",
       "  <tbody>\n",
       "    <tr>\n",
       "      <th>9451</th>\n",
       "      <td>NaN</td>\n",
       "      <td>NaN</td>\n",
       "      <td>NaN</td>\n",
       "      <td>NaN</td>\n",
       "      <td>NaN</td>\n",
       "      <td>NaN</td>\n",
       "      <td>NaN</td>\n",
       "      <td>NaN</td>\n",
       "      <td>NaN</td>\n",
       "      <td>NaN</td>\n",
       "      <td>NaN</td>\n",
       "      <td>NaN</td>\n",
       "      <td>NaN</td>\n",
       "      <td>NaN</td>\n",
       "      <td>NaN</td>\n",
       "      <td>NaN</td>\n",
       "      <td>NaN</td>\n",
       "    </tr>\n",
       "    <tr>\n",
       "      <th>9452</th>\n",
       "      <td>NaN</td>\n",
       "      <td>NaN</td>\n",
       "      <td>NaN</td>\n",
       "      <td>NaN</td>\n",
       "      <td>NaN</td>\n",
       "      <td>NaN</td>\n",
       "      <td>NaN</td>\n",
       "      <td>NaN</td>\n",
       "      <td>NaN</td>\n",
       "      <td>NaN</td>\n",
       "      <td>NaN</td>\n",
       "      <td>NaN</td>\n",
       "      <td>NaN</td>\n",
       "      <td>NaN</td>\n",
       "      <td>NaN</td>\n",
       "      <td>NaN</td>\n",
       "      <td>NaN</td>\n",
       "    </tr>\n",
       "    <tr>\n",
       "      <th>9453</th>\n",
       "      <td>NaN</td>\n",
       "      <td>NaN</td>\n",
       "      <td>NaN</td>\n",
       "      <td>NaN</td>\n",
       "      <td>NaN</td>\n",
       "      <td>NaN</td>\n",
       "      <td>NaN</td>\n",
       "      <td>NaN</td>\n",
       "      <td>NaN</td>\n",
       "      <td>NaN</td>\n",
       "      <td>NaN</td>\n",
       "      <td>NaN</td>\n",
       "      <td>NaN</td>\n",
       "      <td>NaN</td>\n",
       "      <td>NaN</td>\n",
       "      <td>NaN</td>\n",
       "      <td>NaN</td>\n",
       "    </tr>\n",
       "    <tr>\n",
       "      <th>9454</th>\n",
       "      <td>NaN</td>\n",
       "      <td>NaN</td>\n",
       "      <td>NaN</td>\n",
       "      <td>NaN</td>\n",
       "      <td>NaN</td>\n",
       "      <td>NaN</td>\n",
       "      <td>NaN</td>\n",
       "      <td>NaN</td>\n",
       "      <td>NaN</td>\n",
       "      <td>NaN</td>\n",
       "      <td>NaN</td>\n",
       "      <td>NaN</td>\n",
       "      <td>NaN</td>\n",
       "      <td>NaN</td>\n",
       "      <td>NaN</td>\n",
       "      <td>NaN</td>\n",
       "      <td>NaN</td>\n",
       "    </tr>\n",
       "    <tr>\n",
       "      <th>9455</th>\n",
       "      <td>NaN</td>\n",
       "      <td>NaN</td>\n",
       "      <td>NaN</td>\n",
       "      <td>NaN</td>\n",
       "      <td>NaN</td>\n",
       "      <td>NaN</td>\n",
       "      <td>NaN</td>\n",
       "      <td>NaN</td>\n",
       "      <td>NaN</td>\n",
       "      <td>NaN</td>\n",
       "      <td>NaN</td>\n",
       "      <td>NaN</td>\n",
       "      <td>NaN</td>\n",
       "      <td>NaN</td>\n",
       "      <td>NaN</td>\n",
       "      <td>NaN</td>\n",
       "      <td>NaN</td>\n",
       "    </tr>\n",
       "    <tr>\n",
       "      <th>9456</th>\n",
       "      <td>NaN</td>\n",
       "      <td>NaN</td>\n",
       "      <td>NaN</td>\n",
       "      <td>NaN</td>\n",
       "      <td>NaN</td>\n",
       "      <td>NaN</td>\n",
       "      <td>NaN</td>\n",
       "      <td>NaN</td>\n",
       "      <td>NaN</td>\n",
       "      <td>NaN</td>\n",
       "      <td>NaN</td>\n",
       "      <td>NaN</td>\n",
       "      <td>NaN</td>\n",
       "      <td>NaN</td>\n",
       "      <td>NaN</td>\n",
       "      <td>NaN</td>\n",
       "      <td>NaN</td>\n",
       "    </tr>\n",
       "    <tr>\n",
       "      <th>9457</th>\n",
       "      <td>NaN</td>\n",
       "      <td>NaN</td>\n",
       "      <td>NaN</td>\n",
       "      <td>NaN</td>\n",
       "      <td>NaN</td>\n",
       "      <td>NaN</td>\n",
       "      <td>NaN</td>\n",
       "      <td>NaN</td>\n",
       "      <td>NaN</td>\n",
       "      <td>NaN</td>\n",
       "      <td>NaN</td>\n",
       "      <td>NaN</td>\n",
       "      <td>NaN</td>\n",
       "      <td>NaN</td>\n",
       "      <td>NaN</td>\n",
       "      <td>NaN</td>\n",
       "      <td>NaN</td>\n",
       "    </tr>\n",
       "    <tr>\n",
       "      <th>9458</th>\n",
       "      <td>NaN</td>\n",
       "      <td>NaN</td>\n",
       "      <td>NaN</td>\n",
       "      <td>NaN</td>\n",
       "      <td>NaN</td>\n",
       "      <td>NaN</td>\n",
       "      <td>NaN</td>\n",
       "      <td>NaN</td>\n",
       "      <td>NaN</td>\n",
       "      <td>NaN</td>\n",
       "      <td>NaN</td>\n",
       "      <td>NaN</td>\n",
       "      <td>NaN</td>\n",
       "      <td>NaN</td>\n",
       "      <td>NaN</td>\n",
       "      <td>NaN</td>\n",
       "      <td>NaN</td>\n",
       "    </tr>\n",
       "    <tr>\n",
       "      <th>9459</th>\n",
       "      <td>NaN</td>\n",
       "      <td>NaN</td>\n",
       "      <td>NaN</td>\n",
       "      <td>NaN</td>\n",
       "      <td>NaN</td>\n",
       "      <td>NaN</td>\n",
       "      <td>NaN</td>\n",
       "      <td>NaN</td>\n",
       "      <td>NaN</td>\n",
       "      <td>NaN</td>\n",
       "      <td>NaN</td>\n",
       "      <td>NaN</td>\n",
       "      <td>NaN</td>\n",
       "      <td>NaN</td>\n",
       "      <td>NaN</td>\n",
       "      <td>NaN</td>\n",
       "      <td>NaN</td>\n",
       "    </tr>\n",
       "    <tr>\n",
       "      <th>9460</th>\n",
       "      <td>NaN</td>\n",
       "      <td>NaN</td>\n",
       "      <td>NaN</td>\n",
       "      <td>NaN</td>\n",
       "      <td>NaN</td>\n",
       "      <td>NaN</td>\n",
       "      <td>NaN</td>\n",
       "      <td>NaN</td>\n",
       "      <td>NaN</td>\n",
       "      <td>NaN</td>\n",
       "      <td>NaN</td>\n",
       "      <td>NaN</td>\n",
       "      <td>NaN</td>\n",
       "      <td>NaN</td>\n",
       "      <td>NaN</td>\n",
       "      <td>NaN</td>\n",
       "      <td>NaN</td>\n",
       "    </tr>\n",
       "    <tr>\n",
       "      <th>9461</th>\n",
       "      <td>NaN</td>\n",
       "      <td>NaN</td>\n",
       "      <td>NaN</td>\n",
       "      <td>NaN</td>\n",
       "      <td>NaN</td>\n",
       "      <td>NaN</td>\n",
       "      <td>NaN</td>\n",
       "      <td>NaN</td>\n",
       "      <td>NaN</td>\n",
       "      <td>NaN</td>\n",
       "      <td>NaN</td>\n",
       "      <td>NaN</td>\n",
       "      <td>NaN</td>\n",
       "      <td>NaN</td>\n",
       "      <td>NaN</td>\n",
       "      <td>NaN</td>\n",
       "      <td>NaN</td>\n",
       "    </tr>\n",
       "    <tr>\n",
       "      <th>9462</th>\n",
       "      <td>NaN</td>\n",
       "      <td>NaN</td>\n",
       "      <td>NaN</td>\n",
       "      <td>NaN</td>\n",
       "      <td>NaN</td>\n",
       "      <td>NaN</td>\n",
       "      <td>NaN</td>\n",
       "      <td>NaN</td>\n",
       "      <td>NaN</td>\n",
       "      <td>NaN</td>\n",
       "      <td>NaN</td>\n",
       "      <td>NaN</td>\n",
       "      <td>NaN</td>\n",
       "      <td>NaN</td>\n",
       "      <td>NaN</td>\n",
       "      <td>NaN</td>\n",
       "      <td>NaN</td>\n",
       "    </tr>\n",
       "    <tr>\n",
       "      <th>9463</th>\n",
       "      <td>NaN</td>\n",
       "      <td>NaN</td>\n",
       "      <td>NaN</td>\n",
       "      <td>NaN</td>\n",
       "      <td>NaN</td>\n",
       "      <td>NaN</td>\n",
       "      <td>NaN</td>\n",
       "      <td>NaN</td>\n",
       "      <td>NaN</td>\n",
       "      <td>NaN</td>\n",
       "      <td>NaN</td>\n",
       "      <td>NaN</td>\n",
       "      <td>NaN</td>\n",
       "      <td>NaN</td>\n",
       "      <td>NaN</td>\n",
       "      <td>NaN</td>\n",
       "      <td>NaN</td>\n",
       "    </tr>\n",
       "    <tr>\n",
       "      <th>9464</th>\n",
       "      <td>NaN</td>\n",
       "      <td>NaN</td>\n",
       "      <td>NaN</td>\n",
       "      <td>NaN</td>\n",
       "      <td>NaN</td>\n",
       "      <td>NaN</td>\n",
       "      <td>NaN</td>\n",
       "      <td>NaN</td>\n",
       "      <td>NaN</td>\n",
       "      <td>NaN</td>\n",
       "      <td>NaN</td>\n",
       "      <td>NaN</td>\n",
       "      <td>NaN</td>\n",
       "      <td>NaN</td>\n",
       "      <td>NaN</td>\n",
       "      <td>NaN</td>\n",
       "      <td>NaN</td>\n",
       "    </tr>\n",
       "    <tr>\n",
       "      <th>9465</th>\n",
       "      <td>NaN</td>\n",
       "      <td>NaN</td>\n",
       "      <td>NaN</td>\n",
       "      <td>NaN</td>\n",
       "      <td>NaN</td>\n",
       "      <td>NaN</td>\n",
       "      <td>NaN</td>\n",
       "      <td>NaN</td>\n",
       "      <td>NaN</td>\n",
       "      <td>NaN</td>\n",
       "      <td>NaN</td>\n",
       "      <td>NaN</td>\n",
       "      <td>NaN</td>\n",
       "      <td>NaN</td>\n",
       "      <td>NaN</td>\n",
       "      <td>NaN</td>\n",
       "      <td>NaN</td>\n",
       "    </tr>\n",
       "    <tr>\n",
       "      <th>9466</th>\n",
       "      <td>NaN</td>\n",
       "      <td>NaN</td>\n",
       "      <td>NaN</td>\n",
       "      <td>NaN</td>\n",
       "      <td>NaN</td>\n",
       "      <td>NaN</td>\n",
       "      <td>NaN</td>\n",
       "      <td>NaN</td>\n",
       "      <td>NaN</td>\n",
       "      <td>NaN</td>\n",
       "      <td>NaN</td>\n",
       "      <td>NaN</td>\n",
       "      <td>NaN</td>\n",
       "      <td>NaN</td>\n",
       "      <td>NaN</td>\n",
       "      <td>NaN</td>\n",
       "      <td>NaN</td>\n",
       "    </tr>\n",
       "    <tr>\n",
       "      <th>9467</th>\n",
       "      <td>NaN</td>\n",
       "      <td>NaN</td>\n",
       "      <td>NaN</td>\n",
       "      <td>NaN</td>\n",
       "      <td>NaN</td>\n",
       "      <td>NaN</td>\n",
       "      <td>NaN</td>\n",
       "      <td>NaN</td>\n",
       "      <td>NaN</td>\n",
       "      <td>NaN</td>\n",
       "      <td>NaN</td>\n",
       "      <td>NaN</td>\n",
       "      <td>NaN</td>\n",
       "      <td>NaN</td>\n",
       "      <td>NaN</td>\n",
       "      <td>NaN</td>\n",
       "      <td>NaN</td>\n",
       "    </tr>\n",
       "    <tr>\n",
       "      <th>9468</th>\n",
       "      <td>NaN</td>\n",
       "      <td>NaN</td>\n",
       "      <td>NaN</td>\n",
       "      <td>NaN</td>\n",
       "      <td>NaN</td>\n",
       "      <td>NaN</td>\n",
       "      <td>NaN</td>\n",
       "      <td>NaN</td>\n",
       "      <td>NaN</td>\n",
       "      <td>NaN</td>\n",
       "      <td>NaN</td>\n",
       "      <td>NaN</td>\n",
       "      <td>NaN</td>\n",
       "      <td>NaN</td>\n",
       "      <td>NaN</td>\n",
       "      <td>NaN</td>\n",
       "      <td>NaN</td>\n",
       "    </tr>\n",
       "    <tr>\n",
       "      <th>9469</th>\n",
       "      <td>NaN</td>\n",
       "      <td>NaN</td>\n",
       "      <td>NaN</td>\n",
       "      <td>NaN</td>\n",
       "      <td>NaN</td>\n",
       "      <td>NaN</td>\n",
       "      <td>NaN</td>\n",
       "      <td>NaN</td>\n",
       "      <td>NaN</td>\n",
       "      <td>NaN</td>\n",
       "      <td>NaN</td>\n",
       "      <td>NaN</td>\n",
       "      <td>NaN</td>\n",
       "      <td>NaN</td>\n",
       "      <td>NaN</td>\n",
       "      <td>NaN</td>\n",
       "      <td>NaN</td>\n",
       "    </tr>\n",
       "    <tr>\n",
       "      <th>9470</th>\n",
       "      <td>NaN</td>\n",
       "      <td>NaN</td>\n",
       "      <td>NaN</td>\n",
       "      <td>NaN</td>\n",
       "      <td>NaN</td>\n",
       "      <td>NaN</td>\n",
       "      <td>NaN</td>\n",
       "      <td>NaN</td>\n",
       "      <td>NaN</td>\n",
       "      <td>NaN</td>\n",
       "      <td>NaN</td>\n",
       "      <td>NaN</td>\n",
       "      <td>NaN</td>\n",
       "      <td>NaN</td>\n",
       "      <td>NaN</td>\n",
       "      <td>NaN</td>\n",
       "      <td>NaN</td>\n",
       "    </tr>\n",
       "  </tbody>\n",
       "</table>\n",
       "</div>"
      ],
      "text/plain": [
       "     Date Time CO(GT)  PT08.S1(CO)  NMHC(GT) C6H6(GT)  PT08.S2(NMHC)  NOx(GT)  \\\n",
       "9451  NaN  NaN    NaN          NaN       NaN      NaN            NaN      NaN   \n",
       "9452  NaN  NaN    NaN          NaN       NaN      NaN            NaN      NaN   \n",
       "9453  NaN  NaN    NaN          NaN       NaN      NaN            NaN      NaN   \n",
       "9454  NaN  NaN    NaN          NaN       NaN      NaN            NaN      NaN   \n",
       "9455  NaN  NaN    NaN          NaN       NaN      NaN            NaN      NaN   \n",
       "9456  NaN  NaN    NaN          NaN       NaN      NaN            NaN      NaN   \n",
       "9457  NaN  NaN    NaN          NaN       NaN      NaN            NaN      NaN   \n",
       "9458  NaN  NaN    NaN          NaN       NaN      NaN            NaN      NaN   \n",
       "9459  NaN  NaN    NaN          NaN       NaN      NaN            NaN      NaN   \n",
       "9460  NaN  NaN    NaN          NaN       NaN      NaN            NaN      NaN   \n",
       "9461  NaN  NaN    NaN          NaN       NaN      NaN            NaN      NaN   \n",
       "9462  NaN  NaN    NaN          NaN       NaN      NaN            NaN      NaN   \n",
       "9463  NaN  NaN    NaN          NaN       NaN      NaN            NaN      NaN   \n",
       "9464  NaN  NaN    NaN          NaN       NaN      NaN            NaN      NaN   \n",
       "9465  NaN  NaN    NaN          NaN       NaN      NaN            NaN      NaN   \n",
       "9466  NaN  NaN    NaN          NaN       NaN      NaN            NaN      NaN   \n",
       "9467  NaN  NaN    NaN          NaN       NaN      NaN            NaN      NaN   \n",
       "9468  NaN  NaN    NaN          NaN       NaN      NaN            NaN      NaN   \n",
       "9469  NaN  NaN    NaN          NaN       NaN      NaN            NaN      NaN   \n",
       "9470  NaN  NaN    NaN          NaN       NaN      NaN            NaN      NaN   \n",
       "\n",
       "      PT08.S3(NOx)  NO2(GT)  PT08.S4(NO2)  PT08.S5(O3)    T   RH   AH  \\\n",
       "9451           NaN      NaN           NaN          NaN  NaN  NaN  NaN   \n",
       "9452           NaN      NaN           NaN          NaN  NaN  NaN  NaN   \n",
       "9453           NaN      NaN           NaN          NaN  NaN  NaN  NaN   \n",
       "9454           NaN      NaN           NaN          NaN  NaN  NaN  NaN   \n",
       "9455           NaN      NaN           NaN          NaN  NaN  NaN  NaN   \n",
       "9456           NaN      NaN           NaN          NaN  NaN  NaN  NaN   \n",
       "9457           NaN      NaN           NaN          NaN  NaN  NaN  NaN   \n",
       "9458           NaN      NaN           NaN          NaN  NaN  NaN  NaN   \n",
       "9459           NaN      NaN           NaN          NaN  NaN  NaN  NaN   \n",
       "9460           NaN      NaN           NaN          NaN  NaN  NaN  NaN   \n",
       "9461           NaN      NaN           NaN          NaN  NaN  NaN  NaN   \n",
       "9462           NaN      NaN           NaN          NaN  NaN  NaN  NaN   \n",
       "9463           NaN      NaN           NaN          NaN  NaN  NaN  NaN   \n",
       "9464           NaN      NaN           NaN          NaN  NaN  NaN  NaN   \n",
       "9465           NaN      NaN           NaN          NaN  NaN  NaN  NaN   \n",
       "9466           NaN      NaN           NaN          NaN  NaN  NaN  NaN   \n",
       "9467           NaN      NaN           NaN          NaN  NaN  NaN  NaN   \n",
       "9468           NaN      NaN           NaN          NaN  NaN  NaN  NaN   \n",
       "9469           NaN      NaN           NaN          NaN  NaN  NaN  NaN   \n",
       "9470           NaN      NaN           NaN          NaN  NaN  NaN  NaN   \n",
       "\n",
       "      Unnamed: 15  Unnamed: 16  \n",
       "9451          NaN          NaN  \n",
       "9452          NaN          NaN  \n",
       "9453          NaN          NaN  \n",
       "9454          NaN          NaN  \n",
       "9455          NaN          NaN  \n",
       "9456          NaN          NaN  \n",
       "9457          NaN          NaN  \n",
       "9458          NaN          NaN  \n",
       "9459          NaN          NaN  \n",
       "9460          NaN          NaN  \n",
       "9461          NaN          NaN  \n",
       "9462          NaN          NaN  \n",
       "9463          NaN          NaN  \n",
       "9464          NaN          NaN  \n",
       "9465          NaN          NaN  \n",
       "9466          NaN          NaN  \n",
       "9467          NaN          NaN  \n",
       "9468          NaN          NaN  \n",
       "9469          NaN          NaN  \n",
       "9470          NaN          NaN  "
      ]
     },
     "metadata": {},
     "output_type": "display_data"
    }
   ],
   "source": [
    "# рассмотрим данные датасета (первые и последние 20 строчек)\n",
    "display(df.head(20))\n",
    "display(df.tail(20))"
   ]
  },
  {
   "cell_type": "code",
   "execution_count": 58,
   "metadata": {},
   "outputs": [
    {
     "name": "stdout",
     "output_type": "stream",
     "text": [
      "<class 'pandas.core.frame.DataFrame'>\n",
      "RangeIndex: 9471 entries, 0 to 9470\n",
      "Data columns (total 17 columns):\n",
      " #   Column         Non-Null Count  Dtype  \n",
      "---  ------         --------------  -----  \n",
      " 0   Date           9357 non-null   object \n",
      " 1   Time           9357 non-null   object \n",
      " 2   CO(GT)         9357 non-null   object \n",
      " 3   PT08.S1(CO)    9357 non-null   float64\n",
      " 4   NMHC(GT)       9357 non-null   float64\n",
      " 5   C6H6(GT)       9357 non-null   object \n",
      " 6   PT08.S2(NMHC)  9357 non-null   float64\n",
      " 7   NOx(GT)        9357 non-null   float64\n",
      " 8   PT08.S3(NOx)   9357 non-null   float64\n",
      " 9   NO2(GT)        9357 non-null   float64\n",
      " 10  PT08.S4(NO2)   9357 non-null   float64\n",
      " 11  PT08.S5(O3)    9357 non-null   float64\n",
      " 12  T              9357 non-null   object \n",
      " 13  RH             9357 non-null   object \n",
      " 14  AH             9357 non-null   object \n",
      " 15  Unnamed: 15    0 non-null      float64\n",
      " 16  Unnamed: 16    0 non-null      float64\n",
      "dtypes: float64(10), object(7)\n",
      "memory usage: 1.2+ MB\n"
     ]
    }
   ],
   "source": [
    "# посмотрим основную информацию по датасету\n",
    "df.info()"
   ]
  },
  {
   "cell_type": "markdown",
   "metadata": {},
   "source": [
    "**Описание данных**\n",
    "\n",
    "- 0 `Date` - дата (ДД/ММ/ГГГГ)\n",
    "- 1 `Time` - время (ЧЧ.ММ.СС)\n",
    "- 2 `CO(GT)` - истинная почасовая усредненная концентрация CO в мг/м^3 (эталонный анализатор)\n",
    "- 3 `PT08.S1(CO)` - оксид олова; почасовой усредненный отклик сенсора (номинально нацеленный на CO)\n",
    "- 4 `NMHC(GT)` - истинная почасовая усредненная общая концентрация неметановых углеводородов в микрог/м^3 (эталонный анализатор)\n",
    "- 5 `C6H6(GT)` - истинная почасовая усредненная концентрация бензола в микрог/м^3 (эталонный анализатор)\n",
    "- 6 `PT08.S2(NMHC)` - почасовой усредненный отклик сенсора (номинально нацеленный на NMHC)\n",
    "- 7 `NOx(GT)` - истинная почасовая усредненная концентрация NOx в ппб (эталонный анализатор)\n",
    "- 8 `PT08.S3(NOx)` - почасовой усредненный отклик сенсора (номинально нацеленный на NOx)\n",
    "- 9 `NO2(GT)` - истинная почасовая усредненная концентрация NO2 в микрог/м^3 (эталонный анализатор)\n",
    "- 10 `PT08.S4(NO2)` - почасовой усредненный отклик сенсора (номинально нацеленный на NO2)\n",
    "- 11 `PT08.S5(O3)` - почасовой усредненный отклик сенсора (номинально нацеленный на O3)\n",
    "- 12 `T` - температура в °C\n",
    "- 13 `RH` - относительная влажность (%)\n",
    "- 14 `AH` - абсолютная влажность\n",
    "\n",
    "**По первоночальному ознакомлению с датасетом можно сказать следующее:**\n",
    "- в датасете 17 столбцов с количеством строк - 9357\n",
    "- в датасете присутствуют пропуски со значением `NaN` хотя в информации о датасете пропусков нет\n",
    "- столбцы со временем и датой лучше объединить и преобразовать в формат `datetime`\n",
    "- необходимо удалить столбцы `Unnamed: 15` и `Unnamed: 16`\n",
    "- столбцах `CO(GT)`, `C6H6(GT)`, `T`, `RH`, `AH` необходимо поменять формат данных на float64\n",
    "\n",
    "## **Предобработка данных**\n",
    "\n",
    "Сначала удалим столбцы `Unnamed: 15` и `Unnamed: 16`"
   ]
  },
  {
   "cell_type": "code",
   "execution_count": 6,
   "metadata": {},
   "outputs": [
    {
     "data": {
      "text/html": [
       "<div>\n",
       "<style scoped>\n",
       "    .dataframe tbody tr th:only-of-type {\n",
       "        vertical-align: middle;\n",
       "    }\n",
       "\n",
       "    .dataframe tbody tr th {\n",
       "        vertical-align: top;\n",
       "    }\n",
       "\n",
       "    .dataframe thead th {\n",
       "        text-align: right;\n",
       "    }\n",
       "</style>\n",
       "<table border=\"1\" class=\"dataframe\">\n",
       "  <thead>\n",
       "    <tr style=\"text-align: right;\">\n",
       "      <th></th>\n",
       "      <th>Date</th>\n",
       "      <th>Time</th>\n",
       "      <th>CO(GT)</th>\n",
       "      <th>PT08.S1(CO)</th>\n",
       "      <th>NMHC(GT)</th>\n",
       "      <th>C6H6(GT)</th>\n",
       "      <th>PT08.S2(NMHC)</th>\n",
       "      <th>NOx(GT)</th>\n",
       "      <th>PT08.S3(NOx)</th>\n",
       "      <th>NO2(GT)</th>\n",
       "      <th>PT08.S4(NO2)</th>\n",
       "      <th>PT08.S5(O3)</th>\n",
       "      <th>T</th>\n",
       "      <th>RH</th>\n",
       "      <th>AH</th>\n",
       "    </tr>\n",
       "  </thead>\n",
       "  <tbody>\n",
       "    <tr>\n",
       "      <th>0</th>\n",
       "      <td>10/03/2004</td>\n",
       "      <td>18.00.00</td>\n",
       "      <td>2,6</td>\n",
       "      <td>1360.0</td>\n",
       "      <td>150.0</td>\n",
       "      <td>11,9</td>\n",
       "      <td>1046.0</td>\n",
       "      <td>166.0</td>\n",
       "      <td>1056.0</td>\n",
       "      <td>113.0</td>\n",
       "      <td>1692.0</td>\n",
       "      <td>1268.0</td>\n",
       "      <td>13,6</td>\n",
       "      <td>48,9</td>\n",
       "      <td>0,7578</td>\n",
       "    </tr>\n",
       "    <tr>\n",
       "      <th>1</th>\n",
       "      <td>10/03/2004</td>\n",
       "      <td>19.00.00</td>\n",
       "      <td>2</td>\n",
       "      <td>1292.0</td>\n",
       "      <td>112.0</td>\n",
       "      <td>9,4</td>\n",
       "      <td>955.0</td>\n",
       "      <td>103.0</td>\n",
       "      <td>1174.0</td>\n",
       "      <td>92.0</td>\n",
       "      <td>1559.0</td>\n",
       "      <td>972.0</td>\n",
       "      <td>13,3</td>\n",
       "      <td>47,7</td>\n",
       "      <td>0,7255</td>\n",
       "    </tr>\n",
       "    <tr>\n",
       "      <th>2</th>\n",
       "      <td>10/03/2004</td>\n",
       "      <td>20.00.00</td>\n",
       "      <td>2,2</td>\n",
       "      <td>1402.0</td>\n",
       "      <td>88.0</td>\n",
       "      <td>9,0</td>\n",
       "      <td>939.0</td>\n",
       "      <td>131.0</td>\n",
       "      <td>1140.0</td>\n",
       "      <td>114.0</td>\n",
       "      <td>1555.0</td>\n",
       "      <td>1074.0</td>\n",
       "      <td>11,9</td>\n",
       "      <td>54,0</td>\n",
       "      <td>0,7502</td>\n",
       "    </tr>\n",
       "    <tr>\n",
       "      <th>3</th>\n",
       "      <td>10/03/2004</td>\n",
       "      <td>21.00.00</td>\n",
       "      <td>2,2</td>\n",
       "      <td>1376.0</td>\n",
       "      <td>80.0</td>\n",
       "      <td>9,2</td>\n",
       "      <td>948.0</td>\n",
       "      <td>172.0</td>\n",
       "      <td>1092.0</td>\n",
       "      <td>122.0</td>\n",
       "      <td>1584.0</td>\n",
       "      <td>1203.0</td>\n",
       "      <td>11,0</td>\n",
       "      <td>60,0</td>\n",
       "      <td>0,7867</td>\n",
       "    </tr>\n",
       "    <tr>\n",
       "      <th>4</th>\n",
       "      <td>10/03/2004</td>\n",
       "      <td>22.00.00</td>\n",
       "      <td>1,6</td>\n",
       "      <td>1272.0</td>\n",
       "      <td>51.0</td>\n",
       "      <td>6,5</td>\n",
       "      <td>836.0</td>\n",
       "      <td>131.0</td>\n",
       "      <td>1205.0</td>\n",
       "      <td>116.0</td>\n",
       "      <td>1490.0</td>\n",
       "      <td>1110.0</td>\n",
       "      <td>11,2</td>\n",
       "      <td>59,6</td>\n",
       "      <td>0,7888</td>\n",
       "    </tr>\n",
       "  </tbody>\n",
       "</table>\n",
       "</div>"
      ],
      "text/plain": [
       "         Date      Time CO(GT)  PT08.S1(CO)  NMHC(GT) C6H6(GT)  PT08.S2(NMHC)  \\\n",
       "0  10/03/2004  18.00.00    2,6       1360.0     150.0     11,9         1046.0   \n",
       "1  10/03/2004  19.00.00      2       1292.0     112.0      9,4          955.0   \n",
       "2  10/03/2004  20.00.00    2,2       1402.0      88.0      9,0          939.0   \n",
       "3  10/03/2004  21.00.00    2,2       1376.0      80.0      9,2          948.0   \n",
       "4  10/03/2004  22.00.00    1,6       1272.0      51.0      6,5          836.0   \n",
       "\n",
       "   NOx(GT)  PT08.S3(NOx)  NO2(GT)  PT08.S4(NO2)  PT08.S5(O3)     T    RH  \\\n",
       "0    166.0        1056.0    113.0        1692.0       1268.0  13,6  48,9   \n",
       "1    103.0        1174.0     92.0        1559.0        972.0  13,3  47,7   \n",
       "2    131.0        1140.0    114.0        1555.0       1074.0  11,9  54,0   \n",
       "3    172.0        1092.0    122.0        1584.0       1203.0  11,0  60,0   \n",
       "4    131.0        1205.0    116.0        1490.0       1110.0  11,2  59,6   \n",
       "\n",
       "       AH  \n",
       "0  0,7578  \n",
       "1  0,7255  \n",
       "2  0,7502  \n",
       "3  0,7867  \n",
       "4  0,7888  "
      ]
     },
     "execution_count": 6,
     "metadata": {},
     "output_type": "execute_result"
    }
   ],
   "source": [
    "# удалим ненужные столбцы из датасета\n",
    "df.drop(['Unnamed: 15','Unnamed: 16'], axis=1, inplace=True, errors = 'ignore') \n",
    "df.head()"
   ]
  },
  {
   "cell_type": "markdown",
   "metadata": {},
   "source": [
    "Преобразуем столбцы `CO(GT)`, `C6H6(GT)`, `T`, `RH`, `AH` в формат float, при этом поменяем все запятые на точки, чтобы значения не исчезли"
   ]
  },
  {
   "cell_type": "code",
   "execution_count": 7,
   "metadata": {},
   "outputs": [],
   "source": [
    "# преобразуем столбцы в формат float64\n",
    "for col in ['CO(GT)', 'C6H6(GT)', 'T', 'RH', 'AH']:\n",
    "    df[col] = df[col].str.replace(',', '.').astype(float)"
   ]
  },
  {
   "cell_type": "markdown",
   "metadata": {},
   "source": [
    "Теперь поработаем над скрытыми пропусками. Из документации нам известно, что при значении `-200` замера не осуществлялось. Заменим эти значения на NaN"
   ]
  },
  {
   "cell_type": "code",
   "execution_count": 8,
   "metadata": {},
   "outputs": [
    {
     "name": "stdout",
     "output_type": "stream",
     "text": [
      "<class 'pandas.core.frame.DataFrame'>\n",
      "RangeIndex: 9471 entries, 0 to 9470\n",
      "Data columns (total 15 columns):\n",
      " #   Column         Non-Null Count  Dtype  \n",
      "---  ------         --------------  -----  \n",
      " 0   Date           9357 non-null   object \n",
      " 1   Time           9357 non-null   object \n",
      " 2   CO(GT)         7674 non-null   float64\n",
      " 3   PT08.S1(CO)    8991 non-null   float64\n",
      " 4   NMHC(GT)       914 non-null    float64\n",
      " 5   C6H6(GT)       8991 non-null   float64\n",
      " 6   PT08.S2(NMHC)  8991 non-null   float64\n",
      " 7   NOx(GT)        7718 non-null   float64\n",
      " 8   PT08.S3(NOx)   8991 non-null   float64\n",
      " 9   NO2(GT)        7715 non-null   float64\n",
      " 10  PT08.S4(NO2)   8991 non-null   float64\n",
      " 11  PT08.S5(O3)    8991 non-null   float64\n",
      " 12  T              8991 non-null   float64\n",
      " 13  RH             8991 non-null   float64\n",
      " 14  AH             8991 non-null   float64\n",
      "dtypes: float64(13), object(2)\n",
      "memory usage: 1.1+ MB\n"
     ]
    }
   ],
   "source": [
    "# Заменим значения -200 на NaN\n",
    "df.replace(to_replace = -200, value = np.nan, inplace = True)\n",
    "df.info()"
   ]
  },
  {
   "cell_type": "markdown",
   "metadata": {},
   "source": [
    "Похоже, что в столбце `NMHC(GT)` много некорректных показаний по сравнению со всеми другими датчиками. Посмотрим какой процент составляют нулевые значения относительно общего числа значений и решим стоит ли сохранять этот столбец или удалить его."
   ]
  },
  {
   "cell_type": "code",
   "execution_count": 9,
   "metadata": {},
   "outputs": [
    {
     "data": {
      "text/html": [
       "<div>\n",
       "<style scoped>\n",
       "    .dataframe tbody tr th:only-of-type {\n",
       "        vertical-align: middle;\n",
       "    }\n",
       "\n",
       "    .dataframe tbody tr th {\n",
       "        vertical-align: top;\n",
       "    }\n",
       "\n",
       "    .dataframe thead th {\n",
       "        text-align: right;\n",
       "    }\n",
       "</style>\n",
       "<table border=\"1\" class=\"dataframe\">\n",
       "  <thead>\n",
       "    <tr style=\"text-align: right;\">\n",
       "      <th></th>\n",
       "      <th>%_NaN_in_Column</th>\n",
       "    </tr>\n",
       "  </thead>\n",
       "  <tbody>\n",
       "    <tr>\n",
       "      <th>NMHC(GT)</th>\n",
       "      <td>90.349488</td>\n",
       "    </tr>\n",
       "    <tr>\n",
       "      <th>CO(GT)</th>\n",
       "      <td>18.973709</td>\n",
       "    </tr>\n",
       "    <tr>\n",
       "      <th>NO2(GT)</th>\n",
       "      <td>18.540809</td>\n",
       "    </tr>\n",
       "    <tr>\n",
       "      <th>NOx(GT)</th>\n",
       "      <td>18.509133</td>\n",
       "    </tr>\n",
       "    <tr>\n",
       "      <th>PT08.S1(CO)</th>\n",
       "      <td>5.068103</td>\n",
       "    </tr>\n",
       "    <tr>\n",
       "      <th>C6H6(GT)</th>\n",
       "      <td>5.068103</td>\n",
       "    </tr>\n",
       "    <tr>\n",
       "      <th>PT08.S2(NMHC)</th>\n",
       "      <td>5.068103</td>\n",
       "    </tr>\n",
       "    <tr>\n",
       "      <th>PT08.S3(NOx)</th>\n",
       "      <td>5.068103</td>\n",
       "    </tr>\n",
       "    <tr>\n",
       "      <th>PT08.S4(NO2)</th>\n",
       "      <td>5.068103</td>\n",
       "    </tr>\n",
       "    <tr>\n",
       "      <th>PT08.S5(O3)</th>\n",
       "      <td>5.068103</td>\n",
       "    </tr>\n",
       "    <tr>\n",
       "      <th>T</th>\n",
       "      <td>5.068103</td>\n",
       "    </tr>\n",
       "    <tr>\n",
       "      <th>RH</th>\n",
       "      <td>5.068103</td>\n",
       "    </tr>\n",
       "    <tr>\n",
       "      <th>AH</th>\n",
       "      <td>5.068103</td>\n",
       "    </tr>\n",
       "    <tr>\n",
       "      <th>Date</th>\n",
       "      <td>1.203674</td>\n",
       "    </tr>\n",
       "    <tr>\n",
       "      <th>Time</th>\n",
       "      <td>1.203674</td>\n",
       "    </tr>\n",
       "  </tbody>\n",
       "</table>\n",
       "</div>"
      ],
      "text/plain": [
       "               %_NaN_in_Column\n",
       "NMHC(GT)             90.349488\n",
       "CO(GT)               18.973709\n",
       "NO2(GT)              18.540809\n",
       "NOx(GT)              18.509133\n",
       "PT08.S1(CO)           5.068103\n",
       "C6H6(GT)              5.068103\n",
       "PT08.S2(NMHC)         5.068103\n",
       "PT08.S3(NOx)          5.068103\n",
       "PT08.S4(NO2)          5.068103\n",
       "PT08.S5(O3)           5.068103\n",
       "T                     5.068103\n",
       "RH                    5.068103\n",
       "AH                    5.068103\n",
       "Date                  1.203674\n",
       "Time                  1.203674"
      ]
     },
     "execution_count": 9,
     "metadata": {},
     "output_type": "execute_result"
    }
   ],
   "source": [
    "# создадим необходимые списки\n",
    "percent_NaN = []\n",
    "columns = df.columns\n",
    "# создадим цикл определяющий процент пустых значений в столбцах\n",
    "for col in columns:\n",
    "    pNaN =  (df[col].isna().sum()/df.shape[0]) * 100\n",
    "    percent_NaN.append(pNaN)\n",
    "nan_percent_df = pd.DataFrame(percent_NaN,\n",
    "                              index=columns,\n",
    "                              columns=['%_NaN_in_Column']).sort_values('%_NaN_in_Column',ascending = False)\n",
    "# посмотрим на полученные доли пустых значений в столбцах\n",
    "nan_percent_df"
   ]
  },
  {
   "cell_type": "markdown",
   "metadata": {},
   "source": [
    "Как видим количество путсых значений в столбце `NMHC(GT)` более 90%. Его можно удалить. Также удалим все строки с пустыми значениями и продолжим предобработку датасета."
   ]
  },
  {
   "cell_type": "code",
   "execution_count": 10,
   "metadata": {},
   "outputs": [
    {
     "data": {
      "text/html": [
       "<div>\n",
       "<style scoped>\n",
       "    .dataframe tbody tr th:only-of-type {\n",
       "        vertical-align: middle;\n",
       "    }\n",
       "\n",
       "    .dataframe tbody tr th {\n",
       "        vertical-align: top;\n",
       "    }\n",
       "\n",
       "    .dataframe thead th {\n",
       "        text-align: right;\n",
       "    }\n",
       "</style>\n",
       "<table border=\"1\" class=\"dataframe\">\n",
       "  <thead>\n",
       "    <tr style=\"text-align: right;\">\n",
       "      <th></th>\n",
       "      <th>Date</th>\n",
       "      <th>Time</th>\n",
       "      <th>CO(GT)</th>\n",
       "      <th>PT08.S1(CO)</th>\n",
       "      <th>C6H6(GT)</th>\n",
       "      <th>PT08.S2(NMHC)</th>\n",
       "      <th>NOx(GT)</th>\n",
       "      <th>PT08.S3(NOx)</th>\n",
       "      <th>NO2(GT)</th>\n",
       "      <th>PT08.S4(NO2)</th>\n",
       "      <th>PT08.S5(O3)</th>\n",
       "      <th>T</th>\n",
       "      <th>RH</th>\n",
       "      <th>AH</th>\n",
       "    </tr>\n",
       "  </thead>\n",
       "  <tbody>\n",
       "    <tr>\n",
       "      <th>0</th>\n",
       "      <td>10/03/2004</td>\n",
       "      <td>18.00.00</td>\n",
       "      <td>2.6</td>\n",
       "      <td>1360.0</td>\n",
       "      <td>11.9</td>\n",
       "      <td>1046.0</td>\n",
       "      <td>166.0</td>\n",
       "      <td>1056.0</td>\n",
       "      <td>113.0</td>\n",
       "      <td>1692.0</td>\n",
       "      <td>1268.0</td>\n",
       "      <td>13.6</td>\n",
       "      <td>48.9</td>\n",
       "      <td>0.7578</td>\n",
       "    </tr>\n",
       "    <tr>\n",
       "      <th>1</th>\n",
       "      <td>10/03/2004</td>\n",
       "      <td>19.00.00</td>\n",
       "      <td>2.0</td>\n",
       "      <td>1292.0</td>\n",
       "      <td>9.4</td>\n",
       "      <td>955.0</td>\n",
       "      <td>103.0</td>\n",
       "      <td>1174.0</td>\n",
       "      <td>92.0</td>\n",
       "      <td>1559.0</td>\n",
       "      <td>972.0</td>\n",
       "      <td>13.3</td>\n",
       "      <td>47.7</td>\n",
       "      <td>0.7255</td>\n",
       "    </tr>\n",
       "    <tr>\n",
       "      <th>2</th>\n",
       "      <td>10/03/2004</td>\n",
       "      <td>20.00.00</td>\n",
       "      <td>2.2</td>\n",
       "      <td>1402.0</td>\n",
       "      <td>9.0</td>\n",
       "      <td>939.0</td>\n",
       "      <td>131.0</td>\n",
       "      <td>1140.0</td>\n",
       "      <td>114.0</td>\n",
       "      <td>1555.0</td>\n",
       "      <td>1074.0</td>\n",
       "      <td>11.9</td>\n",
       "      <td>54.0</td>\n",
       "      <td>0.7502</td>\n",
       "    </tr>\n",
       "    <tr>\n",
       "      <th>3</th>\n",
       "      <td>10/03/2004</td>\n",
       "      <td>21.00.00</td>\n",
       "      <td>2.2</td>\n",
       "      <td>1376.0</td>\n",
       "      <td>9.2</td>\n",
       "      <td>948.0</td>\n",
       "      <td>172.0</td>\n",
       "      <td>1092.0</td>\n",
       "      <td>122.0</td>\n",
       "      <td>1584.0</td>\n",
       "      <td>1203.0</td>\n",
       "      <td>11.0</td>\n",
       "      <td>60.0</td>\n",
       "      <td>0.7867</td>\n",
       "    </tr>\n",
       "    <tr>\n",
       "      <th>4</th>\n",
       "      <td>10/03/2004</td>\n",
       "      <td>22.00.00</td>\n",
       "      <td>1.6</td>\n",
       "      <td>1272.0</td>\n",
       "      <td>6.5</td>\n",
       "      <td>836.0</td>\n",
       "      <td>131.0</td>\n",
       "      <td>1205.0</td>\n",
       "      <td>116.0</td>\n",
       "      <td>1490.0</td>\n",
       "      <td>1110.0</td>\n",
       "      <td>11.2</td>\n",
       "      <td>59.6</td>\n",
       "      <td>0.7888</td>\n",
       "    </tr>\n",
       "  </tbody>\n",
       "</table>\n",
       "</div>"
      ],
      "text/plain": [
       "         Date      Time  CO(GT)  PT08.S1(CO)  C6H6(GT)  PT08.S2(NMHC)  \\\n",
       "0  10/03/2004  18.00.00     2.6       1360.0      11.9         1046.0   \n",
       "1  10/03/2004  19.00.00     2.0       1292.0       9.4          955.0   \n",
       "2  10/03/2004  20.00.00     2.2       1402.0       9.0          939.0   \n",
       "3  10/03/2004  21.00.00     2.2       1376.0       9.2          948.0   \n",
       "4  10/03/2004  22.00.00     1.6       1272.0       6.5          836.0   \n",
       "\n",
       "   NOx(GT)  PT08.S3(NOx)  NO2(GT)  PT08.S4(NO2)  PT08.S5(O3)     T    RH  \\\n",
       "0    166.0        1056.0    113.0        1692.0       1268.0  13.6  48.9   \n",
       "1    103.0        1174.0     92.0        1559.0        972.0  13.3  47.7   \n",
       "2    131.0        1140.0    114.0        1555.0       1074.0  11.9  54.0   \n",
       "3    172.0        1092.0    122.0        1584.0       1203.0  11.0  60.0   \n",
       "4    131.0        1205.0    116.0        1490.0       1110.0  11.2  59.6   \n",
       "\n",
       "       AH  \n",
       "0  0.7578  \n",
       "1  0.7255  \n",
       "2  0.7502  \n",
       "3  0.7867  \n",
       "4  0.7888  "
      ]
     },
     "execution_count": 10,
     "metadata": {},
     "output_type": "execute_result"
    }
   ],
   "source": [
    "# удалим столбец NMHC(GT)\n",
    "df.drop('NMHC(GT)', axis=1, inplace=True, errors = 'ignore') \n",
    "# удалим пропуски из датасета\n",
    "df = df.dropna()\n",
    "df.head()"
   ]
  },
  {
   "cell_type": "code",
   "execution_count": 11,
   "metadata": {},
   "outputs": [
    {
     "name": "stdout",
     "output_type": "stream",
     "text": [
      "<class 'pandas.core.frame.DataFrame'>\n",
      "Int64Index: 6941 entries, 0 to 9356\n",
      "Data columns (total 14 columns):\n",
      " #   Column         Non-Null Count  Dtype  \n",
      "---  ------         --------------  -----  \n",
      " 0   Date           6941 non-null   object \n",
      " 1   Time           6941 non-null   object \n",
      " 2   CO(GT)         6941 non-null   float64\n",
      " 3   PT08.S1(CO)    6941 non-null   float64\n",
      " 4   C6H6(GT)       6941 non-null   float64\n",
      " 5   PT08.S2(NMHC)  6941 non-null   float64\n",
      " 6   NOx(GT)        6941 non-null   float64\n",
      " 7   PT08.S3(NOx)   6941 non-null   float64\n",
      " 8   NO2(GT)        6941 non-null   float64\n",
      " 9   PT08.S4(NO2)   6941 non-null   float64\n",
      " 10  PT08.S5(O3)    6941 non-null   float64\n",
      " 11  T              6941 non-null   float64\n",
      " 12  RH             6941 non-null   float64\n",
      " 13  AH             6941 non-null   float64\n",
      "dtypes: float64(12), object(2)\n",
      "memory usage: 813.4+ KB\n"
     ]
    }
   ],
   "source": [
    "# посмотрим информацию по датасету\n",
    "df.info()"
   ]
  },
  {
   "cell_type": "markdown",
   "metadata": {},
   "source": [
    "Осталось почти 7 тыс строк. Этого должно хватить для анализа и создания модели"
   ]
  },
  {
   "cell_type": "markdown",
   "metadata": {},
   "source": [
    "Столбцы со временем и датой объединим и преобразуем в формат `datetime`"
   ]
  },
  {
   "cell_type": "code",
   "execution_count": 12,
   "metadata": {},
   "outputs": [
    {
     "data": {
      "text/html": [
       "<div>\n",
       "<style scoped>\n",
       "    .dataframe tbody tr th:only-of-type {\n",
       "        vertical-align: middle;\n",
       "    }\n",
       "\n",
       "    .dataframe tbody tr th {\n",
       "        vertical-align: top;\n",
       "    }\n",
       "\n",
       "    .dataframe thead th {\n",
       "        text-align: right;\n",
       "    }\n",
       "</style>\n",
       "<table border=\"1\" class=\"dataframe\">\n",
       "  <thead>\n",
       "    <tr style=\"text-align: right;\">\n",
       "      <th></th>\n",
       "      <th>Date</th>\n",
       "      <th>Time</th>\n",
       "      <th>CO(GT)</th>\n",
       "      <th>PT08.S1(CO)</th>\n",
       "      <th>C6H6(GT)</th>\n",
       "      <th>PT08.S2(NMHC)</th>\n",
       "      <th>NOx(GT)</th>\n",
       "      <th>PT08.S3(NOx)</th>\n",
       "      <th>NO2(GT)</th>\n",
       "      <th>PT08.S4(NO2)</th>\n",
       "      <th>PT08.S5(O3)</th>\n",
       "      <th>T</th>\n",
       "      <th>RH</th>\n",
       "      <th>AH</th>\n",
       "      <th>DateTime</th>\n",
       "    </tr>\n",
       "  </thead>\n",
       "  <tbody>\n",
       "    <tr>\n",
       "      <th>0</th>\n",
       "      <td>10/03/2004</td>\n",
       "      <td>18.00.00</td>\n",
       "      <td>2.6</td>\n",
       "      <td>1360.0</td>\n",
       "      <td>11.9</td>\n",
       "      <td>1046.0</td>\n",
       "      <td>166.0</td>\n",
       "      <td>1056.0</td>\n",
       "      <td>113.0</td>\n",
       "      <td>1692.0</td>\n",
       "      <td>1268.0</td>\n",
       "      <td>13.6</td>\n",
       "      <td>48.9</td>\n",
       "      <td>0.7578</td>\n",
       "      <td>2004-03-10 18:00:00</td>\n",
       "    </tr>\n",
       "    <tr>\n",
       "      <th>1</th>\n",
       "      <td>10/03/2004</td>\n",
       "      <td>19.00.00</td>\n",
       "      <td>2.0</td>\n",
       "      <td>1292.0</td>\n",
       "      <td>9.4</td>\n",
       "      <td>955.0</td>\n",
       "      <td>103.0</td>\n",
       "      <td>1174.0</td>\n",
       "      <td>92.0</td>\n",
       "      <td>1559.0</td>\n",
       "      <td>972.0</td>\n",
       "      <td>13.3</td>\n",
       "      <td>47.7</td>\n",
       "      <td>0.7255</td>\n",
       "      <td>2004-03-10 19:00:00</td>\n",
       "    </tr>\n",
       "    <tr>\n",
       "      <th>2</th>\n",
       "      <td>10/03/2004</td>\n",
       "      <td>20.00.00</td>\n",
       "      <td>2.2</td>\n",
       "      <td>1402.0</td>\n",
       "      <td>9.0</td>\n",
       "      <td>939.0</td>\n",
       "      <td>131.0</td>\n",
       "      <td>1140.0</td>\n",
       "      <td>114.0</td>\n",
       "      <td>1555.0</td>\n",
       "      <td>1074.0</td>\n",
       "      <td>11.9</td>\n",
       "      <td>54.0</td>\n",
       "      <td>0.7502</td>\n",
       "      <td>2004-03-10 20:00:00</td>\n",
       "    </tr>\n",
       "    <tr>\n",
       "      <th>3</th>\n",
       "      <td>10/03/2004</td>\n",
       "      <td>21.00.00</td>\n",
       "      <td>2.2</td>\n",
       "      <td>1376.0</td>\n",
       "      <td>9.2</td>\n",
       "      <td>948.0</td>\n",
       "      <td>172.0</td>\n",
       "      <td>1092.0</td>\n",
       "      <td>122.0</td>\n",
       "      <td>1584.0</td>\n",
       "      <td>1203.0</td>\n",
       "      <td>11.0</td>\n",
       "      <td>60.0</td>\n",
       "      <td>0.7867</td>\n",
       "      <td>2004-03-10 21:00:00</td>\n",
       "    </tr>\n",
       "    <tr>\n",
       "      <th>4</th>\n",
       "      <td>10/03/2004</td>\n",
       "      <td>22.00.00</td>\n",
       "      <td>1.6</td>\n",
       "      <td>1272.0</td>\n",
       "      <td>6.5</td>\n",
       "      <td>836.0</td>\n",
       "      <td>131.0</td>\n",
       "      <td>1205.0</td>\n",
       "      <td>116.0</td>\n",
       "      <td>1490.0</td>\n",
       "      <td>1110.0</td>\n",
       "      <td>11.2</td>\n",
       "      <td>59.6</td>\n",
       "      <td>0.7888</td>\n",
       "      <td>2004-03-10 22:00:00</td>\n",
       "    </tr>\n",
       "    <tr>\n",
       "      <th>...</th>\n",
       "      <td>...</td>\n",
       "      <td>...</td>\n",
       "      <td>...</td>\n",
       "      <td>...</td>\n",
       "      <td>...</td>\n",
       "      <td>...</td>\n",
       "      <td>...</td>\n",
       "      <td>...</td>\n",
       "      <td>...</td>\n",
       "      <td>...</td>\n",
       "      <td>...</td>\n",
       "      <td>...</td>\n",
       "      <td>...</td>\n",
       "      <td>...</td>\n",
       "      <td>...</td>\n",
       "    </tr>\n",
       "    <tr>\n",
       "      <th>9352</th>\n",
       "      <td>04/04/2005</td>\n",
       "      <td>10.00.00</td>\n",
       "      <td>3.1</td>\n",
       "      <td>1314.0</td>\n",
       "      <td>13.5</td>\n",
       "      <td>1101.0</td>\n",
       "      <td>472.0</td>\n",
       "      <td>539.0</td>\n",
       "      <td>190.0</td>\n",
       "      <td>1374.0</td>\n",
       "      <td>1729.0</td>\n",
       "      <td>21.9</td>\n",
       "      <td>29.3</td>\n",
       "      <td>0.7568</td>\n",
       "      <td>2005-04-04 10:00:00</td>\n",
       "    </tr>\n",
       "    <tr>\n",
       "      <th>9353</th>\n",
       "      <td>04/04/2005</td>\n",
       "      <td>11.00.00</td>\n",
       "      <td>2.4</td>\n",
       "      <td>1163.0</td>\n",
       "      <td>11.4</td>\n",
       "      <td>1027.0</td>\n",
       "      <td>353.0</td>\n",
       "      <td>604.0</td>\n",
       "      <td>179.0</td>\n",
       "      <td>1264.0</td>\n",
       "      <td>1269.0</td>\n",
       "      <td>24.3</td>\n",
       "      <td>23.7</td>\n",
       "      <td>0.7119</td>\n",
       "      <td>2005-04-04 11:00:00</td>\n",
       "    </tr>\n",
       "    <tr>\n",
       "      <th>9354</th>\n",
       "      <td>04/04/2005</td>\n",
       "      <td>12.00.00</td>\n",
       "      <td>2.4</td>\n",
       "      <td>1142.0</td>\n",
       "      <td>12.4</td>\n",
       "      <td>1063.0</td>\n",
       "      <td>293.0</td>\n",
       "      <td>603.0</td>\n",
       "      <td>175.0</td>\n",
       "      <td>1241.0</td>\n",
       "      <td>1092.0</td>\n",
       "      <td>26.9</td>\n",
       "      <td>18.3</td>\n",
       "      <td>0.6406</td>\n",
       "      <td>2005-04-04 12:00:00</td>\n",
       "    </tr>\n",
       "    <tr>\n",
       "      <th>9355</th>\n",
       "      <td>04/04/2005</td>\n",
       "      <td>13.00.00</td>\n",
       "      <td>2.1</td>\n",
       "      <td>1003.0</td>\n",
       "      <td>9.5</td>\n",
       "      <td>961.0</td>\n",
       "      <td>235.0</td>\n",
       "      <td>702.0</td>\n",
       "      <td>156.0</td>\n",
       "      <td>1041.0</td>\n",
       "      <td>770.0</td>\n",
       "      <td>28.3</td>\n",
       "      <td>13.5</td>\n",
       "      <td>0.5139</td>\n",
       "      <td>2005-04-04 13:00:00</td>\n",
       "    </tr>\n",
       "    <tr>\n",
       "      <th>9356</th>\n",
       "      <td>04/04/2005</td>\n",
       "      <td>14.00.00</td>\n",
       "      <td>2.2</td>\n",
       "      <td>1071.0</td>\n",
       "      <td>11.9</td>\n",
       "      <td>1047.0</td>\n",
       "      <td>265.0</td>\n",
       "      <td>654.0</td>\n",
       "      <td>168.0</td>\n",
       "      <td>1129.0</td>\n",
       "      <td>816.0</td>\n",
       "      <td>28.5</td>\n",
       "      <td>13.1</td>\n",
       "      <td>0.5028</td>\n",
       "      <td>2005-04-04 14:00:00</td>\n",
       "    </tr>\n",
       "  </tbody>\n",
       "</table>\n",
       "<p>6941 rows × 15 columns</p>\n",
       "</div>"
      ],
      "text/plain": [
       "            Date      Time  CO(GT)  PT08.S1(CO)  C6H6(GT)  PT08.S2(NMHC)  \\\n",
       "0     10/03/2004  18.00.00     2.6       1360.0      11.9         1046.0   \n",
       "1     10/03/2004  19.00.00     2.0       1292.0       9.4          955.0   \n",
       "2     10/03/2004  20.00.00     2.2       1402.0       9.0          939.0   \n",
       "3     10/03/2004  21.00.00     2.2       1376.0       9.2          948.0   \n",
       "4     10/03/2004  22.00.00     1.6       1272.0       6.5          836.0   \n",
       "...          ...       ...     ...          ...       ...            ...   \n",
       "9352  04/04/2005  10.00.00     3.1       1314.0      13.5         1101.0   \n",
       "9353  04/04/2005  11.00.00     2.4       1163.0      11.4         1027.0   \n",
       "9354  04/04/2005  12.00.00     2.4       1142.0      12.4         1063.0   \n",
       "9355  04/04/2005  13.00.00     2.1       1003.0       9.5          961.0   \n",
       "9356  04/04/2005  14.00.00     2.2       1071.0      11.9         1047.0   \n",
       "\n",
       "      NOx(GT)  PT08.S3(NOx)  NO2(GT)  PT08.S4(NO2)  PT08.S5(O3)     T    RH  \\\n",
       "0       166.0        1056.0    113.0        1692.0       1268.0  13.6  48.9   \n",
       "1       103.0        1174.0     92.0        1559.0        972.0  13.3  47.7   \n",
       "2       131.0        1140.0    114.0        1555.0       1074.0  11.9  54.0   \n",
       "3       172.0        1092.0    122.0        1584.0       1203.0  11.0  60.0   \n",
       "4       131.0        1205.0    116.0        1490.0       1110.0  11.2  59.6   \n",
       "...       ...           ...      ...           ...          ...   ...   ...   \n",
       "9352    472.0         539.0    190.0        1374.0       1729.0  21.9  29.3   \n",
       "9353    353.0         604.0    179.0        1264.0       1269.0  24.3  23.7   \n",
       "9354    293.0         603.0    175.0        1241.0       1092.0  26.9  18.3   \n",
       "9355    235.0         702.0    156.0        1041.0        770.0  28.3  13.5   \n",
       "9356    265.0         654.0    168.0        1129.0        816.0  28.5  13.1   \n",
       "\n",
       "          AH            DateTime  \n",
       "0     0.7578 2004-03-10 18:00:00  \n",
       "1     0.7255 2004-03-10 19:00:00  \n",
       "2     0.7502 2004-03-10 20:00:00  \n",
       "3     0.7867 2004-03-10 21:00:00  \n",
       "4     0.7888 2004-03-10 22:00:00  \n",
       "...      ...                 ...  \n",
       "9352  0.7568 2005-04-04 10:00:00  \n",
       "9353  0.7119 2005-04-04 11:00:00  \n",
       "9354  0.6406 2005-04-04 12:00:00  \n",
       "9355  0.5139 2005-04-04 13:00:00  \n",
       "9356  0.5028 2005-04-04 14:00:00  \n",
       "\n",
       "[6941 rows x 15 columns]"
      ]
     },
     "execution_count": 12,
     "metadata": {},
     "output_type": "execute_result"
    }
   ],
   "source": [
    "# создадим новый столбец со временем и датой\n",
    "df['DateTime'] =  (df['Date']) + ' ' + (df['Time'])\n",
    "# преобразуем его в формат datetime\n",
    "df['DateTime'] = df['DateTime'].apply(lambda x: datetime.datetime.strptime(x, '%d/%m/%Y %H.%M.%S'))\n",
    "df"
   ]
  },
  {
   "cell_type": "markdown",
   "metadata": {},
   "source": [
    "Теперь создадим столбцы даты, дня недели, месяца и часа (ну вдруг понадобятся) и удалим столбец `Time`"
   ]
  },
  {
   "cell_type": "code",
   "execution_count": 15,
   "metadata": {},
   "outputs": [
    {
     "data": {
      "text/html": [
       "<div>\n",
       "<style scoped>\n",
       "    .dataframe tbody tr th:only-of-type {\n",
       "        vertical-align: middle;\n",
       "    }\n",
       "\n",
       "    .dataframe tbody tr th {\n",
       "        vertical-align: top;\n",
       "    }\n",
       "\n",
       "    .dataframe thead th {\n",
       "        text-align: right;\n",
       "    }\n",
       "</style>\n",
       "<table border=\"1\" class=\"dataframe\">\n",
       "  <thead>\n",
       "    <tr style=\"text-align: right;\">\n",
       "      <th></th>\n",
       "      <th>Date</th>\n",
       "      <th>CO(GT)</th>\n",
       "      <th>PT08.S1(CO)</th>\n",
       "      <th>C6H6(GT)</th>\n",
       "      <th>PT08.S2(NMHC)</th>\n",
       "      <th>NOx(GT)</th>\n",
       "      <th>PT08.S3(NOx)</th>\n",
       "      <th>NO2(GT)</th>\n",
       "      <th>PT08.S4(NO2)</th>\n",
       "      <th>PT08.S5(O3)</th>\n",
       "      <th>T</th>\n",
       "      <th>RH</th>\n",
       "      <th>AH</th>\n",
       "      <th>DateTime</th>\n",
       "      <th>Weekday</th>\n",
       "      <th>Month</th>\n",
       "      <th>Hour</th>\n",
       "    </tr>\n",
       "  </thead>\n",
       "  <tbody>\n",
       "    <tr>\n",
       "      <th>0</th>\n",
       "      <td>2004-03-10</td>\n",
       "      <td>2.6</td>\n",
       "      <td>1360.0</td>\n",
       "      <td>11.9</td>\n",
       "      <td>1046.0</td>\n",
       "      <td>166.0</td>\n",
       "      <td>1056.0</td>\n",
       "      <td>113.0</td>\n",
       "      <td>1692.0</td>\n",
       "      <td>1268.0</td>\n",
       "      <td>13.6</td>\n",
       "      <td>48.9</td>\n",
       "      <td>0.7578</td>\n",
       "      <td>2004-03-10 18:00:00</td>\n",
       "      <td>2</td>\n",
       "      <td>3</td>\n",
       "      <td>18</td>\n",
       "    </tr>\n",
       "    <tr>\n",
       "      <th>1</th>\n",
       "      <td>2004-03-10</td>\n",
       "      <td>2.0</td>\n",
       "      <td>1292.0</td>\n",
       "      <td>9.4</td>\n",
       "      <td>955.0</td>\n",
       "      <td>103.0</td>\n",
       "      <td>1174.0</td>\n",
       "      <td>92.0</td>\n",
       "      <td>1559.0</td>\n",
       "      <td>972.0</td>\n",
       "      <td>13.3</td>\n",
       "      <td>47.7</td>\n",
       "      <td>0.7255</td>\n",
       "      <td>2004-03-10 19:00:00</td>\n",
       "      <td>2</td>\n",
       "      <td>3</td>\n",
       "      <td>19</td>\n",
       "    </tr>\n",
       "    <tr>\n",
       "      <th>2</th>\n",
       "      <td>2004-03-10</td>\n",
       "      <td>2.2</td>\n",
       "      <td>1402.0</td>\n",
       "      <td>9.0</td>\n",
       "      <td>939.0</td>\n",
       "      <td>131.0</td>\n",
       "      <td>1140.0</td>\n",
       "      <td>114.0</td>\n",
       "      <td>1555.0</td>\n",
       "      <td>1074.0</td>\n",
       "      <td>11.9</td>\n",
       "      <td>54.0</td>\n",
       "      <td>0.7502</td>\n",
       "      <td>2004-03-10 20:00:00</td>\n",
       "      <td>2</td>\n",
       "      <td>3</td>\n",
       "      <td>20</td>\n",
       "    </tr>\n",
       "    <tr>\n",
       "      <th>3</th>\n",
       "      <td>2004-03-10</td>\n",
       "      <td>2.2</td>\n",
       "      <td>1376.0</td>\n",
       "      <td>9.2</td>\n",
       "      <td>948.0</td>\n",
       "      <td>172.0</td>\n",
       "      <td>1092.0</td>\n",
       "      <td>122.0</td>\n",
       "      <td>1584.0</td>\n",
       "      <td>1203.0</td>\n",
       "      <td>11.0</td>\n",
       "      <td>60.0</td>\n",
       "      <td>0.7867</td>\n",
       "      <td>2004-03-10 21:00:00</td>\n",
       "      <td>2</td>\n",
       "      <td>3</td>\n",
       "      <td>21</td>\n",
       "    </tr>\n",
       "    <tr>\n",
       "      <th>4</th>\n",
       "      <td>2004-03-10</td>\n",
       "      <td>1.6</td>\n",
       "      <td>1272.0</td>\n",
       "      <td>6.5</td>\n",
       "      <td>836.0</td>\n",
       "      <td>131.0</td>\n",
       "      <td>1205.0</td>\n",
       "      <td>116.0</td>\n",
       "      <td>1490.0</td>\n",
       "      <td>1110.0</td>\n",
       "      <td>11.2</td>\n",
       "      <td>59.6</td>\n",
       "      <td>0.7888</td>\n",
       "      <td>2004-03-10 22:00:00</td>\n",
       "      <td>2</td>\n",
       "      <td>3</td>\n",
       "      <td>22</td>\n",
       "    </tr>\n",
       "  </tbody>\n",
       "</table>\n",
       "</div>"
      ],
      "text/plain": [
       "        Date  CO(GT)  PT08.S1(CO)  C6H6(GT)  PT08.S2(NMHC)  NOx(GT)  \\\n",
       "0 2004-03-10     2.6       1360.0      11.9         1046.0    166.0   \n",
       "1 2004-03-10     2.0       1292.0       9.4          955.0    103.0   \n",
       "2 2004-03-10     2.2       1402.0       9.0          939.0    131.0   \n",
       "3 2004-03-10     2.2       1376.0       9.2          948.0    172.0   \n",
       "4 2004-03-10     1.6       1272.0       6.5          836.0    131.0   \n",
       "\n",
       "   PT08.S3(NOx)  NO2(GT)  PT08.S4(NO2)  PT08.S5(O3)     T    RH      AH  \\\n",
       "0        1056.0    113.0        1692.0       1268.0  13.6  48.9  0.7578   \n",
       "1        1174.0     92.0        1559.0        972.0  13.3  47.7  0.7255   \n",
       "2        1140.0    114.0        1555.0       1074.0  11.9  54.0  0.7502   \n",
       "3        1092.0    122.0        1584.0       1203.0  11.0  60.0  0.7867   \n",
       "4        1205.0    116.0        1490.0       1110.0  11.2  59.6  0.7888   \n",
       "\n",
       "             DateTime  Weekday  Month  Hour  \n",
       "0 2004-03-10 18:00:00        2      3    18  \n",
       "1 2004-03-10 19:00:00        2      3    19  \n",
       "2 2004-03-10 20:00:00        2      3    20  \n",
       "3 2004-03-10 21:00:00        2      3    21  \n",
       "4 2004-03-10 22:00:00        2      3    22  "
      ]
     },
     "execution_count": 15,
     "metadata": {},
     "output_type": "execute_result"
    }
   ],
   "source": [
    "# создадим новые столбцы\n",
    "df['Weekday'] = df['DateTime'].dt.weekday\n",
    "df['Month']   = df['DateTime'].dt.month\n",
    "df['Hour']    = df['DateTime'].dt.hour\n",
    "# изменим формат столбца Date\n",
    "df['Date']    = pd.to_datetime(df['Date'], format='%d/%m/%Y')\n",
    "# удалим столбец Time\n",
    "df.drop('Time', axis=1, inplace=True, errors = 'ignore') \n",
    "# посмотрим начало датасета\n",
    "df.head()"
   ]
  },
  {
   "cell_type": "markdown",
   "metadata": {},
   "source": [
    "Изменим порядок столбцов для удобства"
   ]
  },
  {
   "cell_type": "code",
   "execution_count": 19,
   "metadata": {},
   "outputs": [
    {
     "data": {
      "text/html": [
       "<div>\n",
       "<style scoped>\n",
       "    .dataframe tbody tr th:only-of-type {\n",
       "        vertical-align: middle;\n",
       "    }\n",
       "\n",
       "    .dataframe tbody tr th {\n",
       "        vertical-align: top;\n",
       "    }\n",
       "\n",
       "    .dataframe thead th {\n",
       "        text-align: right;\n",
       "    }\n",
       "</style>\n",
       "<table border=\"1\" class=\"dataframe\">\n",
       "  <thead>\n",
       "    <tr style=\"text-align: right;\">\n",
       "      <th></th>\n",
       "      <th>Month</th>\n",
       "      <th>Weekday</th>\n",
       "      <th>Hour</th>\n",
       "      <th>CO(GT)</th>\n",
       "      <th>PT08.S1(CO)</th>\n",
       "      <th>C6H6(GT)</th>\n",
       "      <th>PT08.S2(NMHC)</th>\n",
       "      <th>NOx(GT)</th>\n",
       "      <th>PT08.S3(NOx)</th>\n",
       "      <th>NO2(GT)</th>\n",
       "      <th>PT08.S4(NO2)</th>\n",
       "      <th>PT08.S5(O3)</th>\n",
       "      <th>T</th>\n",
       "      <th>RH</th>\n",
       "      <th>AH</th>\n",
       "    </tr>\n",
       "  </thead>\n",
       "  <tbody>\n",
       "    <tr>\n",
       "      <th>0</th>\n",
       "      <td>3</td>\n",
       "      <td>2</td>\n",
       "      <td>18</td>\n",
       "      <td>2.6</td>\n",
       "      <td>1360.0</td>\n",
       "      <td>11.9</td>\n",
       "      <td>1046.0</td>\n",
       "      <td>166.0</td>\n",
       "      <td>1056.0</td>\n",
       "      <td>113.0</td>\n",
       "      <td>1692.0</td>\n",
       "      <td>1268.0</td>\n",
       "      <td>13.6</td>\n",
       "      <td>48.9</td>\n",
       "      <td>0.7578</td>\n",
       "    </tr>\n",
       "    <tr>\n",
       "      <th>1</th>\n",
       "      <td>3</td>\n",
       "      <td>2</td>\n",
       "      <td>19</td>\n",
       "      <td>2.0</td>\n",
       "      <td>1292.0</td>\n",
       "      <td>9.4</td>\n",
       "      <td>955.0</td>\n",
       "      <td>103.0</td>\n",
       "      <td>1174.0</td>\n",
       "      <td>92.0</td>\n",
       "      <td>1559.0</td>\n",
       "      <td>972.0</td>\n",
       "      <td>13.3</td>\n",
       "      <td>47.7</td>\n",
       "      <td>0.7255</td>\n",
       "    </tr>\n",
       "    <tr>\n",
       "      <th>2</th>\n",
       "      <td>3</td>\n",
       "      <td>2</td>\n",
       "      <td>20</td>\n",
       "      <td>2.2</td>\n",
       "      <td>1402.0</td>\n",
       "      <td>9.0</td>\n",
       "      <td>939.0</td>\n",
       "      <td>131.0</td>\n",
       "      <td>1140.0</td>\n",
       "      <td>114.0</td>\n",
       "      <td>1555.0</td>\n",
       "      <td>1074.0</td>\n",
       "      <td>11.9</td>\n",
       "      <td>54.0</td>\n",
       "      <td>0.7502</td>\n",
       "    </tr>\n",
       "    <tr>\n",
       "      <th>3</th>\n",
       "      <td>3</td>\n",
       "      <td>2</td>\n",
       "      <td>21</td>\n",
       "      <td>2.2</td>\n",
       "      <td>1376.0</td>\n",
       "      <td>9.2</td>\n",
       "      <td>948.0</td>\n",
       "      <td>172.0</td>\n",
       "      <td>1092.0</td>\n",
       "      <td>122.0</td>\n",
       "      <td>1584.0</td>\n",
       "      <td>1203.0</td>\n",
       "      <td>11.0</td>\n",
       "      <td>60.0</td>\n",
       "      <td>0.7867</td>\n",
       "    </tr>\n",
       "    <tr>\n",
       "      <th>4</th>\n",
       "      <td>3</td>\n",
       "      <td>2</td>\n",
       "      <td>22</td>\n",
       "      <td>1.6</td>\n",
       "      <td>1272.0</td>\n",
       "      <td>6.5</td>\n",
       "      <td>836.0</td>\n",
       "      <td>131.0</td>\n",
       "      <td>1205.0</td>\n",
       "      <td>116.0</td>\n",
       "      <td>1490.0</td>\n",
       "      <td>1110.0</td>\n",
       "      <td>11.2</td>\n",
       "      <td>59.6</td>\n",
       "      <td>0.7888</td>\n",
       "    </tr>\n",
       "  </tbody>\n",
       "</table>\n",
       "</div>"
      ],
      "text/plain": [
       "   Month  Weekday  Hour  CO(GT)  PT08.S1(CO)  C6H6(GT)  PT08.S2(NMHC)  \\\n",
       "0      3        2    18     2.6       1360.0      11.9         1046.0   \n",
       "1      3        2    19     2.0       1292.0       9.4          955.0   \n",
       "2      3        2    20     2.2       1402.0       9.0          939.0   \n",
       "3      3        2    21     2.2       1376.0       9.2          948.0   \n",
       "4      3        2    22     1.6       1272.0       6.5          836.0   \n",
       "\n",
       "   NOx(GT)  PT08.S3(NOx)  NO2(GT)  PT08.S4(NO2)  PT08.S5(O3)     T    RH  \\\n",
       "0    166.0        1056.0    113.0        1692.0       1268.0  13.6  48.9   \n",
       "1    103.0        1174.0     92.0        1559.0        972.0  13.3  47.7   \n",
       "2    131.0        1140.0    114.0        1555.0       1074.0  11.9  54.0   \n",
       "3    172.0        1092.0    122.0        1584.0       1203.0  11.0  60.0   \n",
       "4    131.0        1205.0    116.0        1490.0       1110.0  11.2  59.6   \n",
       "\n",
       "       AH  \n",
       "0  0.7578  \n",
       "1  0.7255  \n",
       "2  0.7502  \n",
       "3  0.7867  \n",
       "4  0.7888  "
      ]
     },
     "execution_count": 19,
     "metadata": {},
     "output_type": "execute_result"
    }
   ],
   "source": [
    "df.drop('DateTime', axis=1, inplace=True, errors = 'ignore') \n",
    "df.drop('Date', axis=1, inplace=True, errors = 'ignore') \n",
    "# изменим порядок столбцов\n",
    "df = df[['Month', 'Weekday', 'Hour', 'CO(GT)','PT08.S1(CO)', 'C6H6(GT)', 'PT08.S2(NMHC)', \n",
    "         'NOx(GT)', 'PT08.S3(NOx)', 'NO2(GT)', 'PT08.S4(NO2)', 'PT08.S5(O3)', 'T', 'RH', 'AH']]\n",
    "# посмотрим начало датасета\n",
    "df.head()"
   ]
  },
  {
   "cell_type": "code",
   "execution_count": 20,
   "metadata": {},
   "outputs": [
    {
     "name": "stdout",
     "output_type": "stream",
     "text": [
      "<class 'pandas.core.frame.DataFrame'>\n",
      "Int64Index: 6941 entries, 0 to 9356\n",
      "Data columns (total 15 columns):\n",
      " #   Column         Non-Null Count  Dtype  \n",
      "---  ------         --------------  -----  \n",
      " 0   Month          6941 non-null   int64  \n",
      " 1   Weekday        6941 non-null   int64  \n",
      " 2   Hour           6941 non-null   int64  \n",
      " 3   CO(GT)         6941 non-null   float64\n",
      " 4   PT08.S1(CO)    6941 non-null   float64\n",
      " 5   C6H6(GT)       6941 non-null   float64\n",
      " 6   PT08.S2(NMHC)  6941 non-null   float64\n",
      " 7   NOx(GT)        6941 non-null   float64\n",
      " 8   PT08.S3(NOx)   6941 non-null   float64\n",
      " 9   NO2(GT)        6941 non-null   float64\n",
      " 10  PT08.S4(NO2)   6941 non-null   float64\n",
      " 11  PT08.S5(O3)    6941 non-null   float64\n",
      " 12  T              6941 non-null   float64\n",
      " 13  RH             6941 non-null   float64\n",
      " 14  AH             6941 non-null   float64\n",
      "dtypes: float64(12), int64(3)\n",
      "memory usage: 867.6 KB\n"
     ]
    }
   ],
   "source": [
    "# посмотрим информацию по датасету\n",
    "df.info()"
   ]
  },
  {
   "attachments": {},
   "cell_type": "markdown",
   "metadata": {},
   "source": [
    "**Описание данных после предобработки**\n",
    "\n",
    "- 1 `Month` - месяц замера\n",
    "- 1 `Weekday` - день недели замера\n",
    "- 2 `Hour` - Час замера\n",
    "- 3 `CO(GT)` - истинная почасовая усредненная концентрация CO в мг/м^3 (эталонный анализатор)\n",
    "- 4 `PT08.S1(CO)` - оксид олова; почасовой усредненный отклик сенсора (номинально нацеленный на CO)\n",
    "- 5 `C6H6(GT)` - истинная почасовая усредненная концентрация бензола в микрог/м^3 (эталонный анализатор)\n",
    "- 6 `PT08.S2(NMHC)` - почасовой усредненный отклик сенсора (номинально нацеленный на NMHC)\n",
    "- 7 `NOx(GT)` - истинная почасовая усредненная концентрация NOx в ппб (эталонный анализатор)\n",
    "- 8 `PT08.S3(NOx)` - почасовой усредненный отклик сенсора (номинально нацеленный на NOx)\n",
    "- 9 `NO2(GT)` - истинная почасовая усредненная концентрация NO2 в микрог/м^3 (эталонный анализатор)\n",
    "- 10 `PT08.S4(NO2)` - почасовой усредненный отклик сенсора (номинально нацеленный на NO2)\n",
    "- 11 `PT08.S5(O3)` - почасовой усредненный отклик сенсора (номинально нацеленный на O3)\n",
    "- 12 `T` - температура в °C\n",
    "- 13 `RH` - относительная влажность (%)\n",
    "- 14 `AH` - абсолютная влажность"
   ]
  },
  {
   "cell_type": "code",
   "execution_count": 21,
   "metadata": {},
   "outputs": [
    {
     "data": {
      "text/html": [
       "<div>\n",
       "<style scoped>\n",
       "    .dataframe tbody tr th:only-of-type {\n",
       "        vertical-align: middle;\n",
       "    }\n",
       "\n",
       "    .dataframe tbody tr th {\n",
       "        vertical-align: top;\n",
       "    }\n",
       "\n",
       "    .dataframe thead th {\n",
       "        text-align: right;\n",
       "    }\n",
       "</style>\n",
       "<table border=\"1\" class=\"dataframe\">\n",
       "  <thead>\n",
       "    <tr style=\"text-align: right;\">\n",
       "      <th></th>\n",
       "      <th>Month</th>\n",
       "      <th>Weekday</th>\n",
       "      <th>Hour</th>\n",
       "      <th>CO(GT)</th>\n",
       "      <th>PT08.S1(CO)</th>\n",
       "      <th>C6H6(GT)</th>\n",
       "      <th>PT08.S2(NMHC)</th>\n",
       "      <th>NOx(GT)</th>\n",
       "      <th>PT08.S3(NOx)</th>\n",
       "      <th>NO2(GT)</th>\n",
       "      <th>PT08.S4(NO2)</th>\n",
       "      <th>PT08.S5(O3)</th>\n",
       "      <th>T</th>\n",
       "      <th>RH</th>\n",
       "      <th>AH</th>\n",
       "    </tr>\n",
       "  </thead>\n",
       "  <tbody>\n",
       "    <tr>\n",
       "      <th>count</th>\n",
       "      <td>6941.00000</td>\n",
       "      <td>6941.000000</td>\n",
       "      <td>6941.000000</td>\n",
       "      <td>6941.000000</td>\n",
       "      <td>6941.000000</td>\n",
       "      <td>6941.000000</td>\n",
       "      <td>6941.000000</td>\n",
       "      <td>6941.000000</td>\n",
       "      <td>6941.000000</td>\n",
       "      <td>6941.000000</td>\n",
       "      <td>6941.000000</td>\n",
       "      <td>6941.000000</td>\n",
       "      <td>6941.000000</td>\n",
       "      <td>6941.000000</td>\n",
       "      <td>6941.000000</td>\n",
       "    </tr>\n",
       "    <tr>\n",
       "      <th>mean</th>\n",
       "      <td>6.02723</td>\n",
       "      <td>3.040340</td>\n",
       "      <td>12.020170</td>\n",
       "      <td>2.182467</td>\n",
       "      <td>1119.913269</td>\n",
       "      <td>10.554488</td>\n",
       "      <td>958.543005</td>\n",
       "      <td>250.671949</td>\n",
       "      <td>816.893387</td>\n",
       "      <td>113.874082</td>\n",
       "      <td>1452.648898</td>\n",
       "      <td>1057.756519</td>\n",
       "      <td>17.755323</td>\n",
       "      <td>48.881905</td>\n",
       "      <td>0.985573</td>\n",
       "    </tr>\n",
       "    <tr>\n",
       "      <th>std</th>\n",
       "      <td>3.48971</td>\n",
       "      <td>2.017314</td>\n",
       "      <td>6.813924</td>\n",
       "      <td>1.441158</td>\n",
       "      <td>218.733754</td>\n",
       "      <td>7.465226</td>\n",
       "      <td>264.055002</td>\n",
       "      <td>208.611371</td>\n",
       "      <td>251.897200</td>\n",
       "      <td>47.475017</td>\n",
       "      <td>353.301576</td>\n",
       "      <td>406.509957</td>\n",
       "      <td>8.844909</td>\n",
       "      <td>17.433193</td>\n",
       "      <td>0.401097</td>\n",
       "    </tr>\n",
       "    <tr>\n",
       "      <th>min</th>\n",
       "      <td>1.00000</td>\n",
       "      <td>0.000000</td>\n",
       "      <td>0.000000</td>\n",
       "      <td>0.100000</td>\n",
       "      <td>647.000000</td>\n",
       "      <td>0.200000</td>\n",
       "      <td>390.000000</td>\n",
       "      <td>2.000000</td>\n",
       "      <td>322.000000</td>\n",
       "      <td>2.000000</td>\n",
       "      <td>551.000000</td>\n",
       "      <td>221.000000</td>\n",
       "      <td>-1.900000</td>\n",
       "      <td>9.200000</td>\n",
       "      <td>0.184700</td>\n",
       "    </tr>\n",
       "    <tr>\n",
       "      <th>25%</th>\n",
       "      <td>3.00000</td>\n",
       "      <td>1.000000</td>\n",
       "      <td>7.000000</td>\n",
       "      <td>1.100000</td>\n",
       "      <td>956.000000</td>\n",
       "      <td>4.900000</td>\n",
       "      <td>760.000000</td>\n",
       "      <td>103.000000</td>\n",
       "      <td>642.000000</td>\n",
       "      <td>79.000000</td>\n",
       "      <td>1207.000000</td>\n",
       "      <td>760.000000</td>\n",
       "      <td>11.200000</td>\n",
       "      <td>35.300000</td>\n",
       "      <td>0.694100</td>\n",
       "    </tr>\n",
       "    <tr>\n",
       "      <th>50%</th>\n",
       "      <td>6.00000</td>\n",
       "      <td>3.000000</td>\n",
       "      <td>12.000000</td>\n",
       "      <td>1.900000</td>\n",
       "      <td>1085.000000</td>\n",
       "      <td>8.800000</td>\n",
       "      <td>931.000000</td>\n",
       "      <td>186.000000</td>\n",
       "      <td>786.000000</td>\n",
       "      <td>110.000000</td>\n",
       "      <td>1457.000000</td>\n",
       "      <td>1006.000000</td>\n",
       "      <td>16.800000</td>\n",
       "      <td>49.200000</td>\n",
       "      <td>0.953900</td>\n",
       "    </tr>\n",
       "    <tr>\n",
       "      <th>75%</th>\n",
       "      <td>9.00000</td>\n",
       "      <td>5.000000</td>\n",
       "      <td>18.000000</td>\n",
       "      <td>2.900000</td>\n",
       "      <td>1254.000000</td>\n",
       "      <td>14.600000</td>\n",
       "      <td>1135.000000</td>\n",
       "      <td>335.000000</td>\n",
       "      <td>947.000000</td>\n",
       "      <td>142.000000</td>\n",
       "      <td>1683.000000</td>\n",
       "      <td>1322.000000</td>\n",
       "      <td>23.700000</td>\n",
       "      <td>62.200000</td>\n",
       "      <td>1.251600</td>\n",
       "    </tr>\n",
       "    <tr>\n",
       "      <th>max</th>\n",
       "      <td>12.00000</td>\n",
       "      <td>6.000000</td>\n",
       "      <td>23.000000</td>\n",
       "      <td>11.900000</td>\n",
       "      <td>2040.000000</td>\n",
       "      <td>63.700000</td>\n",
       "      <td>2214.000000</td>\n",
       "      <td>1479.000000</td>\n",
       "      <td>2683.000000</td>\n",
       "      <td>333.000000</td>\n",
       "      <td>2775.000000</td>\n",
       "      <td>2523.000000</td>\n",
       "      <td>44.600000</td>\n",
       "      <td>88.700000</td>\n",
       "      <td>2.180600</td>\n",
       "    </tr>\n",
       "  </tbody>\n",
       "</table>\n",
       "</div>"
      ],
      "text/plain": [
       "            Month      Weekday         Hour       CO(GT)  PT08.S1(CO)  \\\n",
       "count  6941.00000  6941.000000  6941.000000  6941.000000  6941.000000   \n",
       "mean      6.02723     3.040340    12.020170     2.182467  1119.913269   \n",
       "std       3.48971     2.017314     6.813924     1.441158   218.733754   \n",
       "min       1.00000     0.000000     0.000000     0.100000   647.000000   \n",
       "25%       3.00000     1.000000     7.000000     1.100000   956.000000   \n",
       "50%       6.00000     3.000000    12.000000     1.900000  1085.000000   \n",
       "75%       9.00000     5.000000    18.000000     2.900000  1254.000000   \n",
       "max      12.00000     6.000000    23.000000    11.900000  2040.000000   \n",
       "\n",
       "          C6H6(GT)  PT08.S2(NMHC)      NOx(GT)  PT08.S3(NOx)      NO2(GT)  \\\n",
       "count  6941.000000    6941.000000  6941.000000   6941.000000  6941.000000   \n",
       "mean     10.554488     958.543005   250.671949    816.893387   113.874082   \n",
       "std       7.465226     264.055002   208.611371    251.897200    47.475017   \n",
       "min       0.200000     390.000000     2.000000    322.000000     2.000000   \n",
       "25%       4.900000     760.000000   103.000000    642.000000    79.000000   \n",
       "50%       8.800000     931.000000   186.000000    786.000000   110.000000   \n",
       "75%      14.600000    1135.000000   335.000000    947.000000   142.000000   \n",
       "max      63.700000    2214.000000  1479.000000   2683.000000   333.000000   \n",
       "\n",
       "       PT08.S4(NO2)  PT08.S5(O3)            T           RH           AH  \n",
       "count   6941.000000  6941.000000  6941.000000  6941.000000  6941.000000  \n",
       "mean    1452.648898  1057.756519    17.755323    48.881905     0.985573  \n",
       "std      353.301576   406.509957     8.844909    17.433193     0.401097  \n",
       "min      551.000000   221.000000    -1.900000     9.200000     0.184700  \n",
       "25%     1207.000000   760.000000    11.200000    35.300000     0.694100  \n",
       "50%     1457.000000  1006.000000    16.800000    49.200000     0.953900  \n",
       "75%     1683.000000  1322.000000    23.700000    62.200000     1.251600  \n",
       "max     2775.000000  2523.000000    44.600000    88.700000     2.180600  "
      ]
     },
     "execution_count": 21,
     "metadata": {},
     "output_type": "execute_result"
    }
   ],
   "source": [
    "# посмотрим характеристики по датасету\n",
    "df.describe()"
   ]
  },
  {
   "cell_type": "code",
   "execution_count": 22,
   "metadata": {},
   "outputs": [],
   "source": [
    "df.to_csv('processd_df.csv', sep = ';')"
   ]
  },
  {
   "cell_type": "markdown",
   "metadata": {},
   "source": [
    "## Разведывательный анализ данных"
   ]
  },
  {
   "cell_type": "markdown",
   "metadata": {},
   "source": []
  }
 ],
 "metadata": {
  "ExecuteTimeLog": [
   {
    "duration": 980,
    "start_time": "2022-09-09T17:45:19.600Z"
   },
   {
    "duration": 200,
    "start_time": "2022-09-09T17:45:20.583Z"
   },
   {
    "duration": 28,
    "start_time": "2022-09-09T17:45:20.785Z"
   },
   {
    "duration": 15,
    "start_time": "2022-09-09T17:45:20.814Z"
   },
   {
    "duration": 3,
    "start_time": "2022-09-09T17:45:20.831Z"
   },
   {
    "duration": 44,
    "start_time": "2022-09-09T17:45:20.835Z"
   },
   {
    "duration": 14,
    "start_time": "2022-09-09T17:45:23.229Z"
   },
   {
    "duration": 37,
    "start_time": "2022-09-09T17:45:23.245Z"
   },
   {
    "duration": 16,
    "start_time": "2022-09-09T17:45:23.284Z"
   },
   {
    "duration": 9,
    "start_time": "2022-09-09T17:45:23.302Z"
   },
   {
    "duration": 4,
    "start_time": "2022-09-09T17:45:23.313Z"
   },
   {
    "duration": 499,
    "start_time": "2022-09-09T17:45:23.321Z"
   },
   {
    "duration": 15,
    "start_time": "2022-09-09T17:45:23.822Z"
   },
   {
    "duration": 7,
    "start_time": "2022-09-09T17:45:23.839Z"
   },
   {
    "duration": 45,
    "start_time": "2022-09-09T17:45:23.848Z"
   },
   {
    "duration": 10,
    "start_time": "2022-09-09T17:45:23.894Z"
   },
   {
    "duration": 31,
    "start_time": "2022-09-09T17:45:23.906Z"
   },
   {
    "duration": 8,
    "start_time": "2022-09-09T17:45:23.939Z"
   },
   {
    "duration": 25,
    "start_time": "2022-09-09T17:45:23.949Z"
   },
   {
    "duration": 19,
    "start_time": "2022-09-09T17:45:23.976Z"
   },
   {
    "duration": 5,
    "start_time": "2022-09-09T17:45:23.997Z"
   },
   {
    "duration": 6,
    "start_time": "2022-09-09T17:45:24.004Z"
   },
   {
    "duration": 14,
    "start_time": "2022-09-09T17:45:24.011Z"
   },
   {
    "duration": 13,
    "start_time": "2022-09-09T17:45:24.026Z"
   },
   {
    "duration": 39,
    "start_time": "2022-09-09T17:45:24.041Z"
   },
   {
    "duration": 9,
    "start_time": "2022-09-09T17:45:24.082Z"
   },
   {
    "duration": 8,
    "start_time": "2022-09-09T17:45:24.093Z"
   },
   {
    "duration": 16,
    "start_time": "2022-09-09T17:45:24.103Z"
   },
   {
    "duration": 8,
    "start_time": "2022-09-09T17:45:24.120Z"
   },
   {
    "duration": 14,
    "start_time": "2022-09-09T17:45:24.130Z"
   },
   {
    "duration": 36,
    "start_time": "2022-09-09T17:45:24.146Z"
   },
   {
    "duration": 50,
    "start_time": "2022-09-09T17:45:24.183Z"
   },
   {
    "duration": 13,
    "start_time": "2022-09-09T17:45:24.235Z"
   },
   {
    "duration": 45,
    "start_time": "2022-09-09T17:45:24.250Z"
   },
   {
    "duration": 6,
    "start_time": "2022-09-09T17:45:24.297Z"
   },
   {
    "duration": 372,
    "start_time": "2022-09-09T17:45:24.305Z"
   },
   {
    "duration": 9,
    "start_time": "2022-09-09T17:45:24.681Z"
   },
   {
    "duration": 206,
    "start_time": "2022-09-09T17:45:24.692Z"
   },
   {
    "duration": 7,
    "start_time": "2022-09-09T17:45:24.902Z"
   },
   {
    "duration": 13,
    "start_time": "2022-09-09T17:45:24.910Z"
   },
   {
    "duration": 11,
    "start_time": "2022-09-09T17:45:24.925Z"
   },
   {
    "duration": 182,
    "start_time": "2022-09-09T17:45:24.968Z"
   },
   {
    "duration": 627,
    "start_time": "2022-09-09T17:45:25.152Z"
   },
   {
    "duration": 116,
    "start_time": "2022-09-09T17:45:25.781Z"
   },
   {
    "duration": 5,
    "start_time": "2022-09-09T17:45:25.899Z"
   },
   {
    "duration": 26,
    "start_time": "2022-09-09T17:45:25.906Z"
   },
   {
    "duration": 179,
    "start_time": "2022-09-09T17:45:25.970Z"
   },
   {
    "duration": 30,
    "start_time": "2022-09-09T17:45:26.150Z"
   },
   {
    "duration": 15,
    "start_time": "2022-09-09T17:45:26.182Z"
   },
   {
    "duration": 110,
    "start_time": "2022-09-09T17:45:26.199Z"
   },
   {
    "duration": 84,
    "start_time": "2022-09-09T17:45:26.310Z"
   },
   {
    "duration": 20,
    "start_time": "2022-09-09T17:45:26.396Z"
   },
   {
    "duration": 3,
    "start_time": "2022-09-09T17:45:26.418Z"
   },
   {
    "duration": 18,
    "start_time": "2022-09-09T17:45:26.423Z"
   },
   {
    "duration": 26,
    "start_time": "2022-09-09T17:45:26.470Z"
   },
   {
    "duration": 7,
    "start_time": "2022-09-09T17:45:26.498Z"
   },
   {
    "duration": 121,
    "start_time": "2022-09-09T17:45:26.507Z"
   },
   {
    "duration": 74,
    "start_time": "2022-09-09T17:45:26.630Z"
   },
   {
    "duration": 201,
    "start_time": "2022-09-09T17:45:26.706Z"
   },
   {
    "duration": 0,
    "start_time": "2022-09-09T17:45:26.909Z"
   },
   {
    "duration": 0,
    "start_time": "2022-09-09T17:45:26.910Z"
   },
   {
    "duration": 0,
    "start_time": "2022-09-09T17:45:26.912Z"
   },
   {
    "duration": 0,
    "start_time": "2022-09-09T17:45:26.912Z"
   },
   {
    "duration": 0,
    "start_time": "2022-09-09T17:45:26.914Z"
   },
   {
    "duration": 0,
    "start_time": "2022-09-09T17:45:26.915Z"
   },
   {
    "duration": 0,
    "start_time": "2022-09-09T17:45:26.916Z"
   },
   {
    "duration": 0,
    "start_time": "2022-09-09T17:45:26.918Z"
   },
   {
    "duration": 0,
    "start_time": "2022-09-09T17:45:26.919Z"
   },
   {
    "duration": 0,
    "start_time": "2022-09-09T17:45:26.920Z"
   },
   {
    "duration": 0,
    "start_time": "2022-09-09T17:45:26.921Z"
   },
   {
    "duration": 0,
    "start_time": "2022-09-09T17:45:26.922Z"
   },
   {
    "duration": 0,
    "start_time": "2022-09-09T17:45:26.923Z"
   },
   {
    "duration": 0,
    "start_time": "2022-09-09T17:45:26.924Z"
   },
   {
    "duration": 0,
    "start_time": "2022-09-09T17:45:26.925Z"
   },
   {
    "duration": 0,
    "start_time": "2022-09-09T17:45:26.926Z"
   },
   {
    "duration": 0,
    "start_time": "2022-09-09T17:45:26.927Z"
   },
   {
    "duration": 0,
    "start_time": "2022-09-09T17:45:26.928Z"
   },
   {
    "duration": 0,
    "start_time": "2022-09-09T17:45:26.932Z"
   },
   {
    "duration": 0,
    "start_time": "2022-09-09T17:45:26.968Z"
   },
   {
    "duration": 4,
    "start_time": "2022-09-09T17:45:29.929Z"
   },
   {
    "duration": 172,
    "start_time": "2022-09-09T17:45:29.957Z"
   },
   {
    "duration": 22,
    "start_time": "2022-09-09T17:45:30.132Z"
   },
   {
    "duration": 24,
    "start_time": "2022-09-09T17:45:30.156Z"
   },
   {
    "duration": 3,
    "start_time": "2022-09-09T17:45:30.624Z"
   },
   {
    "duration": 15,
    "start_time": "2022-09-09T17:45:30.985Z"
   },
   {
    "duration": 1799,
    "start_time": "2022-09-09T17:45:31.711Z"
   },
   {
    "duration": 14,
    "start_time": "2022-09-09T17:45:33.512Z"
   },
   {
    "duration": 11,
    "start_time": "2022-09-09T17:45:37.928Z"
   },
   {
    "duration": 14,
    "start_time": "2022-09-09T17:45:38.204Z"
   },
   {
    "duration": 13,
    "start_time": "2022-09-09T17:45:39.209Z"
   },
   {
    "duration": 882,
    "start_time": "2022-09-10T00:43:38.354Z"
   },
   {
    "duration": 135,
    "start_time": "2022-09-10T00:43:39.237Z"
   },
   {
    "duration": 24,
    "start_time": "2022-09-10T00:43:39.374Z"
   },
   {
    "duration": 12,
    "start_time": "2022-09-10T00:43:39.399Z"
   },
   {
    "duration": 2,
    "start_time": "2022-09-10T00:43:39.413Z"
   },
   {
    "duration": 14,
    "start_time": "2022-09-10T00:43:39.417Z"
   },
   {
    "duration": 1913,
    "start_time": "2022-09-10T00:43:39.432Z"
   },
   {
    "duration": 13,
    "start_time": "2022-09-10T00:43:41.346Z"
   },
   {
    "duration": 8,
    "start_time": "2022-09-10T00:43:41.361Z"
   },
   {
    "duration": 13,
    "start_time": "2022-09-10T00:43:41.371Z"
   },
   {
    "duration": 37,
    "start_time": "2022-09-10T00:43:41.385Z"
   },
   {
    "duration": 7,
    "start_time": "2022-09-10T00:43:41.424Z"
   },
   {
    "duration": 4,
    "start_time": "2022-09-10T00:43:41.432Z"
   },
   {
    "duration": 543,
    "start_time": "2022-09-10T00:43:41.437Z"
   },
   {
    "duration": 14,
    "start_time": "2022-09-10T00:43:41.982Z"
   },
   {
    "duration": 6,
    "start_time": "2022-09-10T00:43:41.998Z"
   },
   {
    "duration": 37,
    "start_time": "2022-09-10T00:43:42.006Z"
   },
   {
    "duration": 9,
    "start_time": "2022-09-10T00:43:42.044Z"
   },
   {
    "duration": 30,
    "start_time": "2022-09-10T00:43:42.055Z"
   },
   {
    "duration": 7,
    "start_time": "2022-09-10T00:43:42.088Z"
   },
   {
    "duration": 25,
    "start_time": "2022-09-10T00:43:42.097Z"
   },
   {
    "duration": 8,
    "start_time": "2022-09-10T00:43:42.124Z"
   },
   {
    "duration": 7,
    "start_time": "2022-09-10T00:43:42.134Z"
   },
   {
    "duration": 11,
    "start_time": "2022-09-10T00:43:42.143Z"
   },
   {
    "duration": 13,
    "start_time": "2022-09-10T00:43:42.156Z"
   },
   {
    "duration": 19,
    "start_time": "2022-09-10T00:43:42.170Z"
   },
   {
    "duration": 18,
    "start_time": "2022-09-10T00:43:42.190Z"
   },
   {
    "duration": 10,
    "start_time": "2022-09-10T00:43:42.212Z"
   },
   {
    "duration": 23,
    "start_time": "2022-09-10T00:43:42.223Z"
   },
   {
    "duration": 15,
    "start_time": "2022-09-10T00:43:42.248Z"
   },
   {
    "duration": 7,
    "start_time": "2022-09-10T00:43:42.265Z"
   },
   {
    "duration": 14,
    "start_time": "2022-09-10T00:43:42.274Z"
   },
   {
    "duration": 7,
    "start_time": "2022-09-10T00:43:42.289Z"
   },
   {
    "duration": 51,
    "start_time": "2022-09-10T00:43:42.297Z"
   },
   {
    "duration": 12,
    "start_time": "2022-09-10T00:43:42.350Z"
   },
   {
    "duration": 20,
    "start_time": "2022-09-10T00:43:42.363Z"
   },
   {
    "duration": 4,
    "start_time": "2022-09-10T00:43:42.384Z"
   },
   {
    "duration": 325,
    "start_time": "2022-09-10T00:43:42.390Z"
   },
   {
    "duration": 8,
    "start_time": "2022-09-10T00:43:42.716Z"
   },
   {
    "duration": 164,
    "start_time": "2022-09-10T00:43:42.726Z"
   },
   {
    "duration": 12,
    "start_time": "2022-09-10T00:43:42.892Z"
   },
   {
    "duration": 25,
    "start_time": "2022-09-10T00:43:42.906Z"
   },
   {
    "duration": 8,
    "start_time": "2022-09-10T00:43:42.933Z"
   },
   {
    "duration": 245,
    "start_time": "2022-09-10T00:43:42.942Z"
   },
   {
    "duration": 467,
    "start_time": "2022-09-10T00:43:43.188Z"
   },
   {
    "duration": 100,
    "start_time": "2022-09-10T00:43:43.657Z"
   },
   {
    "duration": 4,
    "start_time": "2022-09-10T00:43:43.759Z"
   },
   {
    "duration": 21,
    "start_time": "2022-09-10T00:43:43.764Z"
   },
   {
    "duration": 174,
    "start_time": "2022-09-10T00:43:43.787Z"
   },
   {
    "duration": 6,
    "start_time": "2022-09-10T00:43:43.963Z"
   },
   {
    "duration": 25,
    "start_time": "2022-09-10T00:43:43.970Z"
   },
   {
    "duration": 95,
    "start_time": "2022-09-10T00:43:43.997Z"
   },
   {
    "duration": 78,
    "start_time": "2022-09-10T00:43:44.094Z"
   },
   {
    "duration": 17,
    "start_time": "2022-09-10T00:43:44.173Z"
   },
   {
    "duration": 20,
    "start_time": "2022-09-10T00:43:44.191Z"
   },
   {
    "duration": 42,
    "start_time": "2022-09-10T00:43:44.213Z"
   },
   {
    "duration": 13,
    "start_time": "2022-09-10T00:43:44.257Z"
   },
   {
    "duration": 27,
    "start_time": "2022-09-10T00:43:44.271Z"
   },
   {
    "duration": 105,
    "start_time": "2022-09-10T00:43:44.300Z"
   },
   {
    "duration": 48,
    "start_time": "2022-09-10T00:43:44.407Z"
   },
   {
    "duration": 151,
    "start_time": "2022-09-10T00:43:44.456Z"
   },
   {
    "duration": 0,
    "start_time": "2022-09-10T00:43:44.608Z"
   },
   {
    "duration": 0,
    "start_time": "2022-09-10T00:43:44.610Z"
   },
   {
    "duration": 0,
    "start_time": "2022-09-10T00:43:44.611Z"
   },
   {
    "duration": 0,
    "start_time": "2022-09-10T00:43:44.612Z"
   },
   {
    "duration": 0,
    "start_time": "2022-09-10T00:43:44.622Z"
   },
   {
    "duration": 0,
    "start_time": "2022-09-10T00:43:44.623Z"
   },
   {
    "duration": 0,
    "start_time": "2022-09-10T00:43:44.625Z"
   },
   {
    "duration": 0,
    "start_time": "2022-09-10T00:43:44.626Z"
   },
   {
    "duration": 0,
    "start_time": "2022-09-10T00:43:44.627Z"
   },
   {
    "duration": 0,
    "start_time": "2022-09-10T00:43:44.629Z"
   },
   {
    "duration": 0,
    "start_time": "2022-09-10T00:43:44.630Z"
   },
   {
    "duration": 0,
    "start_time": "2022-09-10T00:43:44.631Z"
   },
   {
    "duration": 0,
    "start_time": "2022-09-10T00:43:44.633Z"
   },
   {
    "duration": 0,
    "start_time": "2022-09-10T00:43:44.634Z"
   },
   {
    "duration": 0,
    "start_time": "2022-09-10T00:43:44.635Z"
   },
   {
    "duration": 0,
    "start_time": "2022-09-10T00:43:44.636Z"
   },
   {
    "duration": 0,
    "start_time": "2022-09-10T00:43:44.638Z"
   },
   {
    "duration": 0,
    "start_time": "2022-09-10T00:43:44.639Z"
   },
   {
    "duration": 0,
    "start_time": "2022-09-10T00:43:44.640Z"
   },
   {
    "duration": 0,
    "start_time": "2022-09-10T00:43:44.641Z"
   },
   {
    "duration": 5,
    "start_time": "2022-09-10T01:07:05.709Z"
   },
   {
    "duration": 70,
    "start_time": "2022-09-10T01:27:55.484Z"
   },
   {
    "duration": 51,
    "start_time": "2022-09-10T01:39:35.770Z"
   },
   {
    "duration": 3,
    "start_time": "2022-09-10T01:40:07.958Z"
   },
   {
    "duration": 146,
    "start_time": "2022-09-10T01:40:07.962Z"
   },
   {
    "duration": 18,
    "start_time": "2022-09-10T01:40:08.110Z"
   },
   {
    "duration": 28,
    "start_time": "2022-09-10T01:40:08.129Z"
   },
   {
    "duration": 12,
    "start_time": "2022-09-10T01:40:08.159Z"
   },
   {
    "duration": 27,
    "start_time": "2022-09-10T01:40:08.172Z"
   },
   {
    "duration": 1522,
    "start_time": "2022-09-10T01:40:08.200Z"
   },
   {
    "duration": 12,
    "start_time": "2022-09-10T01:40:09.723Z"
   },
   {
    "duration": 32,
    "start_time": "2022-09-10T01:40:09.736Z"
   },
   {
    "duration": 29,
    "start_time": "2022-09-10T01:40:09.769Z"
   },
   {
    "duration": 30,
    "start_time": "2022-09-10T01:40:09.800Z"
   },
   {
    "duration": 16,
    "start_time": "2022-09-10T01:40:09.831Z"
   },
   {
    "duration": 7,
    "start_time": "2022-09-10T01:40:09.848Z"
   },
   {
    "duration": 170,
    "start_time": "2022-09-10T01:40:09.856Z"
   },
   {
    "duration": 12,
    "start_time": "2022-09-10T01:40:10.028Z"
   },
   {
    "duration": 23,
    "start_time": "2022-09-10T01:40:10.042Z"
   },
   {
    "duration": 46,
    "start_time": "2022-09-10T01:40:10.067Z"
   },
   {
    "duration": 20,
    "start_time": "2022-09-10T01:40:10.115Z"
   },
   {
    "duration": 48,
    "start_time": "2022-09-10T01:40:10.136Z"
   },
   {
    "duration": 6,
    "start_time": "2022-09-10T01:40:10.186Z"
   },
   {
    "duration": 27,
    "start_time": "2022-09-10T01:40:10.193Z"
   },
   {
    "duration": 12,
    "start_time": "2022-09-10T01:40:10.221Z"
   },
   {
    "duration": 20,
    "start_time": "2022-09-10T01:40:10.234Z"
   },
   {
    "duration": 26,
    "start_time": "2022-09-10T01:40:10.255Z"
   },
   {
    "duration": 11,
    "start_time": "2022-09-10T01:40:10.282Z"
   },
   {
    "duration": 29,
    "start_time": "2022-09-10T01:40:10.294Z"
   },
   {
    "duration": 19,
    "start_time": "2022-09-10T01:40:10.325Z"
   },
   {
    "duration": 21,
    "start_time": "2022-09-10T01:40:10.345Z"
   },
   {
    "duration": 24,
    "start_time": "2022-09-10T01:40:10.369Z"
   },
   {
    "duration": 21,
    "start_time": "2022-09-10T01:40:10.394Z"
   },
   {
    "duration": 33,
    "start_time": "2022-09-10T01:40:10.416Z"
   },
   {
    "duration": 19,
    "start_time": "2022-09-10T01:40:10.450Z"
   },
   {
    "duration": 29,
    "start_time": "2022-09-10T01:40:10.471Z"
   },
   {
    "duration": 21,
    "start_time": "2022-09-10T01:40:10.501Z"
   },
   {
    "duration": 21,
    "start_time": "2022-09-10T01:40:10.524Z"
   },
   {
    "duration": 20,
    "start_time": "2022-09-10T01:40:10.547Z"
   },
   {
    "duration": 22,
    "start_time": "2022-09-10T01:41:41.110Z"
   },
   {
    "duration": 37,
    "start_time": "2022-09-10T01:42:40.591Z"
   },
   {
    "duration": 9,
    "start_time": "2022-09-10T01:43:00.955Z"
   },
   {
    "duration": 55,
    "start_time": "2022-09-10T01:44:34.927Z"
   },
   {
    "duration": 3,
    "start_time": "2022-09-10T01:45:38.107Z"
   },
   {
    "duration": 99,
    "start_time": "2022-09-10T01:45:38.114Z"
   },
   {
    "duration": 17,
    "start_time": "2022-09-10T01:45:38.216Z"
   },
   {
    "duration": 18,
    "start_time": "2022-09-10T01:45:38.234Z"
   },
   {
    "duration": 3,
    "start_time": "2022-09-10T01:45:38.254Z"
   },
   {
    "duration": 15,
    "start_time": "2022-09-10T01:45:38.259Z"
   },
   {
    "duration": 1634,
    "start_time": "2022-09-10T01:45:38.275Z"
   },
   {
    "duration": 23,
    "start_time": "2022-09-10T01:45:39.911Z"
   },
   {
    "duration": 16,
    "start_time": "2022-09-10T01:45:39.936Z"
   },
   {
    "duration": 13,
    "start_time": "2022-09-10T01:45:39.953Z"
   },
   {
    "duration": 27,
    "start_time": "2022-09-10T01:45:39.968Z"
   },
   {
    "duration": 28,
    "start_time": "2022-09-10T01:45:39.997Z"
   },
   {
    "duration": 10,
    "start_time": "2022-09-10T01:45:40.028Z"
   },
   {
    "duration": 176,
    "start_time": "2022-09-10T01:45:40.039Z"
   },
   {
    "duration": 15,
    "start_time": "2022-09-10T01:45:40.217Z"
   },
   {
    "duration": 14,
    "start_time": "2022-09-10T01:45:40.234Z"
   },
   {
    "duration": 34,
    "start_time": "2022-09-10T01:45:40.250Z"
   },
   {
    "duration": 17,
    "start_time": "2022-09-10T01:45:40.286Z"
   },
   {
    "duration": 47,
    "start_time": "2022-09-10T01:45:40.305Z"
   },
   {
    "duration": 8,
    "start_time": "2022-09-10T01:45:40.354Z"
   },
   {
    "duration": 29,
    "start_time": "2022-09-10T01:45:40.364Z"
   },
   {
    "duration": 12,
    "start_time": "2022-09-10T01:45:40.394Z"
   },
   {
    "duration": 40,
    "start_time": "2022-09-10T01:45:40.407Z"
   },
   {
    "duration": 18,
    "start_time": "2022-09-10T01:45:40.449Z"
   },
   {
    "duration": 19,
    "start_time": "2022-09-10T01:45:40.469Z"
   },
   {
    "duration": 10,
    "start_time": "2022-09-10T01:45:40.490Z"
   },
   {
    "duration": 12,
    "start_time": "2022-09-10T01:45:40.501Z"
   },
   {
    "duration": 11,
    "start_time": "2022-09-10T01:45:40.514Z"
   },
   {
    "duration": 14,
    "start_time": "2022-09-10T01:45:40.527Z"
   },
   {
    "duration": 7,
    "start_time": "2022-09-10T01:45:40.543Z"
   },
   {
    "duration": 25,
    "start_time": "2022-09-10T01:45:40.552Z"
   },
   {
    "duration": 13,
    "start_time": "2022-09-10T01:45:40.580Z"
   },
   {
    "duration": 28,
    "start_time": "2022-09-10T01:45:40.594Z"
   },
   {
    "duration": 17,
    "start_time": "2022-09-10T01:45:40.624Z"
   },
   {
    "duration": 17,
    "start_time": "2022-09-10T01:45:40.643Z"
   },
   {
    "duration": 12,
    "start_time": "2022-09-10T01:45:40.661Z"
   },
   {
    "duration": 27,
    "start_time": "2022-09-10T01:45:40.674Z"
   },
   {
    "duration": 8,
    "start_time": "2022-09-10T01:45:40.702Z"
   },
   {
    "duration": 223,
    "start_time": "2022-09-10T01:45:40.712Z"
   },
   {
    "duration": 7,
    "start_time": "2022-09-10T01:45:40.937Z"
   },
   {
    "duration": 174,
    "start_time": "2022-09-10T01:45:40.946Z"
   },
   {
    "duration": 6,
    "start_time": "2022-09-10T01:45:41.121Z"
   },
   {
    "duration": 34,
    "start_time": "2022-09-10T01:45:41.128Z"
   },
   {
    "duration": 18,
    "start_time": "2022-09-10T01:45:41.163Z"
   },
   {
    "duration": 240,
    "start_time": "2022-09-10T01:45:41.183Z"
   },
   {
    "duration": 533,
    "start_time": "2022-09-10T01:45:41.425Z"
   },
   {
    "duration": 110,
    "start_time": "2022-09-10T01:45:41.959Z"
   },
   {
    "duration": 5,
    "start_time": "2022-09-10T01:45:42.070Z"
   },
   {
    "duration": 52,
    "start_time": "2022-09-10T01:45:42.076Z"
   },
   {
    "duration": 147,
    "start_time": "2022-09-10T01:45:42.130Z"
   },
   {
    "duration": 5,
    "start_time": "2022-09-10T01:45:42.278Z"
   },
   {
    "duration": 16,
    "start_time": "2022-09-10T01:45:42.284Z"
   },
   {
    "duration": 100,
    "start_time": "2022-09-10T01:45:42.322Z"
   },
   {
    "duration": 58,
    "start_time": "2022-09-10T01:45:42.424Z"
   },
   {
    "duration": 39,
    "start_time": "2022-09-10T01:45:42.484Z"
   },
   {
    "duration": 4,
    "start_time": "2022-09-10T01:45:42.524Z"
   },
   {
    "duration": 18,
    "start_time": "2022-09-10T01:45:42.529Z"
   },
   {
    "duration": 13,
    "start_time": "2022-09-10T01:45:42.549Z"
   },
   {
    "duration": 5,
    "start_time": "2022-09-10T01:45:42.563Z"
   },
   {
    "duration": 64,
    "start_time": "2022-09-10T01:45:42.569Z"
   },
   {
    "duration": 44,
    "start_time": "2022-09-10T01:45:42.635Z"
   },
   {
    "duration": 8,
    "start_time": "2022-09-10T01:45:42.681Z"
   },
   {
    "duration": 16,
    "start_time": "2022-09-10T01:46:12.532Z"
   },
   {
    "duration": 19,
    "start_time": "2022-09-10T01:47:26.043Z"
   },
   {
    "duration": 19,
    "start_time": "2022-09-10T01:48:06.251Z"
   },
   {
    "duration": 13,
    "start_time": "2022-09-10T01:48:27.167Z"
   },
   {
    "duration": 19,
    "start_time": "2022-09-10T01:48:32.702Z"
   },
   {
    "duration": 20,
    "start_time": "2022-09-10T01:48:58.467Z"
   },
   {
    "duration": 45,
    "start_time": "2022-09-10T01:58:11.496Z"
   },
   {
    "duration": 11,
    "start_time": "2022-09-10T01:58:29.701Z"
   },
   {
    "duration": 11,
    "start_time": "2022-09-10T02:00:24.485Z"
   },
   {
    "duration": 11,
    "start_time": "2022-09-10T02:01:21.269Z"
   },
   {
    "duration": 52,
    "start_time": "2022-09-10T02:04:13.333Z"
   },
   {
    "duration": 12,
    "start_time": "2022-09-10T02:06:43.505Z"
   },
   {
    "duration": 11,
    "start_time": "2022-09-10T02:07:36.558Z"
   },
   {
    "duration": 12,
    "start_time": "2022-09-10T02:08:05.734Z"
   },
   {
    "duration": 11,
    "start_time": "2022-09-10T02:08:17.150Z"
   },
   {
    "duration": 317,
    "start_time": "2022-09-10T02:15:00.003Z"
   },
   {
    "duration": 53,
    "start_time": "2022-09-10T02:27:56.417Z"
   },
   {
    "duration": 138,
    "start_time": "2022-09-10T02:27:58.592Z"
   },
   {
    "duration": 21,
    "start_time": "2022-09-10T02:28:04.821Z"
   },
   {
    "duration": 21,
    "start_time": "2022-09-10T02:28:06.813Z"
   },
   {
    "duration": 21,
    "start_time": "2022-09-10T02:28:09.261Z"
   },
   {
    "duration": 48,
    "start_time": "2022-09-10T02:28:11.705Z"
   },
   {
    "duration": 125,
    "start_time": "2022-09-10T02:28:13.781Z"
   },
   {
    "duration": 20,
    "start_time": "2022-09-10T02:28:17.009Z"
   },
   {
    "duration": 109,
    "start_time": "2022-09-10T02:30:05.630Z"
   },
   {
    "duration": 8,
    "start_time": "2022-09-10T02:30:29.869Z"
   },
   {
    "duration": 7,
    "start_time": "2022-09-10T02:30:31.397Z"
   },
   {
    "duration": 328,
    "start_time": "2022-09-10T02:31:18.345Z"
   },
   {
    "duration": 73,
    "start_time": "2022-09-10T02:32:34.937Z"
   },
   {
    "duration": 64,
    "start_time": "2022-09-10T02:32:43.515Z"
   },
   {
    "duration": 14,
    "start_time": "2022-09-10T02:32:45.754Z"
   },
   {
    "duration": 8,
    "start_time": "2022-09-10T02:32:58.090Z"
   },
   {
    "duration": 49,
    "start_time": "2022-09-10T02:33:31.502Z"
   },
   {
    "duration": 8,
    "start_time": "2022-09-10T02:33:49.138Z"
   },
   {
    "duration": 105,
    "start_time": "2022-09-10T02:35:35.210Z"
   },
   {
    "duration": 62,
    "start_time": "2022-09-10T02:35:50.174Z"
   },
   {
    "duration": 72,
    "start_time": "2022-09-10T02:37:33.042Z"
   },
   {
    "duration": 9,
    "start_time": "2022-09-10T02:37:41.186Z"
   },
   {
    "duration": 8,
    "start_time": "2022-09-10T02:37:48.331Z"
   },
   {
    "duration": 12,
    "start_time": "2022-09-10T02:44:30.995Z"
   },
   {
    "duration": 5,
    "start_time": "2022-09-10T02:47:33.256Z"
   },
   {
    "duration": 5,
    "start_time": "2022-09-10T02:47:35.340Z"
   },
   {
    "duration": 5,
    "start_time": "2022-09-10T02:47:40.916Z"
   },
   {
    "duration": 8,
    "start_time": "2022-09-10T02:50:57.005Z"
   },
   {
    "duration": 5,
    "start_time": "2022-09-10T02:51:34.044Z"
   },
   {
    "duration": 6,
    "start_time": "2022-09-10T02:51:34.988Z"
   },
   {
    "duration": 8,
    "start_time": "2022-09-10T02:51:36.877Z"
   },
   {
    "duration": 58,
    "start_time": "2022-09-10T03:13:25.080Z"
   },
   {
    "duration": 7,
    "start_time": "2022-09-10T03:13:36.800Z"
   },
   {
    "duration": 953,
    "start_time": "2022-09-10T09:13:42.450Z"
   },
   {
    "duration": 185,
    "start_time": "2022-09-10T09:13:43.406Z"
   },
   {
    "duration": 25,
    "start_time": "2022-09-10T09:13:43.593Z"
   },
   {
    "duration": 17,
    "start_time": "2022-09-10T09:13:43.620Z"
   },
   {
    "duration": 3,
    "start_time": "2022-09-10T09:13:43.638Z"
   },
   {
    "duration": 19,
    "start_time": "2022-09-10T09:13:43.643Z"
   },
   {
    "duration": 1877,
    "start_time": "2022-09-10T09:13:43.664Z"
   },
   {
    "duration": 13,
    "start_time": "2022-09-10T09:13:45.542Z"
   },
   {
    "duration": 9,
    "start_time": "2022-09-10T09:13:45.557Z"
   },
   {
    "duration": 12,
    "start_time": "2022-09-10T09:13:45.568Z"
   },
   {
    "duration": 18,
    "start_time": "2022-09-10T09:13:45.582Z"
   },
   {
    "duration": 11,
    "start_time": "2022-09-10T09:13:45.601Z"
   },
   {
    "duration": 34,
    "start_time": "2022-09-10T09:13:45.614Z"
   },
   {
    "duration": 628,
    "start_time": "2022-09-10T09:13:45.650Z"
   },
   {
    "duration": 21,
    "start_time": "2022-09-10T09:13:46.280Z"
   },
   {
    "duration": 10,
    "start_time": "2022-09-10T09:13:46.303Z"
   },
   {
    "duration": 50,
    "start_time": "2022-09-10T09:13:46.315Z"
   },
   {
    "duration": 11,
    "start_time": "2022-09-10T09:13:46.367Z"
   },
   {
    "duration": 53,
    "start_time": "2022-09-10T09:13:46.380Z"
   },
   {
    "duration": 7,
    "start_time": "2022-09-10T09:13:46.448Z"
   },
   {
    "duration": 20,
    "start_time": "2022-09-10T09:13:46.457Z"
   },
   {
    "duration": 4,
    "start_time": "2022-09-10T09:13:46.479Z"
   },
   {
    "duration": 16,
    "start_time": "2022-09-10T09:13:46.484Z"
   },
   {
    "duration": 4,
    "start_time": "2022-09-10T09:13:46.501Z"
   },
   {
    "duration": 6,
    "start_time": "2022-09-10T09:13:46.507Z"
   },
   {
    "duration": 19,
    "start_time": "2022-09-10T09:13:46.515Z"
   },
   {
    "duration": 18,
    "start_time": "2022-09-10T09:13:46.536Z"
   },
   {
    "duration": 8,
    "start_time": "2022-09-10T09:13:46.559Z"
   },
   {
    "duration": 14,
    "start_time": "2022-09-10T09:13:46.568Z"
   },
   {
    "duration": 9,
    "start_time": "2022-09-10T09:13:46.584Z"
   },
   {
    "duration": 17,
    "start_time": "2022-09-10T09:13:46.594Z"
   },
   {
    "duration": 37,
    "start_time": "2022-09-10T09:13:46.612Z"
   },
   {
    "duration": 14,
    "start_time": "2022-09-10T09:13:46.651Z"
   },
   {
    "duration": 5,
    "start_time": "2022-09-10T09:13:46.666Z"
   },
   {
    "duration": 50,
    "start_time": "2022-09-10T09:13:46.673Z"
   },
   {
    "duration": 38,
    "start_time": "2022-09-10T09:13:46.725Z"
   },
   {
    "duration": 23,
    "start_time": "2022-09-10T09:13:46.765Z"
   },
   {
    "duration": 9,
    "start_time": "2022-09-10T09:13:46.789Z"
   },
   {
    "duration": 340,
    "start_time": "2022-09-10T09:13:46.799Z"
   },
   {
    "duration": 9,
    "start_time": "2022-09-10T09:13:47.147Z"
   },
   {
    "duration": 181,
    "start_time": "2022-09-10T09:13:47.158Z"
   },
   {
    "duration": 12,
    "start_time": "2022-09-10T09:13:47.341Z"
   },
   {
    "duration": 13,
    "start_time": "2022-09-10T09:13:47.355Z"
   },
   {
    "duration": 17,
    "start_time": "2022-09-10T09:13:47.370Z"
   },
   {
    "duration": 267,
    "start_time": "2022-09-10T09:13:47.389Z"
   },
   {
    "duration": 512,
    "start_time": "2022-09-10T09:13:47.657Z"
   },
   {
    "duration": 101,
    "start_time": "2022-09-10T09:13:48.171Z"
   },
   {
    "duration": 4,
    "start_time": "2022-09-10T09:13:48.274Z"
   },
   {
    "duration": 23,
    "start_time": "2022-09-10T09:13:48.279Z"
   },
   {
    "duration": 178,
    "start_time": "2022-09-10T09:13:48.304Z"
   },
   {
    "duration": 5,
    "start_time": "2022-09-10T09:13:48.483Z"
   },
   {
    "duration": 14,
    "start_time": "2022-09-10T09:13:48.490Z"
   },
   {
    "duration": 116,
    "start_time": "2022-09-10T09:13:48.506Z"
   },
   {
    "duration": 78,
    "start_time": "2022-09-10T09:13:48.624Z"
   },
   {
    "duration": 19,
    "start_time": "2022-09-10T09:13:48.703Z"
   },
   {
    "duration": 24,
    "start_time": "2022-09-10T09:13:48.723Z"
   },
   {
    "duration": 19,
    "start_time": "2022-09-10T09:13:48.750Z"
   },
   {
    "duration": 19,
    "start_time": "2022-09-10T09:13:48.771Z"
   },
   {
    "duration": 7,
    "start_time": "2022-09-10T09:13:48.792Z"
   },
   {
    "duration": 68,
    "start_time": "2022-09-10T09:13:48.801Z"
   },
   {
    "duration": 52,
    "start_time": "2022-09-10T09:13:48.871Z"
   },
   {
    "duration": 23,
    "start_time": "2022-09-10T09:13:48.925Z"
   },
   {
    "duration": 33,
    "start_time": "2022-09-10T09:13:48.950Z"
   },
   {
    "duration": 50,
    "start_time": "2022-09-10T09:13:48.985Z"
   },
   {
    "duration": 18,
    "start_time": "2022-09-10T09:13:49.036Z"
   },
   {
    "duration": 15,
    "start_time": "2022-09-10T09:13:49.056Z"
   },
   {
    "duration": 21,
    "start_time": "2022-09-10T09:13:49.073Z"
   },
   {
    "duration": 64,
    "start_time": "2022-09-10T09:13:49.096Z"
   },
   {
    "duration": 167,
    "start_time": "2022-09-10T09:13:49.162Z"
   },
   {
    "duration": 41,
    "start_time": "2022-09-10T09:13:49.330Z"
   },
   {
    "duration": 38,
    "start_time": "2022-09-10T09:13:49.375Z"
   },
   {
    "duration": 34,
    "start_time": "2022-09-10T09:13:49.415Z"
   },
   {
    "duration": 53,
    "start_time": "2022-09-10T09:13:49.451Z"
   },
   {
    "duration": 177,
    "start_time": "2022-09-10T09:13:49.506Z"
   },
   {
    "duration": 20,
    "start_time": "2022-09-10T09:13:49.684Z"
   },
   {
    "duration": 13,
    "start_time": "2022-09-10T09:13:49.706Z"
   },
   {
    "duration": 96,
    "start_time": "2022-09-10T09:13:49.720Z"
   },
   {
    "duration": 11,
    "start_time": "2022-09-10T09:13:49.818Z"
   },
   {
    "duration": 71,
    "start_time": "2022-09-10T09:13:49.830Z"
   },
   {
    "duration": 11,
    "start_time": "2022-09-10T09:13:49.903Z"
   },
   {
    "duration": 86,
    "start_time": "2022-09-10T09:13:49.915Z"
   },
   {
    "duration": 9,
    "start_time": "2022-09-10T09:13:50.006Z"
   },
   {
    "duration": 13,
    "start_time": "2022-09-10T09:13:50.017Z"
   },
   {
    "duration": 15,
    "start_time": "2022-09-10T09:13:50.032Z"
   },
   {
    "duration": 7,
    "start_time": "2022-09-10T09:13:50.049Z"
   },
   {
    "duration": 19,
    "start_time": "2022-09-10T09:13:50.058Z"
   },
   {
    "duration": 42,
    "start_time": "2022-09-10T09:13:50.079Z"
   },
   {
    "duration": 11,
    "start_time": "2022-09-10T09:13:50.122Z"
   },
   {
    "duration": 16,
    "start_time": "2022-09-10T09:13:50.134Z"
   },
   {
    "duration": 3,
    "start_time": "2022-09-10T09:16:31.949Z"
   },
   {
    "duration": 130,
    "start_time": "2022-09-10T09:16:31.955Z"
   },
   {
    "duration": 18,
    "start_time": "2022-09-10T09:16:32.087Z"
   },
   {
    "duration": 16,
    "start_time": "2022-09-10T09:16:32.107Z"
   },
   {
    "duration": 21,
    "start_time": "2022-09-10T09:16:32.125Z"
   },
   {
    "duration": 13,
    "start_time": "2022-09-10T09:16:32.148Z"
   },
   {
    "duration": 1595,
    "start_time": "2022-09-10T09:16:32.163Z"
   },
   {
    "duration": 18,
    "start_time": "2022-09-10T09:16:33.760Z"
   },
   {
    "duration": 10,
    "start_time": "2022-09-10T09:16:33.781Z"
   },
   {
    "duration": 14,
    "start_time": "2022-09-10T09:16:33.792Z"
   },
   {
    "duration": 48,
    "start_time": "2022-09-10T09:16:33.808Z"
   },
   {
    "duration": 8,
    "start_time": "2022-09-10T09:16:33.858Z"
   },
   {
    "duration": 11,
    "start_time": "2022-09-10T09:16:33.867Z"
   },
   {
    "duration": 161,
    "start_time": "2022-09-10T09:16:33.879Z"
   },
   {
    "duration": 16,
    "start_time": "2022-09-10T09:16:34.042Z"
   },
   {
    "duration": 14,
    "start_time": "2022-09-10T09:16:34.059Z"
   },
   {
    "duration": 27,
    "start_time": "2022-09-10T09:16:34.074Z"
   },
   {
    "duration": 13,
    "start_time": "2022-09-10T09:16:34.102Z"
   },
   {
    "duration": 44,
    "start_time": "2022-09-10T09:16:34.116Z"
   },
   {
    "duration": 5,
    "start_time": "2022-09-10T09:16:34.162Z"
   },
   {
    "duration": 13,
    "start_time": "2022-09-10T09:16:34.169Z"
   },
   {
    "duration": 5,
    "start_time": "2022-09-10T09:16:34.184Z"
   },
   {
    "duration": 10,
    "start_time": "2022-09-10T09:16:34.190Z"
   },
   {
    "duration": 3,
    "start_time": "2022-09-10T09:16:34.204Z"
   },
   {
    "duration": 5,
    "start_time": "2022-09-10T09:16:34.209Z"
   },
   {
    "duration": 35,
    "start_time": "2022-09-10T09:16:34.215Z"
   },
   {
    "duration": 14,
    "start_time": "2022-09-10T09:16:34.252Z"
   },
   {
    "duration": 9,
    "start_time": "2022-09-10T09:16:34.267Z"
   },
   {
    "duration": 9,
    "start_time": "2022-09-10T09:16:34.277Z"
   },
   {
    "duration": 8,
    "start_time": "2022-09-10T09:16:34.287Z"
   },
   {
    "duration": 5,
    "start_time": "2022-09-10T09:17:47.783Z"
   },
   {
    "duration": 6,
    "start_time": "2022-09-10T09:17:49.794Z"
   },
   {
    "duration": 3,
    "start_time": "2022-09-10T09:17:58.663Z"
   },
   {
    "duration": 129,
    "start_time": "2022-09-10T09:17:58.668Z"
   },
   {
    "duration": 20,
    "start_time": "2022-09-10T09:17:58.799Z"
   },
   {
    "duration": 21,
    "start_time": "2022-09-10T09:17:58.820Z"
   },
   {
    "duration": 3,
    "start_time": "2022-09-10T09:17:58.843Z"
   },
   {
    "duration": 22,
    "start_time": "2022-09-10T09:17:58.848Z"
   },
   {
    "duration": 1614,
    "start_time": "2022-09-10T09:17:58.872Z"
   },
   {
    "duration": 21,
    "start_time": "2022-09-10T09:18:00.489Z"
   },
   {
    "duration": 23,
    "start_time": "2022-09-10T09:18:00.512Z"
   },
   {
    "duration": 19,
    "start_time": "2022-09-10T09:18:00.537Z"
   },
   {
    "duration": 27,
    "start_time": "2022-09-10T09:18:00.559Z"
   },
   {
    "duration": 14,
    "start_time": "2022-09-10T09:18:00.587Z"
   },
   {
    "duration": 23,
    "start_time": "2022-09-10T09:18:00.603Z"
   },
   {
    "duration": 166,
    "start_time": "2022-09-10T09:18:00.628Z"
   },
   {
    "duration": 14,
    "start_time": "2022-09-10T09:18:00.796Z"
   },
   {
    "duration": 21,
    "start_time": "2022-09-10T09:18:00.811Z"
   },
   {
    "duration": 45,
    "start_time": "2022-09-10T09:18:00.833Z"
   },
   {
    "duration": 30,
    "start_time": "2022-09-10T09:18:00.879Z"
   },
   {
    "duration": 40,
    "start_time": "2022-09-10T09:18:00.910Z"
   },
   {
    "duration": 6,
    "start_time": "2022-09-10T09:18:00.952Z"
   },
   {
    "duration": 22,
    "start_time": "2022-09-10T09:18:00.959Z"
   },
   {
    "duration": 16,
    "start_time": "2022-09-10T09:18:00.982Z"
   },
   {
    "duration": 15,
    "start_time": "2022-09-10T09:18:00.999Z"
   },
   {
    "duration": 16,
    "start_time": "2022-09-10T09:18:01.015Z"
   },
   {
    "duration": 11,
    "start_time": "2022-09-10T09:18:01.033Z"
   },
   {
    "duration": 16,
    "start_time": "2022-09-10T09:18:01.045Z"
   },
   {
    "duration": 34,
    "start_time": "2022-09-10T09:18:01.062Z"
   },
   {
    "duration": 9,
    "start_time": "2022-09-10T09:18:01.097Z"
   },
   {
    "duration": 37,
    "start_time": "2022-09-10T09:18:01.109Z"
   },
   {
    "duration": 50,
    "start_time": "2022-09-10T09:18:01.147Z"
   },
   {
    "duration": 5,
    "start_time": "2022-09-10T09:18:11.545Z"
   },
   {
    "duration": 9,
    "start_time": "2022-09-10T09:18:12.587Z"
   },
   {
    "duration": 3,
    "start_time": "2022-09-10T09:18:24.758Z"
   },
   {
    "duration": 107,
    "start_time": "2022-09-10T09:18:24.775Z"
   },
   {
    "duration": 19,
    "start_time": "2022-09-10T09:18:24.884Z"
   },
   {
    "duration": 16,
    "start_time": "2022-09-10T09:18:24.905Z"
   },
   {
    "duration": 3,
    "start_time": "2022-09-10T09:18:24.922Z"
   },
   {
    "duration": 33,
    "start_time": "2022-09-10T09:18:24.927Z"
   },
   {
    "duration": 1717,
    "start_time": "2022-09-10T09:18:24.961Z"
   },
   {
    "duration": 14,
    "start_time": "2022-09-10T09:18:26.679Z"
   },
   {
    "duration": 10,
    "start_time": "2022-09-10T09:18:26.694Z"
   },
   {
    "duration": 14,
    "start_time": "2022-09-10T09:18:26.706Z"
   },
   {
    "duration": 14,
    "start_time": "2022-09-10T09:18:26.746Z"
   },
   {
    "duration": 9,
    "start_time": "2022-09-10T09:18:26.762Z"
   },
   {
    "duration": 4,
    "start_time": "2022-09-10T09:18:26.773Z"
   },
   {
    "duration": 189,
    "start_time": "2022-09-10T09:18:26.779Z"
   },
   {
    "duration": 15,
    "start_time": "2022-09-10T09:18:26.970Z"
   },
   {
    "duration": 8,
    "start_time": "2022-09-10T09:18:26.987Z"
   },
   {
    "duration": 26,
    "start_time": "2022-09-10T09:18:26.996Z"
   },
   {
    "duration": 8,
    "start_time": "2022-09-10T09:18:27.046Z"
   },
   {
    "duration": 28,
    "start_time": "2022-09-10T09:18:27.056Z"
   },
   {
    "duration": 5,
    "start_time": "2022-09-10T09:18:27.086Z"
   },
   {
    "duration": 11,
    "start_time": "2022-09-10T09:18:27.093Z"
   },
   {
    "duration": 3,
    "start_time": "2022-09-10T09:18:27.105Z"
   },
   {
    "duration": 40,
    "start_time": "2022-09-10T09:18:27.110Z"
   },
   {
    "duration": 4,
    "start_time": "2022-09-10T09:18:27.152Z"
   },
   {
    "duration": 6,
    "start_time": "2022-09-10T09:18:27.157Z"
   },
   {
    "duration": 10,
    "start_time": "2022-09-10T09:18:27.164Z"
   },
   {
    "duration": 12,
    "start_time": "2022-09-10T09:18:27.176Z"
   },
   {
    "duration": 7,
    "start_time": "2022-09-10T09:18:27.190Z"
   },
   {
    "duration": 14,
    "start_time": "2022-09-10T09:18:27.199Z"
   },
   {
    "duration": 38,
    "start_time": "2022-09-10T09:18:27.214Z"
   },
   {
    "duration": 17,
    "start_time": "2022-09-10T09:18:29.833Z"
   },
   {
    "duration": 6,
    "start_time": "2022-09-10T09:18:35.870Z"
   },
   {
    "duration": 9,
    "start_time": "2022-09-10T09:18:36.945Z"
   },
   {
    "duration": 8,
    "start_time": "2022-09-10T09:19:21.649Z"
   },
   {
    "duration": 5,
    "start_time": "2022-09-10T09:19:27.774Z"
   },
   {
    "duration": 149,
    "start_time": "2022-09-10T09:19:27.781Z"
   },
   {
    "duration": 23,
    "start_time": "2022-09-10T09:19:27.933Z"
   },
   {
    "duration": 28,
    "start_time": "2022-09-10T09:19:27.959Z"
   },
   {
    "duration": 3,
    "start_time": "2022-09-10T09:19:27.989Z"
   },
   {
    "duration": 18,
    "start_time": "2022-09-10T09:19:27.995Z"
   },
   {
    "duration": 1661,
    "start_time": "2022-09-10T09:19:28.015Z"
   },
   {
    "duration": 14,
    "start_time": "2022-09-10T09:19:29.677Z"
   },
   {
    "duration": 9,
    "start_time": "2022-09-10T09:19:29.693Z"
   },
   {
    "duration": 12,
    "start_time": "2022-09-10T09:19:29.704Z"
   },
   {
    "duration": 12,
    "start_time": "2022-09-10T09:19:29.749Z"
   },
   {
    "duration": 11,
    "start_time": "2022-09-10T09:19:29.763Z"
   },
   {
    "duration": 4,
    "start_time": "2022-09-10T09:19:29.776Z"
   },
   {
    "duration": 167,
    "start_time": "2022-09-10T09:19:29.782Z"
   },
   {
    "duration": 14,
    "start_time": "2022-09-10T09:19:29.950Z"
   },
   {
    "duration": 21,
    "start_time": "2022-09-10T09:19:29.965Z"
   },
   {
    "duration": 37,
    "start_time": "2022-09-10T09:19:29.988Z"
   },
   {
    "duration": 19,
    "start_time": "2022-09-10T09:19:30.027Z"
   },
   {
    "duration": 35,
    "start_time": "2022-09-10T09:19:30.048Z"
   },
   {
    "duration": 11,
    "start_time": "2022-09-10T09:19:30.085Z"
   },
   {
    "duration": 17,
    "start_time": "2022-09-10T09:19:30.098Z"
   },
   {
    "duration": 9,
    "start_time": "2022-09-10T09:19:30.117Z"
   },
   {
    "duration": 16,
    "start_time": "2022-09-10T09:19:30.128Z"
   },
   {
    "duration": 8,
    "start_time": "2022-09-10T09:19:30.145Z"
   },
   {
    "duration": 19,
    "start_time": "2022-09-10T09:19:30.154Z"
   },
   {
    "duration": 26,
    "start_time": "2022-09-10T09:19:30.175Z"
   },
   {
    "duration": 20,
    "start_time": "2022-09-10T09:19:30.203Z"
   },
   {
    "duration": 16,
    "start_time": "2022-09-10T09:19:30.225Z"
   },
   {
    "duration": 22,
    "start_time": "2022-09-10T09:19:30.245Z"
   },
   {
    "duration": 16,
    "start_time": "2022-09-10T09:19:30.269Z"
   },
   {
    "duration": 29,
    "start_time": "2022-09-10T09:19:30.287Z"
   },
   {
    "duration": 6,
    "start_time": "2022-09-10T09:19:30.318Z"
   },
   {
    "duration": 35,
    "start_time": "2022-09-10T09:19:30.325Z"
   },
   {
    "duration": 40,
    "start_time": "2022-09-10T09:19:30.362Z"
   },
   {
    "duration": 36,
    "start_time": "2022-09-10T09:19:30.404Z"
   },
   {
    "duration": 75,
    "start_time": "2022-09-10T09:19:30.442Z"
   },
   {
    "duration": 18,
    "start_time": "2022-09-10T09:19:30.519Z"
   },
   {
    "duration": 38,
    "start_time": "2022-09-10T09:19:30.538Z"
   },
   {
    "duration": 5,
    "start_time": "2022-09-10T09:19:30.578Z"
   },
   {
    "duration": 314,
    "start_time": "2022-09-10T09:19:30.584Z"
   },
   {
    "duration": 7,
    "start_time": "2022-09-10T09:19:30.899Z"
   },
   {
    "duration": 182,
    "start_time": "2022-09-10T09:19:30.908Z"
   },
   {
    "duration": 7,
    "start_time": "2022-09-10T09:19:31.091Z"
   },
   {
    "duration": 64,
    "start_time": "2022-09-10T09:19:31.099Z"
   },
   {
    "duration": 25,
    "start_time": "2022-09-10T09:19:31.165Z"
   },
   {
    "duration": 169,
    "start_time": "2022-09-10T09:19:31.192Z"
   },
   {
    "duration": 547,
    "start_time": "2022-09-10T09:19:31.363Z"
   },
   {
    "duration": 117,
    "start_time": "2022-09-10T09:19:31.912Z"
   },
   {
    "duration": 16,
    "start_time": "2022-09-10T09:19:32.031Z"
   },
   {
    "duration": 34,
    "start_time": "2022-09-10T09:19:32.048Z"
   },
   {
    "duration": 164,
    "start_time": "2022-09-10T09:19:32.084Z"
   },
   {
    "duration": 5,
    "start_time": "2022-09-10T09:19:32.250Z"
   },
   {
    "duration": 19,
    "start_time": "2022-09-10T09:19:32.257Z"
   },
   {
    "duration": 133,
    "start_time": "2022-09-10T09:19:32.277Z"
   },
   {
    "duration": 81,
    "start_time": "2022-09-10T09:19:32.413Z"
   },
   {
    "duration": 21,
    "start_time": "2022-09-10T09:19:32.496Z"
   },
   {
    "duration": 4,
    "start_time": "2022-09-10T09:19:32.547Z"
   },
   {
    "duration": 19,
    "start_time": "2022-09-10T09:19:32.553Z"
   },
   {
    "duration": 19,
    "start_time": "2022-09-10T09:19:32.574Z"
   },
   {
    "duration": 17,
    "start_time": "2022-09-10T09:19:32.595Z"
   },
   {
    "duration": 61,
    "start_time": "2022-09-10T09:19:32.614Z"
   },
   {
    "duration": 48,
    "start_time": "2022-09-10T09:19:32.677Z"
   },
   {
    "duration": 23,
    "start_time": "2022-09-10T09:19:32.727Z"
   },
   {
    "duration": 21,
    "start_time": "2022-09-10T09:19:32.751Z"
   },
   {
    "duration": 88,
    "start_time": "2022-09-10T09:19:32.774Z"
   },
   {
    "duration": 11,
    "start_time": "2022-09-10T09:19:32.863Z"
   },
   {
    "duration": 30,
    "start_time": "2022-09-10T09:19:32.876Z"
   },
   {
    "duration": 20,
    "start_time": "2022-09-10T09:19:32.908Z"
   },
   {
    "duration": 60,
    "start_time": "2022-09-10T09:19:32.930Z"
   },
   {
    "duration": 184,
    "start_time": "2022-09-10T09:19:32.991Z"
   },
   {
    "duration": 22,
    "start_time": "2022-09-10T09:19:33.176Z"
   },
   {
    "duration": 49,
    "start_time": "2022-09-10T09:19:33.199Z"
   },
   {
    "duration": 21,
    "start_time": "2022-09-10T09:19:33.249Z"
   },
   {
    "duration": 51,
    "start_time": "2022-09-10T09:19:33.272Z"
   },
   {
    "duration": 174,
    "start_time": "2022-09-10T09:19:33.346Z"
   },
   {
    "duration": 39,
    "start_time": "2022-09-10T09:19:33.521Z"
   },
   {
    "duration": 9,
    "start_time": "2022-09-10T09:19:58.537Z"
   },
   {
    "duration": 8,
    "start_time": "2022-09-10T09:20:05.845Z"
   },
   {
    "duration": 70,
    "start_time": "2022-09-10T09:20:07.437Z"
   },
   {
    "duration": 10,
    "start_time": "2022-09-10T09:20:12.630Z"
   },
   {
    "duration": 68,
    "start_time": "2022-09-10T09:20:15.478Z"
   },
   {
    "duration": 9,
    "start_time": "2022-09-10T09:20:17.663Z"
   },
   {
    "duration": 66,
    "start_time": "2022-09-10T09:20:20.746Z"
   },
   {
    "duration": 8,
    "start_time": "2022-09-10T09:20:22.650Z"
   },
   {
    "duration": 4,
    "start_time": "2022-09-10T09:20:25.947Z"
   },
   {
    "duration": 5,
    "start_time": "2022-09-10T09:20:27.318Z"
   },
   {
    "duration": 6,
    "start_time": "2022-09-10T09:20:28.551Z"
   },
   {
    "duration": 8,
    "start_time": "2022-09-10T09:20:30.575Z"
   },
   {
    "duration": 6,
    "start_time": "2022-09-10T09:20:33.433Z"
   },
   {
    "duration": 6,
    "start_time": "2022-09-10T09:20:34.329Z"
   },
   {
    "duration": 7,
    "start_time": "2022-09-10T09:20:35.546Z"
   },
   {
    "duration": 82,
    "start_time": "2022-09-10T09:34:06.464Z"
   },
   {
    "duration": 3,
    "start_time": "2022-09-10T09:56:52.496Z"
   },
   {
    "duration": 122,
    "start_time": "2022-09-10T09:56:52.501Z"
   },
   {
    "duration": 18,
    "start_time": "2022-09-10T09:56:52.625Z"
   },
   {
    "duration": 19,
    "start_time": "2022-09-10T09:56:52.644Z"
   },
   {
    "duration": 3,
    "start_time": "2022-09-10T09:56:52.665Z"
   },
   {
    "duration": 27,
    "start_time": "2022-09-10T09:56:52.669Z"
   },
   {
    "duration": 1591,
    "start_time": "2022-09-10T09:56:52.697Z"
   },
   {
    "duration": 14,
    "start_time": "2022-09-10T09:56:54.289Z"
   },
   {
    "duration": 15,
    "start_time": "2022-09-10T09:56:54.304Z"
   },
   {
    "duration": 31,
    "start_time": "2022-09-10T09:56:54.320Z"
   },
   {
    "duration": 12,
    "start_time": "2022-09-10T09:56:54.353Z"
   },
   {
    "duration": 16,
    "start_time": "2022-09-10T09:56:54.366Z"
   },
   {
    "duration": 5,
    "start_time": "2022-09-10T09:56:54.384Z"
   },
   {
    "duration": 170,
    "start_time": "2022-09-10T09:56:54.391Z"
   },
   {
    "duration": 13,
    "start_time": "2022-09-10T09:56:54.563Z"
   },
   {
    "duration": 9,
    "start_time": "2022-09-10T09:56:54.578Z"
   },
   {
    "duration": 24,
    "start_time": "2022-09-10T09:56:54.590Z"
   },
   {
    "duration": 32,
    "start_time": "2022-09-10T09:56:54.615Z"
   },
   {
    "duration": 27,
    "start_time": "2022-09-10T09:56:54.649Z"
   },
   {
    "duration": 8,
    "start_time": "2022-09-10T09:56:54.678Z"
   },
   {
    "duration": 15,
    "start_time": "2022-09-10T09:56:54.687Z"
   },
   {
    "duration": 4,
    "start_time": "2022-09-10T09:56:54.703Z"
   },
   {
    "duration": 12,
    "start_time": "2022-09-10T09:56:54.708Z"
   },
   {
    "duration": 7,
    "start_time": "2022-09-10T09:56:54.721Z"
   },
   {
    "duration": 18,
    "start_time": "2022-09-10T09:56:54.729Z"
   },
   {
    "duration": 18,
    "start_time": "2022-09-10T09:56:54.748Z"
   },
   {
    "duration": 16,
    "start_time": "2022-09-10T09:56:54.767Z"
   },
   {
    "duration": 10,
    "start_time": "2022-09-10T09:56:54.784Z"
   },
   {
    "duration": 9,
    "start_time": "2022-09-10T09:56:54.797Z"
   },
   {
    "duration": 13,
    "start_time": "2022-09-10T09:56:54.808Z"
   },
   {
    "duration": 37,
    "start_time": "2022-09-10T09:56:54.823Z"
   },
   {
    "duration": 5,
    "start_time": "2022-09-10T09:56:54.862Z"
   },
   {
    "duration": 13,
    "start_time": "2022-09-10T09:56:54.868Z"
   },
   {
    "duration": 13,
    "start_time": "2022-09-10T09:56:54.883Z"
   },
   {
    "duration": 4,
    "start_time": "2022-09-10T09:56:54.897Z"
   },
   {
    "duration": 15,
    "start_time": "2022-09-10T09:56:54.903Z"
   },
   {
    "duration": 29,
    "start_time": "2022-09-10T09:56:54.919Z"
   },
   {
    "duration": 22,
    "start_time": "2022-09-10T09:56:54.950Z"
   },
   {
    "duration": 5,
    "start_time": "2022-09-10T09:56:54.974Z"
   },
   {
    "duration": 329,
    "start_time": "2022-09-10T09:56:54.980Z"
   },
   {
    "duration": 7,
    "start_time": "2022-09-10T09:56:55.311Z"
   },
   {
    "duration": 178,
    "start_time": "2022-09-10T09:56:55.319Z"
   },
   {
    "duration": 6,
    "start_time": "2022-09-10T09:56:55.499Z"
   },
   {
    "duration": 14,
    "start_time": "2022-09-10T09:56:55.506Z"
   },
   {
    "duration": 28,
    "start_time": "2022-09-10T09:56:55.521Z"
   },
   {
    "duration": 165,
    "start_time": "2022-09-10T09:56:55.550Z"
   },
   {
    "duration": 489,
    "start_time": "2022-09-10T09:56:55.716Z"
   },
   {
    "duration": 141,
    "start_time": "2022-09-10T09:56:56.207Z"
   },
   {
    "duration": 5,
    "start_time": "2022-09-10T09:56:56.350Z"
   },
   {
    "duration": 34,
    "start_time": "2022-09-10T09:56:56.357Z"
   },
   {
    "duration": 198,
    "start_time": "2022-09-10T09:56:56.394Z"
   },
   {
    "duration": 5,
    "start_time": "2022-09-10T09:56:56.593Z"
   },
   {
    "duration": 20,
    "start_time": "2022-09-10T09:56:56.600Z"
   },
   {
    "duration": 96,
    "start_time": "2022-09-10T09:56:56.622Z"
   },
   {
    "duration": 78,
    "start_time": "2022-09-10T09:56:56.720Z"
   },
   {
    "duration": 20,
    "start_time": "2022-09-10T09:56:56.800Z"
   },
   {
    "duration": 4,
    "start_time": "2022-09-10T09:56:56.847Z"
   },
   {
    "duration": 54,
    "start_time": "2022-09-10T09:56:56.853Z"
   },
   {
    "duration": 22,
    "start_time": "2022-09-10T09:56:56.909Z"
   },
   {
    "duration": 29,
    "start_time": "2022-09-10T09:56:56.933Z"
   },
   {
    "duration": 68,
    "start_time": "2022-09-10T09:56:56.964Z"
   },
   {
    "duration": 45,
    "start_time": "2022-09-10T09:56:57.034Z"
   },
   {
    "duration": 9,
    "start_time": "2022-09-10T09:56:57.080Z"
   },
   {
    "duration": 21,
    "start_time": "2022-09-10T09:56:57.090Z"
   },
   {
    "duration": 57,
    "start_time": "2022-09-10T09:56:57.113Z"
   },
   {
    "duration": 11,
    "start_time": "2022-09-10T09:56:57.171Z"
   },
   {
    "duration": 14,
    "start_time": "2022-09-10T09:56:57.184Z"
   },
   {
    "duration": 31,
    "start_time": "2022-09-10T09:56:57.199Z"
   },
   {
    "duration": 69,
    "start_time": "2022-09-10T09:56:57.232Z"
   },
   {
    "duration": 161,
    "start_time": "2022-09-10T09:56:57.303Z"
   },
   {
    "duration": 23,
    "start_time": "2022-09-10T09:56:57.466Z"
   },
   {
    "duration": 43,
    "start_time": "2022-09-10T09:56:57.490Z"
   },
   {
    "duration": 45,
    "start_time": "2022-09-10T09:56:57.534Z"
   },
   {
    "duration": 72,
    "start_time": "2022-09-10T09:56:57.581Z"
   },
   {
    "duration": 158,
    "start_time": "2022-09-10T09:56:57.655Z"
   },
   {
    "duration": 38,
    "start_time": "2022-09-10T09:56:57.815Z"
   },
   {
    "duration": 8,
    "start_time": "2022-09-10T09:56:57.855Z"
   },
   {
    "duration": 84,
    "start_time": "2022-09-10T09:56:57.864Z"
   },
   {
    "duration": 10,
    "start_time": "2022-09-10T09:56:57.950Z"
   },
   {
    "duration": 96,
    "start_time": "2022-09-10T09:56:57.962Z"
   },
   {
    "duration": 9,
    "start_time": "2022-09-10T09:56:58.059Z"
   },
   {
    "duration": 81,
    "start_time": "2022-09-10T09:56:58.070Z"
   },
   {
    "duration": 8,
    "start_time": "2022-09-10T09:56:58.156Z"
   },
   {
    "duration": 19,
    "start_time": "2022-09-10T09:56:58.166Z"
   },
   {
    "duration": 19,
    "start_time": "2022-09-10T09:56:58.187Z"
   },
   {
    "duration": 45,
    "start_time": "2022-09-10T09:56:58.208Z"
   },
   {
    "duration": 18,
    "start_time": "2022-09-10T09:56:58.254Z"
   },
   {
    "duration": 25,
    "start_time": "2022-09-10T09:56:58.274Z"
   },
   {
    "duration": 11,
    "start_time": "2022-09-10T09:56:58.301Z"
   },
   {
    "duration": 7,
    "start_time": "2022-09-10T09:56:58.314Z"
   },
   {
    "duration": 9,
    "start_time": "2022-09-10T09:58:51.948Z"
   },
   {
    "duration": 9,
    "start_time": "2022-09-10T09:58:53.800Z"
   },
   {
    "duration": 8,
    "start_time": "2022-09-10T09:58:55.676Z"
   },
   {
    "duration": 3,
    "start_time": "2022-09-10T09:58:59.804Z"
   },
   {
    "duration": 147,
    "start_time": "2022-09-10T09:58:59.809Z"
   },
   {
    "duration": 17,
    "start_time": "2022-09-10T09:58:59.958Z"
   },
   {
    "duration": 20,
    "start_time": "2022-09-10T09:58:59.977Z"
   },
   {
    "duration": 3,
    "start_time": "2022-09-10T09:58:59.998Z"
   },
   {
    "duration": 16,
    "start_time": "2022-09-10T09:59:00.003Z"
   },
   {
    "duration": 1653,
    "start_time": "2022-09-10T09:59:00.021Z"
   },
   {
    "duration": 13,
    "start_time": "2022-09-10T09:59:01.676Z"
   },
   {
    "duration": 14,
    "start_time": "2022-09-10T09:59:01.690Z"
   },
   {
    "duration": 15,
    "start_time": "2022-09-10T09:59:01.706Z"
   },
   {
    "duration": 44,
    "start_time": "2022-09-10T09:59:01.724Z"
   },
   {
    "duration": 28,
    "start_time": "2022-09-10T09:59:01.770Z"
   },
   {
    "duration": 27,
    "start_time": "2022-09-10T09:59:01.799Z"
   },
   {
    "duration": 187,
    "start_time": "2022-09-10T09:59:01.828Z"
   },
   {
    "duration": 14,
    "start_time": "2022-09-10T09:59:02.017Z"
   },
   {
    "duration": 31,
    "start_time": "2022-09-10T09:59:02.033Z"
   },
   {
    "duration": 62,
    "start_time": "2022-09-10T09:59:02.066Z"
   },
   {
    "duration": 19,
    "start_time": "2022-09-10T09:59:02.130Z"
   },
   {
    "duration": 43,
    "start_time": "2022-09-10T09:59:02.151Z"
   },
   {
    "duration": 16,
    "start_time": "2022-09-10T09:59:02.195Z"
   },
   {
    "duration": 22,
    "start_time": "2022-09-10T09:59:02.213Z"
   },
   {
    "duration": 13,
    "start_time": "2022-09-10T09:59:02.237Z"
   },
   {
    "duration": 27,
    "start_time": "2022-09-10T09:59:02.252Z"
   },
   {
    "duration": 46,
    "start_time": "2022-09-10T09:59:02.281Z"
   },
   {
    "duration": 27,
    "start_time": "2022-09-10T09:59:02.329Z"
   },
   {
    "duration": 58,
    "start_time": "2022-09-10T09:59:02.358Z"
   },
   {
    "duration": 46,
    "start_time": "2022-09-10T09:59:02.418Z"
   },
   {
    "duration": 44,
    "start_time": "2022-09-10T09:59:02.465Z"
   },
   {
    "duration": 30,
    "start_time": "2022-09-10T09:59:02.512Z"
   },
   {
    "duration": 13,
    "start_time": "2022-09-10T09:59:02.544Z"
   },
   {
    "duration": 68,
    "start_time": "2022-09-10T09:59:02.559Z"
   },
   {
    "duration": 21,
    "start_time": "2022-09-10T09:59:02.629Z"
   },
   {
    "duration": 20,
    "start_time": "2022-09-10T09:59:02.651Z"
   },
   {
    "duration": 26,
    "start_time": "2022-09-10T09:59:02.673Z"
   },
   {
    "duration": 11,
    "start_time": "2022-09-10T09:59:02.700Z"
   },
   {
    "duration": 29,
    "start_time": "2022-09-10T09:59:02.712Z"
   },
   {
    "duration": 32,
    "start_time": "2022-09-10T09:59:02.742Z"
   },
   {
    "duration": 23,
    "start_time": "2022-09-10T09:59:02.776Z"
   },
   {
    "duration": 4,
    "start_time": "2022-09-10T09:59:02.801Z"
   },
   {
    "duration": 298,
    "start_time": "2022-09-10T09:59:02.807Z"
   },
   {
    "duration": 9,
    "start_time": "2022-09-10T09:59:03.107Z"
   },
   {
    "duration": 182,
    "start_time": "2022-09-10T09:59:03.118Z"
   },
   {
    "duration": 6,
    "start_time": "2022-09-10T09:59:03.302Z"
   },
   {
    "duration": 8,
    "start_time": "2022-09-10T09:59:03.309Z"
   },
   {
    "duration": 29,
    "start_time": "2022-09-10T09:59:03.318Z"
   },
   {
    "duration": 175,
    "start_time": "2022-09-10T09:59:03.349Z"
   },
   {
    "duration": 521,
    "start_time": "2022-09-10T09:59:03.526Z"
   },
   {
    "duration": 100,
    "start_time": "2022-09-10T09:59:04.048Z"
   },
   {
    "duration": 4,
    "start_time": "2022-09-10T09:59:04.150Z"
   },
   {
    "duration": 23,
    "start_time": "2022-09-10T09:59:04.155Z"
   },
   {
    "duration": 186,
    "start_time": "2022-09-10T09:59:04.180Z"
   },
   {
    "duration": 6,
    "start_time": "2022-09-10T09:59:04.368Z"
   },
   {
    "duration": 17,
    "start_time": "2022-09-10T09:59:04.376Z"
   },
   {
    "duration": 125,
    "start_time": "2022-09-10T09:59:04.395Z"
   },
   {
    "duration": 85,
    "start_time": "2022-09-10T09:59:04.522Z"
   },
   {
    "duration": 44,
    "start_time": "2022-09-10T09:59:04.608Z"
   },
   {
    "duration": 3,
    "start_time": "2022-09-10T09:59:04.654Z"
   },
   {
    "duration": 25,
    "start_time": "2022-09-10T09:59:04.659Z"
   },
   {
    "duration": 13,
    "start_time": "2022-09-10T09:59:04.686Z"
   },
   {
    "duration": 6,
    "start_time": "2022-09-10T09:59:04.700Z"
   },
   {
    "duration": 61,
    "start_time": "2022-09-10T09:59:04.707Z"
   },
   {
    "duration": 142,
    "start_time": "2022-09-10T09:59:04.769Z"
   },
   {
    "duration": 11,
    "start_time": "2022-09-10T09:59:04.913Z"
   },
   {
    "duration": 39,
    "start_time": "2022-09-10T09:59:04.926Z"
   },
   {
    "duration": 63,
    "start_time": "2022-09-10T09:59:04.967Z"
   },
   {
    "duration": 26,
    "start_time": "2022-09-10T09:59:05.032Z"
   },
   {
    "duration": 14,
    "start_time": "2022-09-10T09:59:05.060Z"
   },
   {
    "duration": 16,
    "start_time": "2022-09-10T09:59:05.076Z"
   },
   {
    "duration": 84,
    "start_time": "2022-09-10T09:59:05.093Z"
   },
   {
    "duration": 189,
    "start_time": "2022-09-10T09:59:05.179Z"
   },
   {
    "duration": 24,
    "start_time": "2022-09-10T09:59:05.370Z"
   },
   {
    "duration": 26,
    "start_time": "2022-09-10T09:59:05.396Z"
   },
   {
    "duration": 44,
    "start_time": "2022-09-10T09:59:05.424Z"
   },
   {
    "duration": 56,
    "start_time": "2022-09-10T09:59:05.470Z"
   },
   {
    "duration": 177,
    "start_time": "2022-09-10T09:59:05.528Z"
   },
   {
    "duration": 46,
    "start_time": "2022-09-10T09:59:05.707Z"
   },
   {
    "duration": 10,
    "start_time": "2022-09-10T09:59:12.848Z"
   },
   {
    "duration": 7,
    "start_time": "2022-09-10T09:59:28.553Z"
   },
   {
    "duration": 8,
    "start_time": "2022-09-10T09:59:29.580Z"
   },
   {
    "duration": 8,
    "start_time": "2022-09-10T09:59:30.961Z"
   },
   {
    "duration": 8,
    "start_time": "2022-09-10T09:59:31.820Z"
   },
   {
    "duration": 8,
    "start_time": "2022-09-10T09:59:33.044Z"
   },
   {
    "duration": 9,
    "start_time": "2022-09-10T09:59:33.848Z"
   },
   {
    "duration": 71,
    "start_time": "2022-09-10T09:59:37.944Z"
   },
   {
    "duration": 10,
    "start_time": "2022-09-10T09:59:42.368Z"
   },
   {
    "duration": 61,
    "start_time": "2022-09-10T09:59:45.149Z"
   },
   {
    "duration": 10,
    "start_time": "2022-09-10T09:59:48.272Z"
   },
   {
    "duration": 63,
    "start_time": "2022-09-10T09:59:52.935Z"
   },
   {
    "duration": 9,
    "start_time": "2022-09-10T09:59:56.088Z"
   },
   {
    "duration": 73,
    "start_time": "2022-09-10T10:00:00.349Z"
   },
   {
    "duration": 9,
    "start_time": "2022-09-10T10:00:03.549Z"
   },
   {
    "duration": 859,
    "start_time": "2022-09-19T12:33:00.559Z"
   },
   {
    "duration": 231,
    "start_time": "2022-09-19T12:33:01.420Z"
   },
   {
    "duration": 26,
    "start_time": "2022-09-19T12:33:02.947Z"
   },
   {
    "duration": 18,
    "start_time": "2022-09-19T12:33:05.119Z"
   },
   {
    "duration": 13,
    "start_time": "2022-09-19T12:33:06.755Z"
   },
   {
    "duration": 3,
    "start_time": "2022-09-19T12:33:08.409Z"
   },
   {
    "duration": 13,
    "start_time": "2022-09-19T12:33:09.807Z"
   },
   {
    "duration": 1981,
    "start_time": "2022-09-19T12:33:11.535Z"
   },
   {
    "duration": 12,
    "start_time": "2022-09-19T12:33:54.113Z"
   },
   {
    "duration": 9,
    "start_time": "2022-09-19T12:33:55.609Z"
   },
   {
    "duration": 12,
    "start_time": "2022-09-19T12:34:00.701Z"
   },
   {
    "duration": 7,
    "start_time": "2022-09-19T12:34:03.428Z"
   },
   {
    "duration": 5,
    "start_time": "2022-09-19T12:34:10.500Z"
   },
   {
    "duration": 634,
    "start_time": "2022-09-19T12:34:12.135Z"
   },
   {
    "duration": 14,
    "start_time": "2022-09-19T12:34:14.132Z"
   },
   {
    "duration": 7,
    "start_time": "2022-09-19T12:34:15.343Z"
   },
   {
    "duration": 25,
    "start_time": "2022-09-19T12:34:16.171Z"
   },
   {
    "duration": 8,
    "start_time": "2022-09-19T12:34:26.209Z"
   },
   {
    "duration": 33,
    "start_time": "2022-09-19T12:34:30.905Z"
   },
   {
    "duration": 30,
    "start_time": "2022-09-19T12:34:32.920Z"
   },
   {
    "duration": 6,
    "start_time": "2022-09-19T12:34:39.023Z"
   },
   {
    "duration": 9,
    "start_time": "2022-09-19T12:34:40.327Z"
   },
   {
    "duration": 4,
    "start_time": "2022-09-19T12:34:41.897Z"
   },
   {
    "duration": 3,
    "start_time": "2022-09-19T12:34:43.243Z"
   },
   {
    "duration": 3,
    "start_time": "2022-09-19T12:34:47.101Z"
   },
   {
    "duration": 458,
    "start_time": "2022-09-19T12:34:47.106Z"
   },
   {
    "duration": 22,
    "start_time": "2022-09-19T12:34:47.566Z"
   },
   {
    "duration": 33,
    "start_time": "2022-09-19T12:34:47.591Z"
   },
   {
    "duration": 6,
    "start_time": "2022-09-19T12:34:47.626Z"
   },
   {
    "duration": 27,
    "start_time": "2022-09-19T12:34:47.633Z"
   },
   {
    "duration": 1561,
    "start_time": "2022-09-19T12:34:47.661Z"
   },
   {
    "duration": 12,
    "start_time": "2022-09-19T12:34:49.223Z"
   },
   {
    "duration": 35,
    "start_time": "2022-09-19T12:34:49.237Z"
   },
   {
    "duration": 44,
    "start_time": "2022-09-19T12:34:49.274Z"
   },
   {
    "duration": 27,
    "start_time": "2022-09-19T12:34:49.319Z"
   },
   {
    "duration": 37,
    "start_time": "2022-09-19T12:34:49.348Z"
   },
   {
    "duration": 10,
    "start_time": "2022-09-19T12:34:49.387Z"
   },
   {
    "duration": 231,
    "start_time": "2022-09-19T12:34:49.398Z"
   },
   {
    "duration": 15,
    "start_time": "2022-09-19T12:34:49.631Z"
   },
   {
    "duration": 12,
    "start_time": "2022-09-19T12:34:49.647Z"
   },
   {
    "duration": 25,
    "start_time": "2022-09-19T12:34:49.661Z"
   },
   {
    "duration": 22,
    "start_time": "2022-09-19T12:34:49.688Z"
   },
   {
    "duration": 30,
    "start_time": "2022-09-19T12:34:49.712Z"
   },
   {
    "duration": 5,
    "start_time": "2022-09-19T12:34:49.744Z"
   },
   {
    "duration": 13,
    "start_time": "2022-09-19T12:34:49.751Z"
   },
   {
    "duration": 18,
    "start_time": "2022-09-19T12:34:49.766Z"
   },
   {
    "duration": 13,
    "start_time": "2022-09-19T12:34:49.785Z"
   },
   {
    "duration": 4,
    "start_time": "2022-09-19T12:34:49.808Z"
   },
   {
    "duration": 9,
    "start_time": "2022-09-19T12:34:49.814Z"
   },
   {
    "duration": 13,
    "start_time": "2022-09-19T12:34:49.824Z"
   },
   {
    "duration": 24,
    "start_time": "2022-09-19T12:34:49.839Z"
   },
   {
    "duration": 8,
    "start_time": "2022-09-19T12:34:49.864Z"
   },
   {
    "duration": 15,
    "start_time": "2022-09-19T12:34:49.873Z"
   },
   {
    "duration": 7,
    "start_time": "2022-09-19T12:34:49.890Z"
   },
   {
    "duration": 17,
    "start_time": "2022-09-19T12:34:49.898Z"
   },
   {
    "duration": 3,
    "start_time": "2022-09-19T12:34:49.917Z"
   },
   {
    "duration": 10,
    "start_time": "2022-09-19T12:34:49.922Z"
   },
   {
    "duration": 15,
    "start_time": "2022-09-19T12:34:49.933Z"
   },
   {
    "duration": 4,
    "start_time": "2022-09-19T12:34:49.949Z"
   },
   {
    "duration": 66,
    "start_time": "2022-09-19T12:34:49.954Z"
   },
   {
    "duration": 11,
    "start_time": "2022-09-19T12:34:50.021Z"
   },
   {
    "duration": 20,
    "start_time": "2022-09-19T12:34:50.034Z"
   },
   {
    "duration": 4,
    "start_time": "2022-09-19T12:34:50.056Z"
   },
   {
    "duration": 258,
    "start_time": "2022-09-19T12:34:50.061Z"
   },
   {
    "duration": 7,
    "start_time": "2022-09-19T12:34:50.320Z"
   },
   {
    "duration": 284,
    "start_time": "2022-09-19T12:34:50.328Z"
   },
   {
    "duration": 6,
    "start_time": "2022-09-19T12:34:50.614Z"
   },
   {
    "duration": 7,
    "start_time": "2022-09-19T12:34:50.621Z"
   },
   {
    "duration": 8,
    "start_time": "2022-09-19T12:34:50.629Z"
   },
   {
    "duration": 190,
    "start_time": "2022-09-19T12:34:50.638Z"
   },
   {
    "duration": 500,
    "start_time": "2022-09-19T12:34:50.829Z"
   },
   {
    "duration": 103,
    "start_time": "2022-09-19T12:34:51.330Z"
   },
   {
    "duration": 4,
    "start_time": "2022-09-19T12:34:51.434Z"
   },
   {
    "duration": 42,
    "start_time": "2022-09-19T12:34:51.439Z"
   },
   {
    "duration": 164,
    "start_time": "2022-09-19T12:34:51.482Z"
   },
   {
    "duration": 5,
    "start_time": "2022-09-19T12:34:51.647Z"
   },
   {
    "duration": 17,
    "start_time": "2022-09-19T12:34:51.653Z"
   },
   {
    "duration": 108,
    "start_time": "2022-09-19T12:34:51.671Z"
   },
   {
    "duration": 79,
    "start_time": "2022-09-19T12:34:51.780Z"
   },
   {
    "duration": 15,
    "start_time": "2022-09-19T12:34:51.861Z"
   },
   {
    "duration": 3,
    "start_time": "2022-09-19T12:34:51.878Z"
   },
   {
    "duration": 36,
    "start_time": "2022-09-19T12:34:51.883Z"
   },
   {
    "duration": 18,
    "start_time": "2022-09-19T12:34:51.921Z"
   },
   {
    "duration": 8,
    "start_time": "2022-09-19T12:34:51.941Z"
   },
   {
    "duration": 60,
    "start_time": "2022-09-19T12:34:51.950Z"
   },
   {
    "duration": 49,
    "start_time": "2022-09-19T12:34:52.012Z"
   },
   {
    "duration": 10,
    "start_time": "2022-09-19T12:34:52.062Z"
   },
   {
    "duration": 43,
    "start_time": "2022-09-19T12:34:52.075Z"
   },
   {
    "duration": 47,
    "start_time": "2022-09-19T12:34:52.120Z"
   },
   {
    "duration": 40,
    "start_time": "2022-09-19T12:34:52.169Z"
   },
   {
    "duration": 11,
    "start_time": "2022-09-19T12:34:52.211Z"
   },
   {
    "duration": 13,
    "start_time": "2022-09-19T12:34:52.224Z"
   },
   {
    "duration": 69,
    "start_time": "2022-09-19T12:34:52.242Z"
   },
   {
    "duration": 156,
    "start_time": "2022-09-19T12:34:52.313Z"
   },
   {
    "duration": 38,
    "start_time": "2022-09-19T12:34:52.471Z"
   },
   {
    "duration": 35,
    "start_time": "2022-09-19T12:34:52.510Z"
   },
   {
    "duration": 48,
    "start_time": "2022-09-19T12:34:52.546Z"
   },
   {
    "duration": 87,
    "start_time": "2022-09-19T12:34:52.595Z"
   },
   {
    "duration": 156,
    "start_time": "2022-09-19T12:34:52.683Z"
   },
   {
    "duration": 20,
    "start_time": "2022-09-19T12:34:52.840Z"
   },
   {
    "duration": 8,
    "start_time": "2022-09-19T12:34:52.861Z"
   },
   {
    "duration": 101,
    "start_time": "2022-09-19T12:34:52.871Z"
   },
   {
    "duration": 8,
    "start_time": "2022-09-19T12:34:52.974Z"
   },
   {
    "duration": 75,
    "start_time": "2022-09-19T12:34:52.983Z"
   },
   {
    "duration": 8,
    "start_time": "2022-09-19T12:34:53.059Z"
   },
   {
    "duration": 90,
    "start_time": "2022-09-19T12:34:53.068Z"
   },
   {
    "duration": 8,
    "start_time": "2022-09-19T12:34:53.160Z"
   },
   {
    "duration": 15,
    "start_time": "2022-09-19T12:34:53.170Z"
   },
   {
    "duration": 10,
    "start_time": "2022-09-19T12:34:53.186Z"
   },
   {
    "duration": 7,
    "start_time": "2022-09-19T12:34:53.198Z"
   },
   {
    "duration": 10,
    "start_time": "2022-09-19T12:34:53.209Z"
   },
   {
    "duration": 9,
    "start_time": "2022-09-19T12:34:53.220Z"
   },
   {
    "duration": 19,
    "start_time": "2022-09-19T12:34:53.231Z"
   },
   {
    "duration": 18,
    "start_time": "2022-09-19T12:34:53.251Z"
   },
   {
    "duration": 44,
    "start_time": "2022-10-06T08:46:27.746Z"
   },
   {
    "duration": 860,
    "start_time": "2022-10-06T08:46:29.090Z"
   },
   {
    "duration": 70,
    "start_time": "2022-10-06T08:46:30.251Z"
   }
  ],
  "kernelspec": {
   "display_name": "Python 3",
   "language": "python",
   "name": "python3"
  },
  "language_info": {
   "codemirror_mode": {
    "name": "ipython",
    "version": 3
   },
   "file_extension": ".py",
   "mimetype": "text/x-python",
   "name": "python",
   "nbconvert_exporter": "python",
   "pygments_lexer": "ipython3",
   "version": "3.10.11"
  },
  "toc": {
   "base_numbering": 1,
   "nav_menu": {
    "height": "407px",
    "width": "719.167px"
   },
   "number_sections": true,
   "sideBar": true,
   "skip_h1_title": true,
   "title_cell": "Table of Contents",
   "title_sidebar": "Contents",
   "toc_cell": false,
   "toc_position": {
    "height": "calc(100% - 180px)",
    "left": "10px",
    "top": "150px",
    "width": "309.517px"
   },
   "toc_section_display": true,
   "toc_window_display": true
  },
  "toc-autonumbering": true,
  "toc-showmarkdowntxt": false,
  "vscode": {
   "interpreter": {
    "hash": "7b1f2b33e866b0bf2409397e5f58ba9cdf170d3b7f64c8f359c79998e2f88ad4"
   }
  }
 },
 "nbformat": 4,
 "nbformat_minor": 4
}
