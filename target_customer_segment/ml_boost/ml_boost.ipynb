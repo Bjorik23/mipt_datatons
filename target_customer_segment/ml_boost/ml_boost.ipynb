{
 "cells": [
  {
   "cell_type": "code",
   "execution_count": 1,
   "metadata": {},
   "outputs": [],
   "source": [
    "import pandas as pd\n",
    "\n",
    "from sklearn.model_selection import train_test_split\n",
    "from sklearn.preprocessing import StandardScaler\n",
    "from xgboost import XGBClassifier, XGBRegressor\n",
    "from sklearn.metrics import accuracy_score, classification_report, mean_absolute_percentage_error, roc_curve\n",
    "from sklearn.metrics import confusion_matrix, f1_score\n",
    "from lightgbm import LGBMRegressor, LGBMClassifier\n",
    "from catboost import CatBoostClassifier, CatBoostRegressor\n",
    "import pickle\n",
    "\n",
    "import optuna\n",
    "from optuna.visualization.matplotlib import plot_optimization_history\n",
    "from optuna.visualization.matplotlib import plot_param_importances\n",
    "\n",
    "import matplotlib.pyplot as plt\n",
    "import seaborn as sns"
   ]
  },
  {
   "cell_type": "code",
   "execution_count": 2,
   "metadata": {},
   "outputs": [
    {
     "data": {
      "text/html": [
       "<div>\n",
       "<style scoped>\n",
       "    .dataframe tbody tr th:only-of-type {\n",
       "        vertical-align: middle;\n",
       "    }\n",
       "\n",
       "    .dataframe tbody tr th {\n",
       "        vertical-align: top;\n",
       "    }\n",
       "\n",
       "    .dataframe thead th {\n",
       "        text-align: right;\n",
       "    }\n",
       "</style>\n",
       "<table border=\"1\" class=\"dataframe\">\n",
       "  <thead>\n",
       "    <tr style=\"text-align: right;\">\n",
       "      <th></th>\n",
       "      <th>feature_0</th>\n",
       "      <th>feature_1</th>\n",
       "      <th>feature_2</th>\n",
       "      <th>feature_3</th>\n",
       "      <th>feature_4</th>\n",
       "      <th>feature_5</th>\n",
       "      <th>feature_6</th>\n",
       "      <th>feature_7</th>\n",
       "      <th>feature_8</th>\n",
       "      <th>feature_9</th>\n",
       "      <th>...</th>\n",
       "      <th>feature_56</th>\n",
       "      <th>feature_57</th>\n",
       "      <th>feature_58</th>\n",
       "      <th>feature_59</th>\n",
       "      <th>feature_60</th>\n",
       "      <th>feature_61</th>\n",
       "      <th>feature_62</th>\n",
       "      <th>feature_63</th>\n",
       "      <th>percent_nClick</th>\n",
       "      <th>BinNclick</th>\n",
       "    </tr>\n",
       "  </thead>\n",
       "  <tbody>\n",
       "    <tr>\n",
       "      <th>0</th>\n",
       "      <td>3.396450</td>\n",
       "      <td>0.401957</td>\n",
       "      <td>2.514440</td>\n",
       "      <td>-1.278493</td>\n",
       "      <td>0.696468</td>\n",
       "      <td>0.669427</td>\n",
       "      <td>1.454799</td>\n",
       "      <td>-1.411128</td>\n",
       "      <td>-2.325530</td>\n",
       "      <td>-0.340336</td>\n",
       "      <td>...</td>\n",
       "      <td>2.123550</td>\n",
       "      <td>-2.131998</td>\n",
       "      <td>3.520958</td>\n",
       "      <td>5.353183</td>\n",
       "      <td>0.080014</td>\n",
       "      <td>-1.365481</td>\n",
       "      <td>0.852700</td>\n",
       "      <td>-0.551261</td>\n",
       "      <td>0.0</td>\n",
       "      <td>0.0</td>\n",
       "    </tr>\n",
       "    <tr>\n",
       "      <th>1</th>\n",
       "      <td>2.752378</td>\n",
       "      <td>2.324396</td>\n",
       "      <td>2.828439</td>\n",
       "      <td>-3.433444</td>\n",
       "      <td>0.401047</td>\n",
       "      <td>-2.011863</td>\n",
       "      <td>-0.728933</td>\n",
       "      <td>-2.993193</td>\n",
       "      <td>-3.696246</td>\n",
       "      <td>1.775527</td>\n",
       "      <td>...</td>\n",
       "      <td>2.362711</td>\n",
       "      <td>-4.364689</td>\n",
       "      <td>4.750610</td>\n",
       "      <td>5.487312</td>\n",
       "      <td>0.432480</td>\n",
       "      <td>-3.199559</td>\n",
       "      <td>-0.086040</td>\n",
       "      <td>-0.206128</td>\n",
       "      <td>0.0</td>\n",
       "      <td>0.0</td>\n",
       "    </tr>\n",
       "    <tr>\n",
       "      <th>2</th>\n",
       "      <td>3.490490</td>\n",
       "      <td>1.512165</td>\n",
       "      <td>3.403857</td>\n",
       "      <td>-3.632755</td>\n",
       "      <td>0.310504</td>\n",
       "      <td>-1.970605</td>\n",
       "      <td>-0.608910</td>\n",
       "      <td>-4.947670</td>\n",
       "      <td>-4.198528</td>\n",
       "      <td>2.167250</td>\n",
       "      <td>...</td>\n",
       "      <td>3.768230</td>\n",
       "      <td>-4.947408</td>\n",
       "      <td>6.480114</td>\n",
       "      <td>6.462525</td>\n",
       "      <td>0.973213</td>\n",
       "      <td>-2.188324</td>\n",
       "      <td>-0.684284</td>\n",
       "      <td>0.239616</td>\n",
       "      <td>0.0</td>\n",
       "      <td>0.0</td>\n",
       "    </tr>\n",
       "    <tr>\n",
       "      <th>3</th>\n",
       "      <td>2.533500</td>\n",
       "      <td>-0.790464</td>\n",
       "      <td>3.620891</td>\n",
       "      <td>-2.186726</td>\n",
       "      <td>0.025617</td>\n",
       "      <td>0.246850</td>\n",
       "      <td>0.983440</td>\n",
       "      <td>-3.700051</td>\n",
       "      <td>-3.112433</td>\n",
       "      <td>1.624841</td>\n",
       "      <td>...</td>\n",
       "      <td>1.038836</td>\n",
       "      <td>-3.782856</td>\n",
       "      <td>4.963671</td>\n",
       "      <td>6.902436</td>\n",
       "      <td>-0.580284</td>\n",
       "      <td>-1.205756</td>\n",
       "      <td>0.094856</td>\n",
       "      <td>-0.153280</td>\n",
       "      <td>0.0</td>\n",
       "      <td>0.0</td>\n",
       "    </tr>\n",
       "    <tr>\n",
       "      <th>4</th>\n",
       "      <td>1.848037</td>\n",
       "      <td>1.126874</td>\n",
       "      <td>3.977530</td>\n",
       "      <td>-4.518314</td>\n",
       "      <td>-0.000538</td>\n",
       "      <td>-2.603749</td>\n",
       "      <td>-1.701738</td>\n",
       "      <td>-5.130782</td>\n",
       "      <td>-4.403915</td>\n",
       "      <td>3.763445</td>\n",
       "      <td>...</td>\n",
       "      <td>1.359940</td>\n",
       "      <td>-6.128437</td>\n",
       "      <td>5.913571</td>\n",
       "      <td>7.023829</td>\n",
       "      <td>-0.172708</td>\n",
       "      <td>-3.132971</td>\n",
       "      <td>-0.755029</td>\n",
       "      <td>0.065173</td>\n",
       "      <td>0.0</td>\n",
       "      <td>0.0</td>\n",
       "    </tr>\n",
       "  </tbody>\n",
       "</table>\n",
       "<p>5 rows × 66 columns</p>\n",
       "</div>"
      ],
      "text/plain": [
       "   feature_0  feature_1  feature_2  feature_3  feature_4  feature_5   \n",
       "0   3.396450   0.401957   2.514440  -1.278493   0.696468   0.669427  \\\n",
       "1   2.752378   2.324396   2.828439  -3.433444   0.401047  -2.011863   \n",
       "2   3.490490   1.512165   3.403857  -3.632755   0.310504  -1.970605   \n",
       "3   2.533500  -0.790464   3.620891  -2.186726   0.025617   0.246850   \n",
       "4   1.848037   1.126874   3.977530  -4.518314  -0.000538  -2.603749   \n",
       "\n",
       "   feature_6  feature_7  feature_8  feature_9  ...  feature_56  feature_57   \n",
       "0   1.454799  -1.411128  -2.325530  -0.340336  ...    2.123550   -2.131998  \\\n",
       "1  -0.728933  -2.993193  -3.696246   1.775527  ...    2.362711   -4.364689   \n",
       "2  -0.608910  -4.947670  -4.198528   2.167250  ...    3.768230   -4.947408   \n",
       "3   0.983440  -3.700051  -3.112433   1.624841  ...    1.038836   -3.782856   \n",
       "4  -1.701738  -5.130782  -4.403915   3.763445  ...    1.359940   -6.128437   \n",
       "\n",
       "   feature_58  feature_59  feature_60  feature_61  feature_62  feature_63   \n",
       "0    3.520958    5.353183    0.080014   -1.365481    0.852700   -0.551261  \\\n",
       "1    4.750610    5.487312    0.432480   -3.199559   -0.086040   -0.206128   \n",
       "2    6.480114    6.462525    0.973213   -2.188324   -0.684284    0.239616   \n",
       "3    4.963671    6.902436   -0.580284   -1.205756    0.094856   -0.153280   \n",
       "4    5.913571    7.023829   -0.172708   -3.132971   -0.755029    0.065173   \n",
       "\n",
       "   percent_nClick  BinNclick  \n",
       "0             0.0        0.0  \n",
       "1             0.0        0.0  \n",
       "2             0.0        0.0  \n",
       "3             0.0        0.0  \n",
       "4             0.0        0.0  \n",
       "\n",
       "[5 rows x 66 columns]"
      ]
     },
     "execution_count": 2,
     "metadata": {},
     "output_type": "execute_result"
    }
   ],
   "source": [
    "df = pd.read_csv('../feature_selection/data/embdedding_features.csv', index_col=0)\n",
    "df.head()"
   ]
  },
  {
   "cell_type": "code",
   "execution_count": 3,
   "metadata": {},
   "outputs": [
    {
     "data": {
      "text/plain": [
       "Text(0.5, 1.0, 'Распределение таргетов')"
      ]
     },
     "execution_count": 3,
     "metadata": {},
     "output_type": "execute_result"
    },
    {
     "data": {
      "image/png": "[encoded data removed]",
      "text/plain": [
       "<Figure size 800x800 with 2 Axes>"
      ]
     },
     "metadata": {},
     "output_type": "display_data"
    }
   ],
   "source": [
    "fig, axes = plt.subplots(nrows=2, ncols=1, figsize=(8, 8))\n",
    "sns.histplot(\n",
    "    data=df,\n",
    "    x='percent_nClick',\n",
    "    bins=25,\n",
    "    #kde=True,\n",
    "    ax=axes[0]\n",
    ");\n",
    "sns.histplot(\n",
    "    data=df,\n",
    "    x='BinNclick',\n",
    "    bins=25,\n",
    "    ax=axes[1]\n",
    ");\n",
    "axes[0].set_title('Распределение таргетов', fontsize=16)"
   ]
  },
  {
   "cell_type": "markdown",
   "metadata": {},
   "source": [
    "### Регрессия"
   ]
  },
  {
   "cell_type": "code",
   "execution_count": 4,
   "metadata": {},
   "outputs": [],
   "source": [
    "# X = df.drop(['percent_nClick', 'BinNclick'], axis=1)\n",
    "# y = df['percent_nClick']\n",
    "\n",
    "# X_train, X_test, y_train, y_test = train_test_split(X, y, test_size=0.2, random_state=42)"
   ]
  },
  {
   "cell_type": "code",
   "execution_count": 5,
   "metadata": {},
   "outputs": [],
   "source": [
    "# def objective(trial):\n",
    "#     params={'verbosity':-1,\n",
    "#             'lambda_l2':trial.suggest_float('lambda_l2', 0.1, 1),\n",
    "#             'max_depth':trial.suggest_int('max_depth', 5, 100, step=0.05),\n",
    "#             'num_leaves':trial.suggest_int('num_leaves', 5, 105, step=10),\n",
    "#             'learning_rate':trial.suggest_float('learning_rate',0.001, 0.1, step=0.01),\n",
    "#             'bagging_fraction': trial.suggest_float('bagging_fraction', 0.5, 0.8 , step=0.1)\n",
    "#             }\n",
    "\n",
    "#     reg = LGBMRegressor(**params)\n",
    "#     reg.fit(X_train, y_train)\n",
    "#     y_pr = reg.predict(X_test)\n",
    "#     mape = mean_absolute_percentage_error(y_test, y_pr)\n",
    "#     return mape\n",
    "\n",
    "\n",
    "# study = optuna.create_study()\n",
    "# study.optimize(objective, n_trials=100, timeout=60)"
   ]
  },
  {
   "cell_type": "markdown",
   "metadata": {},
   "source": [
    "## Классификация"
   ]
  },
  {
   "cell_type": "code",
   "execution_count": 6,
   "metadata": {},
   "outputs": [
    {
     "name": "stdout",
     "output_type": "stream",
     "text": [
      "Распределение в обучающих данных: BinNclick\n",
      "0.0    42056\n",
      "1.0    11431\n",
      "Name: count, dtype: int64\n",
      "Распределение в тестовых данных: BinNclick\n",
      "0.0    10648\n",
      "1.0     2724\n",
      "Name: count, dtype: int64\n"
     ]
    }
   ],
   "source": [
    "# Выделяем таргет\n",
    "X = df.drop(['percent_nClick', 'BinNclick'], axis=1)\n",
    "y = df['BinNclick']\n",
    "\n",
    "# Разделяем данные на тестовые и обучающие\n",
    "X_train, X_test, y_train, y_test = train_test_split(X, y, test_size=0.2, random_state=42)\n",
    "\n",
    "# Посмотрим распределение меток по данным\n",
    "print(f'Распределение в обучающих данных: {y_train.value_counts()}')\n",
    "print(f'Распределение в тестовых данных: {y_test.value_counts()}')"
   ]
  },
  {
   "cell_type": "code",
   "execution_count": 7,
   "metadata": {},
   "outputs": [],
   "source": [
    "sc=StandardScaler()\n",
    "sc.fit(X_train)\n",
    "X_train=sc.transform(X_train)\n",
    "X_test=sc.transform(X_test)"
   ]
  },
  {
   "cell_type": "markdown",
   "metadata": {},
   "source": [
    "### LightGBM"
   ]
  },
  {
   "cell_type": "code",
   "execution_count": 8,
   "metadata": {},
   "outputs": [
    {
     "name": "stderr",
     "output_type": "stream",
     "text": [
      "[I 2024-05-19 18:07:25,945] A new study created in memory with name: no-name-be9d29c1-5947-4a33-b1fd-00ce34e01616\n",
      "[I 2024-05-19 18:07:27,957] Trial 0 finished with value: 0.16862869869551383 and parameters: {'lambda_l1': 0.000530375676509298, 'lambda_l2': 0.000510019031466659, 'num_leaves': 117, 'feature_fraction': 0.4036481039699737, 'bagging_fraction': 0.8829084207350466, 'bagging_freq': 1, 'min_child_samples': 11}. Best is trial 0 with value: 0.16862869869551383.\n",
      "[I 2024-05-19 18:07:31,743] Trial 1 finished with value: 0.22379687038677296 and parameters: {'lambda_l1': 0.004511896478486194, 'lambda_l2': 2.855762470872016e-08, 'num_leaves': 185, 'feature_fraction': 0.7958774011738441, 'bagging_fraction': 0.6411983846492082, 'bagging_freq': 2, 'min_child_samples': 76}. Best is trial 1 with value: 0.22379687038677296.\n",
      "[I 2024-05-19 18:07:33,051] Trial 2 finished with value: 0.11654387139986602 and parameters: {'lambda_l1': 0.002055567238882982, 'lambda_l2': 1.3078905057347223e-08, 'num_leaves': 33, 'feature_fraction': 0.42269200293537257, 'bagging_fraction': 0.8100729807679798, 'bagging_freq': 6, 'min_child_samples': 88}. Best is trial 1 with value: 0.22379687038677296.\n",
      "[I 2024-05-19 18:07:36,766] Trial 3 finished with value: 0.21968101113451696 and parameters: {'lambda_l1': 0.002096072348898461, 'lambda_l2': 3.199310978056848e-08, 'num_leaves': 164, 'feature_fraction': 0.7272587110427586, 'bagging_fraction': 0.720171013046305, 'bagging_freq': 5, 'min_child_samples': 72}. Best is trial 1 with value: 0.22379687038677296.\n",
      "[I 2024-05-19 18:07:40,868] Trial 4 finished with value: 0.2336065573770492 and parameters: {'lambda_l1': 1.309481560270707, 'lambda_l2': 0.001408215275921177, 'num_leaves': 230, 'feature_fraction': 0.7203311095686868, 'bagging_fraction': 0.5535401377919481, 'bagging_freq': 6, 'min_child_samples': 67}. Best is trial 4 with value: 0.2336065573770492.\n",
      "[I 2024-05-19 18:07:42,264] Trial 5 finished with value: 0.10746873943899966 and parameters: {'lambda_l1': 0.03192165943269108, 'lambda_l2': 4.0161245851938e-06, 'num_leaves': 27, 'feature_fraction': 0.4262356288176999, 'bagging_fraction': 0.789380024942135, 'bagging_freq': 7, 'min_child_samples': 45}. Best is trial 4 with value: 0.2336065573770492.\n",
      "[I 2024-05-19 18:07:43,341] Trial 6 finished with value: 0.09925220938137323 and parameters: {'lambda_l1': 0.18579096067500414, 'lambda_l2': 2.787751794692347e-07, 'num_leaves': 16, 'feature_fraction': 0.508430298297612, 'bagging_fraction': 0.6157511385752165, 'bagging_freq': 1, 'min_child_samples': 62}. Best is trial 4 with value: 0.2336065573770492.\n",
      "[I 2024-05-19 18:07:46,329] Trial 7 finished with value: 0.1861485427765591 and parameters: {'lambda_l1': 1.4345774984239433e-06, 'lambda_l2': 2.338447768482392, 'num_leaves': 126, 'feature_fraction': 0.6835127001131023, 'bagging_fraction': 0.9106422458499153, 'bagging_freq': 6, 'min_child_samples': 89}. Best is trial 4 with value: 0.2336065573770492.\n",
      "[I 2024-05-19 18:07:49,835] Trial 8 finished with value: 0.21093750000000003 and parameters: {'lambda_l1': 5.370956394595127e-07, 'lambda_l2': 0.002075109562280831, 'num_leaves': 144, 'feature_fraction': 0.925945492309791, 'bagging_fraction': 0.6884064938098273, 'bagging_freq': 5, 'min_child_samples': 48}. Best is trial 4 with value: 0.2336065573770492.\n",
      "[I 2024-05-19 18:07:53,183] Trial 9 finished with value: 0.22670897029131817 and parameters: {'lambda_l1': 4.2981192428038196e-06, 'lambda_l2': 2.877700270933678e-06, 'num_leaves': 226, 'feature_fraction': 0.43364415874271134, 'bagging_fraction': 0.5168300211568868, 'bagging_freq': 6, 'min_child_samples': 9}. Best is trial 4 with value: 0.2336065573770492.\n",
      "[I 2024-05-19 18:07:57,319] Trial 10 finished with value: 0.192756292203806 and parameters: {'lambda_l1': 6.551830805250209, 'lambda_l2': 0.03777685417754109, 'num_leaves': 251, 'feature_fraction': 0.5857424669498512, 'bagging_fraction': 0.4151939704517628, 'bagging_freq': 3, 'min_child_samples': 32}. Best is trial 4 with value: 0.2336065573770492.\n",
      "[I 2024-05-19 18:08:03,044] Trial 11 finished with value: 0.22590615341388032 and parameters: {'lambda_l1': 8.492001644475206e-06, 'lambda_l2': 1.500747490115493e-05, 'num_leaves': 256, 'feature_fraction': 0.8539974317919132, 'bagging_fraction': 0.5022219072002055, 'bagging_freq': 7, 'min_child_samples': 5}. Best is trial 4 with value: 0.2336065573770492.\n",
      "[I 2024-05-19 18:08:06,679] Trial 12 finished with value: 0.22519639220250215 and parameters: {'lambda_l1': 2.3885757265940587e-08, 'lambda_l2': 2.344058290854859e-05, 'num_leaves': 209, 'feature_fraction': 0.6158937969939519, 'bagging_fraction': 0.5350638593360444, 'bagging_freq': 4, 'min_child_samples': 31}. Best is trial 4 with value: 0.2336065573770492.\n",
      "[I 2024-05-19 18:08:11,582] Trial 13 finished with value: 0.2375500858614768 and parameters: {'lambda_l1': 2.796530919898697e-05, 'lambda_l2': 0.030484142305401613, 'num_leaves': 211, 'feature_fraction': 0.9823831327076702, 'bagging_fraction': 0.5200373870676054, 'bagging_freq': 5, 'min_child_samples': 28}. Best is trial 13 with value: 0.2375500858614768.\n",
      "[I 2024-05-19 18:08:13,688] Trial 14 finished with value: 0.17961466749533875 and parameters: {'lambda_l1': 6.108866837506225e-05, 'lambda_l2': 0.03284869162641229, 'num_leaves': 70, 'feature_fraction': 0.8949485030607918, 'bagging_fraction': 0.40839145891490825, 'bagging_freq': 4, 'min_child_samples': 29}. Best is trial 13 with value: 0.2375500858614768.\n",
      "[I 2024-05-19 18:08:17,431] Trial 15 finished with value: 0.19292803970223324 and parameters: {'lambda_l1': 7.502964673721986, 'lambda_l2': 2.3820099208236134, 'num_leaves': 208, 'feature_fraction': 0.9972820943591097, 'bagging_fraction': 0.5740653692903526, 'bagging_freq': 5, 'min_child_samples': 60}. Best is trial 13 with value: 0.2375500858614768.\n",
      "[I 2024-05-19 18:08:21,508] Trial 16 finished with value: 0.22540145985401458 and parameters: {'lambda_l1': 0.19651113063657746, 'lambda_l2': 0.041740087204769814, 'num_leaves': 185, 'feature_fraction': 0.989595730171302, 'bagging_fraction': 0.4718030264304037, 'bagging_freq': 3, 'min_child_samples': 99}. Best is trial 13 with value: 0.2375500858614768.\n",
      "[I 2024-05-19 18:08:24,181] Trial 17 finished with value: 0.175625 and parameters: {'lambda_l1': 0.00010179547747364954, 'lambda_l2': 0.003564126597657433, 'num_leaves': 85, 'feature_fraction': 0.778069016296749, 'bagging_fraction': 0.593569395965324, 'bagging_freq': 6, 'min_child_samples': 22}. Best is trial 13 with value: 0.2375500858614768.\n",
      "[I 2024-05-19 18:08:28,428] Trial 18 finished with value: 0.2209200117198945 and parameters: {'lambda_l1': 2.5271231174840005e-07, 'lambda_l2': 0.3177303550941993, 'num_leaves': 237, 'feature_fraction': 0.6485914251546204, 'bagging_fraction': 0.6920188623253134, 'bagging_freq': 5, 'min_child_samples': 41}. Best is trial 13 with value: 0.2375500858614768.\n",
      "[I 2024-05-19 18:08:31,570] Trial 19 finished with value: 0.22008733624454146 and parameters: {'lambda_l1': 0.6689538883188245, 'lambda_l2': 0.00019690122392227702, 'num_leaves': 187, 'feature_fraction': 0.5436416757417247, 'bagging_fraction': 0.4770186245786069, 'bagging_freq': 7, 'min_child_samples': 57}. Best is trial 13 with value: 0.2375500858614768.\n",
      "[I 2024-05-19 18:08:35,172] Trial 20 finished with value: 0.22510312315851505 and parameters: {'lambda_l1': 2.0795542078582976e-05, 'lambda_l2': 0.005828536924738631, 'num_leaves': 160, 'feature_fraction': 0.7826297923393801, 'bagging_fraction': 0.5729249576602955, 'bagging_freq': 3, 'min_child_samples': 70}. Best is trial 13 with value: 0.2375500858614768.\n",
      "[I 2024-05-19 18:08:38,809] Trial 21 finished with value: 0.22669735327963178 and parameters: {'lambda_l1': 3.3579641140109593e-06, 'lambda_l2': 1.057714388265015e-06, 'num_leaves': 222, 'feature_fraction': 0.49207475346424323, 'bagging_fraction': 0.5223112791238054, 'bagging_freq': 6, 'min_child_samples': 17}. Best is trial 13 with value: 0.2375500858614768.\n",
      "[I 2024-05-19 18:08:43,060] Trial 22 finished with value: 0.20473876063183474 and parameters: {'lambda_l1': 2.617552599771729e-08, 'lambda_l2': 0.00011591205831762757, 'num_leaves': 224, 'feature_fraction': 0.7289620319830918, 'bagging_fraction': 0.9746384440879616, 'bagging_freq': 6, 'min_child_samples': 18}. Best is trial 13 with value: 0.2375500858614768.\n",
      "[I 2024-05-19 18:08:47,692] Trial 23 finished with value: 0.23017463498425425 and parameters: {'lambda_l1': 0.00018033585407922572, 'lambda_l2': 0.175231374570318, 'num_leaves': 209, 'feature_fraction': 0.8535850939169873, 'bagging_fraction': 0.46190260765619895, 'bagging_freq': 5, 'min_child_samples': 5}. Best is trial 13 with value: 0.2375500858614768.\n",
      "[I 2024-05-19 18:08:52,657] Trial 24 finished with value: 0.24576271186440676 and parameters: {'lambda_l1': 0.00018651884278192798, 'lambda_l2': 0.26660094121580963, 'num_leaves': 204, 'feature_fraction': 0.9304664267880496, 'bagging_fraction': 0.44243882826313097, 'bagging_freq': 4, 'min_child_samples': 37}. Best is trial 24 with value: 0.24576271186440676.\n",
      "[I 2024-05-19 18:08:58,621] Trial 25 finished with value: 0.24859075535512967 and parameters: {'lambda_l1': 0.02187338587630703, 'lambda_l2': 0.4162026171281486, 'num_leaves': 190, 'feature_fraction': 0.9481119968480919, 'bagging_fraction': 0.43625892477933026, 'bagging_freq': 4, 'min_child_samples': 36}. Best is trial 25 with value: 0.24859075535512967.\n",
      "[I 2024-05-19 18:09:02,479] Trial 26 finished with value: 0.20421490056396557 and parameters: {'lambda_l1': 0.014190246004529115, 'lambda_l2': 6.221480408569662, 'num_leaves': 166, 'feature_fraction': 0.9425701491542582, 'bagging_fraction': 0.4407090551339887, 'bagging_freq': 4, 'min_child_samples': 39}. Best is trial 25 with value: 0.24859075535512967.\n",
      "[I 2024-05-19 18:09:06,860] Trial 27 finished with value: 0.24092316352378274 and parameters: {'lambda_l1': 0.00047087712441057513, 'lambda_l2': 0.38504750622416045, 'num_leaves': 192, 'feature_fraction': 0.9471775210727994, 'bagging_fraction': 0.40552346789154337, 'bagging_freq': 3, 'min_child_samples': 36}. Best is trial 25 with value: 0.24859075535512967.\n",
      "[I 2024-05-19 18:09:09,588] Trial 28 finished with value: 0.19165659008464328 and parameters: {'lambda_l1': 0.0006951305465500862, 'lambda_l2': 0.5198893792361354, 'num_leaves': 104, 'feature_fraction': 0.8688978530879707, 'bagging_fraction': 0.40481604091636275, 'bagging_freq': 2, 'min_child_samples': 36}. Best is trial 25 with value: 0.24859075535512967.\n",
      "[I 2024-05-19 18:09:13,073] Trial 29 finished with value: 0.1962588163140141 and parameters: {'lambda_l1': 0.00048354886591035285, 'lambda_l2': 9.020834468490015, 'num_leaves': 144, 'feature_fraction': 0.9335803537598734, 'bagging_fraction': 0.4409174664390893, 'bagging_freq': 2, 'min_child_samples': 51}. Best is trial 25 with value: 0.24859075535512967.\n",
      "[I 2024-05-19 18:09:17,474] Trial 30 finished with value: 0.22261484098939932 and parameters: {'lambda_l1': 0.011861481015133193, 'lambda_l2': 0.8694537153272115, 'num_leaves': 191, 'feature_fraction': 0.9004888127725517, 'bagging_fraction': 0.6431524767311609, 'bagging_freq': 3, 'min_child_samples': 23}. Best is trial 25 with value: 0.24859075535512967.\n",
      "[I 2024-05-19 18:09:22,041] Trial 31 finished with value: 0.227884340108789 and parameters: {'lambda_l1': 2.4768831585879822e-05, 'lambda_l2': 0.0994018809256947, 'num_leaves': 200, 'feature_fraction': 0.9665292122511694, 'bagging_fraction': 0.48643473889799194, 'bagging_freq': 4, 'min_child_samples': 25}. Best is trial 25 with value: 0.24859075535512967.\n",
      "[I 2024-05-19 18:09:25,492] Trial 32 finished with value: 0.2379310344827586 and parameters: {'lambda_l1': 0.0006219379938616544, 'lambda_l2': 0.01563634728248298, 'num_leaves': 174, 'feature_fraction': 0.8160156258886376, 'bagging_fraction': 0.4515745156217764, 'bagging_freq': 4, 'min_child_samples': 43}. Best is trial 25 with value: 0.24859075535512967.\n",
      "[I 2024-05-19 18:09:29,019] Trial 33 finished with value: 0.23387790197764405 and parameters: {'lambda_l1': 0.0012971992414974804, 'lambda_l2': 0.013471096798415417, 'num_leaves': 174, 'feature_fraction': 0.8173707790313111, 'bagging_fraction': 0.4339488009229898, 'bagging_freq': 3, 'min_child_samples': 44}. Best is trial 25 with value: 0.24859075535512967.\n",
      "[I 2024-05-19 18:09:32,865] Trial 34 finished with value: 0.21214814814814814 and parameters: {'lambda_l1': 0.005961150580175751, 'lambda_l2': 1.0810273612259895, 'num_leaves': 145, 'feature_fraction': 0.8287029452123424, 'bagging_fraction': 0.44202355154272155, 'bagging_freq': 4, 'min_child_samples': 35}. Best is trial 25 with value: 0.24859075535512967.\n",
      "[I 2024-05-19 18:09:36,865] Trial 35 finished with value: 0.23181818181818178 and parameters: {'lambda_l1': 0.0028228734720305675, 'lambda_l2': 0.25809642260542914, 'num_leaves': 170, 'feature_fraction': 0.8953825854955678, 'bagging_fraction': 0.4005891459997813, 'bagging_freq': 4, 'min_child_samples': 54}. Best is trial 25 with value: 0.24859075535512967.\n",
      "[I 2024-05-19 18:09:40,525] Trial 36 finished with value: 0.19026824703680598 and parameters: {'lambda_l1': 0.0338719666999685, 'lambda_l2': 0.0005201683360167126, 'num_leaves': 112, 'feature_fraction': 0.9570514149150995, 'bagging_fraction': 0.8226070402333108, 'bagging_freq': 3, 'min_child_samples': 40}. Best is trial 25 with value: 0.24859075535512967.\n",
      "[I 2024-05-19 18:09:44,681] Trial 37 finished with value: 0.21626348003497523 and parameters: {'lambda_l1': 0.00027686186150958865, 'lambda_l2': 0.09242697835364373, 'num_leaves': 178, 'feature_fraction': 0.7534253787348381, 'bagging_fraction': 0.46658478046975366, 'bagging_freq': 2, 'min_child_samples': 48}. Best is trial 25 with value: 0.24859075535512967.\n",
      "[I 2024-05-19 18:09:48,498] Trial 38 finished with value: 0.21599045346062054 and parameters: {'lambda_l1': 0.07503796369332152, 'lambda_l2': 0.008840115957875101, 'num_leaves': 158, 'feature_fraction': 0.9127060501013677, 'bagging_fraction': 0.5396938631385784, 'bagging_freq': 1, 'min_child_samples': 16}. Best is trial 25 with value: 0.24859075535512967.\n",
      "[I 2024-05-19 18:09:53,812] Trial 39 finished with value: 0.22388506435199043 and parameters: {'lambda_l1': 0.0010878156459171364, 'lambda_l2': 2.253756136816799, 'num_leaves': 196, 'feature_fraction': 0.8728436611063166, 'bagging_fraction': 0.733198393474169, 'bagging_freq': 4, 'min_child_samples': 35}. Best is trial 25 with value: 0.24859075535512967.\n",
      "[I 2024-05-19 18:09:57,361] Trial 40 finished with value: 0.20460664074184867 and parameters: {'lambda_l1': 0.003238771431047072, 'lambda_l2': 0.13395159866224496, 'num_leaves': 131, 'feature_fraction': 0.8180946625937733, 'bagging_fraction': 0.5017017682879575, 'bagging_freq': 3, 'min_child_samples': 45}. Best is trial 25 with value: 0.24859075535512967.\n",
      "[I 2024-05-19 18:10:02,268] Trial 41 finished with value: 0.23532684283727398 and parameters: {'lambda_l1': 5.50502328308049e-05, 'lambda_l2': 0.029277159358909347, 'num_leaves': 242, 'feature_fraction': 0.9754880859960483, 'bagging_fraction': 0.4516922060484375, 'bagging_freq': 5, 'min_child_samples': 29}. Best is trial 25 with value: 0.24859075535512967.\n",
      "[I 2024-05-19 18:10:06,691] Trial 42 finished with value: 0.24667609618104666 and parameters: {'lambda_l1': 0.0002172150389237282, 'lambda_l2': 0.0006372108846897595, 'num_leaves': 217, 'feature_fraction': 0.9437839894243855, 'bagging_fraction': 0.4940287591656385, 'bagging_freq': 4, 'min_child_samples': 38}. Best is trial 25 with value: 0.24859075535512967.\n",
      "[I 2024-05-19 18:10:11,172] Trial 43 finished with value: 0.23156089193825044 and parameters: {'lambda_l1': 0.0002477918035205108, 'lambda_l2': 0.0011643792730773406, 'num_leaves': 219, 'feature_fraction': 0.9356373861167576, 'bagging_fraction': 0.48906783095825446, 'bagging_freq': 4, 'min_child_samples': 51}. Best is trial 25 with value: 0.24859075535512967.\n",
      "[I 2024-05-19 18:10:15,308] Trial 44 finished with value: 0.23649801023308695 and parameters: {'lambda_l1': 0.008208605995436173, 'lambda_l2': 0.013503928145493893, 'num_leaves': 201, 'feature_fraction': 0.950701827954252, 'bagging_fraction': 0.4289555243745517, 'bagging_freq': 4, 'min_child_samples': 43}. Best is trial 25 with value: 0.24859075535512967.\n",
      "[I 2024-05-19 18:10:20,222] Trial 45 finished with value: 0.2334966849236091 and parameters: {'lambda_l1': 0.0005307614501260176, 'lambda_l2': 7.849627684304754e-05, 'num_leaves': 237, 'feature_fraction': 0.8777057222570177, 'bagging_fraction': 0.6343156633792192, 'bagging_freq': 3, 'min_child_samples': 37}. Best is trial 25 with value: 0.24859075535512967.\n",
      "[I 2024-05-19 18:10:24,409] Trial 46 finished with value: 0.23024963289280473 and parameters: {'lambda_l1': 7.300402671158727e-06, 'lambda_l2': 0.0017947527458297583, 'num_leaves': 181, 'feature_fraction': 0.8470291813844509, 'bagging_fraction': 0.5564527465780461, 'bagging_freq': 4, 'min_child_samples': 79}. Best is trial 25 with value: 0.24859075535512967.\n",
      "[I 2024-05-19 18:10:27,999] Trial 47 finished with value: 0.21551976573938503 and parameters: {'lambda_l1': 0.00012327154849856104, 'lambda_l2': 0.0005169463690123078, 'num_leaves': 156, 'feature_fraction': 0.9165667176610536, 'bagging_fraction': 0.496415069020042, 'bagging_freq': 5, 'min_child_samples': 33}. Best is trial 25 with value: 0.24859075535512967.\n",
      "[I 2024-05-19 18:10:31,995] Trial 48 finished with value: 0.23074720870312057 and parameters: {'lambda_l1': 0.022084163828469523, 'lambda_l2': 7.639683796197666e-08, 'num_leaves': 216, 'feature_fraction': 0.6984988519536828, 'bagging_fraction': 0.4003378950680536, 'bagging_freq': 3, 'min_child_samples': 65}. Best is trial 25 with value: 0.24859075535512967.\n",
      "[I 2024-05-19 18:10:34,037] Trial 49 finished with value: 0.150032195750161 and parameters: {'lambda_l1': 0.002492802543008423, 'lambda_l2': 0.675050021106956, 'num_leaves': 47, 'feature_fraction': 0.884637100305335, 'bagging_fraction': 0.42175348433708343, 'bagging_freq': 4, 'min_child_samples': 47}. Best is trial 25 with value: 0.24859075535512967.\n",
      "[I 2024-05-19 18:10:38,856] Trial 50 finished with value: 0.2237762237762238 and parameters: {'lambda_l1': 0.06413927107811355, 'lambda_l2': 3.2367937578111667, 'num_leaves': 247, 'feature_fraction': 0.9582861919550612, 'bagging_fraction': 0.4711389722475167, 'bagging_freq': 2, 'min_child_samples': 57}. Best is trial 25 with value: 0.24859075535512967.\n",
      "[I 2024-05-19 18:10:43,895] Trial 51 finished with value: 0.23458904109589043 and parameters: {'lambda_l1': 1.597839243428697e-05, 'lambda_l2': 0.04016328174513357, 'num_leaves': 232, 'feature_fraction': 0.9901783286241511, 'bagging_fraction': 0.509346278910022, 'bagging_freq': 5, 'min_child_samples': 27}. Best is trial 25 with value: 0.24859075535512967.\n",
      "[I 2024-05-19 18:10:48,736] Trial 52 finished with value: 0.23395149786019973 and parameters: {'lambda_l1': 2.8082992599716007e-05, 'lambda_l2': 0.08011593239433672, 'num_leaves': 209, 'feature_fraction': 0.9764696521177849, 'bagging_fraction': 0.5293964948037376, 'bagging_freq': 5, 'min_child_samples': 32}. Best is trial 25 with value: 0.24859075535512967.\n",
      "[I 2024-05-19 18:10:53,940] Trial 53 finished with value: 0.2272081794944618 and parameters: {'lambda_l1': 6.226045873190582e-05, 'lambda_l2': 0.021420561076440886, 'num_leaves': 198, 'feature_fraction': 0.999761790259335, 'bagging_fraction': 0.45711713869646287, 'bagging_freq': 5, 'min_child_samples': 21}. Best is trial 25 with value: 0.24859075535512967.\n",
      "[I 2024-05-19 18:10:58,464] Trial 54 finished with value: 0.24431818181818182 and parameters: {'lambda_l1': 0.0010639900326311516, 'lambda_l2': 0.3429412036938641, 'num_leaves': 185, 'feature_fraction': 0.9266035247361017, 'bagging_fraction': 0.4245195251769011, 'bagging_freq': 4, 'min_child_samples': 39}. Best is trial 25 with value: 0.24859075535512967.\n",
      "[I 2024-05-19 18:11:04,102] Trial 55 finished with value: 0.23911187019641333 and parameters: {'lambda_l1': 0.0011488560646789974, 'lambda_l2': 0.2999244740376089, 'num_leaves': 187, 'feature_fraction': 0.9123037670219244, 'bagging_fraction': 0.4262391731378562, 'bagging_freq': 4, 'min_child_samples': 41}. Best is trial 25 with value: 0.24859075535512967.\n",
      "[I 2024-05-19 18:11:08,801] Trial 56 finished with value: 0.2260313771063335 and parameters: {'lambda_l1': 0.0018718462961558578, 'lambda_l2': 1.4493986924950952, 'num_leaves': 188, 'feature_fraction': 0.9262103477063839, 'bagging_fraction': 0.4210544373045641, 'bagging_freq': 4, 'min_child_samples': 40}. Best is trial 25 with value: 0.24859075535512967.\n",
      "[I 2024-05-19 18:11:13,682] Trial 57 finished with value: 0.2476029328821207 and parameters: {'lambda_l1': 0.27094902143270033, 'lambda_l2': 0.3944493720523097, 'num_leaves': 230, 'feature_fraction': 0.9093420525704508, 'bagging_fraction': 0.43024331945164584, 'bagging_freq': 3, 'min_child_samples': 38}. Best is trial 25 with value: 0.24859075535512967.\n",
      "[I 2024-05-19 18:11:18,431] Trial 58 finished with value: 0.21993531314319317 and parameters: {'lambda_l1': 0.8684695118425261, 'lambda_l2': 4.339898412900679, 'num_leaves': 230, 'feature_fraction': 0.9455354397071617, 'bagging_fraction': 0.48115542847204873, 'bagging_freq': 3, 'min_child_samples': 37}. Best is trial 25 with value: 0.24859075535512967.\n",
      "[I 2024-05-19 18:11:23,154] Trial 59 finished with value: 0.23173951305368143 and parameters: {'lambda_l1': 0.3353035539419485, 'lambda_l2': 0.5143300498272803, 'num_leaves': 215, 'feature_fraction': 0.8586194773803492, 'bagging_fraction': 0.5934463408661647, 'bagging_freq': 3, 'min_child_samples': 30}. Best is trial 25 with value: 0.24859075535512967.\n",
      "[I 2024-05-19 18:11:27,863] Trial 60 finished with value: 0.23313609467455623 and parameters: {'lambda_l1': 1.8136148192724644, 'lambda_l2': 1.7026389853563737e-05, 'num_leaves': 203, 'feature_fraction': 0.9012603942525451, 'bagging_fraction': 0.7768543303892541, 'bagging_freq': 3, 'min_child_samples': 48}. Best is trial 25 with value: 0.24859075535512967.\n",
      "[I 2024-05-19 18:11:32,065] Trial 61 finished with value: 0.24036281179138322 and parameters: {'lambda_l1': 0.11908908494468097, 'lambda_l2': 0.34561696173180023, 'num_leaves': 191, 'feature_fraction': 0.9197823606312125, 'bagging_fraction': 0.4218061367972812, 'bagging_freq': 4, 'min_child_samples': 39}. Best is trial 25 with value: 0.24859075535512967.\n",
      "[I 2024-05-19 18:11:37,247] Trial 62 finished with value: 0.25246548323471396 and parameters: {'lambda_l1': 0.10505457402456994, 'lambda_l2': 1.4975346556323985, 'num_leaves': 254, 'feature_fraction': 0.9311769168274776, 'bagging_fraction': 0.41841375601154257, 'bagging_freq': 4, 'min_child_samples': 32}. Best is trial 62 with value: 0.25246548323471396.\n",
      "[I 2024-05-19 18:11:42,246] Trial 63 finished with value: 0.22280856053943127 and parameters: {'lambda_l1': 3.220079554981728, 'lambda_l2': 1.5136549814307048, 'num_leaves': 255, 'feature_fraction': 0.9648342508932507, 'bagging_fraction': 0.4568235984239142, 'bagging_freq': 4, 'min_child_samples': 25}. Best is trial 62 with value: 0.25246548323471396.\n",
      "[I 2024-05-19 18:11:46,998] Trial 64 finished with value: 0.24058051911805753 and parameters: {'lambda_l1': 0.47398869384407977, 'lambda_l2': 0.06094177308511254, 'num_leaves': 237, 'feature_fraction': 0.9378389847009846, 'bagging_fraction': 0.4019184114234158, 'bagging_freq': 3, 'min_child_samples': 33}. Best is trial 62 with value: 0.25246548323471396.\n",
      "[I 2024-05-19 18:11:51,873] Trial 65 finished with value: 0.24045261669024046 and parameters: {'lambda_l1': 0.056673208369011734, 'lambda_l2': 0.17742805667490774, 'num_leaves': 221, 'feature_fraction': 0.8390008030313196, 'bagging_fraction': 0.4450457263015694, 'bagging_freq': 4, 'min_child_samples': 26}. Best is trial 62 with value: 0.25246548323471396.\n",
      "[I 2024-05-19 18:11:58,341] Trial 66 finished with value: 0.2347604196200737 and parameters: {'lambda_l1': 0.005536120821171771, 'lambda_l2': 0.608400788607372, 'num_leaves': 243, 'feature_fraction': 0.8871854534966632, 'bagging_fraction': 0.4787442487875421, 'bagging_freq': 3, 'min_child_samples': 13}. Best is trial 62 with value: 0.25246548323471396.\n",
      "[I 2024-05-19 18:12:03,327] Trial 67 finished with value: 0.2079177999395588 and parameters: {'lambda_l1': 0.23480901997969575, 'lambda_l2': 6.908948101943942, 'num_leaves': 249, 'feature_fraction': 0.6560993824545682, 'bagging_fraction': 0.8772011659628989, 'bagging_freq': 4, 'min_child_samples': 35}. Best is trial 62 with value: 0.25246548323471396.\n",
      "[I 2024-05-19 18:12:08,428] Trial 68 finished with value: 0.23593259068837474 and parameters: {'lambda_l1': 0.00012131793078223265, 'lambda_l2': 1.9299679228883275, 'num_leaves': 226, 'feature_fraction': 0.9778913607821716, 'bagging_fraction': 0.4196472916427271, 'bagging_freq': 2, 'min_child_samples': 30}. Best is trial 62 with value: 0.25246548323471396.\n",
      "[I 2024-05-19 18:12:12,504] Trial 69 finished with value: 0.22832618025751075 and parameters: {'lambda_l1': 0.02258760644604917, 'lambda_l2': 0.18406794102522803, 'num_leaves': 210, 'feature_fraction': 0.7968966656228798, 'bagging_fraction': 0.4375264433723248, 'bagging_freq': 5, 'min_child_samples': 21}. Best is trial 62 with value: 0.25246548323471396.\n",
      "[I 2024-05-19 18:12:17,647] Trial 70 finished with value: 0.24293785310734461 and parameters: {'lambda_l1': 0.0004330857960892874, 'lambda_l2': 4.006096904932265e-05, 'num_leaves': 256, 'feature_fraction': 0.9541712043861994, 'bagging_fraction': 0.5140770379200825, 'bagging_freq': 4, 'min_child_samples': 54}. Best is trial 62 with value: 0.25246548323471396.\n",
      "[I 2024-05-19 18:12:22,785] Trial 71 finished with value: 0.2560706401766004 and parameters: {'lambda_l1': 0.00039701361745962655, 'lambda_l2': 6.265748916687016e-05, 'num_leaves': 253, 'feature_fraction': 0.9522825352936172, 'bagging_fraction': 0.464219195280468, 'bagging_freq': 4, 'min_child_samples': 45}. Best is trial 71 with value: 0.2560706401766004.\n",
      "[I 2024-05-19 18:12:28,061] Trial 72 finished with value: 0.24242424242424243 and parameters: {'lambda_l1': 0.0003032366612530626, 'lambda_l2': 3.348504013533772e-05, 'num_leaves': 251, 'feature_fraction': 0.9274745826292871, 'bagging_fraction': 0.5465309581106317, 'bagging_freq': 4, 'min_child_samples': 53}. Best is trial 71 with value: 0.2560706401766004.\n",
      "[I 2024-05-19 18:12:35,634] Trial 73 finished with value: 0.24392998306041785 and parameters: {'lambda_l1': 4.8549189531862277e-05, 'lambda_l2': 5.706790633495694e-06, 'num_leaves': 255, 'feature_fraction': 0.9029813927417543, 'bagging_fraction': 0.46685756626134595, 'bagging_freq': 4, 'min_child_samples': 46}. Best is trial 71 with value: 0.2560706401766004.\n",
      "[I 2024-05-19 18:12:40,642] Trial 74 finished with value: 0.24356103023516235 and parameters: {'lambda_l1': 5.292502415777656e-05, 'lambda_l2': 7.104283756036199e-06, 'num_leaves': 232, 'feature_fraction': 0.9077337256117901, 'bagging_fraction': 0.4638385443138822, 'bagging_freq': 4, 'min_child_samples': 46}. Best is trial 71 with value: 0.2560706401766004.\n",
      "[I 2024-05-19 18:12:46,234] Trial 75 finished with value: 0.23612684031710077 and parameters: {'lambda_l1': 2.732926972691426e-06, 'lambda_l2': 1.8465283989161298e-06, 'num_leaves': 242, 'feature_fraction': 0.8705988614856162, 'bagging_fraction': 0.49765716198167276, 'bagging_freq': 4, 'min_child_samples': 43}. Best is trial 71 with value: 0.2560706401766004.\n",
      "[I 2024-05-19 18:12:51,751] Trial 76 finished with value: 0.24441301272984445 and parameters: {'lambda_l1': 0.00018489179733464922, 'lambda_l2': 2.604570952968033e-07, 'num_leaves': 227, 'feature_fraction': 0.8927554464249885, 'bagging_fraction': 0.4747288709320732, 'bagging_freq': 5, 'min_child_samples': 50}. Best is trial 71 with value: 0.2560706401766004.\n",
      "[I 2024-05-19 18:12:58,553] Trial 77 finished with value: 0.24636871508379893 and parameters: {'lambda_l1': 0.0001595560488141894, 'lambda_l2': 4.3231928565256117e-07, 'num_leaves': 229, 'feature_fraction': 0.9738482598963694, 'bagging_fraction': 0.4461006023199618, 'bagging_freq': 6, 'min_child_samples': 51}. Best is trial 71 with value: 0.2560706401766004.\n",
      "[I 2024-05-19 18:12:59,431] Trial 78 finished with value: 0.003658982802780827 and parameters: {'lambda_l1': 0.00014764902518686526, 'lambda_l2': 4.218740798031846e-07, 'num_leaves': 3, 'feature_fraction': 0.9851805152678866, 'bagging_fraction': 0.5654894194936, 'bagging_freq': 6, 'min_child_samples': 59}. Best is trial 71 with value: 0.2560706401766004.\n",
      "[I 2024-05-19 18:13:04,416] Trial 79 finished with value: 0.24325076537712217 and parameters: {'lambda_l1': 7.82342947104624e-08, 'lambda_l2': 2.1065894078294783e-08, 'num_leaves': 225, 'feature_fraction': 0.9685017514140699, 'bagging_fraction': 0.4907358976301787, 'bagging_freq': 6, 'min_child_samples': 49}. Best is trial 71 with value: 0.2560706401766004.\n",
      "[I 2024-05-19 18:13:08,426] Trial 80 finished with value: 0.2256832206876286 and parameters: {'lambda_l1': 8.964250030583332e-06, 'lambda_l2': 1.0375312035434708e-07, 'num_leaves': 235, 'feature_fraction': 0.46936786213620874, 'bagging_fraction': 0.6696708828722209, 'bagging_freq': 7, 'min_child_samples': 50}. Best is trial 71 with value: 0.2560706401766004.\n",
      "[I 2024-05-19 18:13:13,091] Trial 81 finished with value: 0.24979137691237832 and parameters: {'lambda_l1': 0.00021839951821382806, 'lambda_l2': 5.502425286734029e-07, 'num_leaves': 216, 'feature_fraction': 0.9362733992028076, 'bagging_fraction': 0.43644044308009367, 'bagging_freq': 5, 'min_child_samples': 38}. Best is trial 71 with value: 0.2560706401766004.\n",
      "[I 2024-05-19 18:13:16,646] Trial 82 finished with value: 0.23125 and parameters: {'lambda_l1': 0.00018006531436353358, 'lambda_l2': 6.563916118280444e-07, 'num_leaves': 216, 'feature_fraction': 0.5663704932370114, 'bagging_fraction': 0.4469146918060999, 'bagging_freq': 5, 'min_child_samples': 42}. Best is trial 71 with value: 0.2560706401766004.\n",
      "[I 2024-05-19 18:13:21,899] Trial 83 finished with value: 0.24250832408435072 and parameters: {'lambda_l1': 0.1346037001816593, 'lambda_l2': 1.4853297840990362e-07, 'num_leaves': 244, 'feature_fraction': 0.9440847222041443, 'bagging_fraction': 0.4402041089112495, 'bagging_freq': 6, 'min_child_samples': 38}. Best is trial 71 with value: 0.2560706401766004.\n",
      "[I 2024-05-19 18:13:26,624] Trial 84 finished with value: 0.24768323504633533 and parameters: {'lambda_l1': 9.983858979614958e-05, 'lambda_l2': 2.005302302133291e-06, 'num_leaves': 228, 'feature_fraction': 0.8898974694539328, 'bagging_fraction': 0.4780125830968343, 'bagging_freq': 5, 'min_child_samples': 44}. Best is trial 71 with value: 0.2560706401766004.\n",
      "[I 2024-05-19 18:13:31,059] Trial 85 finished with value: 0.2355300859598854 and parameters: {'lambda_l1': 1.1973353740899792e-06, 'lambda_l2': 2.459010809857605e-06, 'num_leaves': 206, 'feature_fraction': 0.9606049916903616, 'bagging_fraction': 0.5234950675808456, 'bagging_freq': 6, 'min_child_samples': 33}. Best is trial 71 with value: 0.2560706401766004.\n",
      "[I 2024-05-19 18:13:36,935] Trial 86 finished with value: 0.22109351658201373 and parameters: {'lambda_l1': 8.238048171039342e-05, 'lambda_l2': 1.2610556695719479e-06, 'num_leaves': 237, 'feature_fraction': 0.9999693267850049, 'bagging_fraction': 0.9867075966977488, 'bagging_freq': 5, 'min_child_samples': 44}. Best is trial 71 with value: 0.2560706401766004.\n",
      "[I 2024-05-19 18:13:42,034] Trial 87 finished with value: 0.23942093541202675 and parameters: {'lambda_l1': 1.2524067769164088e-05, 'lambda_l2': 6.219147440446963e-07, 'num_leaves': 241, 'feature_fraction': 0.9338980869026209, 'bagging_fraction': 0.4128888259012122, 'bagging_freq': 7, 'min_child_samples': 56}. Best is trial 71 with value: 0.2560706401766004.\n",
      "[I 2024-05-19 18:13:47,398] Trial 88 finished with value: 0.23950408565793183 and parameters: {'lambda_l1': 2.8717673293801496e-05, 'lambda_l2': 0.0037521634475408683, 'num_leaves': 219, 'feature_fraction': 0.9753633002796188, 'bagging_fraction': 0.4607009459134717, 'bagging_freq': 5, 'min_child_samples': 35}. Best is trial 71 with value: 0.2560706401766004.\n",
      "[I 2024-05-19 18:13:52,379] Trial 89 finished with value: 0.23246492985971942 and parameters: {'lambda_l1': 0.0003691081815158119, 'lambda_l2': 0.0002696030564857769, 'num_leaves': 214, 'feature_fraction': 0.9138490199426978, 'bagging_fraction': 0.5048422497221555, 'bagging_freq': 5, 'min_child_samples': 41}. Best is trial 71 with value: 0.2560706401766004.\n",
      "[I 2024-05-19 18:13:57,536] Trial 90 finished with value: 0.2412823397075366 and parameters: {'lambda_l1': 0.0007561189719361555, 'lambda_l2': 8.72817983836394e-06, 'num_leaves': 196, 'feature_fraction': 0.9473645923848796, 'bagging_fraction': 0.4358165724812411, 'bagging_freq': 6, 'min_child_samples': 28}. Best is trial 71 with value: 0.2560706401766004.\n",
      "[I 2024-05-19 18:14:02,776] Trial 91 finished with value: 0.2425770308123249 and parameters: {'lambda_l1': 0.0001996769469402542, 'lambda_l2': 2.405791316153061e-07, 'num_leaves': 232, 'feature_fraction': 0.8836792120892943, 'bagging_fraction': 0.4523578999894704, 'bagging_freq': 5, 'min_child_samples': 45}. Best is trial 71 with value: 0.2560706401766004.\n",
      "[I 2024-05-19 18:14:07,396] Trial 92 finished with value: 0.2361851332398317 and parameters: {'lambda_l1': 7.473076850011466e-05, 'lambda_l2': 0.0008425166516044089, 'num_leaves': 226, 'feature_fraction': 0.8954469107770536, 'bagging_fraction': 0.47361494402615645, 'bagging_freq': 5, 'min_child_samples': 52}. Best is trial 71 with value: 0.2560706401766004.\n",
      "[I 2024-05-19 18:14:12,892] Trial 93 finished with value: 0.24228571428571427 and parameters: {'lambda_l1': 3.3721453863540654e-05, 'lambda_l2': 5.3815977950115957e-08, 'num_leaves': 247, 'feature_fraction': 0.8599353874287895, 'bagging_fraction': 0.48522842889275847, 'bagging_freq': 5, 'min_child_samples': 62}. Best is trial 71 with value: 0.2560706401766004.\n",
      "[I 2024-05-19 18:14:17,612] Trial 94 finished with value: 0.24373956594323873 and parameters: {'lambda_l1': 8.964259505299897e-05, 'lambda_l2': 2.5070577478846334e-07, 'num_leaves': 228, 'feature_fraction': 0.9266960875455225, 'bagging_fraction': 0.4123461097881196, 'bagging_freq': 4, 'min_child_samples': 31}. Best is trial 71 with value: 0.2560706401766004.\n",
      "[I 2024-05-19 18:14:23,164] Trial 95 finished with value: 0.24103866779565342 and parameters: {'lambda_l1': 0.0016806301745752776, 'lambda_l2': 8.124974718535138e-07, 'num_leaves': 222, 'feature_fraction': 0.961104179129541, 'bagging_fraction': 0.4328751135731673, 'bagging_freq': 6, 'min_child_samples': 37}. Best is trial 71 with value: 0.2560706401766004.\n",
      "[I 2024-05-19 18:14:27,372] Trial 96 finished with value: 0.2317571511967309 and parameters: {'lambda_l1': 0.00018614102298236104, 'lambda_l2': 3.3496719544823535e-08, 'num_leaves': 206, 'feature_fraction': 0.8894654506941366, 'bagging_fraction': 0.47558719820732576, 'bagging_freq': 4, 'min_child_samples': 100}. Best is trial 71 with value: 0.2560706401766004.\n",
      "[I 2024-05-19 18:14:32,351] Trial 97 finished with value: 0.23492782337956408 and parameters: {'lambda_l1': 0.000784538861624068, 'lambda_l2': 3.8923292040719695e-06, 'num_leaves': 238, 'feature_fraction': 0.9142112546139958, 'bagging_fraction': 0.5341712199560026, 'bagging_freq': 5, 'min_child_samples': 42}. Best is trial 71 with value: 0.2560706401766004.\n",
      "[I 2024-05-19 18:14:36,877] Trial 98 finished with value: 0.23586246092639954 and parameters: {'lambda_l1': 0.0038742209790478973, 'lambda_l2': 4.181433943124551e-07, 'num_leaves': 213, 'feature_fraction': 0.9350108392127834, 'bagging_fraction': 0.452068919757856, 'bagging_freq': 4, 'min_child_samples': 34}. Best is trial 71 with value: 0.2560706401766004.\n",
      "[I 2024-05-19 18:14:39,215] Trial 99 finished with value: 0.19097651421508033 and parameters: {'lambda_l1': 0.00026947893207452875, 'lambda_l2': 0.00011248936979520772, 'num_leaves': 87, 'feature_fraction': 0.8376290788479007, 'bagging_fraction': 0.4945286009167017, 'bagging_freq': 5, 'min_child_samples': 48}. Best is trial 71 with value: 0.2560706401766004.\n"
     ]
    }
   ],
   "source": [
    "def objective_lgbm_class(trial):\n",
    "    \"\"\"Определение целевой функции для LightGBM Classification\"\"\"\n",
    "    \n",
    "    # Задаем сетку параметров\n",
    "    params = {\n",
    "        \"objective\": \"binary\",\n",
    "        \"boosting_type\": \"gbdt\",\n",
    "        \"depth\": trial.suggest_int(\"depth\", 4, 10),\n",
    "        \"lambda_l1\": trial.suggest_float(\"lambda_l1\", 1e-8, 10.0, log=True),\n",
    "        \"lambda_l2\": trial.suggest_float(\"lambda_l2\", 1e-8, 10.0, log=True),\n",
    "        \"num_leaves\": trial.suggest_int(\"num_leaves\", 2, 256),\n",
    "        \"feature_fraction\": trial.suggest_float(\"feature_fraction\", 0.4, 1.0),\n",
    "        \"bagging_fraction\": trial.suggest_float(\"bagging_fraction\", 0.4, 1.0),\n",
    "        \"bagging_freq\": trial.suggest_int(\"bagging_freq\", 1, 7),\n",
    "        \"min_child_samples\": trial.suggest_int(\"min_child_samples\", 5, 100),\n",
    "        \"force_col_wise\": True,\n",
    "        'verbose': -1,\n",
    "    }\n",
    "\n",
    "    # Обучение модели\n",
    "    optuna_model = LGBMClassifier(**params)\n",
    "    optuna_model.fit(X_train, y_train)\n",
    "\n",
    "    # Предсказание\n",
    "    y_pred = optuna_model.predict(X_test)\n",
    "\n",
    "    # Оценка предсказания\n",
    "    f1 = f1_score(y_test, y_pred)\n",
    "    return f1\n",
    "\n",
    "# Создаем сессию для максимизации выбранной метрики\n",
    "study_lgbm_class = optuna.create_study(direction='maximize')\n",
    "# Запускаем нашу сессию оптимизации\n",
    "study_lgbm_class.optimize(objective_lgbm_class, n_trials=100, timeout=1800)"
   ]
  },
  {
   "cell_type": "code",
   "execution_count": 9,
   "metadata": {},
   "outputs": [
    {
     "name": "stderr",
     "output_type": "stream",
     "text": [
      "C:\\Users\\smart\\AppData\\Local\\Temp\\ipykernel_11012\\682897915.py:2: ExperimentalWarning: plot_optimization_history is experimental (supported from v2.2.0). The interface can change in the future.\n",
      "  plot_optimization_history(study_lgbm_class)\n"
     ]
    },
    {
     "data": {
      "text/plain": [
       "<Axes: title={'center': 'Optimization History Plot'}, xlabel='Trial', ylabel='Objective Value'>"
      ]
     },
     "execution_count": 9,
     "metadata": {},
     "output_type": "execute_result"
    },
    {
     "data": {
      "image/png": "[encoded data removed]",
      "text/plain": [
       "<Figure size 640x480 with 1 Axes>"
      ]
     },
     "metadata": {},
     "output_type": "display_data"
    }
   ],
   "source": [
    "# Посмотрим на процесс подбора параметров на графике\n",
    "plot_optimization_history(study_lgbm_class)"
   ]
  },
  {
   "cell_type": "code",
   "execution_count": 10,
   "metadata": {},
   "outputs": [
    {
     "name": "stdout",
     "output_type": "stream",
     "text": [
      "Количество завершенных трайлов: 100\n",
      "Лучший трайл:\n",
      "  Лучший F1-score: 0.2560706401766004\n",
      "  Параметры: \n",
      "    lambda_l1: 0.00039701361745962655\n",
      "    lambda_l2: 6.265748916687016e-05\n",
      "    num_leaves: 253\n",
      "    feature_fraction: 0.9522825352936172\n",
      "    bagging_fraction: 0.464219195280468\n",
      "    bagging_freq: 4\n",
      "    min_child_samples: 45\n"
     ]
    }
   ],
   "source": [
    "# Посмотрим на итоги подбора параметров\n",
    "print('Количество завершенных трайлов: {}'.format(len(study_lgbm_class.trials)))\n",
    "print('Лучший трайл:')\n",
    "trial = study_lgbm_class.best_trial\n",
    "\n",
    "print('  Лучший F1-score: {}'.format(trial.value))\n",
    "print('  Параметры: ')\n",
    "\n",
    "for key, value in trial.params.items():\n",
    "    print('    {}: {}'.format(key, value))"
   ]
  },
  {
   "cell_type": "code",
   "execution_count": 14,
   "metadata": {},
   "outputs": [
    {
     "name": "stdout",
     "output_type": "stream",
     "text": [
      "F1-score LightGBM: 0.256\n",
      "Classification report LightGBM:\n",
      "              precision    recall  f1-score   support\n",
      "\n",
      "         0.0       0.82      0.96      0.88     10648\n",
      "         1.0       0.52      0.17      0.26      2724\n",
      "\n",
      "    accuracy                           0.80     13372\n",
      "   macro avg       0.67      0.56      0.57     13372\n",
      "weighted avg       0.76      0.80      0.76     13372\n",
      "\n"
     ]
    }
   ],
   "source": [
    "# Обучим модель на получившихся параметрах\n",
    "params = trial.params\n",
    "lgbm_class = LGBMClassifier(verbose=-1,**params)\n",
    "lgbm_class.fit(X_train, y_train)\n",
    "\n",
    "# Предсказание\n",
    "y_pred_lgbm = lgbm_class.predict(X_test)\n",
    "f1_lgbm_class = f1_score(y_test, y_pred_lgbm)\n",
    "\n",
    "# Выводим основные метрики\n",
    "print(f\"F1-score LightGBM: {round(f1_lgbm_class, 3)}\")\n",
    "print('Classification report LightGBM:')\n",
    "print(classification_report(y_test, y_pred_lgbm))"
   ]
  },
  {
   "cell_type": "code",
   "execution_count": 15,
   "metadata": {},
   "outputs": [
    {
     "data": {
      "image/png": "[encoded data removed]",
      "text/plain": [
       "<Figure size 400x300 with 2 Axes>"
      ]
     },
     "metadata": {},
     "output_type": "display_data"
    }
   ],
   "source": [
    "# Посмотрим на матрицу ошибок\n",
    "plt.figure(figsize=(4, 3))\n",
    "con_mat_lgbm = confusion_matrix(y_test, y_pred_lgbm)\n",
    "sns.heatmap(con_mat_lgbm,\n",
    "            annot=True,\n",
    "            fmt='g'\n",
    "            )\n",
    "plt.ylabel('Prediction', fontsize=13)\n",
    "plt.xlabel('Actual', fontsize=13)\n",
    "plt.title('Confusion Matrix LightGBM', fontsize=17)\n",
    "plt.show()"
   ]
  },
  {
   "cell_type": "code",
   "execution_count": 16,
   "metadata": {},
   "outputs": [],
   "source": [
    "# Сохраним модель\n",
    "with open(r'models/lgbm_class_model.pkl', 'wb') as file:\n",
    "    pickle.dump(lgbm_class, file)"
   ]
  },
  {
   "cell_type": "markdown",
   "metadata": {},
   "source": [
    "### CatBoost"
   ]
  },
  {
   "cell_type": "code",
   "execution_count": 17,
   "metadata": {},
   "outputs": [
    {
     "name": "stderr",
     "output_type": "stream",
     "text": [
      "[I 2024-05-19 18:17:09,807] A new study created in memory with name: no-name-72ff9b2b-d5fb-441b-8de7-7d4008323722\n",
      "[I 2024-05-19 18:17:18,467] Trial 0 finished with value: 0.09370725034199727 and parameters: {'iterations': 272, 'learning_rate': 0.04990519427513023, 'depth': 6, 'l2_leaf_reg': 1.5057436321035076e-08, 'random_strength': 6.625184950437742e-07, 'bagging_temperature': 9.632309342968407, 'od_type': 'IncToDec', 'od_wait': 18}. Best is trial 0 with value: 0.09370725034199727.\n",
      "[I 2024-05-19 18:17:42,865] Trial 1 finished with value: 0.11748909029875797 and parameters: {'iterations': 214, 'learning_rate': 0.030138018718535844, 'depth': 9, 'l2_leaf_reg': 9.986670779139622e-05, 'random_strength': 4.452716440173417e-08, 'bagging_temperature': 6.537084593306725, 'od_type': 'IncToDec', 'od_wait': 36}. Best is trial 1 with value: 0.11748909029875797.\n",
      "[I 2024-05-19 18:17:46,525] Trial 2 finished with value: 0.013086150490730641 and parameters: {'iterations': 103, 'learning_rate': 0.013290641616089414, 'depth': 6, 'l2_leaf_reg': 0.005111209407634106, 'random_strength': 5.935958764540044e-06, 'bagging_temperature': 5.026567070139155, 'od_type': 'Iter', 'od_wait': 22}. Best is trial 1 with value: 0.11748909029875797.\n",
      "[I 2024-05-19 18:18:02,109] Trial 3 finished with value: 0.039285714285714285 and parameters: {'iterations': 124, 'learning_rate': 0.0015801525412440496, 'depth': 9, 'l2_leaf_reg': 0.015272946407526071, 'random_strength': 0.0010664059975722146, 'bagging_temperature': 2.5047216497869695, 'od_type': 'Iter', 'od_wait': 50}. Best is trial 1 with value: 0.11748909029875797.\n",
      "[I 2024-05-19 18:18:44,248] Trial 4 finished with value: 0.1378396288933068 and parameters: {'iterations': 351, 'learning_rate': 0.02970379430636464, 'depth': 9, 'l2_leaf_reg': 0.0029743557395654104, 'random_strength': 0.0008642458081657734, 'bagging_temperature': 9.71966532489552, 'od_type': 'IncToDec', 'od_wait': 16}. Best is trial 4 with value: 0.1378396288933068.\n",
      "[I 2024-05-19 18:19:04,474] Trial 5 finished with value: 0.0123771386967601 and parameters: {'iterations': 742, 'learning_rate': 0.0031657516493097566, 'depth': 5, 'l2_leaf_reg': 6.405446965811621e-05, 'random_strength': 1.1253535537550892e-06, 'bagging_temperature': 6.35469317449047, 'od_type': 'IncToDec', 'od_wait': 10}. Best is trial 4 with value: 0.1378396288933068.\n",
      "[I 2024-05-19 18:19:18,571] Trial 6 finished with value: 0.0842250604073179 and parameters: {'iterations': 668, 'learning_rate': 0.05451435733706316, 'depth': 4, 'l2_leaf_reg': 0.22269758099637477, 'random_strength': 2.3925041535766525, 'bagging_temperature': 3.432372799495255, 'od_type': 'Iter', 'od_wait': 37}. Best is trial 4 with value: 0.1378396288933068.\n",
      "[I 2024-05-19 18:19:26,755] Trial 7 finished with value: 0.0007339449541284403 and parameters: {'iterations': 306, 'learning_rate': 0.0016761656070163168, 'depth': 5, 'l2_leaf_reg': 0.0008038189195904248, 'random_strength': 2.547198423045828e-06, 'bagging_temperature': 7.690765431264327, 'od_type': 'IncToDec', 'od_wait': 38}. Best is trial 4 with value: 0.1378396288933068.\n",
      "[I 2024-05-19 18:19:40,232] Trial 8 finished with value: 0.03918774492340577 and parameters: {'iterations': 184, 'learning_rate': 0.035211980058502124, 'depth': 8, 'l2_leaf_reg': 0.8915322066811546, 'random_strength': 1.6929420266260027, 'bagging_temperature': 5.934901261677989, 'od_type': 'Iter', 'od_wait': 48}. Best is trial 4 with value: 0.1378396288933068.\n",
      "[I 2024-05-19 18:24:13,101] Trial 9 finished with value: 0.07459044963401881 and parameters: {'iterations': 869, 'learning_rate': 0.0052105602219655826, 'depth': 10, 'l2_leaf_reg': 21.435278776491046, 'random_strength': 0.3168356881687176, 'bagging_temperature': 7.3665879086816, 'od_type': 'Iter', 'od_wait': 17}. Best is trial 4 with value: 0.1378396288933068.\n",
      "[I 2024-05-19 18:24:45,365] Trial 10 finished with value: 0.22612513721185512 and parameters: {'iterations': 454, 'learning_rate': 0.09789733090381271, 'depth': 8, 'l2_leaf_reg': 5.706256251062598e-07, 'random_strength': 0.0024961500550398537, 'bagging_temperature': 0.5075353151926869, 'od_type': 'IncToDec', 'od_wait': 26}. Best is trial 10 with value: 0.22612513721185512.\n",
      "[I 2024-05-19 18:25:18,223] Trial 11 finished with value: 0.24155915454295912 and parameters: {'iterations': 445, 'learning_rate': 0.09615791586548908, 'depth': 8, 'l2_leaf_reg': 4.69364925115495e-07, 'random_strength': 0.00241151492555975, 'bagging_temperature': 0.21938694120446411, 'od_type': 'IncToDec', 'od_wait': 26}. Best is trial 11 with value: 0.24155915454295912.\n",
      "[I 2024-05-19 18:25:40,030] Trial 12 finished with value: 0.21973608720596674 and parameters: {'iterations': 474, 'learning_rate': 0.09786318636185465, 'depth': 7, 'l2_leaf_reg': 1.9902948595723017e-07, 'random_strength': 0.035247935407449006, 'bagging_temperature': 0.011151768140148177, 'od_type': 'IncToDec', 'od_wait': 26}. Best is trial 11 with value: 0.24155915454295912.\n",
      "[I 2024-05-19 18:26:17,671] Trial 13 finished with value: 0.23442217952237168 and parameters: {'iterations': 511, 'learning_rate': 0.0953647685452609, 'depth': 8, 'l2_leaf_reg': 9.029181078651585e-07, 'random_strength': 0.009149747810023498, 'bagging_temperature': 0.01022268850227831, 'od_type': 'IncToDec', 'od_wait': 30}. Best is trial 11 with value: 0.24155915454295912.\n",
      "[I 2024-05-19 18:26:44,484] Trial 14 finished with value: 0.08934707903780069 and parameters: {'iterations': 575, 'learning_rate': 0.015829840416830936, 'depth': 7, 'l2_leaf_reg': 6.320945946595447e-06, 'random_strength': 0.03172711934720855, 'bagging_temperature': 1.9767144063969266, 'od_type': 'IncToDec', 'od_wait': 31}. Best is trial 11 with value: 0.24155915454295912.\n",
      "[I 2024-05-19 18:27:27,220] Trial 15 finished with value: 0.0737391304347826 and parameters: {'iterations': 576, 'learning_rate': 0.007130961294144199, 'depth': 8, 'l2_leaf_reg': 1.1570081919596716e-08, 'random_strength': 7.783720554238939e-05, 'bagging_temperature': 1.5375026956892848, 'od_type': 'IncToDec', 'od_wait': 33}. Best is trial 11 with value: 0.24155915454295912.\n",
      "[I 2024-05-19 18:29:38,012] Trial 16 finished with value: 0.2277479513987002 and parameters: {'iterations': 426, 'learning_rate': 0.059637393733955144, 'depth': 10, 'l2_leaf_reg': 1.5542319272919453e-06, 'random_strength': 5.971014170997663e-05, 'bagging_temperature': 3.760236724384846, 'od_type': 'IncToDec', 'od_wait': 45}. Best is trial 11 with value: 0.24155915454295912.\n",
      "[I 2024-05-19 18:30:50,873] Trial 17 finished with value: 0.14426229508196722 and parameters: {'iterations': 973, 'learning_rate': 0.018498573347126606, 'depth': 8, 'l2_leaf_reg': 1.674347385735094e-05, 'random_strength': 0.01734843626044743, 'bagging_temperature': 0.8996481966098699, 'od_type': 'IncToDec', 'od_wait': 27}. Best is trial 11 with value: 0.24155915454295912.\n",
      "[I 2024-05-19 18:31:23,759] Trial 18 finished with value: 0.2289156626506024 and parameters: {'iterations': 682, 'learning_rate': 0.08339670517880038, 'depth': 7, 'l2_leaf_reg': 3.129798716766722e-07, 'random_strength': 0.007938183562147571, 'bagging_temperature': 3.089240525322104, 'od_type': 'IncToDec', 'od_wait': 41}. Best is trial 11 with value: 0.24155915454295912.\n",
      "[I 2024-05-19 18:31:37,366] Trial 19 finished with value: 0.07110491460439178 and parameters: {'iterations': 400, 'learning_rate': 0.022269094109180265, 'depth': 6, 'l2_leaf_reg': 7.143038007619555e-08, 'random_strength': 0.2391018116613642, 'bagging_temperature': 1.3025100050890623, 'od_type': 'IncToDec', 'od_wait': 21}. Best is trial 11 with value: 0.24155915454295912.\n",
      "[I 2024-05-19 18:32:40,940] Trial 20 finished with value: 0.21177870315288516 and parameters: {'iterations': 511, 'learning_rate': 0.04852095407530252, 'depth': 9, 'l2_leaf_reg': 4.557851214702036e-06, 'random_strength': 0.00015603381416761834, 'bagging_temperature': 4.558146191778417, 'od_type': 'IncToDec', 'od_wait': 29}. Best is trial 11 with value: 0.24155915454295912.\n",
      "[I 2024-05-19 18:33:16,826] Trial 21 finished with value: 0.20979827089337175 and parameters: {'iterations': 694, 'learning_rate': 0.0824753024888351, 'depth': 7, 'l2_leaf_reg': 6.586370390440673e-07, 'random_strength': 0.008866486820878039, 'bagging_temperature': 2.912153444796547, 'od_type': 'IncToDec', 'od_wait': 45}. Best is trial 11 with value: 0.24155915454295912.\n",
      "[I 2024-05-19 18:34:02,092] Trial 22 finished with value: 0.22532005689900425 and parameters: {'iterations': 640, 'learning_rate': 0.0702168128561202, 'depth': 8, 'l2_leaf_reg': 7.181043282234973e-08, 'random_strength': 0.13203259792442387, 'bagging_temperature': 0.3696106967537647, 'od_type': 'IncToDec', 'od_wait': 40}. Best is trial 11 with value: 0.24155915454295912.\n",
      "[I 2024-05-19 18:34:35,974] Trial 23 finished with value: 0.1641838351822504 and parameters: {'iterations': 770, 'learning_rate': 0.03946390346147083, 'depth': 7, 'l2_leaf_reg': 0.00023177023553508442, 'random_strength': 0.004367670542510397, 'bagging_temperature': 2.0826701772845704, 'od_type': 'IncToDec', 'od_wait': 34}. Best is trial 11 with value: 0.24155915454295912.\n",
      "[I 2024-05-19 18:34:54,827] Trial 24 finished with value: 0.1626641050272174 and parameters: {'iterations': 563, 'learning_rate': 0.06630868600042657, 'depth': 6, 'l2_leaf_reg': 1.6127897175255173e-05, 'random_strength': 0.00044272391542785663, 'bagging_temperature': 1.1555137632318844, 'od_type': 'IncToDec', 'od_wait': 40}. Best is trial 11 with value: 0.24155915454295912.\n",
      "[I 2024-05-19 18:35:51,643] Trial 25 finished with value: 0.09523809523809525 and parameters: {'iterations': 825, 'learning_rate': 0.009046529441244823, 'depth': 8, 'l2_leaf_reg': 1.2350084662094766e-07, 'random_strength': 4.2380046673745114e-05, 'bagging_temperature': 3.1873516698057873, 'od_type': 'IncToDec', 'od_wait': 23}. Best is trial 11 with value: 0.24155915454295912.\n",
      "[I 2024-05-19 18:36:20,909] Trial 26 finished with value: 0.22720897615708274 and parameters: {'iterations': 634, 'learning_rate': 0.09963414630872856, 'depth': 7, 'l2_leaf_reg': 1.8819041267831473e-06, 'random_strength': 0.08205850737645365, 'bagging_temperature': 4.292776512336607, 'od_type': 'Iter', 'od_wait': 32}. Best is trial 11 with value: 0.24155915454295912.\n",
      "[I 2024-05-19 18:37:20,597] Trial 27 finished with value: 0.16635041113219481 and parameters: {'iterations': 510, 'learning_rate': 0.04248655872547831, 'depth': 9, 'l2_leaf_reg': 3.427847086889188e-07, 'random_strength': 7.17655433211405, 'bagging_temperature': 0.1404964051007413, 'od_type': 'IncToDec', 'od_wait': 43}. Best is trial 11 with value: 0.24155915454295912.\n",
      "[I 2024-05-19 18:37:30,478] Trial 28 finished with value: 0.0704323570432357 and parameters: {'iterations': 380, 'learning_rate': 0.027222649618881444, 'depth': 5, 'l2_leaf_reg': 2.544469633632438e-08, 'random_strength': 1.0501682499941414e-05, 'bagging_temperature': 1.9129820524157257, 'od_type': 'IncToDec', 'od_wait': 12}. Best is trial 11 with value: 0.24155915454295912.\n",
      "[I 2024-05-19 18:37:43,891] Trial 29 finished with value: 0.1335940045617465 and parameters: {'iterations': 299, 'learning_rate': 0.059821947552364564, 'depth': 7, 'l2_leaf_reg': 1.0083514411163507e-08, 'random_strength': 0.002817929277245083, 'bagging_temperature': 8.450593325640245, 'od_type': 'IncToDec', 'od_wait': 29}. Best is trial 11 with value: 0.24155915454295912.\n",
      "[I 2024-05-19 18:38:48,376] Trial 30 finished with value: 0.2535589578297072 and parameters: {'iterations': 920, 'learning_rate': 0.07690594124602057, 'depth': 8, 'l2_leaf_reg': 2.528492794875421e-05, 'random_strength': 1.9701194238641476e-07, 'bagging_temperature': 0.7785745490027935, 'od_type': 'IncToDec', 'od_wait': 24}. Best is trial 30 with value: 0.2535589578297072.\n",
      "[I 2024-05-19 18:39:53,911] Trial 31 finished with value: 0.25 and parameters: {'iterations': 940, 'learning_rate': 0.07325941996072541, 'depth': 8, 'l2_leaf_reg': 1.3431947119876554e-05, 'random_strength': 1.8081560722458242e-07, 'bagging_temperature': 0.8426672851307624, 'od_type': 'IncToDec', 'od_wait': 20}. Best is trial 30 with value: 0.2535589578297072.\n",
      "[I 2024-05-19 18:41:03,005] Trial 32 finished with value: 0.2182994998528979 and parameters: {'iterations': 985, 'learning_rate': 0.04476264772692738, 'depth': 8, 'l2_leaf_reg': 4.328495744240993e-05, 'random_strength': 8.51478768660789e-08, 'bagging_temperature': 0.8377650768532151, 'od_type': 'IncToDec', 'od_wait': 24}. Best is trial 30 with value: 0.2535589578297072.\n",
      "[I 2024-05-19 18:42:47,747] Trial 33 finished with value: 0.24411366711772667 and parameters: {'iterations': 899, 'learning_rate': 0.0694130975173501, 'depth': 9, 'l2_leaf_reg': 0.000521387585480234, 'random_strength': 1.228311754900728e-08, 'bagging_temperature': 0.7672349565038239, 'od_type': 'IncToDec', 'od_wait': 20}. Best is trial 30 with value: 0.2535589578297072.\n",
      "[I 2024-05-19 19:23:03,589] Trial 34 finished with value: 0.23446404341926727 and parameters: {'iterations': 914, 'learning_rate': 0.07062973718845895, 'depth': 10, 'l2_leaf_reg': 0.0002331507195509609, 'random_strength': 1.468400530559437e-08, 'bagging_temperature': 2.5080593249912178, 'od_type': 'IncToDec', 'od_wait': 20}. Best is trial 30 with value: 0.2535589578297072.\n"
     ]
    }
   ],
   "source": [
    "def objective_catb_class(trial):\n",
    "    \"\"\"Определение целевой функции для CatBoost Classification\"\"\"\n",
    "\n",
    "    # Подбираемые параметры\n",
    "    params = {\n",
    "        'iterations': trial.suggest_int(\"iterations\", 100, 1000),\n",
    "        'learning_rate': trial.suggest_float(\"learning_rate\", 1e-3, 1e-1, log=True),\n",
    "        'depth': trial.suggest_int(\"depth\", 4, 10),\n",
    "        'l2_leaf_reg': trial.suggest_float(\"l2_leaf_reg\", 1e-8, 100.0, log=True),\n",
    "        'random_strength': trial.suggest_float(\"random_strength\", 1e-8, 10.0, log=True),\n",
    "        'bagging_temperature': trial.suggest_float(\"bagging_temperature\", 0.0, 10.0),\n",
    "        'od_type': trial.suggest_categorical(\"od_type\", [\"IncToDec\", \"Iter\"]),\n",
    "        'od_wait': trial.suggest_int(\"od_wait\", 10, 50),\n",
    "        'verbose': 0,\n",
    "    }\n",
    "\n",
    "    # Обучение модели\n",
    "    optuna_model = CatBoostClassifier(**params)\n",
    "    optuna_model.fit(X_train, y_train)\n",
    "\n",
    "    # Предсказание\n",
    "    y_pred = optuna_model.predict(X_test)\n",
    "\n",
    "    # Оценка полученного предсказания\n",
    "    f1 = f1_score(y_test, y_pred)\n",
    "    return f1\n",
    "\n",
    "# Создаем сессию для максимизации выбранной метрики\n",
    "study_catb_class = optuna.create_study(direction='maximize')\n",
    "# Запускаем нашу сессию оптимизации\n",
    "study_catb_class.optimize(objective_catb_class, n_trials=100, timeout=1800)"
   ]
  },
  {
   "cell_type": "code",
   "execution_count": 18,
   "metadata": {},
   "outputs": [
    {
     "name": "stderr",
     "output_type": "stream",
     "text": [
      "C:\\Users\\smart\\AppData\\Local\\Temp\\ipykernel_11012\\4076140752.py:2: ExperimentalWarning: plot_optimization_history is experimental (supported from v2.2.0). The interface can change in the future.\n",
      "  plot_optimization_history(study_catb_class)\n"
     ]
    },
    {
     "data": {
      "text/plain": [
       "<Axes: title={'center': 'Optimization History Plot'}, xlabel='Trial', ylabel='Objective Value'>"
      ]
     },
     "execution_count": 18,
     "metadata": {},
     "output_type": "execute_result"
    },
    {
     "data": {
      "image/png": "[encoded data removed]",
      "text/plain": [
       "<Figure size 640x480 with 1 Axes>"
      ]
     },
     "metadata": {},
     "output_type": "display_data"
    }
   ],
   "source": [
    "# Посмотрим как проходл процесс подбора параметров на графике\n",
    "plot_optimization_history(study_catb_class)"
   ]
  },
  {
   "cell_type": "code",
   "execution_count": 19,
   "metadata": {},
   "outputs": [
    {
     "name": "stdout",
     "output_type": "stream",
     "text": [
      "Количество завершенных трайлов: 35\n",
      "Лучший трайл:\n",
      "  Лучший F1-score: 0.2535589578297072\n",
      "  Параметры: \n",
      "    iterations: 920\n",
      "    learning_rate: 0.07690594124602057\n",
      "    depth: 8\n",
      "    l2_leaf_reg: 2.528492794875421e-05\n",
      "    random_strength: 1.9701194238641476e-07\n",
      "    bagging_temperature: 0.7785745490027935\n",
      "    od_type: IncToDec\n",
      "    od_wait: 24\n"
     ]
    }
   ],
   "source": [
    "# Посмотрим на итоги подбора параметров\n",
    "print('Количество завершенных трайлов: {}'.format(len(study_catb_class.trials)))\n",
    "print('Лучший трайл:')\n",
    "trial = study_catb_class.best_trial\n",
    "\n",
    "print('  Лучший F1-score: {}'.format(trial.value))\n",
    "print('  Параметры: ')\n",
    "\n",
    "for key, value in trial.params.items():\n",
    "    print('    {}: {}'.format(key, value))"
   ]
  },
  {
   "cell_type": "code",
   "execution_count": 20,
   "metadata": {},
   "outputs": [
    {
     "name": "stdout",
     "output_type": "stream",
     "text": [
      "0:\tlearn: 0.6610986\ttotal: 85.2ms\tremaining: 1m 18s\n",
      "1:\tlearn: 0.6341200\ttotal: 181ms\tremaining: 1m 22s\n",
      "2:\tlearn: 0.6117128\ttotal: 256ms\tremaining: 1m 18s\n",
      "3:\tlearn: 0.5925617\ttotal: 328ms\tremaining: 1m 15s\n",
      "4:\tlearn: 0.5764878\ttotal: 395ms\tremaining: 1m 12s\n",
      "5:\tlearn: 0.5624311\ttotal: 460ms\tremaining: 1m 10s\n",
      "6:\tlearn: 0.5509578\ttotal: 524ms\tremaining: 1m 8s\n",
      "7:\tlearn: 0.5409868\ttotal: 590ms\tremaining: 1m 7s\n",
      "8:\tlearn: 0.5327806\ttotal: 658ms\tremaining: 1m 6s\n",
      "9:\tlearn: 0.5255417\ttotal: 725ms\tremaining: 1m 5s\n",
      "10:\tlearn: 0.5193117\ttotal: 793ms\tremaining: 1m 5s\n",
      "11:\tlearn: 0.5142270\ttotal: 860ms\tremaining: 1m 5s\n",
      "12:\tlearn: 0.5094495\ttotal: 927ms\tremaining: 1m 4s\n",
      "13:\tlearn: 0.5054437\ttotal: 990ms\tremaining: 1m 4s\n",
      "14:\tlearn: 0.5019551\ttotal: 1.05s\tremaining: 1m 3s\n",
      "15:\tlearn: 0.4989021\ttotal: 1.12s\tremaining: 1m 3s\n",
      "16:\tlearn: 0.4964313\ttotal: 1.19s\tremaining: 1m 3s\n",
      "17:\tlearn: 0.4940959\ttotal: 1.26s\tremaining: 1m 3s\n",
      "18:\tlearn: 0.4921953\ttotal: 1.32s\tremaining: 1m 2s\n",
      "19:\tlearn: 0.4900468\ttotal: 1.39s\tremaining: 1m 2s\n",
      "20:\tlearn: 0.4879677\ttotal: 1.45s\tremaining: 1m 2s\n",
      "21:\tlearn: 0.4862741\ttotal: 1.52s\tremaining: 1m 1s\n",
      "22:\tlearn: 0.4849947\ttotal: 1.58s\tremaining: 1m 1s\n",
      "23:\tlearn: 0.4837212\ttotal: 1.65s\tremaining: 1m 1s\n",
      "24:\tlearn: 0.4823802\ttotal: 1.71s\tremaining: 1m 1s\n",
      "25:\tlearn: 0.4811330\ttotal: 1.78s\tremaining: 1m 1s\n",
      "26:\tlearn: 0.4799573\ttotal: 1.84s\tremaining: 1m\n",
      "27:\tlearn: 0.4787883\ttotal: 1.91s\tremaining: 1m\n",
      "28:\tlearn: 0.4776826\ttotal: 1.97s\tremaining: 1m\n",
      "29:\tlearn: 0.4766713\ttotal: 2.04s\tremaining: 1m\n",
      "30:\tlearn: 0.4758439\ttotal: 2.11s\tremaining: 1m\n",
      "31:\tlearn: 0.4750075\ttotal: 2.18s\tremaining: 1m\n",
      "32:\tlearn: 0.4740758\ttotal: 2.24s\tremaining: 1m\n",
      "33:\tlearn: 0.4733363\ttotal: 2.31s\tremaining: 1m\n",
      "34:\tlearn: 0.4727369\ttotal: 2.37s\tremaining: 60s\n",
      "35:\tlearn: 0.4718415\ttotal: 2.44s\tremaining: 59.9s\n",
      "36:\tlearn: 0.4707996\ttotal: 2.51s\tremaining: 59.9s\n",
      "37:\tlearn: 0.4699833\ttotal: 2.58s\tremaining: 59.8s\n",
      "38:\tlearn: 0.4691821\ttotal: 2.64s\tremaining: 59.7s\n",
      "39:\tlearn: 0.4681927\ttotal: 2.71s\tremaining: 59.6s\n",
      "40:\tlearn: 0.4674894\ttotal: 2.77s\tremaining: 59.5s\n",
      "41:\tlearn: 0.4668660\ttotal: 2.84s\tremaining: 59.3s\n",
      "42:\tlearn: 0.4657647\ttotal: 2.91s\tremaining: 59.3s\n",
      "43:\tlearn: 0.4651681\ttotal: 2.97s\tremaining: 59.2s\n",
      "44:\tlearn: 0.4645480\ttotal: 3.03s\tremaining: 59s\n",
      "45:\tlearn: 0.4640861\ttotal: 3.1s\tremaining: 58.9s\n",
      "46:\tlearn: 0.4635947\ttotal: 3.16s\tremaining: 58.7s\n",
      "47:\tlearn: 0.4630927\ttotal: 3.23s\tremaining: 58.6s\n",
      "48:\tlearn: 0.4625235\ttotal: 3.29s\tremaining: 58.5s\n",
      "49:\tlearn: 0.4619824\ttotal: 3.37s\tremaining: 58.6s\n",
      "50:\tlearn: 0.4614628\ttotal: 3.43s\tremaining: 58.5s\n",
      "51:\tlearn: 0.4608192\ttotal: 3.5s\tremaining: 58.4s\n",
      "52:\tlearn: 0.4600686\ttotal: 3.56s\tremaining: 58.2s\n",
      "53:\tlearn: 0.4595908\ttotal: 3.62s\tremaining: 58.1s\n",
      "54:\tlearn: 0.4590269\ttotal: 3.68s\tremaining: 57.9s\n",
      "55:\tlearn: 0.4585518\ttotal: 3.75s\tremaining: 57.8s\n",
      "56:\tlearn: 0.4579404\ttotal: 3.81s\tremaining: 57.8s\n",
      "57:\tlearn: 0.4573960\ttotal: 3.88s\tremaining: 57.7s\n",
      "58:\tlearn: 0.4567431\ttotal: 3.95s\tremaining: 57.6s\n",
      "59:\tlearn: 0.4562863\ttotal: 4.01s\tremaining: 57.5s\n",
      "60:\tlearn: 0.4556917\ttotal: 4.08s\tremaining: 57.4s\n",
      "61:\tlearn: 0.4553609\ttotal: 4.13s\tremaining: 57.2s\n",
      "62:\tlearn: 0.4548133\ttotal: 4.2s\tremaining: 57.2s\n",
      "63:\tlearn: 0.4543376\ttotal: 4.27s\tremaining: 57.1s\n",
      "64:\tlearn: 0.4539504\ttotal: 4.33s\tremaining: 56.9s\n",
      "65:\tlearn: 0.4532921\ttotal: 4.39s\tremaining: 56.8s\n",
      "66:\tlearn: 0.4529014\ttotal: 4.46s\tremaining: 56.7s\n",
      "67:\tlearn: 0.4522477\ttotal: 4.52s\tremaining: 56.7s\n",
      "68:\tlearn: 0.4514321\ttotal: 4.59s\tremaining: 56.6s\n",
      "69:\tlearn: 0.4505832\ttotal: 4.66s\tremaining: 56.5s\n",
      "70:\tlearn: 0.4499079\ttotal: 4.72s\tremaining: 56.5s\n",
      "71:\tlearn: 0.4494437\ttotal: 4.79s\tremaining: 56.4s\n",
      "72:\tlearn: 0.4491196\ttotal: 4.85s\tremaining: 56.3s\n",
      "73:\tlearn: 0.4487500\ttotal: 4.91s\tremaining: 56.2s\n",
      "74:\tlearn: 0.4483366\ttotal: 4.97s\tremaining: 56s\n",
      "75:\tlearn: 0.4480073\ttotal: 5.04s\tremaining: 55.9s\n",
      "76:\tlearn: 0.4473363\ttotal: 5.1s\tremaining: 55.9s\n",
      "77:\tlearn: 0.4469481\ttotal: 5.17s\tremaining: 55.8s\n",
      "78:\tlearn: 0.4465617\ttotal: 5.22s\tremaining: 55.6s\n",
      "79:\tlearn: 0.4459792\ttotal: 5.29s\tremaining: 55.5s\n",
      "80:\tlearn: 0.4455174\ttotal: 5.35s\tremaining: 55.5s\n",
      "81:\tlearn: 0.4448333\ttotal: 5.42s\tremaining: 55.4s\n",
      "82:\tlearn: 0.4441385\ttotal: 5.49s\tremaining: 55.3s\n",
      "83:\tlearn: 0.4437433\ttotal: 5.55s\tremaining: 55.2s\n",
      "84:\tlearn: 0.4431160\ttotal: 5.61s\tremaining: 55.1s\n",
      "85:\tlearn: 0.4427332\ttotal: 5.67s\tremaining: 55s\n",
      "86:\tlearn: 0.4422484\ttotal: 5.74s\tremaining: 54.9s\n",
      "87:\tlearn: 0.4417337\ttotal: 5.8s\tremaining: 54.9s\n",
      "88:\tlearn: 0.4409145\ttotal: 5.87s\tremaining: 54.8s\n",
      "89:\tlearn: 0.4402286\ttotal: 5.94s\tremaining: 54.8s\n",
      "90:\tlearn: 0.4395500\ttotal: 6s\tremaining: 54.7s\n",
      "91:\tlearn: 0.4390277\ttotal: 6.07s\tremaining: 54.6s\n",
      "92:\tlearn: 0.4387298\ttotal: 6.13s\tremaining: 54.5s\n",
      "93:\tlearn: 0.4383107\ttotal: 6.19s\tremaining: 54.4s\n",
      "94:\tlearn: 0.4377199\ttotal: 6.26s\tremaining: 54.4s\n",
      "95:\tlearn: 0.4370906\ttotal: 6.33s\tremaining: 54.3s\n",
      "96:\tlearn: 0.4363452\ttotal: 6.39s\tremaining: 54.2s\n",
      "97:\tlearn: 0.4359011\ttotal: 6.45s\tremaining: 54.1s\n",
      "98:\tlearn: 0.4353809\ttotal: 6.51s\tremaining: 54s\n",
      "99:\tlearn: 0.4348410\ttotal: 6.58s\tremaining: 53.9s\n",
      "100:\tlearn: 0.4343599\ttotal: 6.64s\tremaining: 53.9s\n",
      "101:\tlearn: 0.4338301\ttotal: 6.71s\tremaining: 53.8s\n",
      "102:\tlearn: 0.4333765\ttotal: 6.78s\tremaining: 53.8s\n",
      "103:\tlearn: 0.4331083\ttotal: 6.84s\tremaining: 53.7s\n",
      "104:\tlearn: 0.4326864\ttotal: 6.9s\tremaining: 53.6s\n",
      "105:\tlearn: 0.4321652\ttotal: 6.97s\tremaining: 53.5s\n",
      "106:\tlearn: 0.4316284\ttotal: 7.03s\tremaining: 53.4s\n",
      "107:\tlearn: 0.4310078\ttotal: 7.09s\tremaining: 53.3s\n",
      "108:\tlearn: 0.4305495\ttotal: 7.16s\tremaining: 53.3s\n",
      "109:\tlearn: 0.4299115\ttotal: 7.23s\tremaining: 53.2s\n",
      "110:\tlearn: 0.4292452\ttotal: 7.29s\tremaining: 53.2s\n",
      "111:\tlearn: 0.4288306\ttotal: 7.36s\tremaining: 53.1s\n",
      "112:\tlearn: 0.4284005\ttotal: 7.42s\tremaining: 53s\n",
      "113:\tlearn: 0.4279236\ttotal: 7.48s\tremaining: 52.9s\n",
      "114:\tlearn: 0.4274063\ttotal: 7.54s\tremaining: 52.8s\n",
      "115:\tlearn: 0.4266953\ttotal: 7.62s\tremaining: 52.8s\n",
      "116:\tlearn: 0.4259559\ttotal: 7.68s\tremaining: 52.7s\n",
      "117:\tlearn: 0.4252900\ttotal: 7.75s\tremaining: 52.7s\n",
      "118:\tlearn: 0.4247610\ttotal: 7.81s\tremaining: 52.6s\n",
      "119:\tlearn: 0.4244029\ttotal: 7.88s\tremaining: 52.5s\n",
      "120:\tlearn: 0.4240549\ttotal: 7.94s\tremaining: 52.4s\n",
      "121:\tlearn: 0.4237511\ttotal: 8s\tremaining: 52.4s\n",
      "122:\tlearn: 0.4232111\ttotal: 8.07s\tremaining: 52.3s\n",
      "123:\tlearn: 0.4229333\ttotal: 8.13s\tremaining: 52.2s\n",
      "124:\tlearn: 0.4224125\ttotal: 8.2s\tremaining: 52.1s\n",
      "125:\tlearn: 0.4216970\ttotal: 8.27s\tremaining: 52.1s\n",
      "126:\tlearn: 0.4213606\ttotal: 8.33s\tremaining: 52s\n",
      "127:\tlearn: 0.4207966\ttotal: 8.4s\tremaining: 52s\n",
      "128:\tlearn: 0.4202090\ttotal: 8.46s\tremaining: 51.9s\n",
      "129:\tlearn: 0.4196166\ttotal: 8.53s\tremaining: 51.8s\n",
      "130:\tlearn: 0.4190590\ttotal: 8.59s\tremaining: 51.8s\n",
      "131:\tlearn: 0.4187258\ttotal: 8.65s\tremaining: 51.7s\n",
      "132:\tlearn: 0.4180960\ttotal: 8.72s\tremaining: 51.6s\n",
      "133:\tlearn: 0.4173773\ttotal: 8.78s\tremaining: 51.5s\n",
      "134:\tlearn: 0.4169918\ttotal: 8.85s\tremaining: 51.5s\n",
      "135:\tlearn: 0.4162918\ttotal: 8.91s\tremaining: 51.4s\n",
      "136:\tlearn: 0.4158633\ttotal: 8.98s\tremaining: 51.3s\n",
      "137:\tlearn: 0.4152012\ttotal: 9.05s\tremaining: 51.3s\n",
      "138:\tlearn: 0.4147287\ttotal: 9.11s\tremaining: 51.2s\n",
      "139:\tlearn: 0.4141051\ttotal: 9.18s\tremaining: 51.1s\n",
      "140:\tlearn: 0.4134088\ttotal: 9.24s\tremaining: 51.1s\n",
      "141:\tlearn: 0.4128241\ttotal: 9.31s\tremaining: 51s\n",
      "142:\tlearn: 0.4122923\ttotal: 9.37s\tremaining: 50.9s\n",
      "143:\tlearn: 0.4117913\ttotal: 9.44s\tremaining: 50.9s\n",
      "144:\tlearn: 0.4112218\ttotal: 9.51s\tremaining: 50.8s\n",
      "145:\tlearn: 0.4108352\ttotal: 9.57s\tremaining: 50.7s\n",
      "146:\tlearn: 0.4104350\ttotal: 9.65s\tremaining: 50.8s\n",
      "147:\tlearn: 0.4099296\ttotal: 9.75s\tremaining: 50.9s\n",
      "148:\tlearn: 0.4094670\ttotal: 9.84s\tremaining: 50.9s\n",
      "149:\tlearn: 0.4092006\ttotal: 9.91s\tremaining: 50.9s\n",
      "150:\tlearn: 0.4085191\ttotal: 9.98s\tremaining: 50.8s\n",
      "151:\tlearn: 0.4078012\ttotal: 10s\tremaining: 50.7s\n",
      "152:\tlearn: 0.4074173\ttotal: 10.1s\tremaining: 50.7s\n",
      "153:\tlearn: 0.4069490\ttotal: 10.2s\tremaining: 50.6s\n",
      "154:\tlearn: 0.4065507\ttotal: 10.2s\tremaining: 50.5s\n",
      "155:\tlearn: 0.4058080\ttotal: 10.3s\tremaining: 50.5s\n",
      "156:\tlearn: 0.4054568\ttotal: 10.4s\tremaining: 50.4s\n",
      "157:\tlearn: 0.4050110\ttotal: 10.4s\tremaining: 50.3s\n",
      "158:\tlearn: 0.4044334\ttotal: 10.5s\tremaining: 50.3s\n",
      "159:\tlearn: 0.4039583\ttotal: 10.6s\tremaining: 50.2s\n",
      "160:\tlearn: 0.4035622\ttotal: 10.6s\tremaining: 50.2s\n",
      "161:\tlearn: 0.4032610\ttotal: 10.7s\tremaining: 50.1s\n",
      "162:\tlearn: 0.4029621\ttotal: 10.8s\tremaining: 50s\n",
      "163:\tlearn: 0.4025998\ttotal: 10.8s\tremaining: 50s\n",
      "164:\tlearn: 0.4020471\ttotal: 10.9s\tremaining: 50s\n",
      "165:\tlearn: 0.4014424\ttotal: 11s\tremaining: 50s\n",
      "166:\tlearn: 0.4010067\ttotal: 11.1s\tremaining: 50.1s\n",
      "167:\tlearn: 0.4004567\ttotal: 11.2s\tremaining: 50.1s\n",
      "168:\tlearn: 0.3998669\ttotal: 11.3s\tremaining: 50s\n",
      "169:\tlearn: 0.3992959\ttotal: 11.3s\tremaining: 49.9s\n",
      "170:\tlearn: 0.3986045\ttotal: 11.4s\tremaining: 49.9s\n",
      "171:\tlearn: 0.3982204\ttotal: 11.5s\tremaining: 49.8s\n",
      "172:\tlearn: 0.3978014\ttotal: 11.5s\tremaining: 49.8s\n",
      "173:\tlearn: 0.3972690\ttotal: 11.6s\tremaining: 49.7s\n",
      "174:\tlearn: 0.3968257\ttotal: 11.6s\tremaining: 49.6s\n",
      "175:\tlearn: 0.3962871\ttotal: 11.7s\tremaining: 49.5s\n",
      "176:\tlearn: 0.3959237\ttotal: 11.8s\tremaining: 49.5s\n",
      "177:\tlearn: 0.3952950\ttotal: 11.9s\tremaining: 49.4s\n",
      "178:\tlearn: 0.3949255\ttotal: 11.9s\tremaining: 49.4s\n",
      "179:\tlearn: 0.3945977\ttotal: 12.1s\tremaining: 49.6s\n",
      "180:\tlearn: 0.3940420\ttotal: 12.2s\tremaining: 49.9s\n",
      "181:\tlearn: 0.3936711\ttotal: 12.4s\tremaining: 50.1s\n",
      "182:\tlearn: 0.3932497\ttotal: 12.5s\tremaining: 50.2s\n",
      "183:\tlearn: 0.3929316\ttotal: 12.6s\tremaining: 50.3s\n",
      "184:\tlearn: 0.3926115\ttotal: 12.7s\tremaining: 50.3s\n",
      "185:\tlearn: 0.3920919\ttotal: 12.8s\tremaining: 50.4s\n",
      "186:\tlearn: 0.3918069\ttotal: 12.8s\tremaining: 50.4s\n",
      "187:\tlearn: 0.3915495\ttotal: 12.9s\tremaining: 50.4s\n",
      "188:\tlearn: 0.3911224\ttotal: 13s\tremaining: 50.3s\n",
      "189:\tlearn: 0.3907491\ttotal: 13.1s\tremaining: 50.3s\n",
      "190:\tlearn: 0.3904553\ttotal: 13.2s\tremaining: 50.2s\n",
      "191:\tlearn: 0.3901297\ttotal: 13.2s\tremaining: 50.2s\n",
      "192:\tlearn: 0.3896277\ttotal: 13.3s\tremaining: 50.2s\n",
      "193:\tlearn: 0.3892865\ttotal: 13.4s\tremaining: 50.3s\n",
      "194:\tlearn: 0.3888227\ttotal: 13.6s\tremaining: 50.5s\n",
      "195:\tlearn: 0.3885418\ttotal: 13.7s\tremaining: 50.7s\n",
      "196:\tlearn: 0.3879602\ttotal: 14s\tremaining: 51.4s\n",
      "197:\tlearn: 0.3876114\ttotal: 14.1s\tremaining: 51.6s\n",
      "198:\tlearn: 0.3874101\ttotal: 14.2s\tremaining: 51.6s\n",
      "199:\tlearn: 0.3870402\ttotal: 14.3s\tremaining: 51.6s\n",
      "200:\tlearn: 0.3866309\ttotal: 14.4s\tremaining: 51.5s\n",
      "201:\tlearn: 0.3861824\ttotal: 14.5s\tremaining: 51.5s\n",
      "202:\tlearn: 0.3858551\ttotal: 14.6s\tremaining: 51.4s\n",
      "203:\tlearn: 0.3855517\ttotal: 14.6s\tremaining: 51.3s\n",
      "204:\tlearn: 0.3852191\ttotal: 14.7s\tremaining: 51.3s\n",
      "205:\tlearn: 0.3847393\ttotal: 14.8s\tremaining: 51.5s\n",
      "206:\tlearn: 0.3842070\ttotal: 15s\tremaining: 51.6s\n",
      "207:\tlearn: 0.3836180\ttotal: 15.1s\tremaining: 51.6s\n",
      "208:\tlearn: 0.3831956\ttotal: 15.2s\tremaining: 51.6s\n",
      "209:\tlearn: 0.3827134\ttotal: 15.3s\tremaining: 51.6s\n",
      "210:\tlearn: 0.3823695\ttotal: 15.4s\tremaining: 51.7s\n",
      "211:\tlearn: 0.3819332\ttotal: 15.5s\tremaining: 51.8s\n",
      "212:\tlearn: 0.3814326\ttotal: 15.6s\tremaining: 51.9s\n",
      "213:\tlearn: 0.3810011\ttotal: 15.7s\tremaining: 51.9s\n",
      "214:\tlearn: 0.3805051\ttotal: 15.8s\tremaining: 51.8s\n",
      "215:\tlearn: 0.3800426\ttotal: 15.9s\tremaining: 51.8s\n",
      "216:\tlearn: 0.3797480\ttotal: 16s\tremaining: 51.7s\n",
      "217:\tlearn: 0.3793471\ttotal: 16.1s\tremaining: 51.7s\n",
      "218:\tlearn: 0.3790272\ttotal: 16.1s\tremaining: 51.7s\n",
      "219:\tlearn: 0.3784660\ttotal: 16.2s\tremaining: 51.7s\n",
      "220:\tlearn: 0.3780514\ttotal: 16.3s\tremaining: 51.7s\n",
      "221:\tlearn: 0.3775490\ttotal: 16.4s\tremaining: 51.7s\n",
      "222:\tlearn: 0.3771864\ttotal: 16.6s\tremaining: 51.7s\n",
      "223:\tlearn: 0.3767210\ttotal: 16.7s\tremaining: 51.8s\n",
      "224:\tlearn: 0.3761765\ttotal: 16.8s\tremaining: 51.8s\n",
      "225:\tlearn: 0.3756035\ttotal: 16.9s\tremaining: 51.8s\n",
      "226:\tlearn: 0.3751348\ttotal: 17s\tremaining: 51.9s\n",
      "227:\tlearn: 0.3746846\ttotal: 17.1s\tremaining: 51.8s\n",
      "228:\tlearn: 0.3743820\ttotal: 17.2s\tremaining: 51.8s\n",
      "229:\tlearn: 0.3741372\ttotal: 17.2s\tremaining: 51.7s\n",
      "230:\tlearn: 0.3736712\ttotal: 17.3s\tremaining: 51.7s\n",
      "231:\tlearn: 0.3732949\ttotal: 17.4s\tremaining: 51.6s\n",
      "232:\tlearn: 0.3727562\ttotal: 17.5s\tremaining: 51.6s\n",
      "233:\tlearn: 0.3725222\ttotal: 17.6s\tremaining: 51.6s\n",
      "234:\tlearn: 0.3719917\ttotal: 17.7s\tremaining: 51.6s\n",
      "235:\tlearn: 0.3714929\ttotal: 17.8s\tremaining: 51.5s\n",
      "236:\tlearn: 0.3710622\ttotal: 17.9s\tremaining: 51.6s\n",
      "237:\tlearn: 0.3705185\ttotal: 18s\tremaining: 51.6s\n",
      "238:\tlearn: 0.3698780\ttotal: 18.1s\tremaining: 51.7s\n",
      "239:\tlearn: 0.3695167\ttotal: 18.3s\tremaining: 51.7s\n",
      "240:\tlearn: 0.3689108\ttotal: 18.4s\tremaining: 51.8s\n",
      "241:\tlearn: 0.3684987\ttotal: 18.5s\tremaining: 51.9s\n",
      "242:\tlearn: 0.3679109\ttotal: 18.7s\tremaining: 52s\n",
      "243:\tlearn: 0.3675661\ttotal: 18.8s\tremaining: 52.1s\n",
      "244:\tlearn: 0.3672867\ttotal: 18.9s\tremaining: 52.2s\n",
      "245:\tlearn: 0.3667941\ttotal: 19.1s\tremaining: 52.3s\n",
      "246:\tlearn: 0.3663438\ttotal: 19.2s\tremaining: 52.3s\n",
      "247:\tlearn: 0.3658723\ttotal: 19.3s\tremaining: 52.3s\n",
      "248:\tlearn: 0.3652915\ttotal: 19.5s\tremaining: 52.4s\n",
      "249:\tlearn: 0.3649544\ttotal: 19.6s\tremaining: 52.5s\n",
      "250:\tlearn: 0.3648334\ttotal: 19.7s\tremaining: 52.4s\n",
      "251:\tlearn: 0.3643804\ttotal: 19.8s\tremaining: 52.5s\n",
      "252:\tlearn: 0.3638081\ttotal: 19.9s\tremaining: 52.5s\n",
      "253:\tlearn: 0.3635422\ttotal: 20s\tremaining: 52.6s\n",
      "254:\tlearn: 0.3631459\ttotal: 20.2s\tremaining: 52.6s\n",
      "255:\tlearn: 0.3628032\ttotal: 20.3s\tremaining: 52.6s\n",
      "256:\tlearn: 0.3624497\ttotal: 20.4s\tremaining: 52.6s\n",
      "257:\tlearn: 0.3620055\ttotal: 20.5s\tremaining: 52.6s\n",
      "258:\tlearn: 0.3615332\ttotal: 20.6s\tremaining: 52.6s\n",
      "259:\tlearn: 0.3609494\ttotal: 20.9s\tremaining: 53.1s\n",
      "260:\tlearn: 0.3607012\ttotal: 21.1s\tremaining: 53.2s\n",
      "261:\tlearn: 0.3602715\ttotal: 21.2s\tremaining: 53.3s\n",
      "262:\tlearn: 0.3599393\ttotal: 21.3s\tremaining: 53.3s\n",
      "263:\tlearn: 0.3594473\ttotal: 21.4s\tremaining: 53.3s\n",
      "264:\tlearn: 0.3590208\ttotal: 21.6s\tremaining: 53.3s\n",
      "265:\tlearn: 0.3585980\ttotal: 21.7s\tremaining: 53.3s\n",
      "266:\tlearn: 0.3582728\ttotal: 21.8s\tremaining: 53.3s\n",
      "267:\tlearn: 0.3577535\ttotal: 21.9s\tremaining: 53.2s\n",
      "268:\tlearn: 0.3572939\ttotal: 22s\tremaining: 53.3s\n",
      "269:\tlearn: 0.3567977\ttotal: 22.1s\tremaining: 53.2s\n",
      "270:\tlearn: 0.3564874\ttotal: 22.2s\tremaining: 53.1s\n",
      "271:\tlearn: 0.3560846\ttotal: 22.3s\tremaining: 53s\n",
      "272:\tlearn: 0.3557149\ttotal: 22.3s\tremaining: 52.9s\n",
      "273:\tlearn: 0.3552945\ttotal: 22.5s\tremaining: 52.9s\n",
      "274:\tlearn: 0.3547186\ttotal: 22.6s\tremaining: 52.9s\n",
      "275:\tlearn: 0.3543910\ttotal: 22.7s\tremaining: 52.9s\n",
      "276:\tlearn: 0.3539672\ttotal: 22.8s\tremaining: 52.9s\n",
      "277:\tlearn: 0.3534920\ttotal: 22.9s\tremaining: 52.9s\n",
      "278:\tlearn: 0.3531994\ttotal: 23s\tremaining: 52.9s\n",
      "279:\tlearn: 0.3528792\ttotal: 23.1s\tremaining: 52.9s\n",
      "280:\tlearn: 0.3525731\ttotal: 23.2s\tremaining: 52.8s\n",
      "281:\tlearn: 0.3522885\ttotal: 23.3s\tremaining: 52.7s\n",
      "282:\tlearn: 0.3519257\ttotal: 23.4s\tremaining: 52.6s\n",
      "283:\tlearn: 0.3516588\ttotal: 23.5s\tremaining: 52.5s\n",
      "284:\tlearn: 0.3513686\ttotal: 23.5s\tremaining: 52.4s\n",
      "285:\tlearn: 0.3509849\ttotal: 23.6s\tremaining: 52.4s\n",
      "286:\tlearn: 0.3503320\ttotal: 23.7s\tremaining: 52.3s\n",
      "287:\tlearn: 0.3501285\ttotal: 23.8s\tremaining: 52.2s\n",
      "288:\tlearn: 0.3496200\ttotal: 23.9s\tremaining: 52.1s\n",
      "289:\tlearn: 0.3491236\ttotal: 23.9s\tremaining: 52s\n",
      "290:\tlearn: 0.3487511\ttotal: 24s\tremaining: 51.9s\n",
      "291:\tlearn: 0.3483081\ttotal: 24.1s\tremaining: 51.8s\n",
      "292:\tlearn: 0.3478598\ttotal: 24.2s\tremaining: 51.7s\n",
      "293:\tlearn: 0.3474346\ttotal: 24.2s\tremaining: 51.6s\n",
      "294:\tlearn: 0.3470029\ttotal: 24.3s\tremaining: 51.6s\n",
      "295:\tlearn: 0.3467886\ttotal: 24.4s\tremaining: 51.5s\n",
      "296:\tlearn: 0.3464538\ttotal: 24.5s\tremaining: 51.4s\n",
      "297:\tlearn: 0.3461497\ttotal: 24.6s\tremaining: 51.3s\n",
      "298:\tlearn: 0.3457517\ttotal: 24.6s\tremaining: 51.2s\n",
      "299:\tlearn: 0.3455429\ttotal: 24.7s\tremaining: 51.1s\n",
      "300:\tlearn: 0.3450361\ttotal: 24.8s\tremaining: 51s\n",
      "301:\tlearn: 0.3448007\ttotal: 24.9s\tremaining: 50.9s\n",
      "302:\tlearn: 0.3444223\ttotal: 25s\tremaining: 50.8s\n",
      "303:\tlearn: 0.3441326\ttotal: 25s\tremaining: 50.7s\n",
      "304:\tlearn: 0.3436719\ttotal: 25.1s\tremaining: 50.6s\n",
      "305:\tlearn: 0.3432291\ttotal: 25.2s\tremaining: 50.5s\n",
      "306:\tlearn: 0.3428217\ttotal: 25.3s\tremaining: 50.5s\n",
      "307:\tlearn: 0.3423735\ttotal: 25.4s\tremaining: 50.4s\n",
      "308:\tlearn: 0.3419709\ttotal: 25.5s\tremaining: 50.4s\n",
      "309:\tlearn: 0.3415057\ttotal: 25.6s\tremaining: 50.3s\n",
      "310:\tlearn: 0.3411642\ttotal: 25.7s\tremaining: 50.3s\n",
      "311:\tlearn: 0.3408340\ttotal: 25.7s\tremaining: 50.2s\n",
      "312:\tlearn: 0.3406103\ttotal: 25.8s\tremaining: 50.1s\n",
      "313:\tlearn: 0.3403076\ttotal: 25.9s\tremaining: 50s\n",
      "314:\tlearn: 0.3400693\ttotal: 26s\tremaining: 49.9s\n",
      "315:\tlearn: 0.3397602\ttotal: 26.1s\tremaining: 49.9s\n",
      "316:\tlearn: 0.3393725\ttotal: 26.2s\tremaining: 49.8s\n",
      "317:\tlearn: 0.3389584\ttotal: 26.2s\tremaining: 49.7s\n",
      "318:\tlearn: 0.3385803\ttotal: 26.3s\tremaining: 49.6s\n",
      "319:\tlearn: 0.3381935\ttotal: 26.4s\tremaining: 49.5s\n",
      "320:\tlearn: 0.3379391\ttotal: 26.5s\tremaining: 49.5s\n",
      "321:\tlearn: 0.3376021\ttotal: 26.6s\tremaining: 49.4s\n",
      "322:\tlearn: 0.3371816\ttotal: 26.7s\tremaining: 49.3s\n",
      "323:\tlearn: 0.3368974\ttotal: 26.8s\tremaining: 49.2s\n",
      "324:\tlearn: 0.3362450\ttotal: 26.9s\tremaining: 49.2s\n",
      "325:\tlearn: 0.3358683\ttotal: 26.9s\tremaining: 49.1s\n",
      "326:\tlearn: 0.3354063\ttotal: 27s\tremaining: 49s\n",
      "327:\tlearn: 0.3351433\ttotal: 27.1s\tremaining: 48.9s\n",
      "328:\tlearn: 0.3348186\ttotal: 27.2s\tremaining: 48.8s\n",
      "329:\tlearn: 0.3344966\ttotal: 27.3s\tremaining: 48.7s\n",
      "330:\tlearn: 0.3341622\ttotal: 27.3s\tremaining: 48.7s\n",
      "331:\tlearn: 0.3337856\ttotal: 27.4s\tremaining: 48.6s\n",
      "332:\tlearn: 0.3334387\ttotal: 27.5s\tremaining: 48.5s\n",
      "333:\tlearn: 0.3329089\ttotal: 27.6s\tremaining: 48.4s\n",
      "334:\tlearn: 0.3325609\ttotal: 27.7s\tremaining: 48.3s\n",
      "335:\tlearn: 0.3321784\ttotal: 27.7s\tremaining: 48.2s\n",
      "336:\tlearn: 0.3317183\ttotal: 27.8s\tremaining: 48.2s\n",
      "337:\tlearn: 0.3314386\ttotal: 27.9s\tremaining: 48.1s\n",
      "338:\tlearn: 0.3312200\ttotal: 28s\tremaining: 48s\n",
      "339:\tlearn: 0.3306843\ttotal: 28.1s\tremaining: 47.9s\n",
      "340:\tlearn: 0.3302070\ttotal: 28.2s\tremaining: 47.8s\n",
      "341:\tlearn: 0.3298649\ttotal: 28.3s\tremaining: 47.8s\n",
      "342:\tlearn: 0.3295301\ttotal: 28.4s\tremaining: 47.7s\n",
      "343:\tlearn: 0.3290204\ttotal: 28.4s\tremaining: 47.6s\n",
      "344:\tlearn: 0.3287553\ttotal: 28.5s\tremaining: 47.5s\n",
      "345:\tlearn: 0.3284528\ttotal: 28.6s\tremaining: 47.5s\n",
      "346:\tlearn: 0.3280761\ttotal: 28.7s\tremaining: 47.4s\n",
      "347:\tlearn: 0.3277850\ttotal: 28.8s\tremaining: 47.3s\n",
      "348:\tlearn: 0.3274134\ttotal: 28.8s\tremaining: 47.2s\n",
      "349:\tlearn: 0.3270470\ttotal: 28.9s\tremaining: 47.1s\n",
      "350:\tlearn: 0.3266728\ttotal: 29s\tremaining: 47s\n",
      "351:\tlearn: 0.3262965\ttotal: 29.1s\tremaining: 46.9s\n",
      "352:\tlearn: 0.3260614\ttotal: 29.1s\tremaining: 46.8s\n",
      "353:\tlearn: 0.3257407\ttotal: 29.2s\tremaining: 46.7s\n",
      "354:\tlearn: 0.3253494\ttotal: 29.3s\tremaining: 46.6s\n",
      "355:\tlearn: 0.3251107\ttotal: 29.4s\tremaining: 46.5s\n",
      "356:\tlearn: 0.3248592\ttotal: 29.4s\tremaining: 46.4s\n",
      "357:\tlearn: 0.3246138\ttotal: 29.5s\tremaining: 46.3s\n",
      "358:\tlearn: 0.3241874\ttotal: 29.6s\tremaining: 46.2s\n",
      "359:\tlearn: 0.3237761\ttotal: 29.7s\tremaining: 46.1s\n",
      "360:\tlearn: 0.3234732\ttotal: 29.8s\tremaining: 46.1s\n",
      "361:\tlearn: 0.3229355\ttotal: 29.8s\tremaining: 46s\n",
      "362:\tlearn: 0.3225836\ttotal: 29.9s\tremaining: 46s\n",
      "363:\tlearn: 0.3222403\ttotal: 30.1s\tremaining: 45.9s\n",
      "364:\tlearn: 0.3217715\ttotal: 30.2s\tremaining: 45.9s\n",
      "365:\tlearn: 0.3214704\ttotal: 30.2s\tremaining: 45.8s\n",
      "366:\tlearn: 0.3211159\ttotal: 30.3s\tremaining: 45.7s\n",
      "367:\tlearn: 0.3208898\ttotal: 30.4s\tremaining: 45.6s\n",
      "368:\tlearn: 0.3205706\ttotal: 30.5s\tremaining: 45.5s\n",
      "369:\tlearn: 0.3201983\ttotal: 30.6s\tremaining: 45.4s\n",
      "370:\tlearn: 0.3198420\ttotal: 30.6s\tremaining: 45.4s\n",
      "371:\tlearn: 0.3194840\ttotal: 30.7s\tremaining: 45.3s\n",
      "372:\tlearn: 0.3190468\ttotal: 30.8s\tremaining: 45.2s\n",
      "373:\tlearn: 0.3186109\ttotal: 30.9s\tremaining: 45.2s\n",
      "374:\tlearn: 0.3184442\ttotal: 31.1s\tremaining: 45.1s\n",
      "375:\tlearn: 0.3180897\ttotal: 31.2s\tremaining: 45.1s\n",
      "376:\tlearn: 0.3176259\ttotal: 31.3s\tremaining: 45.1s\n",
      "377:\tlearn: 0.3173119\ttotal: 31.4s\tremaining: 45.1s\n",
      "378:\tlearn: 0.3170565\ttotal: 31.6s\tremaining: 45.1s\n",
      "379:\tlearn: 0.3167552\ttotal: 31.7s\tremaining: 45.1s\n",
      "380:\tlearn: 0.3163440\ttotal: 31.9s\tremaining: 45.1s\n",
      "381:\tlearn: 0.3160772\ttotal: 32.1s\tremaining: 45.1s\n",
      "382:\tlearn: 0.3156345\ttotal: 32.2s\tremaining: 45.1s\n",
      "383:\tlearn: 0.3152952\ttotal: 32.3s\tremaining: 45.1s\n",
      "384:\tlearn: 0.3151014\ttotal: 32.5s\tremaining: 45.1s\n",
      "385:\tlearn: 0.3148427\ttotal: 32.6s\tremaining: 45.1s\n",
      "386:\tlearn: 0.3145865\ttotal: 32.7s\tremaining: 45.1s\n",
      "387:\tlearn: 0.3141829\ttotal: 33s\tremaining: 45.2s\n",
      "388:\tlearn: 0.3138339\ttotal: 33.1s\tremaining: 45.2s\n",
      "389:\tlearn: 0.3135494\ttotal: 33.2s\tremaining: 45.1s\n",
      "390:\tlearn: 0.3133600\ttotal: 33.5s\tremaining: 45.3s\n",
      "391:\tlearn: 0.3130984\ttotal: 33.7s\tremaining: 45.4s\n",
      "392:\tlearn: 0.3126971\ttotal: 33.8s\tremaining: 45.4s\n",
      "393:\tlearn: 0.3125137\ttotal: 34s\tremaining: 45.4s\n",
      "394:\tlearn: 0.3122278\ttotal: 34.1s\tremaining: 45.3s\n",
      "395:\tlearn: 0.3117989\ttotal: 34.2s\tremaining: 45.3s\n",
      "396:\tlearn: 0.3115258\ttotal: 34.4s\tremaining: 45.3s\n",
      "397:\tlearn: 0.3110557\ttotal: 34.5s\tremaining: 45.2s\n",
      "398:\tlearn: 0.3107676\ttotal: 34.6s\tremaining: 45.2s\n",
      "399:\tlearn: 0.3105146\ttotal: 34.7s\tremaining: 45.1s\n",
      "400:\tlearn: 0.3101444\ttotal: 34.8s\tremaining: 45.1s\n",
      "401:\tlearn: 0.3097992\ttotal: 35s\tremaining: 45.1s\n",
      "402:\tlearn: 0.3094595\ttotal: 35.1s\tremaining: 45s\n",
      "403:\tlearn: 0.3091475\ttotal: 35.2s\tremaining: 44.9s\n",
      "404:\tlearn: 0.3088652\ttotal: 35.3s\tremaining: 44.9s\n",
      "405:\tlearn: 0.3085213\ttotal: 35.4s\tremaining: 44.8s\n",
      "406:\tlearn: 0.3080453\ttotal: 35.5s\tremaining: 44.7s\n",
      "407:\tlearn: 0.3078328\ttotal: 35.6s\tremaining: 44.6s\n",
      "408:\tlearn: 0.3074767\ttotal: 35.6s\tremaining: 44.5s\n",
      "409:\tlearn: 0.3071512\ttotal: 35.7s\tremaining: 44.5s\n",
      "410:\tlearn: 0.3067778\ttotal: 35.8s\tremaining: 44.4s\n",
      "411:\tlearn: 0.3064853\ttotal: 35.9s\tremaining: 44.3s\n",
      "412:\tlearn: 0.3062118\ttotal: 36s\tremaining: 44.2s\n",
      "413:\tlearn: 0.3059766\ttotal: 36.1s\tremaining: 44.1s\n",
      "414:\tlearn: 0.3055257\ttotal: 36.2s\tremaining: 44s\n",
      "415:\tlearn: 0.3051035\ttotal: 36.2s\tremaining: 43.9s\n",
      "416:\tlearn: 0.3048288\ttotal: 36.3s\tremaining: 43.8s\n",
      "417:\tlearn: 0.3045939\ttotal: 36.4s\tremaining: 43.7s\n",
      "418:\tlearn: 0.3041986\ttotal: 36.5s\tremaining: 43.6s\n",
      "419:\tlearn: 0.3037555\ttotal: 36.6s\tremaining: 43.5s\n",
      "420:\tlearn: 0.3034688\ttotal: 36.6s\tremaining: 43.4s\n",
      "421:\tlearn: 0.3031918\ttotal: 36.7s\tremaining: 43.3s\n",
      "422:\tlearn: 0.3029328\ttotal: 36.8s\tremaining: 43.2s\n",
      "423:\tlearn: 0.3026800\ttotal: 36.9s\tremaining: 43.1s\n",
      "424:\tlearn: 0.3023315\ttotal: 36.9s\tremaining: 43s\n",
      "425:\tlearn: 0.3021177\ttotal: 37.1s\tremaining: 43s\n",
      "426:\tlearn: 0.3017054\ttotal: 37.2s\tremaining: 42.9s\n",
      "427:\tlearn: 0.3013784\ttotal: 37.3s\tremaining: 42.9s\n",
      "428:\tlearn: 0.3009995\ttotal: 37.4s\tremaining: 42.8s\n",
      "429:\tlearn: 0.3008284\ttotal: 37.6s\tremaining: 42.8s\n",
      "430:\tlearn: 0.3005895\ttotal: 37.7s\tremaining: 42.7s\n",
      "431:\tlearn: 0.3002972\ttotal: 37.7s\tremaining: 42.6s\n",
      "432:\tlearn: 0.2998686\ttotal: 37.8s\tremaining: 42.5s\n",
      "433:\tlearn: 0.2995458\ttotal: 37.9s\tremaining: 42.4s\n",
      "434:\tlearn: 0.2991491\ttotal: 38s\tremaining: 42.3s\n",
      "435:\tlearn: 0.2988144\ttotal: 38s\tremaining: 42.2s\n",
      "436:\tlearn: 0.2985122\ttotal: 38.1s\tremaining: 42.1s\n",
      "437:\tlearn: 0.2981682\ttotal: 38.2s\tremaining: 42s\n",
      "438:\tlearn: 0.2978919\ttotal: 38.3s\tremaining: 41.9s\n",
      "439:\tlearn: 0.2976943\ttotal: 38.3s\tremaining: 41.8s\n",
      "440:\tlearn: 0.2975113\ttotal: 38.4s\tremaining: 41.7s\n",
      "441:\tlearn: 0.2973132\ttotal: 38.5s\tremaining: 41.6s\n",
      "442:\tlearn: 0.2969303\ttotal: 38.6s\tremaining: 41.5s\n",
      "443:\tlearn: 0.2967468\ttotal: 38.7s\tremaining: 41.4s\n",
      "444:\tlearn: 0.2964960\ttotal: 38.8s\tremaining: 41.4s\n",
      "445:\tlearn: 0.2961166\ttotal: 38.9s\tremaining: 41.3s\n",
      "446:\tlearn: 0.2956588\ttotal: 39s\tremaining: 41.2s\n",
      "447:\tlearn: 0.2953322\ttotal: 39.1s\tremaining: 41.1s\n",
      "448:\tlearn: 0.2949710\ttotal: 39.2s\tremaining: 41.1s\n",
      "449:\tlearn: 0.2946866\ttotal: 39.3s\tremaining: 41s\n",
      "450:\tlearn: 0.2943289\ttotal: 39.3s\tremaining: 40.9s\n",
      "451:\tlearn: 0.2938263\ttotal: 39.4s\tremaining: 40.8s\n",
      "452:\tlearn: 0.2936348\ttotal: 39.5s\tremaining: 40.7s\n",
      "453:\tlearn: 0.2931668\ttotal: 39.6s\tremaining: 40.6s\n",
      "454:\tlearn: 0.2929492\ttotal: 39.7s\tremaining: 40.5s\n",
      "455:\tlearn: 0.2925993\ttotal: 39.8s\tremaining: 40.5s\n",
      "456:\tlearn: 0.2922190\ttotal: 39.9s\tremaining: 40.4s\n",
      "457:\tlearn: 0.2918521\ttotal: 40s\tremaining: 40.3s\n",
      "458:\tlearn: 0.2916409\ttotal: 40s\tremaining: 40.2s\n",
      "459:\tlearn: 0.2913518\ttotal: 40.1s\tremaining: 40.1s\n",
      "460:\tlearn: 0.2909958\ttotal: 40.2s\tremaining: 40.1s\n",
      "461:\tlearn: 0.2908153\ttotal: 40.3s\tremaining: 40s\n",
      "462:\tlearn: 0.2905048\ttotal: 40.5s\tremaining: 40s\n",
      "463:\tlearn: 0.2902395\ttotal: 40.6s\tremaining: 39.9s\n",
      "464:\tlearn: 0.2899925\ttotal: 40.7s\tremaining: 39.8s\n",
      "465:\tlearn: 0.2897944\ttotal: 40.9s\tremaining: 39.8s\n",
      "466:\tlearn: 0.2895179\ttotal: 41s\tremaining: 39.8s\n",
      "467:\tlearn: 0.2892934\ttotal: 41.1s\tremaining: 39.7s\n",
      "468:\tlearn: 0.2888828\ttotal: 41.2s\tremaining: 39.6s\n",
      "469:\tlearn: 0.2885663\ttotal: 41.3s\tremaining: 39.5s\n",
      "470:\tlearn: 0.2882146\ttotal: 41.3s\tremaining: 39.4s\n",
      "471:\tlearn: 0.2877778\ttotal: 41.4s\tremaining: 39.3s\n",
      "472:\tlearn: 0.2874054\ttotal: 41.5s\tremaining: 39.2s\n",
      "473:\tlearn: 0.2871506\ttotal: 41.6s\tremaining: 39.1s\n",
      "474:\tlearn: 0.2868573\ttotal: 41.6s\tremaining: 39s\n",
      "475:\tlearn: 0.2865800\ttotal: 41.7s\tremaining: 38.9s\n",
      "476:\tlearn: 0.2864646\ttotal: 41.8s\tremaining: 38.8s\n",
      "477:\tlearn: 0.2860785\ttotal: 41.8s\tremaining: 38.7s\n",
      "478:\tlearn: 0.2856862\ttotal: 41.9s\tremaining: 38.6s\n",
      "479:\tlearn: 0.2853807\ttotal: 42s\tremaining: 38.5s\n",
      "480:\tlearn: 0.2851041\ttotal: 42.1s\tremaining: 38.4s\n",
      "481:\tlearn: 0.2848218\ttotal: 42.1s\tremaining: 38.3s\n",
      "482:\tlearn: 0.2845244\ttotal: 42.2s\tremaining: 38.2s\n",
      "483:\tlearn: 0.2841958\ttotal: 42.3s\tremaining: 38.1s\n",
      "484:\tlearn: 0.2838750\ttotal: 42.4s\tremaining: 38s\n",
      "485:\tlearn: 0.2836641\ttotal: 42.4s\tremaining: 37.9s\n",
      "486:\tlearn: 0.2833833\ttotal: 42.5s\tremaining: 37.8s\n",
      "487:\tlearn: 0.2832118\ttotal: 42.6s\tremaining: 37.7s\n",
      "488:\tlearn: 0.2828802\ttotal: 42.6s\tremaining: 37.6s\n",
      "489:\tlearn: 0.2825243\ttotal: 42.7s\tremaining: 37.5s\n",
      "490:\tlearn: 0.2823256\ttotal: 42.8s\tremaining: 37.4s\n",
      "491:\tlearn: 0.2820126\ttotal: 42.9s\tremaining: 37.3s\n",
      "492:\tlearn: 0.2815768\ttotal: 42.9s\tremaining: 37.2s\n",
      "493:\tlearn: 0.2812202\ttotal: 43s\tremaining: 37.1s\n",
      "494:\tlearn: 0.2809177\ttotal: 43.1s\tremaining: 37s\n",
      "495:\tlearn: 0.2807946\ttotal: 43.2s\tremaining: 36.9s\n",
      "496:\tlearn: 0.2805805\ttotal: 43.2s\tremaining: 36.8s\n",
      "497:\tlearn: 0.2803613\ttotal: 43.3s\tremaining: 36.7s\n",
      "498:\tlearn: 0.2800142\ttotal: 43.4s\tremaining: 36.6s\n",
      "499:\tlearn: 0.2797572\ttotal: 43.5s\tremaining: 36.5s\n",
      "500:\tlearn: 0.2794493\ttotal: 43.5s\tremaining: 36.4s\n",
      "501:\tlearn: 0.2792954\ttotal: 43.6s\tremaining: 36.3s\n",
      "502:\tlearn: 0.2790646\ttotal: 43.7s\tremaining: 36.2s\n",
      "503:\tlearn: 0.2788877\ttotal: 43.8s\tremaining: 36.1s\n",
      "504:\tlearn: 0.2785373\ttotal: 43.9s\tremaining: 36s\n",
      "505:\tlearn: 0.2783259\ttotal: 44.1s\tremaining: 36.1s\n",
      "506:\tlearn: 0.2781288\ttotal: 44.3s\tremaining: 36.1s\n",
      "507:\tlearn: 0.2777829\ttotal: 44.5s\tremaining: 36s\n",
      "508:\tlearn: 0.2774669\ttotal: 44.6s\tremaining: 36s\n",
      "509:\tlearn: 0.2772791\ttotal: 44.7s\tremaining: 35.9s\n",
      "510:\tlearn: 0.2768345\ttotal: 44.8s\tremaining: 35.9s\n",
      "511:\tlearn: 0.2766107\ttotal: 44.9s\tremaining: 35.8s\n",
      "512:\tlearn: 0.2762679\ttotal: 45.1s\tremaining: 35.8s\n",
      "513:\tlearn: 0.2760311\ttotal: 45.2s\tremaining: 35.7s\n",
      "514:\tlearn: 0.2757701\ttotal: 45.3s\tremaining: 35.6s\n",
      "515:\tlearn: 0.2754692\ttotal: 45.4s\tremaining: 35.6s\n",
      "516:\tlearn: 0.2751633\ttotal: 45.5s\tremaining: 35.5s\n",
      "517:\tlearn: 0.2748975\ttotal: 45.6s\tremaining: 35.4s\n",
      "518:\tlearn: 0.2745200\ttotal: 45.8s\tremaining: 35.4s\n",
      "519:\tlearn: 0.2742459\ttotal: 45.9s\tremaining: 35.3s\n",
      "520:\tlearn: 0.2739052\ttotal: 46.1s\tremaining: 35.3s\n",
      "521:\tlearn: 0.2735707\ttotal: 46.2s\tremaining: 35.2s\n",
      "522:\tlearn: 0.2733776\ttotal: 46.3s\tremaining: 35.2s\n",
      "523:\tlearn: 0.2731208\ttotal: 46.5s\tremaining: 35.1s\n",
      "524:\tlearn: 0.2727682\ttotal: 46.6s\tremaining: 35.1s\n",
      "525:\tlearn: 0.2725247\ttotal: 46.7s\tremaining: 35s\n",
      "526:\tlearn: 0.2723435\ttotal: 46.8s\tremaining: 34.9s\n",
      "527:\tlearn: 0.2722005\ttotal: 46.9s\tremaining: 34.8s\n",
      "528:\tlearn: 0.2720545\ttotal: 47s\tremaining: 34.7s\n",
      "529:\tlearn: 0.2718549\ttotal: 47s\tremaining: 34.6s\n",
      "530:\tlearn: 0.2716006\ttotal: 47.1s\tremaining: 34.5s\n",
      "531:\tlearn: 0.2713939\ttotal: 47.2s\tremaining: 34.4s\n",
      "532:\tlearn: 0.2711957\ttotal: 47.3s\tremaining: 34.4s\n",
      "533:\tlearn: 0.2708786\ttotal: 47.4s\tremaining: 34.3s\n",
      "534:\tlearn: 0.2705957\ttotal: 47.6s\tremaining: 34.2s\n",
      "535:\tlearn: 0.2703112\ttotal: 47.7s\tremaining: 34.1s\n",
      "536:\tlearn: 0.2700616\ttotal: 47.7s\tremaining: 34.1s\n",
      "537:\tlearn: 0.2696763\ttotal: 47.8s\tremaining: 34s\n",
      "538:\tlearn: 0.2694815\ttotal: 47.9s\tremaining: 33.9s\n",
      "539:\tlearn: 0.2691140\ttotal: 48s\tremaining: 33.8s\n",
      "540:\tlearn: 0.2689621\ttotal: 48.1s\tremaining: 33.7s\n",
      "541:\tlearn: 0.2687195\ttotal: 48.3s\tremaining: 33.7s\n",
      "542:\tlearn: 0.2685812\ttotal: 48.3s\tremaining: 33.6s\n",
      "543:\tlearn: 0.2683557\ttotal: 48.5s\tremaining: 33.5s\n",
      "544:\tlearn: 0.2679942\ttotal: 48.5s\tremaining: 33.4s\n",
      "545:\tlearn: 0.2677535\ttotal: 48.6s\tremaining: 33.3s\n",
      "546:\tlearn: 0.2674463\ttotal: 48.7s\tremaining: 33.2s\n",
      "547:\tlearn: 0.2671711\ttotal: 48.8s\tremaining: 33.1s\n",
      "548:\tlearn: 0.2667141\ttotal: 48.9s\tremaining: 33s\n",
      "549:\tlearn: 0.2665315\ttotal: 48.9s\tremaining: 32.9s\n",
      "550:\tlearn: 0.2662017\ttotal: 49s\tremaining: 32.8s\n",
      "551:\tlearn: 0.2658586\ttotal: 49.1s\tremaining: 32.7s\n",
      "552:\tlearn: 0.2655755\ttotal: 49.2s\tremaining: 32.7s\n",
      "553:\tlearn: 0.2654006\ttotal: 49.3s\tremaining: 32.6s\n",
      "554:\tlearn: 0.2651855\ttotal: 49.4s\tremaining: 32.5s\n",
      "555:\tlearn: 0.2649411\ttotal: 49.4s\tremaining: 32.4s\n",
      "556:\tlearn: 0.2646707\ttotal: 49.6s\tremaining: 32.3s\n",
      "557:\tlearn: 0.2643943\ttotal: 49.7s\tremaining: 32.2s\n",
      "558:\tlearn: 0.2641036\ttotal: 49.8s\tremaining: 32.2s\n",
      "559:\tlearn: 0.2639676\ttotal: 49.9s\tremaining: 32.1s\n",
      "560:\tlearn: 0.2637305\ttotal: 50s\tremaining: 32s\n",
      "561:\tlearn: 0.2634491\ttotal: 50.2s\tremaining: 32s\n",
      "562:\tlearn: 0.2632635\ttotal: 50.3s\tremaining: 31.9s\n",
      "563:\tlearn: 0.2630289\ttotal: 50.4s\tremaining: 31.8s\n",
      "564:\tlearn: 0.2626086\ttotal: 50.5s\tremaining: 31.7s\n",
      "565:\tlearn: 0.2622381\ttotal: 50.5s\tremaining: 31.6s\n",
      "566:\tlearn: 0.2621390\ttotal: 50.6s\tremaining: 31.5s\n",
      "567:\tlearn: 0.2617844\ttotal: 50.7s\tremaining: 31.4s\n",
      "568:\tlearn: 0.2614108\ttotal: 50.8s\tremaining: 31.3s\n",
      "569:\tlearn: 0.2611124\ttotal: 50.9s\tremaining: 31.2s\n",
      "570:\tlearn: 0.2609122\ttotal: 51s\tremaining: 31.1s\n",
      "571:\tlearn: 0.2606514\ttotal: 51s\tremaining: 31.1s\n",
      "572:\tlearn: 0.2603085\ttotal: 51.2s\tremaining: 31s\n",
      "573:\tlearn: 0.2600481\ttotal: 51.3s\tremaining: 30.9s\n",
      "574:\tlearn: 0.2597998\ttotal: 51.4s\tremaining: 30.8s\n",
      "575:\tlearn: 0.2593946\ttotal: 51.5s\tremaining: 30.7s\n",
      "576:\tlearn: 0.2591582\ttotal: 51.6s\tremaining: 30.6s\n",
      "577:\tlearn: 0.2589797\ttotal: 51.6s\tremaining: 30.6s\n",
      "578:\tlearn: 0.2587499\ttotal: 52s\tremaining: 30.6s\n",
      "579:\tlearn: 0.2583465\ttotal: 52.1s\tremaining: 30.6s\n",
      "580:\tlearn: 0.2579004\ttotal: 52.3s\tremaining: 30.5s\n",
      "581:\tlearn: 0.2576516\ttotal: 52.5s\tremaining: 30.5s\n",
      "582:\tlearn: 0.2574294\ttotal: 52.6s\tremaining: 30.4s\n",
      "583:\tlearn: 0.2570273\ttotal: 52.7s\tremaining: 30.3s\n",
      "584:\tlearn: 0.2566872\ttotal: 52.8s\tremaining: 30.3s\n",
      "585:\tlearn: 0.2563990\ttotal: 53s\tremaining: 30.2s\n",
      "586:\tlearn: 0.2562809\ttotal: 53.1s\tremaining: 30.1s\n",
      "587:\tlearn: 0.2559305\ttotal: 53.2s\tremaining: 30.1s\n",
      "588:\tlearn: 0.2556354\ttotal: 53.4s\tremaining: 30s\n",
      "589:\tlearn: 0.2553690\ttotal: 53.5s\tremaining: 29.9s\n",
      "590:\tlearn: 0.2550726\ttotal: 53.6s\tremaining: 29.8s\n",
      "591:\tlearn: 0.2547411\ttotal: 53.7s\tremaining: 29.8s\n",
      "592:\tlearn: 0.2544879\ttotal: 53.8s\tremaining: 29.7s\n",
      "593:\tlearn: 0.2541729\ttotal: 54s\tremaining: 29.6s\n",
      "594:\tlearn: 0.2539626\ttotal: 54.1s\tremaining: 29.5s\n",
      "595:\tlearn: 0.2536596\ttotal: 54.2s\tremaining: 29.5s\n",
      "596:\tlearn: 0.2533842\ttotal: 54.3s\tremaining: 29.4s\n",
      "597:\tlearn: 0.2530501\ttotal: 54.4s\tremaining: 29.3s\n",
      "598:\tlearn: 0.2526178\ttotal: 54.6s\tremaining: 29.2s\n",
      "599:\tlearn: 0.2524513\ttotal: 54.7s\tremaining: 29.2s\n",
      "600:\tlearn: 0.2521588\ttotal: 54.8s\tremaining: 29.1s\n",
      "601:\tlearn: 0.2519492\ttotal: 54.9s\tremaining: 29s\n",
      "602:\tlearn: 0.2517521\ttotal: 55s\tremaining: 28.9s\n",
      "603:\tlearn: 0.2515179\ttotal: 55.1s\tremaining: 28.8s\n",
      "604:\tlearn: 0.2513738\ttotal: 55.2s\tremaining: 28.8s\n",
      "605:\tlearn: 0.2510408\ttotal: 55.3s\tremaining: 28.7s\n",
      "606:\tlearn: 0.2508085\ttotal: 55.5s\tremaining: 28.6s\n",
      "607:\tlearn: 0.2505897\ttotal: 55.6s\tremaining: 28.5s\n",
      "608:\tlearn: 0.2502552\ttotal: 55.7s\tremaining: 28.4s\n",
      "609:\tlearn: 0.2501336\ttotal: 55.8s\tremaining: 28.3s\n",
      "610:\tlearn: 0.2498360\ttotal: 55.9s\tremaining: 28.3s\n",
      "611:\tlearn: 0.2494791\ttotal: 56s\tremaining: 28.2s\n",
      "612:\tlearn: 0.2491478\ttotal: 56.1s\tremaining: 28.1s\n",
      "613:\tlearn: 0.2488531\ttotal: 56.2s\tremaining: 28s\n",
      "614:\tlearn: 0.2486345\ttotal: 56.2s\tremaining: 27.9s\n",
      "615:\tlearn: 0.2482597\ttotal: 56.4s\tremaining: 27.8s\n",
      "616:\tlearn: 0.2480069\ttotal: 56.5s\tremaining: 27.7s\n",
      "617:\tlearn: 0.2477737\ttotal: 56.6s\tremaining: 27.6s\n",
      "618:\tlearn: 0.2476003\ttotal: 56.7s\tremaining: 27.6s\n",
      "619:\tlearn: 0.2473619\ttotal: 56.8s\tremaining: 27.5s\n",
      "620:\tlearn: 0.2471842\ttotal: 57s\tremaining: 27.4s\n",
      "621:\tlearn: 0.2469068\ttotal: 57.2s\tremaining: 27.4s\n",
      "622:\tlearn: 0.2466135\ttotal: 57.4s\tremaining: 27.3s\n",
      "623:\tlearn: 0.2464969\ttotal: 57.5s\tremaining: 27.3s\n",
      "624:\tlearn: 0.2462052\ttotal: 57.6s\tremaining: 27.2s\n",
      "625:\tlearn: 0.2458368\ttotal: 57.6s\tremaining: 27.1s\n",
      "626:\tlearn: 0.2454650\ttotal: 57.7s\tremaining: 27s\n",
      "627:\tlearn: 0.2452451\ttotal: 57.8s\tremaining: 26.9s\n",
      "628:\tlearn: 0.2449581\ttotal: 57.8s\tremaining: 26.8s\n",
      "629:\tlearn: 0.2446524\ttotal: 57.9s\tremaining: 26.7s\n",
      "630:\tlearn: 0.2444534\ttotal: 58s\tremaining: 26.6s\n",
      "631:\tlearn: 0.2443528\ttotal: 58.1s\tremaining: 26.5s\n",
      "632:\tlearn: 0.2440519\ttotal: 58.2s\tremaining: 26.4s\n",
      "633:\tlearn: 0.2438145\ttotal: 58.3s\tremaining: 26.3s\n",
      "634:\tlearn: 0.2435050\ttotal: 58.4s\tremaining: 26.2s\n",
      "635:\tlearn: 0.2432125\ttotal: 58.5s\tremaining: 26.1s\n",
      "636:\tlearn: 0.2430049\ttotal: 58.5s\tremaining: 26s\n",
      "637:\tlearn: 0.2426835\ttotal: 58.6s\tremaining: 25.9s\n",
      "638:\tlearn: 0.2424822\ttotal: 58.7s\tremaining: 25.8s\n",
      "639:\tlearn: 0.2422634\ttotal: 58.8s\tremaining: 25.7s\n",
      "640:\tlearn: 0.2420365\ttotal: 58.8s\tremaining: 25.6s\n",
      "641:\tlearn: 0.2419167\ttotal: 58.9s\tremaining: 25.5s\n",
      "642:\tlearn: 0.2416684\ttotal: 59s\tremaining: 25.4s\n",
      "643:\tlearn: 0.2414464\ttotal: 59.1s\tremaining: 25.3s\n",
      "644:\tlearn: 0.2410861\ttotal: 59.2s\tremaining: 25.2s\n",
      "645:\tlearn: 0.2408302\ttotal: 59.3s\tremaining: 25.1s\n",
      "646:\tlearn: 0.2405224\ttotal: 59.4s\tremaining: 25.1s\n",
      "647:\tlearn: 0.2402801\ttotal: 59.5s\tremaining: 25s\n",
      "648:\tlearn: 0.2401070\ttotal: 59.6s\tremaining: 24.9s\n",
      "649:\tlearn: 0.2399092\ttotal: 59.6s\tremaining: 24.8s\n",
      "650:\tlearn: 0.2396424\ttotal: 59.7s\tremaining: 24.7s\n",
      "651:\tlearn: 0.2394570\ttotal: 59.8s\tremaining: 24.6s\n",
      "652:\tlearn: 0.2392693\ttotal: 59.9s\tremaining: 24.5s\n",
      "653:\tlearn: 0.2390524\ttotal: 59.9s\tremaining: 24.4s\n",
      "654:\tlearn: 0.2388057\ttotal: 1m\tremaining: 24.3s\n",
      "655:\tlearn: 0.2386267\ttotal: 1m\tremaining: 24.2s\n",
      "656:\tlearn: 0.2383647\ttotal: 1m\tremaining: 24.1s\n",
      "657:\tlearn: 0.2381371\ttotal: 1m\tremaining: 24s\n",
      "658:\tlearn: 0.2378326\ttotal: 1m\tremaining: 23.9s\n",
      "659:\tlearn: 0.2376051\ttotal: 1m\tremaining: 23.8s\n",
      "660:\tlearn: 0.2372590\ttotal: 1m\tremaining: 23.7s\n",
      "661:\tlearn: 0.2371045\ttotal: 1m\tremaining: 23.6s\n",
      "662:\tlearn: 0.2369319\ttotal: 1m\tremaining: 23.5s\n",
      "663:\tlearn: 0.2368082\ttotal: 1m\tremaining: 23.4s\n",
      "664:\tlearn: 0.2364755\ttotal: 1m\tremaining: 23.3s\n",
      "665:\tlearn: 0.2361677\ttotal: 1m\tremaining: 23.2s\n",
      "666:\tlearn: 0.2357825\ttotal: 1m\tremaining: 23.1s\n",
      "667:\tlearn: 0.2355287\ttotal: 1m 1s\tremaining: 23s\n",
      "668:\tlearn: 0.2351519\ttotal: 1m 1s\tremaining: 23s\n",
      "669:\tlearn: 0.2350476\ttotal: 1m 1s\tremaining: 22.9s\n",
      "670:\tlearn: 0.2349144\ttotal: 1m 1s\tremaining: 22.8s\n",
      "671:\tlearn: 0.2346802\ttotal: 1m 1s\tremaining: 22.7s\n",
      "672:\tlearn: 0.2344601\ttotal: 1m 1s\tremaining: 22.6s\n",
      "673:\tlearn: 0.2342912\ttotal: 1m 1s\tremaining: 22.5s\n",
      "674:\tlearn: 0.2340189\ttotal: 1m 1s\tremaining: 22.5s\n",
      "675:\tlearn: 0.2337505\ttotal: 1m 1s\tremaining: 22.4s\n",
      "676:\tlearn: 0.2334394\ttotal: 1m 2s\tremaining: 22.3s\n",
      "677:\tlearn: 0.2331933\ttotal: 1m 2s\tremaining: 22.2s\n",
      "678:\tlearn: 0.2329379\ttotal: 1m 2s\tremaining: 22.1s\n",
      "679:\tlearn: 0.2328033\ttotal: 1m 2s\tremaining: 22s\n",
      "680:\tlearn: 0.2325736\ttotal: 1m 2s\tremaining: 22s\n",
      "681:\tlearn: 0.2323061\ttotal: 1m 2s\tremaining: 21.9s\n",
      "682:\tlearn: 0.2319652\ttotal: 1m 2s\tremaining: 21.8s\n",
      "683:\tlearn: 0.2317612\ttotal: 1m 2s\tremaining: 21.7s\n",
      "684:\tlearn: 0.2315184\ttotal: 1m 3s\tremaining: 21.6s\n",
      "685:\tlearn: 0.2313199\ttotal: 1m 3s\tremaining: 21.5s\n",
      "686:\tlearn: 0.2312347\ttotal: 1m 3s\tremaining: 21.4s\n",
      "687:\tlearn: 0.2310320\ttotal: 1m 3s\tremaining: 21.3s\n",
      "688:\tlearn: 0.2308307\ttotal: 1m 3s\tremaining: 21.2s\n",
      "689:\tlearn: 0.2306416\ttotal: 1m 3s\tremaining: 21.1s\n",
      "690:\tlearn: 0.2304324\ttotal: 1m 3s\tremaining: 21s\n",
      "691:\tlearn: 0.2301627\ttotal: 1m 3s\tremaining: 21s\n",
      "692:\tlearn: 0.2298577\ttotal: 1m 3s\tremaining: 20.9s\n",
      "693:\tlearn: 0.2296108\ttotal: 1m 3s\tremaining: 20.8s\n",
      "694:\tlearn: 0.2294130\ttotal: 1m 3s\tremaining: 20.7s\n",
      "695:\tlearn: 0.2292236\ttotal: 1m 3s\tremaining: 20.6s\n",
      "696:\tlearn: 0.2289958\ttotal: 1m 3s\tremaining: 20.5s\n",
      "697:\tlearn: 0.2288208\ttotal: 1m 4s\tremaining: 20.4s\n",
      "698:\tlearn: 0.2286445\ttotal: 1m 4s\tremaining: 20.3s\n",
      "699:\tlearn: 0.2283269\ttotal: 1m 4s\tremaining: 20.2s\n",
      "700:\tlearn: 0.2281108\ttotal: 1m 4s\tremaining: 20.1s\n",
      "701:\tlearn: 0.2278194\ttotal: 1m 4s\tremaining: 20s\n",
      "702:\tlearn: 0.2276792\ttotal: 1m 4s\tremaining: 19.9s\n",
      "703:\tlearn: 0.2274511\ttotal: 1m 4s\tremaining: 19.8s\n",
      "704:\tlearn: 0.2272200\ttotal: 1m 4s\tremaining: 19.7s\n",
      "705:\tlearn: 0.2270283\ttotal: 1m 4s\tremaining: 19.6s\n",
      "706:\tlearn: 0.2267992\ttotal: 1m 4s\tremaining: 19.6s\n",
      "707:\tlearn: 0.2266221\ttotal: 1m 5s\tremaining: 19.5s\n",
      "708:\tlearn: 0.2262838\ttotal: 1m 5s\tremaining: 19.4s\n",
      "709:\tlearn: 0.2260694\ttotal: 1m 5s\tremaining: 19.3s\n",
      "710:\tlearn: 0.2257751\ttotal: 1m 5s\tremaining: 19.2s\n",
      "711:\tlearn: 0.2255797\ttotal: 1m 5s\tremaining: 19.1s\n",
      "712:\tlearn: 0.2253002\ttotal: 1m 5s\tremaining: 19s\n",
      "713:\tlearn: 0.2250383\ttotal: 1m 5s\tremaining: 18.9s\n",
      "714:\tlearn: 0.2247710\ttotal: 1m 5s\tremaining: 18.8s\n",
      "715:\tlearn: 0.2245850\ttotal: 1m 5s\tremaining: 18.8s\n",
      "716:\tlearn: 0.2243092\ttotal: 1m 5s\tremaining: 18.7s\n",
      "717:\tlearn: 0.2240803\ttotal: 1m 6s\tremaining: 18.6s\n",
      "718:\tlearn: 0.2238974\ttotal: 1m 6s\tremaining: 18.5s\n",
      "719:\tlearn: 0.2236743\ttotal: 1m 6s\tremaining: 18.4s\n",
      "720:\tlearn: 0.2232995\ttotal: 1m 6s\tremaining: 18.3s\n",
      "721:\tlearn: 0.2230231\ttotal: 1m 6s\tremaining: 18.3s\n",
      "722:\tlearn: 0.2227815\ttotal: 1m 6s\tremaining: 18.2s\n",
      "723:\tlearn: 0.2225770\ttotal: 1m 6s\tremaining: 18.1s\n",
      "724:\tlearn: 0.2223345\ttotal: 1m 6s\tremaining: 18s\n",
      "725:\tlearn: 0.2219992\ttotal: 1m 7s\tremaining: 17.9s\n",
      "726:\tlearn: 0.2217747\ttotal: 1m 7s\tremaining: 17.8s\n",
      "727:\tlearn: 0.2214586\ttotal: 1m 7s\tremaining: 17.8s\n",
      "728:\tlearn: 0.2212962\ttotal: 1m 7s\tremaining: 17.7s\n",
      "729:\tlearn: 0.2209877\ttotal: 1m 7s\tremaining: 17.6s\n",
      "730:\tlearn: 0.2205958\ttotal: 1m 7s\tremaining: 17.5s\n",
      "731:\tlearn: 0.2203447\ttotal: 1m 7s\tremaining: 17.4s\n",
      "732:\tlearn: 0.2201700\ttotal: 1m 7s\tremaining: 17.3s\n",
      "733:\tlearn: 0.2200163\ttotal: 1m 7s\tremaining: 17.2s\n",
      "734:\tlearn: 0.2197427\ttotal: 1m 7s\tremaining: 17.1s\n",
      "735:\tlearn: 0.2195756\ttotal: 1m 8s\tremaining: 17s\n",
      "736:\tlearn: 0.2192645\ttotal: 1m 8s\tremaining: 16.9s\n",
      "737:\tlearn: 0.2191043\ttotal: 1m 8s\tremaining: 16.8s\n",
      "738:\tlearn: 0.2188404\ttotal: 1m 8s\tremaining: 16.7s\n",
      "739:\tlearn: 0.2186132\ttotal: 1m 8s\tremaining: 16.6s\n",
      "740:\tlearn: 0.2183555\ttotal: 1m 8s\tremaining: 16.5s\n",
      "741:\tlearn: 0.2179713\ttotal: 1m 8s\tremaining: 16.5s\n",
      "742:\tlearn: 0.2177689\ttotal: 1m 8s\tremaining: 16.4s\n",
      "743:\tlearn: 0.2174817\ttotal: 1m 8s\tremaining: 16.3s\n",
      "744:\tlearn: 0.2173016\ttotal: 1m 8s\tremaining: 16.2s\n",
      "745:\tlearn: 0.2169016\ttotal: 1m 8s\tremaining: 16.1s\n",
      "746:\tlearn: 0.2167970\ttotal: 1m 9s\tremaining: 16s\n",
      "747:\tlearn: 0.2165255\ttotal: 1m 9s\tremaining: 15.9s\n",
      "748:\tlearn: 0.2162765\ttotal: 1m 9s\tremaining: 15.8s\n",
      "749:\tlearn: 0.2161612\ttotal: 1m 9s\tremaining: 15.7s\n",
      "750:\tlearn: 0.2160681\ttotal: 1m 9s\tremaining: 15.6s\n",
      "751:\tlearn: 0.2159246\ttotal: 1m 9s\tremaining: 15.5s\n",
      "752:\tlearn: 0.2157293\ttotal: 1m 9s\tremaining: 15.4s\n",
      "753:\tlearn: 0.2155316\ttotal: 1m 9s\tremaining: 15.3s\n",
      "754:\tlearn: 0.2153597\ttotal: 1m 9s\tremaining: 15.3s\n",
      "755:\tlearn: 0.2152474\ttotal: 1m 9s\tremaining: 15.2s\n",
      "756:\tlearn: 0.2151069\ttotal: 1m 9s\tremaining: 15.1s\n",
      "757:\tlearn: 0.2148499\ttotal: 1m 10s\tremaining: 15s\n",
      "758:\tlearn: 0.2146654\ttotal: 1m 10s\tremaining: 14.9s\n",
      "759:\tlearn: 0.2144144\ttotal: 1m 10s\tremaining: 14.8s\n",
      "760:\tlearn: 0.2142181\ttotal: 1m 10s\tremaining: 14.8s\n",
      "761:\tlearn: 0.2139935\ttotal: 1m 10s\tremaining: 14.7s\n",
      "762:\tlearn: 0.2136711\ttotal: 1m 10s\tremaining: 14.6s\n",
      "763:\tlearn: 0.2134893\ttotal: 1m 11s\tremaining: 14.5s\n",
      "764:\tlearn: 0.2133036\ttotal: 1m 11s\tremaining: 14.4s\n",
      "765:\tlearn: 0.2131572\ttotal: 1m 11s\tremaining: 14.3s\n",
      "766:\tlearn: 0.2129512\ttotal: 1m 11s\tremaining: 14.2s\n",
      "767:\tlearn: 0.2127199\ttotal: 1m 11s\tremaining: 14.1s\n",
      "768:\tlearn: 0.2125199\ttotal: 1m 11s\tremaining: 14s\n",
      "769:\tlearn: 0.2123038\ttotal: 1m 11s\tremaining: 13.9s\n",
      "770:\tlearn: 0.2120935\ttotal: 1m 11s\tremaining: 13.9s\n",
      "771:\tlearn: 0.2119049\ttotal: 1m 11s\tremaining: 13.8s\n",
      "772:\tlearn: 0.2117121\ttotal: 1m 11s\tremaining: 13.7s\n",
      "773:\tlearn: 0.2116159\ttotal: 1m 12s\tremaining: 13.6s\n",
      "774:\tlearn: 0.2115483\ttotal: 1m 12s\tremaining: 13.5s\n",
      "775:\tlearn: 0.2112659\ttotal: 1m 12s\tremaining: 13.4s\n",
      "776:\tlearn: 0.2110817\ttotal: 1m 12s\tremaining: 13.3s\n",
      "777:\tlearn: 0.2109112\ttotal: 1m 12s\tremaining: 13.2s\n",
      "778:\tlearn: 0.2106834\ttotal: 1m 12s\tremaining: 13.2s\n",
      "779:\tlearn: 0.2103390\ttotal: 1m 12s\tremaining: 13.1s\n",
      "780:\tlearn: 0.2100244\ttotal: 1m 12s\tremaining: 13s\n",
      "781:\tlearn: 0.2098650\ttotal: 1m 13s\tremaining: 12.9s\n",
      "782:\tlearn: 0.2096951\ttotal: 1m 13s\tremaining: 12.8s\n",
      "783:\tlearn: 0.2093704\ttotal: 1m 13s\tremaining: 12.7s\n",
      "784:\tlearn: 0.2092512\ttotal: 1m 13s\tremaining: 12.6s\n",
      "785:\tlearn: 0.2091315\ttotal: 1m 13s\tremaining: 12.5s\n",
      "786:\tlearn: 0.2089736\ttotal: 1m 13s\tremaining: 12.4s\n",
      "787:\tlearn: 0.2088846\ttotal: 1m 13s\tremaining: 12.4s\n",
      "788:\tlearn: 0.2087304\ttotal: 1m 13s\tremaining: 12.3s\n",
      "789:\tlearn: 0.2085122\ttotal: 1m 14s\tremaining: 12.2s\n",
      "790:\tlearn: 0.2083496\ttotal: 1m 14s\tremaining: 12.1s\n",
      "791:\tlearn: 0.2082095\ttotal: 1m 14s\tremaining: 12s\n",
      "792:\tlearn: 0.2080210\ttotal: 1m 14s\tremaining: 11.9s\n",
      "793:\tlearn: 0.2078387\ttotal: 1m 14s\tremaining: 11.8s\n",
      "794:\tlearn: 0.2075989\ttotal: 1m 14s\tremaining: 11.7s\n",
      "795:\tlearn: 0.2074285\ttotal: 1m 15s\tremaining: 11.7s\n",
      "796:\tlearn: 0.2072233\ttotal: 1m 15s\tremaining: 11.6s\n",
      "797:\tlearn: 0.2068907\ttotal: 1m 15s\tremaining: 11.5s\n",
      "798:\tlearn: 0.2066305\ttotal: 1m 15s\tremaining: 11.5s\n",
      "799:\tlearn: 0.2065425\ttotal: 1m 15s\tremaining: 11.4s\n",
      "800:\tlearn: 0.2063226\ttotal: 1m 15s\tremaining: 11.3s\n",
      "801:\tlearn: 0.2061886\ttotal: 1m 15s\tremaining: 11.2s\n",
      "802:\tlearn: 0.2059886\ttotal: 1m 16s\tremaining: 11.1s\n",
      "803:\tlearn: 0.2057627\ttotal: 1m 16s\tremaining: 11s\n",
      "804:\tlearn: 0.2054672\ttotal: 1m 16s\tremaining: 10.9s\n",
      "805:\tlearn: 0.2053527\ttotal: 1m 16s\tremaining: 10.8s\n",
      "806:\tlearn: 0.2051156\ttotal: 1m 16s\tremaining: 10.7s\n",
      "807:\tlearn: 0.2047743\ttotal: 1m 16s\tremaining: 10.6s\n",
      "808:\tlearn: 0.2046376\ttotal: 1m 16s\tremaining: 10.5s\n",
      "809:\tlearn: 0.2045309\ttotal: 1m 16s\tremaining: 10.4s\n",
      "810:\tlearn: 0.2042723\ttotal: 1m 16s\tremaining: 10.3s\n",
      "811:\tlearn: 0.2041460\ttotal: 1m 17s\tremaining: 10.2s\n",
      "812:\tlearn: 0.2039827\ttotal: 1m 17s\tremaining: 10.1s\n",
      "813:\tlearn: 0.2038142\ttotal: 1m 17s\tremaining: 10.1s\n",
      "814:\tlearn: 0.2035213\ttotal: 1m 17s\tremaining: 9.96s\n",
      "815:\tlearn: 0.2034113\ttotal: 1m 17s\tremaining: 9.86s\n",
      "816:\tlearn: 0.2031513\ttotal: 1m 17s\tremaining: 9.77s\n",
      "817:\tlearn: 0.2029031\ttotal: 1m 17s\tremaining: 9.67s\n",
      "818:\tlearn: 0.2026713\ttotal: 1m 17s\tremaining: 9.57s\n",
      "819:\tlearn: 0.2024464\ttotal: 1m 17s\tremaining: 9.48s\n",
      "820:\tlearn: 0.2022239\ttotal: 1m 17s\tremaining: 9.38s\n",
      "821:\tlearn: 0.2019649\ttotal: 1m 17s\tremaining: 9.29s\n",
      "822:\tlearn: 0.2017416\ttotal: 1m 17s\tremaining: 9.19s\n",
      "823:\tlearn: 0.2013143\ttotal: 1m 18s\tremaining: 9.1s\n",
      "824:\tlearn: 0.2009738\ttotal: 1m 18s\tremaining: 9s\n",
      "825:\tlearn: 0.2008048\ttotal: 1m 18s\tremaining: 8.91s\n",
      "826:\tlearn: 0.2006178\ttotal: 1m 18s\tremaining: 8.82s\n",
      "827:\tlearn: 0.2003147\ttotal: 1m 18s\tremaining: 8.72s\n",
      "828:\tlearn: 0.2001098\ttotal: 1m 18s\tremaining: 8.63s\n",
      "829:\tlearn: 0.1998620\ttotal: 1m 18s\tremaining: 8.54s\n",
      "830:\tlearn: 0.1997646\ttotal: 1m 18s\tremaining: 8.45s\n",
      "831:\tlearn: 0.1995458\ttotal: 1m 19s\tremaining: 8.36s\n",
      "832:\tlearn: 0.1993467\ttotal: 1m 19s\tremaining: 8.27s\n",
      "833:\tlearn: 0.1991030\ttotal: 1m 19s\tremaining: 8.17s\n",
      "834:\tlearn: 0.1988839\ttotal: 1m 19s\tremaining: 8.08s\n",
      "835:\tlearn: 0.1986889\ttotal: 1m 19s\tremaining: 7.99s\n",
      "836:\tlearn: 0.1984851\ttotal: 1m 19s\tremaining: 7.89s\n",
      "837:\tlearn: 0.1981905\ttotal: 1m 19s\tremaining: 7.8s\n",
      "838:\tlearn: 0.1979742\ttotal: 1m 19s\tremaining: 7.71s\n",
      "839:\tlearn: 0.1977751\ttotal: 1m 19s\tremaining: 7.62s\n",
      "840:\tlearn: 0.1976243\ttotal: 1m 20s\tremaining: 7.52s\n",
      "841:\tlearn: 0.1973878\ttotal: 1m 20s\tremaining: 7.43s\n",
      "842:\tlearn: 0.1972006\ttotal: 1m 20s\tremaining: 7.33s\n",
      "843:\tlearn: 0.1969964\ttotal: 1m 20s\tremaining: 7.24s\n",
      "844:\tlearn: 0.1968747\ttotal: 1m 20s\tremaining: 7.15s\n",
      "845:\tlearn: 0.1967076\ttotal: 1m 20s\tremaining: 7.07s\n",
      "846:\tlearn: 0.1965658\ttotal: 1m 21s\tremaining: 6.98s\n",
      "847:\tlearn: 0.1964033\ttotal: 1m 21s\tremaining: 6.89s\n",
      "848:\tlearn: 0.1962282\ttotal: 1m 21s\tremaining: 6.79s\n",
      "849:\tlearn: 0.1960377\ttotal: 1m 21s\tremaining: 6.7s\n",
      "850:\tlearn: 0.1958898\ttotal: 1m 21s\tremaining: 6.6s\n",
      "851:\tlearn: 0.1957100\ttotal: 1m 21s\tremaining: 6.51s\n",
      "852:\tlearn: 0.1955659\ttotal: 1m 21s\tremaining: 6.42s\n",
      "853:\tlearn: 0.1954374\ttotal: 1m 21s\tremaining: 6.32s\n",
      "854:\tlearn: 0.1953237\ttotal: 1m 21s\tremaining: 6.23s\n",
      "855:\tlearn: 0.1950875\ttotal: 1m 22s\tremaining: 6.13s\n",
      "856:\tlearn: 0.1948992\ttotal: 1m 22s\tremaining: 6.04s\n",
      "857:\tlearn: 0.1947405\ttotal: 1m 22s\tremaining: 5.94s\n",
      "858:\tlearn: 0.1945126\ttotal: 1m 22s\tremaining: 5.85s\n",
      "859:\tlearn: 0.1941650\ttotal: 1m 22s\tremaining: 5.75s\n",
      "860:\tlearn: 0.1939381\ttotal: 1m 22s\tremaining: 5.66s\n",
      "861:\tlearn: 0.1937711\ttotal: 1m 22s\tremaining: 5.57s\n",
      "862:\tlearn: 0.1936415\ttotal: 1m 22s\tremaining: 5.47s\n",
      "863:\tlearn: 0.1934996\ttotal: 1m 22s\tremaining: 5.37s\n",
      "864:\tlearn: 0.1933839\ttotal: 1m 23s\tremaining: 5.28s\n",
      "865:\tlearn: 0.1931615\ttotal: 1m 23s\tremaining: 5.18s\n",
      "866:\tlearn: 0.1930031\ttotal: 1m 23s\tremaining: 5.09s\n",
      "867:\tlearn: 0.1928934\ttotal: 1m 23s\tremaining: 4.99s\n",
      "868:\tlearn: 0.1927918\ttotal: 1m 23s\tremaining: 4.9s\n",
      "869:\tlearn: 0.1926451\ttotal: 1m 23s\tremaining: 4.8s\n",
      "870:\tlearn: 0.1924140\ttotal: 1m 23s\tremaining: 4.7s\n",
      "871:\tlearn: 0.1923291\ttotal: 1m 23s\tremaining: 4.61s\n",
      "872:\tlearn: 0.1921517\ttotal: 1m 23s\tremaining: 4.51s\n",
      "873:\tlearn: 0.1919503\ttotal: 1m 23s\tremaining: 4.42s\n",
      "874:\tlearn: 0.1917927\ttotal: 1m 23s\tremaining: 4.32s\n",
      "875:\tlearn: 0.1915157\ttotal: 1m 24s\tremaining: 4.22s\n",
      "876:\tlearn: 0.1913585\ttotal: 1m 24s\tremaining: 4.13s\n",
      "877:\tlearn: 0.1912095\ttotal: 1m 24s\tremaining: 4.03s\n",
      "878:\tlearn: 0.1909207\ttotal: 1m 24s\tremaining: 3.93s\n",
      "879:\tlearn: 0.1907382\ttotal: 1m 24s\tremaining: 3.84s\n",
      "880:\tlearn: 0.1904927\ttotal: 1m 24s\tremaining: 3.74s\n",
      "881:\tlearn: 0.1903895\ttotal: 1m 24s\tremaining: 3.64s\n",
      "882:\tlearn: 0.1902734\ttotal: 1m 24s\tremaining: 3.55s\n",
      "883:\tlearn: 0.1901268\ttotal: 1m 24s\tremaining: 3.45s\n",
      "884:\tlearn: 0.1900154\ttotal: 1m 25s\tremaining: 3.36s\n",
      "885:\tlearn: 0.1898394\ttotal: 1m 25s\tremaining: 3.27s\n",
      "886:\tlearn: 0.1896813\ttotal: 1m 25s\tremaining: 3.17s\n",
      "887:\tlearn: 0.1895214\ttotal: 1m 25s\tremaining: 3.08s\n",
      "888:\tlearn: 0.1893270\ttotal: 1m 25s\tremaining: 2.98s\n",
      "889:\tlearn: 0.1892454\ttotal: 1m 25s\tremaining: 2.88s\n",
      "890:\tlearn: 0.1890509\ttotal: 1m 25s\tremaining: 2.79s\n",
      "891:\tlearn: 0.1887941\ttotal: 1m 25s\tremaining: 2.69s\n",
      "892:\tlearn: 0.1886882\ttotal: 1m 25s\tremaining: 2.6s\n",
      "893:\tlearn: 0.1885290\ttotal: 1m 26s\tremaining: 2.5s\n",
      "894:\tlearn: 0.1883695\ttotal: 1m 26s\tremaining: 2.4s\n",
      "895:\tlearn: 0.1882198\ttotal: 1m 26s\tremaining: 2.31s\n",
      "896:\tlearn: 0.1879942\ttotal: 1m 26s\tremaining: 2.21s\n",
      "897:\tlearn: 0.1878442\ttotal: 1m 26s\tremaining: 2.12s\n",
      "898:\tlearn: 0.1877600\ttotal: 1m 26s\tremaining: 2.02s\n",
      "899:\tlearn: 0.1874768\ttotal: 1m 26s\tremaining: 1.92s\n",
      "900:\tlearn: 0.1872600\ttotal: 1m 26s\tremaining: 1.83s\n",
      "901:\tlearn: 0.1871098\ttotal: 1m 26s\tremaining: 1.73s\n",
      "902:\tlearn: 0.1868453\ttotal: 1m 26s\tremaining: 1.64s\n",
      "903:\tlearn: 0.1866258\ttotal: 1m 27s\tremaining: 1.54s\n",
      "904:\tlearn: 0.1864237\ttotal: 1m 27s\tremaining: 1.44s\n",
      "905:\tlearn: 0.1862576\ttotal: 1m 27s\tremaining: 1.35s\n",
      "906:\tlearn: 0.1860153\ttotal: 1m 27s\tremaining: 1.25s\n",
      "907:\tlearn: 0.1859243\ttotal: 1m 27s\tremaining: 1.16s\n",
      "908:\tlearn: 0.1856924\ttotal: 1m 27s\tremaining: 1.06s\n",
      "909:\tlearn: 0.1854976\ttotal: 1m 27s\tremaining: 963ms\n",
      "910:\tlearn: 0.1852302\ttotal: 1m 27s\tremaining: 867ms\n",
      "911:\tlearn: 0.1850270\ttotal: 1m 27s\tremaining: 770ms\n",
      "912:\tlearn: 0.1848633\ttotal: 1m 27s\tremaining: 674ms\n",
      "913:\tlearn: 0.1846868\ttotal: 1m 27s\tremaining: 577ms\n",
      "914:\tlearn: 0.1844905\ttotal: 1m 28s\tremaining: 481ms\n",
      "915:\tlearn: 0.1842839\ttotal: 1m 28s\tremaining: 385ms\n",
      "916:\tlearn: 0.1841503\ttotal: 1m 28s\tremaining: 289ms\n",
      "917:\tlearn: 0.1840039\ttotal: 1m 28s\tremaining: 193ms\n",
      "918:\tlearn: 0.1838326\ttotal: 1m 28s\tremaining: 96.4ms\n",
      "919:\tlearn: 0.1836276\ttotal: 1m 28s\tremaining: 0us\n",
      "F1-score CatBoost: 0.254\n",
      "Classification report CatBoost:\n",
      "              precision    recall  f1-score   support\n",
      "\n",
      "         0.0       0.82      0.95      0.88     10648\n",
      "         1.0       0.47      0.17      0.25      2724\n",
      "\n",
      "    accuracy                           0.79     13372\n",
      "   macro avg       0.65      0.56      0.57     13372\n",
      "weighted avg       0.75      0.79      0.75     13372\n",
      "\n"
     ]
    }
   ],
   "source": [
    "# Обучим модель с полученными параметрами\n",
    "params = trial.params\n",
    "catb_class = CatBoostClassifier(verbose=0,**params)\n",
    "catb_class.fit(X_train, y_train)\n",
    "\n",
    "# Предсказание\n",
    "y_pred_catb = catb_class.predict(X_test)\n",
    "f1_catb_class = f1_score(y_test, y_pred_catb)\n",
    "\n",
    "# Посмотрим на основные метрики качества\n",
    "print(f\"F1-score CatBoost: {round(f1_catb_class, 3)}\")\n",
    "print('Classification report CatBoost:')\n",
    "print(classification_report(y_test, y_pred_catb))"
   ]
  },
  {
   "cell_type": "code",
   "execution_count": 21,
   "metadata": {},
   "outputs": [
    {
     "data": {
      "image/png": "[encoded data removed]",
      "text/plain": [
       "<Figure size 400x300 with 2 Axes>"
      ]
     },
     "metadata": {},
     "output_type": "display_data"
    }
   ],
   "source": [
    "# Потроим матрицу ошибок\n",
    "plt.figure(figsize=(4, 3))\n",
    "con_mat_catb = confusion_matrix(y_test, y_pred_catb)\n",
    "sns.heatmap(con_mat_catb,\n",
    "            annot=True,\n",
    "            fmt='g'\n",
    "            )\n",
    "plt.ylabel('Prediction', fontsize=13)\n",
    "plt.xlabel('Actual', fontsize=13)\n",
    "plt.title('Confusion Matrix CatBoost', fontsize=17)\n",
    "plt.show()"
   ]
  },
  {
   "cell_type": "code",
   "execution_count": 22,
   "metadata": {},
   "outputs": [],
   "source": [
    "# Сохраним полученную модель\n",
    "with open(r'models/catb_class_model.pkl', 'wb') as file:\n",
    "    pickle.dump(catb_class, file)"
   ]
  },
  {
   "cell_type": "markdown",
   "metadata": {},
   "source": [
    "### XGBoost"
   ]
  },
  {
   "cell_type": "code",
   "execution_count": 23,
   "metadata": {},
   "outputs": [
    {
     "name": "stderr",
     "output_type": "stream",
     "text": [
      "[I 2024-05-19 19:24:34,463] A new study created in memory with name: no-name-be33b0d5-b434-4bb7-bdec-0e38c9b9aeb3\n"
     ]
    },
    {
     "name": "stdout",
     "output_type": "stream",
     "text": [
      "[19:24:34] WARNING: C:\\buildkite-agent\\builds\\buildkite-windows-cpu-autoscaling-group-i-07593ffd91cd9da33-1\\xgboost\\xgboost-ci-windows\\src\\learner.cc:767: \n",
      "Parameters: { \"min_child_samples\" } are not used.\n",
      "\n"
     ]
    },
    {
     "name": "stderr",
     "output_type": "stream",
     "text": [
      "[I 2024-05-19 19:24:39,769] Trial 0 finished with value: 0.1794871794871795 and parameters: {'max_depth': 4, 'learning_rate': 0.5537048768259604, 'n_estimators': 52, 'min_child_weight': 1, 'min_child_samples': 44, 'gamma': 0.951065498065423, 'subsample': 0.5849950471713473, 'colsample_bytree': 0.5582790530136882}. Best is trial 0 with value: 0.1794871794871795.\n"
     ]
    },
    {
     "name": "stdout",
     "output_type": "stream",
     "text": [
      "[19:24:39] WARNING: C:\\buildkite-agent\\builds\\buildkite-windows-cpu-autoscaling-group-i-07593ffd91cd9da33-1\\xgboost\\xgboost-ci-windows\\src\\learner.cc:767: \n",
      "Parameters: { \"min_child_samples\" } are not used.\n",
      "\n"
     ]
    },
    {
     "name": "stderr",
     "output_type": "stream",
     "text": [
      "[I 2024-05-19 19:25:26,795] Trial 1 finished with value: 0.22668900055834726 and parameters: {'max_depth': 4, 'learning_rate': 0.30032135423840084, 'n_estimators': 397, 'min_child_weight': 8, 'min_child_samples': 9, 'gamma': 0.9976389178271647, 'subsample': 0.5192154337219264, 'colsample_bytree': 0.7710155387084143}. Best is trial 1 with value: 0.22668900055834726.\n"
     ]
    },
    {
     "name": "stdout",
     "output_type": "stream",
     "text": [
      "[19:25:26] WARNING: C:\\buildkite-agent\\builds\\buildkite-windows-cpu-autoscaling-group-i-07593ffd91cd9da33-1\\xgboost\\xgboost-ci-windows\\src\\learner.cc:767: \n",
      "Parameters: { \"min_child_samples\" } are not used.\n",
      "\n"
     ]
    },
    {
     "name": "stderr",
     "output_type": "stream",
     "text": [
      "[I 2024-05-19 19:27:10,827] Trial 2 finished with value: 0.11505922165820642 and parameters: {'max_depth': 9, 'learning_rate': 0.012779477902036375, 'n_estimators': 389, 'min_child_weight': 10, 'min_child_samples': 49, 'gamma': 0.5825610530159849, 'subsample': 0.4800467069967232, 'colsample_bytree': 0.7102490597619536}. Best is trial 1 with value: 0.22668900055834726.\n"
     ]
    },
    {
     "name": "stdout",
     "output_type": "stream",
     "text": [
      "[19:27:10] WARNING: C:\\buildkite-agent\\builds\\buildkite-windows-cpu-autoscaling-group-i-07593ffd91cd9da33-1\\xgboost\\xgboost-ci-windows\\src\\learner.cc:767: \n",
      "Parameters: { \"min_child_samples\" } are not used.\n",
      "\n"
     ]
    },
    {
     "name": "stderr",
     "output_type": "stream",
     "text": [
      "[I 2024-05-19 19:27:17,404] Trial 3 finished with value: 0.15397973950795948 and parameters: {'max_depth': 1, 'learning_rate': 0.8221790742818177, 'n_estimators': 427, 'min_child_weight': 2, 'min_child_samples': 16, 'gamma': 0.3277254611599482, 'subsample': 0.14564516725214965, 'colsample_bytree': 0.33185057477200963}. Best is trial 1 with value: 0.22668900055834726.\n"
     ]
    },
    {
     "name": "stdout",
     "output_type": "stream",
     "text": [
      "[19:27:17] WARNING: C:\\buildkite-agent\\builds\\buildkite-windows-cpu-autoscaling-group-i-07593ffd91cd9da33-1\\xgboost\\xgboost-ci-windows\\src\\learner.cc:767: \n",
      "Parameters: { \"min_child_samples\" } are not used.\n",
      "\n"
     ]
    },
    {
     "name": "stderr",
     "output_type": "stream",
     "text": [
      "[I 2024-05-19 19:27:38,904] Trial 4 finished with value: 0.2857803468208092 and parameters: {'max_depth': 9, 'learning_rate': 0.6410758710561174, 'n_estimators': 144, 'min_child_weight': 1, 'min_child_samples': 44, 'gamma': 0.4421199127835708, 'subsample': 0.896313503339473, 'colsample_bytree': 0.25740290769585705}. Best is trial 4 with value: 0.2857803468208092.\n"
     ]
    },
    {
     "name": "stdout",
     "output_type": "stream",
     "text": [
      "[19:27:39] WARNING: C:\\buildkite-agent\\builds\\buildkite-windows-cpu-autoscaling-group-i-07593ffd91cd9da33-1\\xgboost\\xgboost-ci-windows\\src\\learner.cc:767: \n",
      "Parameters: { \"min_child_samples\" } are not used.\n",
      "\n"
     ]
    },
    {
     "name": "stderr",
     "output_type": "stream",
     "text": [
      "[I 2024-05-19 19:28:32,227] Trial 5 finished with value: 0.30569727891156456 and parameters: {'max_depth': 8, 'learning_rate': 0.7330863720635035, 'n_estimators': 290, 'min_child_weight': 4, 'min_child_samples': 74, 'gamma': 0.0032782098854335414, 'subsample': 0.7483242102968215, 'colsample_bytree': 0.46643467971131725}. Best is trial 5 with value: 0.30569727891156456.\n"
     ]
    },
    {
     "name": "stdout",
     "output_type": "stream",
     "text": [
      "[19:28:32] WARNING: C:\\buildkite-agent\\builds\\buildkite-windows-cpu-autoscaling-group-i-07593ffd91cd9da33-1\\xgboost\\xgboost-ci-windows\\src\\learner.cc:767: \n",
      "Parameters: { \"min_child_samples\" } are not used.\n",
      "\n"
     ]
    },
    {
     "name": "stderr",
     "output_type": "stream",
     "text": [
      "[I 2024-05-19 19:28:54,338] Trial 6 finished with value: 0.07246376811594203 and parameters: {'max_depth': 1, 'learning_rate': 0.5567346744200199, 'n_estimators': 467, 'min_child_weight': 4, 'min_child_samples': 74, 'gamma': 0.5173021420481951, 'subsample': 0.842934818204701, 'colsample_bytree': 0.8610075068660216}. Best is trial 5 with value: 0.30569727891156456.\n"
     ]
    },
    {
     "name": "stdout",
     "output_type": "stream",
     "text": [
      "[19:28:54] WARNING: C:\\buildkite-agent\\builds\\buildkite-windows-cpu-autoscaling-group-i-07593ffd91cd9da33-1\\xgboost\\xgboost-ci-windows\\src\\learner.cc:767: \n",
      "Parameters: { \"min_child_samples\" } are not used.\n",
      "\n"
     ]
    },
    {
     "name": "stderr",
     "output_type": "stream",
     "text": [
      "[I 2024-05-19 19:29:01,922] Trial 7 finished with value: 0.21544420237230694 and parameters: {'max_depth': 5, 'learning_rate': 0.27549199844982525, 'n_estimators': 263, 'min_child_weight': 2, 'min_child_samples': 34, 'gamma': 0.8196768731309881, 'subsample': 0.11021698674934363, 'colsample_bytree': 0.055424671524389464}. Best is trial 5 with value: 0.30569727891156456.\n"
     ]
    },
    {
     "name": "stdout",
     "output_type": "stream",
     "text": [
      "[19:29:02] WARNING: C:\\buildkite-agent\\builds\\buildkite-windows-cpu-autoscaling-group-i-07593ffd91cd9da33-1\\xgboost\\xgboost-ci-windows\\src\\learner.cc:767: \n",
      "Parameters: { \"min_child_samples\" } are not used.\n",
      "\n"
     ]
    },
    {
     "name": "stderr",
     "output_type": "stream",
     "text": [
      "[I 2024-05-19 19:29:54,178] Trial 8 finished with value: 0.2955894826123834 and parameters: {'max_depth': 7, 'learning_rate': 0.321642717991883, 'n_estimators': 326, 'min_child_weight': 3, 'min_child_samples': 78, 'gamma': 0.31566960355522966, 'subsample': 0.26236363915172767, 'colsample_bytree': 0.9977018559338909}. Best is trial 5 with value: 0.30569727891156456.\n"
     ]
    },
    {
     "name": "stdout",
     "output_type": "stream",
     "text": [
      "[19:29:54] WARNING: C:\\buildkite-agent\\builds\\buildkite-windows-cpu-autoscaling-group-i-07593ffd91cd9da33-1\\xgboost\\xgboost-ci-windows\\src\\learner.cc:767: \n",
      "Parameters: { \"min_child_samples\" } are not used.\n",
      "\n"
     ]
    },
    {
     "name": "stderr",
     "output_type": "stream",
     "text": [
      "[I 2024-05-19 19:31:52,231] Trial 9 finished with value: 0.28778937812074445 and parameters: {'max_depth': 8, 'learning_rate': 0.7292732518923963, 'n_estimators': 363, 'min_child_weight': 7, 'min_child_samples': 72, 'gamma': 0.9029269866617843, 'subsample': 0.9952252604360493, 'colsample_bytree': 0.7566873972028786}. Best is trial 5 with value: 0.30569727891156456.\n"
     ]
    },
    {
     "name": "stdout",
     "output_type": "stream",
     "text": [
      "[19:31:52] WARNING: C:\\buildkite-agent\\builds\\buildkite-windows-cpu-autoscaling-group-i-07593ffd91cd9da33-1\\xgboost\\xgboost-ci-windows\\src\\learner.cc:767: \n",
      "Parameters: { \"min_child_samples\" } are not used.\n",
      "\n"
     ]
    },
    {
     "name": "stderr",
     "output_type": "stream",
     "text": [
      "[I 2024-05-19 19:32:27,575] Trial 10 finished with value: 0.3035219628017412 and parameters: {'max_depth': 7, 'learning_rate': 0.9848406924227243, 'n_estimators': 232, 'min_child_weight': 5, 'min_child_samples': 96, 'gamma': 0.057904260006604924, 'subsample': 0.7240844882080886, 'colsample_bytree': 0.4510294592995028}. Best is trial 5 with value: 0.30569727891156456.\n"
     ]
    },
    {
     "name": "stdout",
     "output_type": "stream",
     "text": [
      "[19:32:27] WARNING: C:\\buildkite-agent\\builds\\buildkite-windows-cpu-autoscaling-group-i-07593ffd91cd9da33-1\\xgboost\\xgboost-ci-windows\\src\\learner.cc:767: \n",
      "Parameters: { \"min_child_samples\" } are not used.\n",
      "\n"
     ]
    },
    {
     "name": "stderr",
     "output_type": "stream",
     "text": [
      "[I 2024-05-19 19:33:01,586] Trial 11 finished with value: 0.2986909956366521 and parameters: {'max_depth': 7, 'learning_rate': 0.9944688101081289, 'n_estimators': 226, 'min_child_weight': 5, 'min_child_samples': 99, 'gamma': 0.0032260812550661475, 'subsample': 0.7163933405410731, 'colsample_bytree': 0.4294002625550283}. Best is trial 5 with value: 0.30569727891156456.\n"
     ]
    },
    {
     "name": "stdout",
     "output_type": "stream",
     "text": [
      "[19:33:01] WARNING: C:\\buildkite-agent\\builds\\buildkite-windows-cpu-autoscaling-group-i-07593ffd91cd9da33-1\\xgboost\\xgboost-ci-windows\\src\\learner.cc:767: \n",
      "Parameters: { \"min_child_samples\" } are not used.\n",
      "\n"
     ]
    },
    {
     "name": "stderr",
     "output_type": "stream",
     "text": [
      "[I 2024-05-19 19:33:31,601] Trial 12 finished with value: 0.3001230012300123 and parameters: {'max_depth': 6, 'learning_rate': 0.9159177355440813, 'n_estimators': 194, 'min_child_weight': 6, 'min_child_samples': 99, 'gamma': 0.013981468633478725, 'subsample': 0.7093628496148039, 'colsample_bytree': 0.5615423978048907}. Best is trial 5 with value: 0.30569727891156456.\n"
     ]
    },
    {
     "name": "stdout",
     "output_type": "stream",
     "text": [
      "[19:33:31] WARNING: C:\\buildkite-agent\\builds\\buildkite-windows-cpu-autoscaling-group-i-07593ffd91cd9da33-1\\xgboost\\xgboost-ci-windows\\src\\learner.cc:767: \n",
      "Parameters: { \"min_child_samples\" } are not used.\n",
      "\n"
     ]
    },
    {
     "name": "stderr",
     "output_type": "stream",
     "text": [
      "[I 2024-05-19 19:33:49,611] Trial 13 finished with value: 0.28693009118541035 and parameters: {'max_depth': 7, 'learning_rate': 0.8085311419657693, 'n_estimators': 293, 'min_child_weight': 5, 'min_child_samples': 86, 'gamma': 0.14876321491712297, 'subsample': 0.6765357311177446, 'colsample_bytree': 0.12283440867977619}. Best is trial 5 with value: 0.30569727891156456.\n"
     ]
    },
    {
     "name": "stdout",
     "output_type": "stream",
     "text": [
      "[19:33:49] WARNING: C:\\buildkite-agent\\builds\\buildkite-windows-cpu-autoscaling-group-i-07593ffd91cd9da33-1\\xgboost\\xgboost-ci-windows\\src\\learner.cc:767: \n",
      "Parameters: { \"min_child_samples\" } are not used.\n",
      "\n"
     ]
    },
    {
     "name": "stderr",
     "output_type": "stream",
     "text": [
      "[I 2024-05-19 19:34:07,666] Trial 14 finished with value: 0.2794899043570669 and parameters: {'max_depth': 8, 'learning_rate': 0.9797112498668463, 'n_estimators': 151, 'min_child_weight': 4, 'min_child_samples': 62, 'gamma': 0.21114703121948403, 'subsample': 0.3821290391872512, 'colsample_bytree': 0.44745077354655216}. Best is trial 5 with value: 0.30569727891156456.\n"
     ]
    },
    {
     "name": "stdout",
     "output_type": "stream",
     "text": [
      "[19:34:07] WARNING: C:\\buildkite-agent\\builds\\buildkite-windows-cpu-autoscaling-group-i-07593ffd91cd9da33-1\\xgboost\\xgboost-ci-windows\\src\\learner.cc:767: \n",
      "Parameters: { \"min_child_samples\" } are not used.\n",
      "\n"
     ]
    },
    {
     "name": "stderr",
     "output_type": "stream",
     "text": [
      "[I 2024-05-19 19:34:26,771] Trial 15 finished with value: 0.2657471264367816 and parameters: {'max_depth': 5, 'learning_rate': 0.8348420962959214, 'n_estimators': 248, 'min_child_weight': 8, 'min_child_samples': 88, 'gamma': 0.11011520844406722, 'subsample': 0.8485273070783431, 'colsample_bytree': 0.2653974148209537}. Best is trial 5 with value: 0.30569727891156456.\n"
     ]
    },
    {
     "name": "stdout",
     "output_type": "stream",
     "text": [
      "[19:34:26] WARNING: C:\\buildkite-agent\\builds\\buildkite-windows-cpu-autoscaling-group-i-07593ffd91cd9da33-1\\xgboost\\xgboost-ci-windows\\src\\learner.cc:767: \n",
      "Parameters: { \"min_child_samples\" } are not used.\n",
      "\n"
     ]
    },
    {
     "name": "stderr",
     "output_type": "stream",
     "text": [
      "[I 2024-05-19 19:35:18,518] Trial 16 finished with value: 0.29001650165016507 and parameters: {'max_depth': 6, 'learning_rate': 0.7189539500240134, 'n_estimators': 329, 'min_child_weight': 6, 'min_child_samples': 60, 'gamma': 0.6660648551363204, 'subsample': 0.6267982091331402, 'colsample_bytree': 0.6316584733994731}. Best is trial 5 with value: 0.30569727891156456.\n"
     ]
    },
    {
     "name": "stdout",
     "output_type": "stream",
     "text": [
      "[19:35:18] WARNING: C:\\buildkite-agent\\builds\\buildkite-windows-cpu-autoscaling-group-i-07593ffd91cd9da33-1\\xgboost\\xgboost-ci-windows\\src\\learner.cc:767: \n",
      "Parameters: { \"min_child_samples\" } are not used.\n",
      "\n"
     ]
    },
    {
     "name": "stderr",
     "output_type": "stream",
     "text": [
      "[I 2024-05-19 19:35:25,743] Trial 17 finished with value: 0.11430459200528575 and parameters: {'max_depth': 3, 'learning_rate': 0.45302237022955794, 'n_estimators': 98, 'min_child_weight': 4, 'min_child_samples': 88, 'gamma': 0.29316084064998815, 'subsample': 0.775099453301634, 'colsample_bytree': 0.3936360975719022}. Best is trial 5 with value: 0.30569727891156456.\n"
     ]
    },
    {
     "name": "stdout",
     "output_type": "stream",
     "text": [
      "[19:35:25] WARNING: C:\\buildkite-agent\\builds\\buildkite-windows-cpu-autoscaling-group-i-07593ffd91cd9da33-1\\xgboost\\xgboost-ci-windows\\src\\learner.cc:767: \n",
      "Parameters: { \"min_child_samples\" } are not used.\n",
      "\n"
     ]
    },
    {
     "name": "stderr",
     "output_type": "stream",
     "text": [
      "[I 2024-05-19 19:35:40,983] Trial 18 finished with value: 0.28806290207290924 and parameters: {'max_depth': 8, 'learning_rate': 0.8904595527819256, 'n_estimators': 186, 'min_child_weight': 3, 'min_child_samples': 65, 'gamma': 0.10452127826961763, 'subsample': 0.4302520689794004, 'colsample_bytree': 0.18572233689554685}. Best is trial 5 with value: 0.30569727891156456.\n"
     ]
    },
    {
     "name": "stdout",
     "output_type": "stream",
     "text": [
      "[19:35:41] WARNING: C:\\buildkite-agent\\builds\\buildkite-windows-cpu-autoscaling-group-i-07593ffd91cd9da33-1\\xgboost\\xgboost-ci-windows\\src\\learner.cc:767: \n",
      "Parameters: { \"min_child_samples\" } are not used.\n",
      "\n"
     ]
    },
    {
     "name": "stderr",
     "output_type": "stream",
     "text": [
      "[I 2024-05-19 19:36:53,903] Trial 19 finished with value: 0.28212290502793297 and parameters: {'max_depth': 9, 'learning_rate': 0.6796455767051819, 'n_estimators': 301, 'min_child_weight': 7, 'min_child_samples': 82, 'gamma': 0.3982214427818881, 'subsample': 0.9768439436918153, 'colsample_bytree': 0.49719093345010784}. Best is trial 5 with value: 0.30569727891156456.\n"
     ]
    },
    {
     "name": "stdout",
     "output_type": "stream",
     "text": [
      "[19:36:54] WARNING: C:\\buildkite-agent\\builds\\buildkite-windows-cpu-autoscaling-group-i-07593ffd91cd9da33-1\\xgboost\\xgboost-ci-windows\\src\\learner.cc:767: \n",
      "Parameters: { \"min_child_samples\" } are not used.\n",
      "\n"
     ]
    },
    {
     "name": "stderr",
     "output_type": "stream",
     "text": [
      "[I 2024-05-19 19:37:17,366] Trial 20 finished with value: 0.28693790149892934 and parameters: {'max_depth': 6, 'learning_rate': 0.4357556135234148, 'n_estimators': 228, 'min_child_weight': 3, 'min_child_samples': 95, 'gamma': 0.2167005432635974, 'subsample': 0.3238056658743562, 'colsample_bytree': 0.6222422367058233}. Best is trial 5 with value: 0.30569727891156456.\n"
     ]
    },
    {
     "name": "stdout",
     "output_type": "stream",
     "text": [
      "[19:37:17] WARNING: C:\\buildkite-agent\\builds\\buildkite-windows-cpu-autoscaling-group-i-07593ffd91cd9da33-1\\xgboost\\xgboost-ci-windows\\src\\learner.cc:767: \n",
      "Parameters: { \"min_child_samples\" } are not used.\n",
      "\n"
     ]
    },
    {
     "name": "stderr",
     "output_type": "stream",
     "text": [
      "[I 2024-05-19 19:37:50,175] Trial 21 finished with value: 0.28900782214903253 and parameters: {'max_depth': 6, 'learning_rate': 0.9224731987979197, 'n_estimators': 197, 'min_child_weight': 6, 'min_child_samples': 95, 'gamma': 0.015484032929286129, 'subsample': 0.7178311493367111, 'colsample_bytree': 0.5637591158212744}. Best is trial 5 with value: 0.30569727891156456.\n"
     ]
    },
    {
     "name": "stdout",
     "output_type": "stream",
     "text": [
      "[19:37:50] WARNING: C:\\buildkite-agent\\builds\\buildkite-windows-cpu-autoscaling-group-i-07593ffd91cd9da33-1\\xgboost\\xgboost-ci-windows\\src\\learner.cc:767: \n",
      "Parameters: { \"min_child_samples\" } are not used.\n",
      "\n"
     ]
    },
    {
     "name": "stderr",
     "output_type": "stream",
     "text": [
      "[I 2024-05-19 19:38:14,089] Trial 22 finished with value: 0.2880094043887147 and parameters: {'max_depth': 7, 'learning_rate': 0.8950587757599602, 'n_estimators': 170, 'min_child_weight': 5, 'min_child_samples': 100, 'gamma': 0.05472186670097559, 'subsample': 0.5735952621463393, 'colsample_bytree': 0.3345180249646682}. Best is trial 5 with value: 0.30569727891156456.\n"
     ]
    },
    {
     "name": "stdout",
     "output_type": "stream",
     "text": [
      "[19:38:14] WARNING: C:\\buildkite-agent\\builds\\buildkite-windows-cpu-autoscaling-group-i-07593ffd91cd9da33-1\\xgboost\\xgboost-ci-windows\\src\\learner.cc:767: \n",
      "Parameters: { \"min_child_samples\" } are not used.\n",
      "\n"
     ]
    },
    {
     "name": "stderr",
     "output_type": "stream",
     "text": [
      "[I 2024-05-19 19:38:37,770] Trial 23 finished with value: 0.30179692574150246 and parameters: {'max_depth': 8, 'learning_rate': 0.7806276860329499, 'n_estimators': 117, 'min_child_weight': 7, 'min_child_samples': 69, 'gamma': 0.18281405982551852, 'subsample': 0.7700801055859225, 'colsample_bytree': 0.5363603578359243}. Best is trial 5 with value: 0.30569727891156456.\n"
     ]
    },
    {
     "name": "stdout",
     "output_type": "stream",
     "text": [
      "[19:38:37] WARNING: C:\\buildkite-agent\\builds\\buildkite-windows-cpu-autoscaling-group-i-07593ffd91cd9da33-1\\xgboost\\xgboost-ci-windows\\src\\learner.cc:767: \n",
      "Parameters: { \"min_child_samples\" } are not used.\n",
      "\n"
     ]
    },
    {
     "name": "stderr",
     "output_type": "stream",
     "text": [
      "[I 2024-05-19 19:39:05,333] Trial 24 finished with value: 0.2823152596659803 and parameters: {'max_depth': 8, 'learning_rate': 0.755879443108658, 'n_estimators': 105, 'min_child_weight': 10, 'min_child_samples': 70, 'gamma': 0.1901061485195259, 'subsample': 0.8073858461791438, 'colsample_bytree': 0.48714243474103686}. Best is trial 5 with value: 0.30569727891156456.\n"
     ]
    },
    {
     "name": "stdout",
     "output_type": "stream",
     "text": [
      "[19:39:05] WARNING: C:\\buildkite-agent\\builds\\buildkite-windows-cpu-autoscaling-group-i-07593ffd91cd9da33-1\\xgboost\\xgboost-ci-windows\\src\\learner.cc:767: \n",
      "Parameters: { \"min_child_samples\" } are not used.\n",
      "\n"
     ]
    },
    {
     "name": "stderr",
     "output_type": "stream",
     "text": [
      "[I 2024-05-19 19:39:33,797] Trial 25 finished with value: 0.27226401358893465 and parameters: {'max_depth': 8, 'learning_rate': 0.6084921224420583, 'n_estimators': 117, 'min_child_weight': 8, 'min_child_samples': 31, 'gamma': 0.10038206295793986, 'subsample': 0.9134875668824173, 'colsample_bytree': 0.39379687377235983}. Best is trial 5 with value: 0.30569727891156456.\n"
     ]
    },
    {
     "name": "stdout",
     "output_type": "stream",
     "text": [
      "[19:39:34] WARNING: C:\\buildkite-agent\\builds\\buildkite-windows-cpu-autoscaling-group-i-07593ffd91cd9da33-1\\xgboost\\xgboost-ci-windows\\src\\learner.cc:767: \n",
      "Parameters: { \"min_child_samples\" } are not used.\n",
      "\n"
     ]
    },
    {
     "name": "stderr",
     "output_type": "stream",
     "text": [
      "[I 2024-05-19 19:39:57,750] Trial 26 finished with value: 0.28965819456617004 and parameters: {'max_depth': 9, 'learning_rate': 0.7987135454377738, 'n_estimators': 68, 'min_child_weight': 7, 'min_child_samples': 57, 'gamma': 0.25570312971669396, 'subsample': 0.7754714715123803, 'colsample_bytree': 0.6489554296433855}. Best is trial 5 with value: 0.30569727891156456.\n"
     ]
    },
    {
     "name": "stdout",
     "output_type": "stream",
     "text": [
      "[19:39:57] WARNING: C:\\buildkite-agent\\builds\\buildkite-windows-cpu-autoscaling-group-i-07593ffd91cd9da33-1\\xgboost\\xgboost-ci-windows\\src\\learner.cc:767: \n",
      "Parameters: { \"min_child_samples\" } are not used.\n",
      "\n"
     ]
    },
    {
     "name": "stderr",
     "output_type": "stream",
     "text": [
      "[I 2024-05-19 19:40:42,526] Trial 27 finished with value: 0.2943207981580967 and parameters: {'max_depth': 7, 'learning_rate': 0.9861582092083258, 'n_estimators': 333, 'min_child_weight': 9, 'min_child_samples': 80, 'gamma': 0.16442772865024635, 'subsample': 0.6358533839256791, 'colsample_bytree': 0.31769236430534076}. Best is trial 5 with value: 0.30569727891156456.\n"
     ]
    },
    {
     "name": "stdout",
     "output_type": "stream",
     "text": [
      "[19:40:42] WARNING: C:\\buildkite-agent\\builds\\buildkite-windows-cpu-autoscaling-group-i-07593ffd91cd9da33-1\\xgboost\\xgboost-ci-windows\\src\\learner.cc:767: \n",
      "Parameters: { \"min_child_samples\" } are not used.\n",
      "\n"
     ]
    },
    {
     "name": "stderr",
     "output_type": "stream",
     "text": [
      "[I 2024-05-19 19:41:50,071] Trial 28 finished with value: 0.2969451931716083 and parameters: {'max_depth': 8, 'learning_rate': 0.6589102597552777, 'n_estimators': 279, 'min_child_weight': 4, 'min_child_samples': 72, 'gamma': 0.07708284501651497, 'subsample': 0.8936133577555356, 'colsample_bytree': 0.5231154702250927}. Best is trial 5 with value: 0.30569727891156456.\n"
     ]
    },
    {
     "name": "stdout",
     "output_type": "stream",
     "text": [
      "[19:41:50] WARNING: C:\\buildkite-agent\\builds\\buildkite-windows-cpu-autoscaling-group-i-07593ffd91cd9da33-1\\xgboost\\xgboost-ci-windows\\src\\learner.cc:767: \n",
      "Parameters: { \"min_child_samples\" } are not used.\n",
      "\n"
     ]
    },
    {
     "name": "stderr",
     "output_type": "stream",
     "text": [
      "[I 2024-05-19 19:41:56,750] Trial 29 finished with value: 0.1561065197428834 and parameters: {'max_depth': 4, 'learning_rate': 0.5343868085012873, 'n_estimators': 50, 'min_child_weight': 5, 'min_child_samples': 51, 'gamma': 0.374522106599082, 'subsample': 0.5607935806809047, 'colsample_bytree': 0.5736219366005119}. Best is trial 5 with value: 0.30569727891156456.\n"
     ]
    },
    {
     "name": "stdout",
     "output_type": "stream",
     "text": [
      "[19:41:56] WARNING: C:\\buildkite-agent\\builds\\buildkite-windows-cpu-autoscaling-group-i-07593ffd91cd9da33-1\\xgboost\\xgboost-ci-windows\\src\\learner.cc:767: \n",
      "Parameters: { \"min_child_samples\" } are not used.\n",
      "\n"
     ]
    },
    {
     "name": "stderr",
     "output_type": "stream",
     "text": [
      "[I 2024-05-19 19:42:07,093] Trial 30 finished with value: 0.0 and parameters: {'max_depth': 5, 'learning_rate': 0.010864235560221147, 'n_estimators': 233, 'min_child_weight': 6, 'min_child_samples': 66, 'gamma': 0.2589506281052031, 'subsample': 0.012283053653596443, 'colsample_bytree': 0.7029982010718697}. Best is trial 5 with value: 0.30569727891156456.\n"
     ]
    },
    {
     "name": "stdout",
     "output_type": "stream",
     "text": [
      "[19:42:07] WARNING: C:\\buildkite-agent\\builds\\buildkite-windows-cpu-autoscaling-group-i-07593ffd91cd9da33-1\\xgboost\\xgboost-ci-windows\\src\\learner.cc:767: \n",
      "Parameters: { \"min_child_samples\" } are not used.\n",
      "\n"
     ]
    },
    {
     "name": "stderr",
     "output_type": "stream",
     "text": [
      "[I 2024-05-19 19:42:39,417] Trial 31 finished with value: 0.3069652763509349 and parameters: {'max_depth': 6, 'learning_rate': 0.9010716126382375, 'n_estimators': 203, 'min_child_weight': 6, 'min_child_samples': 93, 'gamma': 0.009804334317548166, 'subsample': 0.7145749749434895, 'colsample_bytree': 0.5501335890248775}. Best is trial 31 with value: 0.3069652763509349.\n"
     ]
    },
    {
     "name": "stdout",
     "output_type": "stream",
     "text": [
      "[19:42:39] WARNING: C:\\buildkite-agent\\builds\\buildkite-windows-cpu-autoscaling-group-i-07593ffd91cd9da33-1\\xgboost\\xgboost-ci-windows\\src\\learner.cc:767: \n",
      "Parameters: { \"min_child_samples\" } are not used.\n",
      "\n"
     ]
    },
    {
     "name": "stderr",
     "output_type": "stream",
     "text": [
      "[I 2024-05-19 19:43:07,376] Trial 32 finished with value: 0.291374824894937 and parameters: {'max_depth': 7, 'learning_rate': 0.8721774074788256, 'n_estimators': 209, 'min_child_weight': 7, 'min_child_samples': 91, 'gamma': 0.06948984305376281, 'subsample': 0.6482100917419714, 'colsample_bytree': 0.4756118311849783}. Best is trial 31 with value: 0.3069652763509349.\n"
     ]
    },
    {
     "name": "stdout",
     "output_type": "stream",
     "text": [
      "[19:43:07] WARNING: C:\\buildkite-agent\\builds\\buildkite-windows-cpu-autoscaling-group-i-07593ffd91cd9da33-1\\xgboost\\xgboost-ci-windows\\src\\learner.cc:767: \n",
      "Parameters: { \"min_child_samples\" } are not used.\n",
      "\n"
     ]
    },
    {
     "name": "stderr",
     "output_type": "stream",
     "text": [
      "[I 2024-05-19 19:43:23,894] Trial 33 finished with value: 0.28959276018099545 and parameters: {'max_depth': 6, 'learning_rate': 0.9507521929002145, 'n_estimators': 137, 'min_child_weight': 6, 'min_child_samples': 82, 'gamma': 0.14370743325639734, 'subsample': 0.5203643973686538, 'colsample_bytree': 0.3930318277516882}. Best is trial 31 with value: 0.3069652763509349.\n"
     ]
    },
    {
     "name": "stdout",
     "output_type": "stream",
     "text": [
      "[19:43:24] WARNING: C:\\buildkite-agent\\builds\\buildkite-windows-cpu-autoscaling-group-i-07593ffd91cd9da33-1\\xgboost\\xgboost-ci-windows\\src\\learner.cc:767: \n",
      "Parameters: { \"min_child_samples\" } are not used.\n",
      "\n"
     ]
    },
    {
     "name": "stderr",
     "output_type": "stream",
     "text": [
      "[I 2024-05-19 19:44:16,086] Trial 34 finished with value: 0.3011794439764111 and parameters: {'max_depth': 9, 'learning_rate': 0.7784668754650309, 'n_estimators': 169, 'min_child_weight': 9, 'min_child_samples': 76, 'gamma': 0.0034883386931757144, 'subsample': 0.7589715753943952, 'colsample_bytree': 0.6881926387456506}. Best is trial 31 with value: 0.3069652763509349.\n"
     ]
    },
    {
     "name": "stdout",
     "output_type": "stream",
     "text": [
      "[19:44:16] WARNING: C:\\buildkite-agent\\builds\\buildkite-windows-cpu-autoscaling-group-i-07593ffd91cd9da33-1\\xgboost\\xgboost-ci-windows\\src\\learner.cc:767: \n",
      "Parameters: { \"min_child_samples\" } are not used.\n",
      "\n"
     ]
    },
    {
     "name": "stderr",
     "output_type": "stream",
     "text": [
      "[I 2024-05-19 19:44:31,364] Trial 35 finished with value: 0.16332726168791742 and parameters: {'max_depth': 2, 'learning_rate': 0.8309262324551823, 'n_estimators': 255, 'min_child_weight': 5, 'min_child_samples': 91, 'gamma': 0.056398567438182445, 'subsample': 0.8342766050750733, 'colsample_bytree': 0.5298365857130842}. Best is trial 31 with value: 0.3069652763509349.\n"
     ]
    },
    {
     "name": "stdout",
     "output_type": "stream",
     "text": [
      "[19:44:31] WARNING: C:\\buildkite-agent\\builds\\buildkite-windows-cpu-autoscaling-group-i-07593ffd91cd9da33-1\\xgboost\\xgboost-ci-windows\\src\\learner.cc:767: \n",
      "Parameters: { \"min_child_samples\" } are not used.\n",
      "\n"
     ]
    },
    {
     "name": "stderr",
     "output_type": "stream",
     "text": [
      "[I 2024-05-19 19:45:12,440] Trial 36 finished with value: 0.14610701698173661 and parameters: {'max_depth': 5, 'learning_rate': 0.10497003601901833, 'n_estimators': 372, 'min_child_weight': 7, 'min_child_samples': 56, 'gamma': 0.7129869601030266, 'subsample': 0.49506377348716696, 'colsample_bytree': 0.6078652522219523}. Best is trial 31 with value: 0.3069652763509349.\n"
     ]
    },
    {
     "name": "stdout",
     "output_type": "stream",
     "text": [
      "[19:45:12] WARNING: C:\\buildkite-agent\\builds\\buildkite-windows-cpu-autoscaling-group-i-07593ffd91cd9da33-1\\xgboost\\xgboost-ci-windows\\src\\learner.cc:767: \n",
      "Parameters: { \"min_child_samples\" } are not used.\n",
      "\n"
     ]
    },
    {
     "name": "stderr",
     "output_type": "stream",
     "text": [
      "[I 2024-05-19 19:45:33,762] Trial 37 finished with value: 0.2665688432379555 and parameters: {'max_depth': 7, 'learning_rate': 0.7029683534732257, 'n_estimators': 78, 'min_child_weight': 4, 'min_child_samples': 45, 'gamma': 0.13948786827262277, 'subsample': 0.9220095682393037, 'colsample_bytree': 0.7982245953998197}. Best is trial 31 with value: 0.3069652763509349.\n"
     ]
    },
    {
     "name": "stdout",
     "output_type": "stream",
     "text": [
      "[19:45:34] WARNING: C:\\buildkite-agent\\builds\\buildkite-windows-cpu-autoscaling-group-i-07593ffd91cd9da33-1\\xgboost\\xgboost-ci-windows\\src\\learner.cc:767: \n",
      "Parameters: { \"min_child_samples\" } are not used.\n",
      "\n"
     ]
    },
    {
     "name": "stderr",
     "output_type": "stream",
     "text": [
      "[I 2024-05-19 19:46:20,253] Trial 38 finished with value: 0.2958477508650519 and parameters: {'max_depth': 9, 'learning_rate': 0.6092047990083307, 'n_estimators': 300, 'min_child_weight': 1, 'min_child_samples': 84, 'gamma': 0.4850494263307647, 'subsample': 0.5970518113513695, 'colsample_bytree': 0.31276857233273014}. Best is trial 31 with value: 0.3069652763509349.\n"
     ]
    },
    {
     "name": "stdout",
     "output_type": "stream",
     "text": [
      "[19:46:20] WARNING: C:\\buildkite-agent\\builds\\buildkite-windows-cpu-autoscaling-group-i-07593ffd91cd9da33-1\\xgboost\\xgboost-ci-windows\\src\\learner.cc:767: \n",
      "Parameters: { \"min_child_samples\" } are not used.\n",
      "\n"
     ]
    },
    {
     "name": "stderr",
     "output_type": "stream",
     "text": [
      "[I 2024-05-19 19:48:40,910] Trial 39 finished with value: 0.3057715923045436 and parameters: {'max_depth': 8, 'learning_rate': 0.8581099698202991, 'n_estimators': 410, 'min_child_weight': 2, 'min_child_samples': 35, 'gamma': 0.5759338560978794, 'subsample': 0.7043563662764244, 'colsample_bytree': 0.8704411418462255}. Best is trial 31 with value: 0.3069652763509349.\n"
     ]
    },
    {
     "name": "stdout",
     "output_type": "stream",
     "text": [
      "[19:48:41] WARNING: C:\\buildkite-agent\\builds\\buildkite-windows-cpu-autoscaling-group-i-07593ffd91cd9da33-1\\xgboost\\xgboost-ci-windows\\src\\learner.cc:767: \n",
      "Parameters: { \"min_child_samples\" } are not used.\n",
      "\n"
     ]
    },
    {
     "name": "stderr",
     "output_type": "stream",
     "text": [
      "[I 2024-05-19 19:50:46,269] Trial 40 finished with value: 0.2995504699632202 and parameters: {'max_depth': 6, 'learning_rate': 0.8669534477885393, 'n_estimators': 458, 'min_child_weight': 3, 'min_child_samples': 35, 'gamma': 0.5682570891954898, 'subsample': 0.6802293893219981, 'colsample_bytree': 0.9037382024647087}. Best is trial 31 with value: 0.3069652763509349.\n"
     ]
    },
    {
     "name": "stdout",
     "output_type": "stream",
     "text": [
      "[19:50:46] WARNING: C:\\buildkite-agent\\builds\\buildkite-windows-cpu-autoscaling-group-i-07593ffd91cd9da33-1\\xgboost\\xgboost-ci-windows\\src\\learner.cc:767: \n",
      "Parameters: { \"min_child_samples\" } are not used.\n",
      "\n"
     ]
    },
    {
     "name": "stderr",
     "output_type": "stream",
     "text": [
      "[I 2024-05-19 19:53:10,223] Trial 41 finished with value: 0.2987174182871328 and parameters: {'max_depth': 8, 'learning_rate': 0.9309042706276258, 'n_estimators': 419, 'min_child_weight': 2, 'min_child_samples': 24, 'gamma': 0.7666798666112143, 'subsample': 0.7413457116184924, 'colsample_bytree': 0.9392684255719983}. Best is trial 31 with value: 0.3069652763509349.\n"
     ]
    },
    {
     "name": "stdout",
     "output_type": "stream",
     "text": [
      "[19:53:10] WARNING: C:\\buildkite-agent\\builds\\buildkite-windows-cpu-autoscaling-group-i-07593ffd91cd9da33-1\\xgboost\\xgboost-ci-windows\\src\\learner.cc:767: \n",
      "Parameters: { \"min_child_samples\" } are not used.\n",
      "\n"
     ]
    },
    {
     "name": "stderr",
     "output_type": "stream",
     "text": [
      "[I 2024-05-19 19:55:34,268] Trial 42 finished with value: 0.30410122164048864 and parameters: {'max_depth': 8, 'learning_rate': 0.754375041381831, 'n_estimators': 432, 'min_child_weight': 2, 'min_child_samples': 10, 'gamma': 0.600047717935372, 'subsample': 0.8119514743281765, 'colsample_bytree': 0.7650813512119413}. Best is trial 31 with value: 0.3069652763509349.\n"
     ]
    }
   ],
   "source": [
    "def objective_xgb_class(trial):\n",
    "    \"\"\"Определение целевой функции для XGBoost Classification\"\"\"\n",
    "\n",
    "    # Подбираемые параметры\n",
    "    params = {\n",
    "        'verbosity': 0,\n",
    "        'objective': 'binary:logistic',\n",
    "        'learning_rate': trial.suggest_float('learning_rate', 0.01, 0.2),\n",
    "        'n_estimators': trial.suggest_int('n_estimators', 100, 1000),\n",
    "        'max_depth': trial.suggest_int('max_depth', 3, 9),\n",
    "        'subsample': trial.suggest_float('subsample', 0.5, 1.0),\n",
    "        'colsample_bytree': trial.suggest_float('colsample_bytree', 0.5, 1.0)\n",
    "    }\n",
    "\n",
    "    # Обучение модели\n",
    "    optuna_model = XGBClassifier(**params)\n",
    "    optuna_model.fit(X_train, y_train)\n",
    "\n",
    "    # Предсказание\n",
    "    y_pred = optuna_model.predict(X_test)\n",
    "\n",
    "    # Оценка полученного предсказания\n",
    "    f1 = f1_score(y_test, y_pred)\n",
    "    return f1\n",
    "\n",
    "# Создаем сессию для максимизации выбранной метрики\n",
    "study_xgb_class = optuna.create_study(direction='maximize')\n",
    "# Запускаем нашу сессию оптимизации\n",
    "study_xgb_class.optimize(objective_xgb_class, n_trials=100, timeout=1800)"
   ]
  },
  {
   "cell_type": "code",
   "execution_count": 24,
   "metadata": {},
   "outputs": [
    {
     "name": "stderr",
     "output_type": "stream",
     "text": [
      "C:\\Users\\smart\\AppData\\Local\\Temp\\ipykernel_11012\\400001077.py:2: ExperimentalWarning: plot_optimization_history is experimental (supported from v2.2.0). The interface can change in the future.\n",
      "  plot_optimization_history(study_xgb_class)\n"
     ]
    },
    {
     "data": {
      "text/plain": [
       "<Axes: title={'center': 'Optimization History Plot'}, xlabel='Trial', ylabel='Objective Value'>"
      ]
     },
     "execution_count": 24,
     "metadata": {},
     "output_type": "execute_result"
    },
    {
     "data": {
      "image/png": "[encoded data removed]",
      "text/plain": [
       "<Figure size 640x480 with 1 Axes>"
      ]
     },
     "metadata": {},
     "output_type": "display_data"
    }
   ],
   "source": [
    "# Посмотрим как проходл процесс подбора параметров на графике\n",
    "plot_optimization_history(study_xgb_class)"
   ]
  },
  {
   "cell_type": "code",
   "execution_count": 25,
   "metadata": {},
   "outputs": [],
   "source": [
    "#plot_param_importances(study_xgb_class)"
   ]
  },
  {
   "cell_type": "code",
   "execution_count": 26,
   "metadata": {},
   "outputs": [
    {
     "name": "stdout",
     "output_type": "stream",
     "text": [
      "Количество завершенных трайлов: 43\n",
      "Лучший трайл:\n",
      "  Лучший F1-score: 0.3069652763509349\n",
      "  Параметры: \n",
      "    max_depth: 6\n",
      "    learning_rate: 0.9010716126382375\n",
      "    n_estimators: 203\n",
      "    min_child_weight: 6\n",
      "    min_child_samples: 93\n",
      "    gamma: 0.009804334317548166\n",
      "    subsample: 0.7145749749434895\n",
      "    colsample_bytree: 0.5501335890248775\n"
     ]
    }
   ],
   "source": [
    "# Посмотрим на итоги подбора параметров\n",
    "print('Количество завершенных трайлов: {}'.format(len(study_xgb_class.trials)))\n",
    "print('Лучший трайл:')\n",
    "trial = study_xgb_class.best_trial\n",
    "\n",
    "print('  Лучший F1-score: {}'.format(trial.value))\n",
    "print('  Параметры: ')\n",
    "\n",
    "for key, value in trial.params.items():\n",
    "    print('    {}: {}'.format(key, value))"
   ]
  },
  {
   "cell_type": "code",
   "execution_count": 27,
   "metadata": {},
   "outputs": [
    {
     "name": "stdout",
     "output_type": "stream",
     "text": [
      "[19:55:35] WARNING: C:\\buildkite-agent\\builds\\buildkite-windows-cpu-autoscaling-group-i-07593ffd91cd9da33-1\\xgboost\\xgboost-ci-windows\\src\\learner.cc:767: \n",
      "Parameters: { \"min_child_samples\" } are not used.\n",
      "\n",
      "F1-score XGBoost: 0.307\n",
      "Classification report XGBoost:\n",
      "              precision    recall  f1-score   support\n",
      "\n",
      "         0.0       0.82      0.87      0.85     10648\n",
      "         1.0       0.35      0.27      0.31      2724\n",
      "\n",
      "    accuracy                           0.75     13372\n",
      "   macro avg       0.59      0.57      0.58     13372\n",
      "weighted avg       0.73      0.75      0.74     13372\n",
      "\n"
     ]
    }
   ],
   "source": [
    "# Обучим модель с полученными параметрами\n",
    "params = trial.params\n",
    "xgb_class = XGBClassifier(**params)\n",
    "xgb_class.fit(X_train, y_train)\n",
    "\n",
    "# Предсказание\n",
    "y_pred_xgb = xgb_class.predict(X_test)\n",
    "f1_xgb_class = f1_score(y_test, y_pred_xgb)\n",
    "\n",
    "# Посмотрим на основные метрики качества\n",
    "print(f\"F1-score XGBoost: {round(f1_xgb_class, 3)}\")\n",
    "print('Classification report XGBoost:')\n",
    "print(classification_report(y_test, y_pred_xgb))"
   ]
  },
  {
   "cell_type": "code",
   "execution_count": 28,
   "metadata": {},
   "outputs": [
    {
     "data": {
      "image/png": "[encoded data removed]",
      "text/plain": [
       "<Figure size 400x300 with 2 Axes>"
      ]
     },
     "metadata": {},
     "output_type": "display_data"
    }
   ],
   "source": [
    "# Потроим матрицу ошибок\n",
    "plt.figure(figsize=(4, 3))\n",
    "con_mat_xgb = confusion_matrix(y_test, y_pred_xgb)\n",
    "sns.heatmap(con_mat_xgb,\n",
    "            annot=True,\n",
    "            fmt='g'\n",
    "            )\n",
    "plt.ylabel('Prediction', fontsize=13)\n",
    "plt.xlabel('Actual', fontsize=13)\n",
    "plt.title('Confusion Matrix XGB', fontsize=17)\n",
    "plt.show()"
   ]
  },
  {
   "cell_type": "code",
   "execution_count": 29,
   "metadata": {},
   "outputs": [],
   "source": [
    "# Сохраним полученную модель\n",
    "with open(r'models/xgb_class_model.pkl', 'wb') as file:\n",
    "    pickle.dump(xgb_class, file)"
   ]
  },
  {
   "cell_type": "code",
   "execution_count": 30,
   "metadata": {},
   "outputs": [],
   "source": [
    "# sns.set_color_codes(\"muted\")\n",
    "\n",
    "# plt.figure(figsize=(6, 6))\n",
    "# fpr, tpr, thresholds = roc_curve(y_test, y_pred, pos_label=1)\n",
    "# lw = 2\n",
    "# plt.plot(fpr, tpr, lw=lw, label='ROC curve ')\n",
    "# plt.plot([0, 1], [0, 1])\n",
    "# plt.xlim([0.0, 1.0])\n",
    "# plt.ylim([0.0, 1.05])\n",
    "# plt.xlabel('False Positive Rate')\n",
    "# plt.ylabel('True Positive Rate')\n",
    "# plt.title('ROC curve')\n",
    "# #plt.savefig(\"ROC.png\")\n",
    "# plt.show()"
   ]
  }
 ],
 "metadata": {
  "kernelspec": {
   "display_name": "Python 3",
   "language": "python",
   "name": "python3"
  },
  "language_info": {
   "codemirror_mode": {
    "name": "ipython",
    "version": 3
   },
   "file_extension": ".py",
   "mimetype": "text/x-python",
   "name": "python",
   "nbconvert_exporter": "python",
   "pygments_lexer": "ipython3",
   "version": "3.9.10"
  }
 },
 "nbformat": 4,
 "nbformat_minor": 2
}
