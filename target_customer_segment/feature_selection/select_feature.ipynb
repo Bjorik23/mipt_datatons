{
  "cells": [
    {
      "cell_type": "markdown",
      "metadata": {},
      "source": [
        "# Анализ и преобразование данных для обучения моделей\n",
        "\n",
        "# <a id=\"0\">Содержание</a>\n",
        "\n",
        "- <a href=\"#1\">План работы на данном этапе</a>\n",
        "- <a href=\"#2\">Кластеризация таргета</a>  \n",
        "- <a href=\"#3\">Нормирование числовых данных</a>  \n",
        "- <a href=\"#4\">Создание бинарного целевого признака</a>  \n",
        "- <a href=\"#5\">Статистический анализ данных</a>  \n",
        "- <a href=\"#6\">Отбор признаков</a>  \n",
        "- <a href=\"#7\">Создание эмбединга признаков</a>  \n",
        "- <a href=\"#8\">Выводы</a>  "
      ]
    },
    {
      "cell_type": "code",
      "execution_count": 1,
      "metadata": {
        "id": "5J5-4NFkkTV6"
      },
      "outputs": [],
      "source": [
        "# Импортируем необходимые библиотеки\n",
        "import pandas as pd\n",
        "import numpy as np\n",
        "import matplotlib.pyplot as plt\n",
        "import seaborn as sns\n",
        "\n",
        "from sklearn.ensemble import RandomForestClassifier, RandomForestRegressor\n",
        "from sklearn.cluster import KMeans\n",
        "from sklearn.model_selection import train_test_split\n",
        "from sklearn.metrics import accuracy_score, mean_absolute_error\n",
        "from sklearn.preprocessing import StandardScaler\n",
        "import statsmodels.api as sm\n",
        "\n",
        "from torch import nn\n",
        "from torch import optim\n",
        "import torch\n",
        "from torch.utils.data import DataLoader, TensorDataset\n",
        "import tqdm\n",
        "\n",
        "import utils.stepwiseSelection as ss\n",
        "from utils.utils import categorize_table, Encoder, Decoder\n",
        "import pickle"
      ]
    },
    {
      "cell_type": "markdown",
      "metadata": {},
      "source": [
        "# <a id=\"1\">План работы на данном этапе</a>\n",
        "\n",
        "1. Загрузка данных и преобразование в тип categories категориальных столбцов\n",
        "2. Проверка гипотезы о возможнсоти выделения кластеров в таргете\n",
        "3.  Преобразование таргетов из таблицы feedback_preprocessed.csv в два столбца (в первому отображается вероятнсоть перехода клиента по ссылке, во втором бинарное значение 1/0 т.е. перешёл или не перешёл по ссылке)\n",
        "4.   Првоерка корреляции числовых признаков и статистической значимости их коэффициентов в логистической регрессии\n",
        "5.  Преобразование категориальных данных при помощи OneHotEncoding\n",
        "6.   Проверка гипотезы о возможности отбора признаков с помощью информационного критерия Акайке и проверка данных на сингулярность\n",
        "7.   Отбор признаков при помощи классификационных и регрессионных деревьев (классификационных для бинарного таргета, регрессионных для таргета с вероятностью)\n",
        "8.   Сохранение данных в форме OneHotEncoding для значимых категорий (отобранных на бэггинге деревьев)\n",
        "9.   Понижение размерности данных в форме OneHotEncoding при помощи EncoderDecoder архитектуры на основе полносвязанной нейронной сети.\n",
        "10.   Сохранения обучающих данных в форме эмбеддингов\n",
        "11.   Создание функции, преобразующей входную таблицу с данными в эмбеддинги"
      ]
    },
    {
      "cell_type": "code",
      "execution_count": 2,
      "metadata": {
        "id": "YqYJi38gkTV-"
      },
      "outputs": [],
      "source": [
        "# Загрузим предобработанные файлы\n",
        "feedback = pd.read_csv(r'../preprocessed/feedback_preprocessed.csv')\n",
        "behaviour = pd.read_csv(r'../preprocessed/behaviour_2023_preprocessed.csv')"
      ]
    },
    {
      "cell_type": "code",
      "execution_count": 3,
      "metadata": {
        "colab": {
          "base_uri": "https://localhost:8080/"
        },
        "id": "tnk7WEeYkTV_",
        "outputId": "03e677a4-490c-4aa7-f735-43badf2d3435"
      },
      "outputs": [
        {
          "name": "stdout",
          "output_type": "stream",
          "text": [
            "OKVED\n",
            "0.0         12447\n",
            "469000.0     4064\n",
            "466900.0     1117\n",
            "464900.0     1052\n",
            "453101.0      938\n",
            "            ...  \n",
            "612000.0        1\n",
            "464932.0        1\n",
            "900400.0        1\n",
            "151101.0        1\n",
            "107239.0        1\n",
            "Name: count, Length: 847, dtype: int64\n",
            "UnitTypeCategory\n",
            "2    48293\n",
            "0    12744\n",
            "1     5822\n",
            "Name: count, dtype: int64\n",
            "ActivityArea\n",
            "0.0      28893\n",
            "3.0       2442\n",
            "12.0      1280\n",
            "6.0        834\n",
            "10.0       708\n",
            "         ...  \n",
            "213.0        2\n",
            "208.0        2\n",
            "204.0        2\n",
            "219.0        2\n",
            "220.0        2\n",
            "Name: count, Length: 221, dtype: int64\n",
            "Service\n",
            "0.0     45591\n",
            "3.0      4420\n",
            "2.0      4369\n",
            "4.0      2569\n",
            "5.0      2035\n",
            "7.0      1644\n",
            "9.0      1417\n",
            "6.0      1339\n",
            "10.0      972\n",
            "8.0       704\n",
            "11.0      380\n",
            "14.0      312\n",
            "12.0      187\n",
            "17.0      128\n",
            "15.0      111\n",
            "18.0       96\n",
            "13.0       88\n",
            "19.0       86\n",
            "21.0       71\n",
            "24.0       46\n",
            "25.0       40\n",
            "35.0       38\n",
            "33.0       34\n",
            "47.0       30\n",
            "16.0       24\n",
            "23.0       22\n",
            "27.0       13\n",
            "22.0       11\n",
            "30.0        9\n",
            "32.0        8\n",
            "26.0        7\n",
            "38.0        7\n",
            "46.0        6\n",
            "34.0        6\n",
            "31.0        6\n",
            "28.0        6\n",
            "20.0        5\n",
            "39.0        4\n",
            "36.0        3\n",
            "41.0        3\n",
            "43.0        3\n",
            "45.0        3\n",
            "37.0        2\n",
            "29.0        1\n",
            "40.0        1\n",
            "42.0        1\n",
            "44.0        1\n",
            "Name: count, dtype: int64\n",
            "Support\n",
            "0.0    64754\n",
            "2.0     2105\n",
            "Name: count, dtype: int64\n",
            "TransportationType\n",
            "0.0    31370\n",
            "2.0    16506\n",
            "4.0    16506\n",
            "3.0     2477\n",
            "Name: count, dtype: int64\n",
            "BeginMonth\n",
            "1     12488\n",
            "2      8391\n",
            "3      7599\n",
            "4      7112\n",
            "5      5205\n",
            "6      4468\n",
            "8      4151\n",
            "7      4063\n",
            "10     3562\n",
            "9      3509\n",
            "11     3274\n",
            "12     3037\n",
            "Name: count, dtype: int64\n",
            "EndMonth\n",
            "12    16406\n",
            "11     8931\n",
            "10     7166\n",
            "9      5340\n",
            "8      5031\n",
            "7      4044\n",
            "4      3947\n",
            "6      3671\n",
            "3      3641\n",
            "5      3641\n",
            "2      2712\n",
            "1      2329\n",
            "Name: count, dtype: int64\n",
            "IsHoliday\n",
            "0    66173\n",
            "1      686\n",
            "Name: count, dtype: int64\n",
            "IsWeekend\n",
            "0    66463\n",
            "1      396\n",
            "Name: count, dtype: int64\n"
          ]
        },
        {
          "name": "stderr",
          "output_type": "stream",
          "text": [
            "m:\\venvs\\pec_venv\\lib\\site-packages\\utils\\utils.py:51: FutureWarning: Setting an item of incompatible dtype is deprecated and will raise in a future error of pandas. Value '[467306.0, 467306.0, 467306.0, 467306.0, 467306.0, ..., 0.0, 0.0, 0.0, 0.0, 0.0]\n",
            "Length: 66859\n",
            "Categories (847, float64): [0.0, 10100.0, 11100.0, 11101.0, ..., 960202.0, 960300.0, 960400.0, 960900.0]' has dtype incompatible with float64, please explicitly cast to a compatible dtype first.\n",
            "  behaviour.loc[:, 'OKVED']  = behaviour.loc[:, 'OKVED'].astype(\"category\")\n",
            "m:\\venvs\\pec_venv\\lib\\site-packages\\utils\\utils.py:52: FutureWarning: Setting an item of incompatible dtype is deprecated and will raise in a future error of pandas. Value '[1.0, 2.0, 3.0, 1.0, 2.0, ..., 0.0, 119.0, 10.0, 119.0, 10.0]\n",
            "Length: 66859\n",
            "Categories (221, float64): [0.0, 1.0, 2.0, 3.0, ..., 217.0, 218.0, 219.0, 220.0]' has dtype incompatible with float64, please explicitly cast to a compatible dtype first.\n",
            "  behaviour.loc[:, 'ActivityArea'] = behaviour.loc[:, 'ActivityArea'].astype(\"category\")\n",
            "m:\\venvs\\pec_venv\\lib\\site-packages\\utils\\utils.py:56: FutureWarning: Setting an item of incompatible dtype is deprecated and will raise in a future error of pandas. Value '[0.0, 0.0, 0.0, 0.0, 0.0, ..., 35.0, 0.0, 0.0, 0.0, 0.0]\n",
            "Length: 66859\n",
            "Categories (47, float64): [0.0, 2.0, 3.0, 4.0, ..., 44.0, 45.0, 46.0, 47.0]' has dtype incompatible with float64, please explicitly cast to a compatible dtype first.\n",
            "  behaviour.loc[:, 'Service'] =  behaviour.loc[:,'Service'].map(lambda x: x + 1 if x!=0 else x).astype(\"category\") #Nan это категория 0, остальные категории смещаются на + 1\n",
            "m:\\venvs\\pec_venv\\lib\\site-packages\\utils\\utils.py:57: FutureWarning: Setting an item of incompatible dtype is deprecated and will raise in a future error of pandas. Value '[0.0, 0.0, 0.0, 0.0, 0.0, ..., 0.0, 0.0, 0.0, 0.0, 0.0]\n",
            "Length: 66859\n",
            "Categories (2, float64): [0.0, 2.0]' has dtype incompatible with float64, please explicitly cast to a compatible dtype first.\n",
            "  behaviour.loc[:, 'Support'] =  behaviour.loc[:,'Support'].map(lambda x: x + 1 if x!=0 else x).astype(\"category\") #Nan это категория 0, остальные категории смещаются на + 1\n",
            "m:\\venvs\\pec_venv\\lib\\site-packages\\utils\\utils.py:58: FutureWarning: Setting an item of incompatible dtype is deprecated and will raise in a future error of pandas. Value '[0.0, 0.0, 2.0, 3.0, 3.0, ..., 0.0, 0.0, 2.0, 3.0, 4.0]\n",
            "Length: 66859\n",
            "Categories (4, float64): [0.0, 2.0, 3.0, 4.0]' has dtype incompatible with float64, please explicitly cast to a compatible dtype first.\n",
            "  behaviour.loc[:, 'TransportationType'] =  behaviour.loc[:,'TransportationType'].map(lambda x: x + 1 if x!=0 else x).astype(\"category\") #Nan это категория 0, остальные категории смещаются на + 1\n"
          ]
        }
      ],
      "source": [
        "categorical_columns = ['OKVED', 'UnitTypeCategory', 'ActivityArea', 'Service',\n",
        "                       'Support', 'TransportationType', 'BeginMonth', 'EndMonth',\n",
        "                       'IsHoliday', 'IsWeekend']\n",
        "\n",
        "behaviour = categorize_table(behaviour) # функция преобразует категориальные данные в тип categories\n",
        "#проверяем что в категориальных данных значения различны (в одной колонке не находится только одна категория)\n",
        "for column_name in categorical_columns:\n",
        "    print(behaviour[column_name].value_counts())"
      ]
    },
    {
      "cell_type": "markdown",
      "metadata": {
        "id": "cF5p5JdQkTWB"
      },
      "source": [
        "### Проверяем распределение таргета в таблице feedback"
      ]
    },
    {
      "cell_type": "code",
      "execution_count": 4,
      "metadata": {
        "id": "y3cQpu9ZkTWD",
        "outputId": "79db14a1-7918-4023-ccfc-ae7ed7204d28"
      },
      "outputs": [
        {
          "data": {
            "text/plain": [
              "array([[<Axes: title={'center': 'nClick'}>,\n",
              "        <Axes: title={'center': 'nOpen'}>],\n",
              "       [<Axes: title={'center': 'nSend'}>, <Axes: >]], dtype=object)"
            ]
          },
          "execution_count": 4,
          "metadata": {},
          "output_type": "execute_result"
        },
        {
          "data": {
            "image/png": "[encoded data removed]",
            "text/plain": [
              "<Figure size 640x480 with 4 Axes>"
            ]
          },
          "metadata": {},
          "output_type": "display_data"
        }
      ],
      "source": [
        "feedback.loc[:, 'nClick':'nSend'].hist(bins = 5)"
      ]
    },
    {
      "cell_type": "markdown",
      "metadata": {},
      "source": [
        "# <a id=\"2\">Кластеризация таргета</a>"
      ]
    },
    {
      "cell_type": "markdown",
      "metadata": {
        "id": "hUj6FPrEaAel"
      },
      "source": [
        "### Проверяем гипотезу о том, что 3 колонки таргета можно преобразовать в один признак при помощи кластеризации"
      ]
    },
    {
      "cell_type": "code",
      "execution_count": 5,
      "metadata": {
        "id": "AbKdwn9lkTWE",
        "outputId": "81839c2d-a8e1-48d1-e706-e3e476fa83ad"
      },
      "outputs": [
        {
          "data": {
            "image/png": "[encoded data removed]",
            "text/plain": [
              "<Figure size 1600x1600 with 4 Axes>"
            ]
          },
          "metadata": {},
          "output_type": "display_data"
        }
      ],
      "source": [
        "# Создаем модель KMeans для кластеризации с 2 кластерами\n",
        "cluster_model = KMeans(n_clusters=2)\n",
        "\n",
        "# Создаем фигуру размером 16x16 дюймов\n",
        "fig = plt.figure(figsize=(16, 16))\n",
        "\n",
        "# Название для первого графика\n",
        "title = \"nSend vs. nOpen\"\n",
        "# Создаем 3D subplot для первого графика с заданными параметрами вращения (elev=0, azim=0)\n",
        "ax = fig.add_subplot(1, 4, 1, projection=\"3d\", elev=0, azim=0)\n",
        "# Обучаем модель на данных, используя колонки от 'nClick' до 'nSend'\n",
        "cluster_model.fit(feedback.loc[:, 'nClick':'nSend'].values)\n",
        "# Получаем метки кластеров\n",
        "labels = cluster_model.labels_\n",
        "# Отображаем точки данных в 3D пространстве, используя метки кластеров для цветовой схемы\n",
        "ax.scatter(feedback.iloc[:, 2], feedback.iloc[:, 3], feedback.iloc[:, 4], c=labels, edgecolor=\"k\")\n",
        "# Устанавливаем подписи осей\n",
        "ax.set_xlabel(\"nClick\")\n",
        "ax.set_ylabel(\"nOpen\")\n",
        "ax.set_zlabel(\"nSend\")\n",
        "# Устанавливаем заголовок графика\n",
        "ax.set_title(title)\n",
        "\n",
        "# Название для второго графика\n",
        "title = \"nOpen vs. nClick\"\n",
        "# Создаем 3D subplot для второго графика с другими параметрами вращения (elev=270, azim=270)\n",
        "ax = fig.add_subplot(1, 4, 2, projection=\"3d\", elev=270, azim=270)\n",
        "# Отображаем точки данных в 3D пространстве, используя метки кластеров для цветовой схемы\n",
        "ax.scatter(feedback.iloc[:, 2], feedback.iloc[:, 3], feedback.iloc[:, 4], c=labels, edgecolor=\"k\")\n",
        "# Устанавливаем подписи осей\n",
        "ax.set_xlabel(\"nClick\")\n",
        "ax.set_ylabel(\"nOpen\")\n",
        "ax.set_zlabel(\"nSend\")\n",
        "# Устанавливаем заголовок графика\n",
        "ax.set_title(title)\n",
        "\n",
        "# Название для третьего графика\n",
        "title = \"nClick vs. nSend\"\n",
        "# Создаем 3D subplot для третьего графика с другими параметрами вращения (elev=0, azim=90)\n",
        "ax = fig.add_subplot(1, 4, 3, projection=\"3d\", elev=0, azim=90)\n",
        "# Отображаем точки данных в 3D пространстве, используя метки кластеров для цветовой схемы\n",
        "ax.scatter(feedback.iloc[:, 2], feedback.iloc[:, 3], feedback.iloc[:, 4], c=labels, edgecolor=\"k\")\n",
        "# Устанавливаем подписи осей\n",
        "ax.set_xlabel(\"nClick\")\n",
        "ax.set_ylabel(\"nOpen\")\n",
        "ax.set_zlabel(\"nSend\")\n",
        "# Устанавливаем заголовок графика\n",
        "ax.set_title(title)\n",
        "\n",
        "# Название для четвертого графика\n",
        "title = \"3D\"\n",
        "# Создаем 3D subplot для четвертого графика с другими параметрами вращения (elev=20, azim=60)\n",
        "ax = fig.add_subplot(1, 4, 4, projection=\"3d\", elev=20, azim=60)\n",
        "#cluster_model.fit(feedback.loc[:, 'nClick':'nSend'].values)\n",
        "#labels = cluster_model.labels_\n",
        "# Отображаем точки данных в 3D пространстве, используя метки кластеров для цветовой схемы\n",
        "ax.scatter(feedback.iloc[:, 2], feedback.iloc[:, 3], feedback.iloc[:, 4], c=labels, edgecolor=\"k\")\n",
        "# Устанавливаем подписи осей\n",
        "ax.set_xlabel(\"nClick\")\n",
        "ax.set_ylabel(\"nOpen\")\n",
        "ax.set_zlabel(\"nSend\")\n",
        "# Устанавливаем заголовок графика\n",
        "ax.set_title(title)\n",
        "\n",
        "# Настраиваем расстояние между подграфиками\n",
        "plt.subplots_adjust(wspace=0.25, hspace=0.25)\n",
        "# Отображаем графики\n",
        "plt.show()"
      ]
    },
    {
      "cell_type": "markdown",
      "metadata": {
        "id": "aHOB3J3waHkE"
      },
      "source": [
        "### **Вывод по кластеризации**:\n",
        "Похоже, что кластеризация показывает случайное, бесмысленное разбиние на 2 класса. Визуально выделит кластеры тоже невозможно во всех 3 проекциях графика"
      ]
    },
    {
      "cell_type": "markdown",
      "metadata": {},
      "source": [
        "# <a id=\"3\">Нормирование числовых данных</a>"
      ]
    },
    {
      "cell_type": "markdown",
      "metadata": {
        "id": "I92Yi9HCkTWF"
      },
      "source": [
        "### Проводим нормирование числовых данных и сохраняем scaler для будущего нормирования тестовых данных. Также создаём новый таргет percent_nClick, который означает частоту перехода клиента по ссылке.\n",
        "\n",
        "И выводим некоторые графики по полученной таблице"
      ]
    },
    {
      "cell_type": "code",
      "execution_count": 8,
      "metadata": {
        "colab": {
          "base_uri": "https://localhost:8080/",
          "height": 163
        },
        "id": "1dCHVuzlkTWG",
        "outputId": "c1978a3a-60c8-4095-8556-078e725b8470"
      },
      "outputs": [
        {
          "name": "stderr",
          "output_type": "stream",
          "text": [
            "M:\\Temp\\ipykernel_15848\\825710920.py:11: FutureWarning: Setting an item of incompatible dtype is deprecated and will raise in a future error of pandas. Value '[-0.18150812 -0.18150812 -0.15623725 ... -0.15623725 -0.15623725\n",
            " -0.15623725]' has dtype incompatible with int64, please explicitly cast to a compatible dtype first.\n",
            "  final_df.loc[:, numeric_columns] = scaler.fit_transform(final_df.loc[:, numeric_columns])#(final_df.loc[:, numeric_columns] - final_df.loc[:, numeric_columns].mean())/final_df.loc[:, numeric_columns].std()\n"
          ]
        },
        {
          "data": {
            "text/html": [
              "<div>\n",
              "<style scoped>\n",
              "    .dataframe tbody tr th:only-of-type {\n",
              "        vertical-align: middle;\n",
              "    }\n",
              "\n",
              "    .dataframe tbody tr th {\n",
              "        vertical-align: top;\n",
              "    }\n",
              "\n",
              "    .dataframe thead th {\n",
              "        text-align: right;\n",
              "    }\n",
              "</style>\n",
              "<table border=\"1\" class=\"dataframe\">\n",
              "  <thead>\n",
              "    <tr style=\"text-align: right;\">\n",
              "      <th></th>\n",
              "      <th>OKVED</th>\n",
              "      <th>nCount</th>\n",
              "      <th>Amount</th>\n",
              "      <th>Volume</th>\n",
              "      <th>Weight</th>\n",
              "      <th>UnitTypeCategory</th>\n",
              "      <th>ActivityArea</th>\n",
              "      <th>Service</th>\n",
              "      <th>Support</th>\n",
              "      <th>TransportationType</th>\n",
              "      <th>ResponseDays</th>\n",
              "      <th>BeginMonth</th>\n",
              "      <th>EndMonth</th>\n",
              "      <th>IsHoliday</th>\n",
              "      <th>IsWeekend</th>\n",
              "      <th>percent_nClick</th>\n",
              "    </tr>\n",
              "  </thead>\n",
              "  <tbody>\n",
              "    <tr>\n",
              "      <th>0</th>\n",
              "      <td>467306.0</td>\n",
              "      <td>-0.181508</td>\n",
              "      <td>-0.148895</td>\n",
              "      <td>-0.279925</td>\n",
              "      <td>-0.292518</td>\n",
              "      <td>2</td>\n",
              "      <td>1.0</td>\n",
              "      <td>0.0</td>\n",
              "      <td>0.0</td>\n",
              "      <td>0.0</td>\n",
              "      <td>-0.104964</td>\n",
              "      <td>7</td>\n",
              "      <td>7</td>\n",
              "      <td>0</td>\n",
              "      <td>0</td>\n",
              "      <td>0.0</td>\n",
              "    </tr>\n",
              "    <tr>\n",
              "      <th>1</th>\n",
              "      <td>467306.0</td>\n",
              "      <td>-0.181508</td>\n",
              "      <td>-0.148895</td>\n",
              "      <td>-0.077765</td>\n",
              "      <td>-0.292518</td>\n",
              "      <td>2</td>\n",
              "      <td>2.0</td>\n",
              "      <td>0.0</td>\n",
              "      <td>0.0</td>\n",
              "      <td>0.0</td>\n",
              "      <td>-0.104964</td>\n",
              "      <td>2</td>\n",
              "      <td>2</td>\n",
              "      <td>0</td>\n",
              "      <td>0</td>\n",
              "      <td>0.0</td>\n",
              "    </tr>\n",
              "    <tr>\n",
              "      <th>2</th>\n",
              "      <td>467306.0</td>\n",
              "      <td>-0.156237</td>\n",
              "      <td>-0.148895</td>\n",
              "      <td>-0.178845</td>\n",
              "      <td>-0.292518</td>\n",
              "      <td>2</td>\n",
              "      <td>3.0</td>\n",
              "      <td>0.0</td>\n",
              "      <td>0.0</td>\n",
              "      <td>2.0</td>\n",
              "      <td>-0.104964</td>\n",
              "      <td>2</td>\n",
              "      <td>7</td>\n",
              "      <td>0</td>\n",
              "      <td>0</td>\n",
              "      <td>0.0</td>\n",
              "    </tr>\n",
              "  </tbody>\n",
              "</table>\n",
              "</div>"
            ],
            "text/plain": [
              "      OKVED    nCount    Amount    Volume    Weight  UnitTypeCategory  \\\n",
              "0  467306.0 -0.181508 -0.148895 -0.279925 -0.292518                 2   \n",
              "1  467306.0 -0.181508 -0.148895 -0.077765 -0.292518                 2   \n",
              "2  467306.0 -0.156237 -0.148895 -0.178845 -0.292518                 2   \n",
              "\n",
              "  ActivityArea Service Support TransportationType  ResponseDays BeginMonth  \\\n",
              "0          1.0     0.0     0.0                0.0     -0.104964          7   \n",
              "1          2.0     0.0     0.0                0.0     -0.104964          2   \n",
              "2          3.0     0.0     0.0                2.0     -0.104964          2   \n",
              "\n",
              "  EndMonth IsHoliday IsWeekend  percent_nClick  \n",
              "0        7         0         0             0.0  \n",
              "1        2         0         0             0.0  \n",
              "2        7         0         0             0.0  "
            ]
          },
          "execution_count": 8,
          "metadata": {},
          "output_type": "execute_result"
        }
      ],
      "source": [
        "# Создаем объект StandardScaler для стандартизации числовых данных\n",
        "scaler = StandardScaler()\n",
        "\n",
        "# Определяем список колонок с числовыми данными, которые будем стандартизировать\n",
        "numeric_columns = ['nCount', 'Amount', 'Volume', 'Weight', 'ResponseDays']\n",
        "\n",
        "feedback['percent_nClick'] = round(feedback['nClick']/ feedback.loc[:, 'nClick':'nSend'].sum(axis = 1), 2)\n",
        "final_df = behaviour.merge(feedback.loc[:, ['UID','percent_nClick']], how = 'left', on='UID') #объединяем таблицу признаков и таблицу таргетов\n",
        "final_df = final_df.drop('UID', axis = 1) #этот столбец больше не нужен\n",
        "\n",
        "final_df.loc[:, numeric_columns] = scaler.fit_transform(final_df.loc[:, numeric_columns])#(final_df.loc[:, numeric_columns] - final_df.loc[:, numeric_columns].mean())/final_df.loc[:, numeric_columns].std()\n",
        "final_df.head(3)"
      ]
    },
    {
      "cell_type": "code",
      "execution_count": 9,
      "metadata": {
        "colab": {
          "base_uri": "https://localhost:8080/",
          "height": 449
        },
        "id": "kqGXSn_JbTW8",
        "outputId": "83c77ea7-99d4-478d-ca4c-ac496bbc9a62"
      },
      "outputs": [
        {
          "data": {
            "image/png": "[encoded data removed]",
            "text/plain": [
              "<Figure size 640x480 with 1 Axes>"
            ]
          },
          "metadata": {},
          "output_type": "display_data"
        }
      ],
      "source": [
        "# @title Volume vs Weight\n",
        "final_df.plot(kind='scatter', x='Volume', y='Weight', s=32, alpha=.8)\n",
        "plt.gca().spines[['top', 'right',]].set_visible(False)"
      ]
    },
    {
      "cell_type": "markdown",
      "metadata": {
        "id": "jRRa-nVrbHag"
      },
      "source": [
        "Видна линейная зависимость между весом и объёмов. Удалять эти признаки не будет т.к. есть гипотеза о том, что может существовать их совместное влиение вместе с другими признаками на тергет. Остальные просмотренные соотношения признаков не представляются интересными."
      ]
    },
    {
      "cell_type": "markdown",
      "metadata": {
        "id": "nc2ySVlvbvof"
      },
      "source": [
        "## Сохраняем scaler для использования при нормализации тестовых данных"
      ]
    },
    {
      "cell_type": "code",
      "execution_count": null,
      "metadata": {
        "id": "NXlRIfQnkTWH"
      },
      "outputs": [],
      "source": [
        "with open('scaler.pickle', 'wb') as file:\n",
        "    pickle.dump(scaler, file)"
      ]
    },
    {
      "cell_type": "markdown",
      "metadata": {},
      "source": [
        "# <a id=\"4\">Создание бинарного целевого признака</a>"
      ]
    },
    {
      "cell_type": "markdown",
      "metadata": {
        "id": "niBEtTFIb1eH"
      },
      "source": [
        "### Таргет percent_nClick это частота клиента перехода по ссылке. Её можно бинаризовать и перейти к задаче классификации. Для этого нужно подобрать порог отнесения к 1 или 0 классу. Построим график отнесения наблюдения к 1 или 0 классу в зависимости от подбираемого порога."
      ]
    },
    {
      "cell_type": "code",
      "execution_count": 10,
      "metadata": {
        "id": "ekSS7kmlkTWH",
        "outputId": "c8cf93e2-dfa0-460c-c2ab-c4215bf327d5"
      },
      "outputs": [
        {
          "data": {
            "image/png": "[encoded data removed]",
            "text/plain": [
              "<Figure size 640x480 with 1 Axes>"
            ]
          },
          "metadata": {},
          "output_type": "display_data"
        }
      ],
      "source": [
        "# Инициализируем списки для хранения значений количества классов 1 и порогов\n",
        "ones = []\n",
        "thresh_lst = []\n",
        "\n",
        "# Проходим по порогам от 0 до 1 с шагом 0.05\n",
        "for thresh in np.arange(0, 1, 0.05):\n",
        "    # Бинаризуем значения 'percent_nClick' по текущему порогу\n",
        "    bin_values = final_df['percent_nClick'].map(lambda x: 1 if x > thresh else 0).value_counts()\n",
        "    # Сохраняем количество значений, отнесенных к классу 1\n",
        "    ones.append(bin_values.get(1, 0))  # добавил значение по умолчанию 0, если нет значений класса 1\n",
        "    # Сохраняем текущий порог\n",
        "    thresh_lst.append(thresh)\n",
        "\n",
        "# Строим график зависимости количества классов 1 от порога\n",
        "plt.plot(thresh_lst, ones)\n",
        "# Добавляем метку оси X\n",
        "plt.xlabel(\"Порог отнесения к классу 1\")\n",
        "# Добавляем метку оси Y\n",
        "plt.ylabel(\"Количество таргетов класса 1\")\n",
        "# Добавляем заголовок графика\n",
        "plt.title(\"Количество классов 1 при разных порогах\")\n",
        "# Устанавливаем метки по оси X с шагом 0.07\n",
        "plt.xticks(np.arange(0, 1, 0.07))\n",
        "# Добавляем вертикальную линию при пороге 0.35\n",
        "plt.vlines(ymin=0, ymax=max(ones), x=0.35, linestyles='dashed')\n",
        "# Отображаем график\n",
        "plt.show()"
      ]
    },
    {
      "cell_type": "markdown",
      "metadata": {
        "id": "gCChqtJscI-X"
      },
      "source": [
        "### Похоже, что ключевой точкой является порог в районе 0.35. Его выберем пока что как порог."
      ]
    },
    {
      "cell_type": "code",
      "execution_count": null,
      "metadata": {
        "colab": {
          "base_uri": "https://localhost:8080/",
          "height": 163
        },
        "id": "f44hz8Z1kTWI",
        "outputId": "eb81f097-b287-44f7-9ad2-395156c57e21"
      },
      "outputs": [
        {
          "data": {
            "application/vnd.google.colaboratory.intrinsic+json": {
              "summary": "{\n  \"name\": \"final_df\",\n  \"rows\": 66859,\n  \"fields\": [\n    {\n      \"column\": \"OKVED\",\n      \"properties\": {\n        \"dtype\": \"category\",\n        \"num_unique_values\": 847,\n        \"samples\": [\n          620300.0,\n          475901.0,\n          467307.0\n        ],\n        \"semantic_type\": \"\",\n        \"description\": \"\"\n      }\n    },\n    {\n      \"column\": \"nCount\",\n      \"properties\": {\n        \"dtype\": \"number\",\n        \"std\": 1.000007478508636,\n        \"min\": -0.18150811995183508,\n        \"max\": 60.41804091054422,\n        \"num_unique_values\": 343,\n        \"samples\": [\n          3.1037051302418623,\n          2.3203081244264423,\n          3.179517743707871\n        ],\n        \"semantic_type\": \"\",\n        \"description\": \"\"\n      }\n    },\n    {\n      \"column\": \"Amount\",\n      \"properties\": {\n        \"dtype\": \"number\",\n        \"std\": 1.000007478508636,\n        \"min\": -0.14999971756773717,\n        \"max\": 87.9005799697544,\n        \"num_unique_values\": 18805,\n        \"samples\": [\n          -0.14827860414394134,\n          -0.1499957672720964,\n          -0.1102445499767755\n        ],\n        \"semantic_type\": \"\",\n        \"description\": \"\"\n      }\n    },\n    {\n      \"column\": \"Volume\",\n      \"properties\": {\n        \"dtype\": \"number\",\n        \"std\": 1.0000074785086361,\n        \"min\": -0.35343745966948736,\n        \"max\": 34.05045478513457,\n        \"num_unique_values\": 644,\n        \"samples\": [\n          5.04973792493115,\n          2.84436021693089,\n          6.437288066214647\n        ],\n        \"semantic_type\": \"\",\n        \"description\": \"\"\n      }\n    },\n    {\n      \"column\": \"Weight\",\n      \"properties\": {\n        \"dtype\": \"number\",\n        \"std\": 1.000007478508636,\n        \"min\": -0.30750719333846144,\n        \"max\": 27.055152138882303,\n        \"num_unique_values\": 5148,\n        \"samples\": [\n          -0.13824242724199304,\n          -0.12460231768717468,\n          -0.2882086866881003\n        ],\n        \"semantic_type\": \"\",\n        \"description\": \"\"\n      }\n    },\n    {\n      \"column\": \"UnitTypeCategory\",\n      \"properties\": {\n        \"dtype\": \"category\",\n        \"num_unique_values\": 3,\n        \"samples\": [\n          2,\n          0,\n          1\n        ],\n        \"semantic_type\": \"\",\n        \"description\": \"\"\n      }\n    },\n    {\n      \"column\": \"ActivityArea\",\n      \"properties\": {\n        \"dtype\": \"category\",\n        \"num_unique_values\": 221,\n        \"samples\": [\n          132.0,\n          148.0,\n          93.0\n        ],\n        \"semantic_type\": \"\",\n        \"description\": \"\"\n      }\n    },\n    {\n      \"column\": \"Service\",\n      \"properties\": {\n        \"dtype\": \"category\",\n        \"num_unique_values\": 47,\n        \"samples\": [\n          28.0,\n          40.0,\n          27.0\n        ],\n        \"semantic_type\": \"\",\n        \"description\": \"\"\n      }\n    },\n    {\n      \"column\": \"Support\",\n      \"properties\": {\n        \"dtype\": \"category\",\n        \"num_unique_values\": 2,\n        \"samples\": [\n          2.0,\n          0.0\n        ],\n        \"semantic_type\": \"\",\n        \"description\": \"\"\n      }\n    },\n    {\n      \"column\": \"TransportationType\",\n      \"properties\": {\n        \"dtype\": \"category\",\n        \"num_unique_values\": 4,\n        \"samples\": [\n          2.0,\n          4.0\n        ],\n        \"semantic_type\": \"\",\n        \"description\": \"\"\n      }\n    },\n    {\n      \"column\": \"ResponseDays\",\n      \"properties\": {\n        \"dtype\": \"number\",\n        \"std\": 1.000007478508636,\n        \"min\": -0.10496435137717189,\n        \"max\": 53.27626289798903,\n        \"num_unique_values\": 51,\n        \"samples\": [\n          37.50453666522174,\n          22.33941528756089\n        ],\n        \"semantic_type\": \"\",\n        \"description\": \"\"\n      }\n    },\n    {\n      \"column\": \"BeginMonth\",\n      \"properties\": {\n        \"dtype\": \"category\",\n        \"num_unique_values\": 12,\n        \"samples\": [\n          10,\n          4\n        ],\n        \"semantic_type\": \"\",\n        \"description\": \"\"\n      }\n    },\n    {\n      \"column\": \"EndMonth\",\n      \"properties\": {\n        \"dtype\": \"category\",\n        \"num_unique_values\": 12,\n        \"samples\": [\n          5,\n          4\n        ],\n        \"semantic_type\": \"\",\n        \"description\": \"\"\n      }\n    },\n    {\n      \"column\": \"IsHoliday\",\n      \"properties\": {\n        \"dtype\": \"category\",\n        \"num_unique_values\": 2,\n        \"samples\": [\n          1,\n          0\n        ],\n        \"semantic_type\": \"\",\n        \"description\": \"\"\n      }\n    },\n    {\n      \"column\": \"IsWeekend\",\n      \"properties\": {\n        \"dtype\": \"category\",\n        \"num_unique_values\": 2,\n        \"samples\": [\n          1,\n          0\n        ],\n        \"semantic_type\": \"\",\n        \"description\": \"\"\n      }\n    },\n    {\n      \"column\": \"percent_nClick\",\n      \"properties\": {\n        \"dtype\": \"number\",\n        \"std\": 0.2080997059048816,\n        \"min\": 0.0,\n        \"max\": 1.0,\n        \"num_unique_values\": 16,\n        \"samples\": [\n          0.0,\n          0.5\n        ],\n        \"semantic_type\": \"\",\n        \"description\": \"\"\n      }\n    },\n    {\n      \"column\": \"BinNclick\",\n      \"properties\": {\n        \"dtype\": \"number\",\n        \"std\": 0,\n        \"min\": 0,\n        \"max\": 1,\n        \"num_unique_values\": 2,\n        \"samples\": [\n          1,\n          0\n        ],\n        \"semantic_type\": \"\",\n        \"description\": \"\"\n      }\n    }\n  ]\n}",
              "type": "dataframe",
              "variable_name": "final_df"
            },
            "text/html": [
              "\n",
              "  <div id=\"df-599e1043-75cd-4f13-ba0e-d35275fcd81a\" class=\"colab-df-container\">\n",
              "    <div>\n",
              "<style scoped>\n",
              "    .dataframe tbody tr th:only-of-type {\n",
              "        vertical-align: middle;\n",
              "    }\n",
              "\n",
              "    .dataframe tbody tr th {\n",
              "        vertical-align: top;\n",
              "    }\n",
              "\n",
              "    .dataframe thead th {\n",
              "        text-align: right;\n",
              "    }\n",
              "</style>\n",
              "<table border=\"1\" class=\"dataframe\">\n",
              "  <thead>\n",
              "    <tr style=\"text-align: right;\">\n",
              "      <th></th>\n",
              "      <th>OKVED</th>\n",
              "      <th>nCount</th>\n",
              "      <th>Amount</th>\n",
              "      <th>Volume</th>\n",
              "      <th>Weight</th>\n",
              "      <th>UnitTypeCategory</th>\n",
              "      <th>ActivityArea</th>\n",
              "      <th>Service</th>\n",
              "      <th>Support</th>\n",
              "      <th>TransportationType</th>\n",
              "      <th>ResponseDays</th>\n",
              "      <th>BeginMonth</th>\n",
              "      <th>EndMonth</th>\n",
              "      <th>IsHoliday</th>\n",
              "      <th>IsWeekend</th>\n",
              "      <th>percent_nClick</th>\n",
              "      <th>BinNclick</th>\n",
              "    </tr>\n",
              "  </thead>\n",
              "  <tbody>\n",
              "    <tr>\n",
              "      <th>0</th>\n",
              "      <td>467306.0</td>\n",
              "      <td>-0.181508</td>\n",
              "      <td>-0.148895</td>\n",
              "      <td>-0.279925</td>\n",
              "      <td>-0.292518</td>\n",
              "      <td>2</td>\n",
              "      <td>1.0</td>\n",
              "      <td>0.0</td>\n",
              "      <td>0.0</td>\n",
              "      <td>0.0</td>\n",
              "      <td>-0.104964</td>\n",
              "      <td>7</td>\n",
              "      <td>7</td>\n",
              "      <td>0</td>\n",
              "      <td>0</td>\n",
              "      <td>0.0</td>\n",
              "      <td>0</td>\n",
              "    </tr>\n",
              "    <tr>\n",
              "      <th>1</th>\n",
              "      <td>467306.0</td>\n",
              "      <td>-0.181508</td>\n",
              "      <td>-0.148895</td>\n",
              "      <td>-0.077765</td>\n",
              "      <td>-0.292518</td>\n",
              "      <td>2</td>\n",
              "      <td>2.0</td>\n",
              "      <td>0.0</td>\n",
              "      <td>0.0</td>\n",
              "      <td>0.0</td>\n",
              "      <td>-0.104964</td>\n",
              "      <td>2</td>\n",
              "      <td>2</td>\n",
              "      <td>0</td>\n",
              "      <td>0</td>\n",
              "      <td>0.0</td>\n",
              "      <td>0</td>\n",
              "    </tr>\n",
              "    <tr>\n",
              "      <th>2</th>\n",
              "      <td>467306.0</td>\n",
              "      <td>-0.156237</td>\n",
              "      <td>-0.148895</td>\n",
              "      <td>-0.178845</td>\n",
              "      <td>-0.292518</td>\n",
              "      <td>2</td>\n",
              "      <td>3.0</td>\n",
              "      <td>0.0</td>\n",
              "      <td>0.0</td>\n",
              "      <td>2.0</td>\n",
              "      <td>-0.104964</td>\n",
              "      <td>2</td>\n",
              "      <td>7</td>\n",
              "      <td>0</td>\n",
              "      <td>0</td>\n",
              "      <td>0.0</td>\n",
              "      <td>0</td>\n",
              "    </tr>\n",
              "  </tbody>\n",
              "</table>\n",
              "</div>\n",
              "    <div class=\"colab-df-buttons\">\n",
              "\n",
              "  <div class=\"colab-df-container\">\n",
              "    <button class=\"colab-df-convert\" onclick=\"convertToInteractive('df-599e1043-75cd-4f13-ba0e-d35275fcd81a')\"\n",
              "            title=\"Convert this dataframe to an interactive table.\"\n",
              "            style=\"display:none;\">\n",
              "\n",
              "  <svg xmlns=\"http://www.w3.org/2000/svg\" height=\"24px\" viewBox=\"0 -960 960 960\">\n",
              "    <path d=\"M120-120v-720h720v720H120Zm60-500h600v-160H180v160Zm220 220h160v-160H400v160Zm0 220h160v-160H400v160ZM180-400h160v-160H180v160Zm440 0h160v-160H620v160ZM180-180h160v-160H180v160Zm440 0h160v-160H620v160Z\"/>\n",
              "  </svg>\n",
              "    </button>\n",
              "\n",
              "  <style>\n",
              "    .colab-df-container {\n",
              "      display:flex;\n",
              "      gap: 12px;\n",
              "    }\n",
              "\n",
              "    .colab-df-convert {\n",
              "      background-color: #E8F0FE;\n",
              "      border: none;\n",
              "      border-radius: 50%;\n",
              "      cursor: pointer;\n",
              "      display: none;\n",
              "      fill: #1967D2;\n",
              "      height: 32px;\n",
              "      padding: 0 0 0 0;\n",
              "      width: 32px;\n",
              "    }\n",
              "\n",
              "    .colab-df-convert:hover {\n",
              "      background-color: #E2EBFA;\n",
              "      box-shadow: 0px 1px 2px rgba(60, 64, 67, 0.3), 0px 1px 3px 1px rgba(60, 64, 67, 0.15);\n",
              "      fill: #174EA6;\n",
              "    }\n",
              "\n",
              "    .colab-df-buttons div {\n",
              "      margin-bottom: 4px;\n",
              "    }\n",
              "\n",
              "    [theme=dark] .colab-df-convert {\n",
              "      background-color: #3B4455;\n",
              "      fill: #D2E3FC;\n",
              "    }\n",
              "\n",
              "    [theme=dark] .colab-df-convert:hover {\n",
              "      background-color: #434B5C;\n",
              "      box-shadow: 0px 1px 3px 1px rgba(0, 0, 0, 0.15);\n",
              "      filter: drop-shadow(0px 1px 2px rgba(0, 0, 0, 0.3));\n",
              "      fill: #FFFFFF;\n",
              "    }\n",
              "  </style>\n",
              "\n",
              "    <script>\n",
              "      const buttonEl =\n",
              "        document.querySelector('#df-599e1043-75cd-4f13-ba0e-d35275fcd81a button.colab-df-convert');\n",
              "      buttonEl.style.display =\n",
              "        google.colab.kernel.accessAllowed ? 'block' : 'none';\n",
              "\n",
              "      async function convertToInteractive(key) {\n",
              "        const element = document.querySelector('#df-599e1043-75cd-4f13-ba0e-d35275fcd81a');\n",
              "        const dataTable =\n",
              "          await google.colab.kernel.invokeFunction('convertToInteractive',\n",
              "                                                    [key], {});\n",
              "        if (!dataTable) return;\n",
              "\n",
              "        const docLinkHtml = 'Like what you see? Visit the ' +\n",
              "          '<a target=\"_blank\" href=https://colab.research.google.com/notebooks/data_table.ipynb>data table notebook</a>'\n",
              "          + ' to learn more about interactive tables.';\n",
              "        element.innerHTML = '';\n",
              "        dataTable['output_type'] = 'display_data';\n",
              "        await google.colab.output.renderOutput(dataTable, element);\n",
              "        const docLink = document.createElement('div');\n",
              "        docLink.innerHTML = docLinkHtml;\n",
              "        element.appendChild(docLink);\n",
              "      }\n",
              "    </script>\n",
              "  </div>\n",
              "\n",
              "\n",
              "<div id=\"df-1e47d3aa-f48b-4e1d-a115-ed6aad511bfd\">\n",
              "  <button class=\"colab-df-quickchart\" onclick=\"quickchart('df-1e47d3aa-f48b-4e1d-a115-ed6aad511bfd')\"\n",
              "            title=\"Suggest charts\"\n",
              "            style=\"display:none;\">\n",
              "\n",
              "<svg xmlns=\"http://www.w3.org/2000/svg\" height=\"24px\"viewBox=\"0 0 24 24\"\n",
              "     width=\"24px\">\n",
              "    <g>\n",
              "        <path d=\"M19 3H5c-1.1 0-2 .9-2 2v14c0 1.1.9 2 2 2h14c1.1 0 2-.9 2-2V5c0-1.1-.9-2-2-2zM9 17H7v-7h2v7zm4 0h-2V7h2v10zm4 0h-2v-4h2v4z\"/>\n",
              "    </g>\n",
              "</svg>\n",
              "  </button>\n",
              "\n",
              "<style>\n",
              "  .colab-df-quickchart {\n",
              "      --bg-color: #E8F0FE;\n",
              "      --fill-color: #1967D2;\n",
              "      --hover-bg-color: #E2EBFA;\n",
              "      --hover-fill-color: #174EA6;\n",
              "      --disabled-fill-color: #AAA;\n",
              "      --disabled-bg-color: #DDD;\n",
              "  }\n",
              "\n",
              "  [theme=dark] .colab-df-quickchart {\n",
              "      --bg-color: #3B4455;\n",
              "      --fill-color: #D2E3FC;\n",
              "      --hover-bg-color: #434B5C;\n",
              "      --hover-fill-color: #FFFFFF;\n",
              "      --disabled-bg-color: #3B4455;\n",
              "      --disabled-fill-color: #666;\n",
              "  }\n",
              "\n",
              "  .colab-df-quickchart {\n",
              "    background-color: var(--bg-color);\n",
              "    border: none;\n",
              "    border-radius: 50%;\n",
              "    cursor: pointer;\n",
              "    display: none;\n",
              "    fill: var(--fill-color);\n",
              "    height: 32px;\n",
              "    padding: 0;\n",
              "    width: 32px;\n",
              "  }\n",
              "\n",
              "  .colab-df-quickchart:hover {\n",
              "    background-color: var(--hover-bg-color);\n",
              "    box-shadow: 0 1px 2px rgba(60, 64, 67, 0.3), 0 1px 3px 1px rgba(60, 64, 67, 0.15);\n",
              "    fill: var(--button-hover-fill-color);\n",
              "  }\n",
              "\n",
              "  .colab-df-quickchart-complete:disabled,\n",
              "  .colab-df-quickchart-complete:disabled:hover {\n",
              "    background-color: var(--disabled-bg-color);\n",
              "    fill: var(--disabled-fill-color);\n",
              "    box-shadow: none;\n",
              "  }\n",
              "\n",
              "  .colab-df-spinner {\n",
              "    border: 2px solid var(--fill-color);\n",
              "    border-color: transparent;\n",
              "    border-bottom-color: var(--fill-color);\n",
              "    animation:\n",
              "      spin 1s steps(1) infinite;\n",
              "  }\n",
              "\n",
              "  @keyframes spin {\n",
              "    0% {\n",
              "      border-color: transparent;\n",
              "      border-bottom-color: var(--fill-color);\n",
              "      border-left-color: var(--fill-color);\n",
              "    }\n",
              "    20% {\n",
              "      border-color: transparent;\n",
              "      border-left-color: var(--fill-color);\n",
              "      border-top-color: var(--fill-color);\n",
              "    }\n",
              "    30% {\n",
              "      border-color: transparent;\n",
              "      border-left-color: var(--fill-color);\n",
              "      border-top-color: var(--fill-color);\n",
              "      border-right-color: var(--fill-color);\n",
              "    }\n",
              "    40% {\n",
              "      border-color: transparent;\n",
              "      border-right-color: var(--fill-color);\n",
              "      border-top-color: var(--fill-color);\n",
              "    }\n",
              "    60% {\n",
              "      border-color: transparent;\n",
              "      border-right-color: var(--fill-color);\n",
              "    }\n",
              "    80% {\n",
              "      border-color: transparent;\n",
              "      border-right-color: var(--fill-color);\n",
              "      border-bottom-color: var(--fill-color);\n",
              "    }\n",
              "    90% {\n",
              "      border-color: transparent;\n",
              "      border-bottom-color: var(--fill-color);\n",
              "    }\n",
              "  }\n",
              "</style>\n",
              "\n",
              "  <script>\n",
              "    async function quickchart(key) {\n",
              "      const quickchartButtonEl =\n",
              "        document.querySelector('#' + key + ' button');\n",
              "      quickchartButtonEl.disabled = true;  // To prevent multiple clicks.\n",
              "      quickchartButtonEl.classList.add('colab-df-spinner');\n",
              "      try {\n",
              "        const charts = await google.colab.kernel.invokeFunction(\n",
              "            'suggestCharts', [key], {});\n",
              "      } catch (error) {\n",
              "        console.error('Error during call to suggestCharts:', error);\n",
              "      }\n",
              "      quickchartButtonEl.classList.remove('colab-df-spinner');\n",
              "      quickchartButtonEl.classList.add('colab-df-quickchart-complete');\n",
              "    }\n",
              "    (() => {\n",
              "      let quickchartButtonEl =\n",
              "        document.querySelector('#df-1e47d3aa-f48b-4e1d-a115-ed6aad511bfd button');\n",
              "      quickchartButtonEl.style.display =\n",
              "        google.colab.kernel.accessAllowed ? 'block' : 'none';\n",
              "    })();\n",
              "  </script>\n",
              "</div>\n",
              "    </div>\n",
              "  </div>\n"
            ],
            "text/plain": [
              "      OKVED    nCount    Amount    Volume    Weight UnitTypeCategory  \\\n",
              "0  467306.0 -0.181508 -0.148895 -0.279925 -0.292518                2   \n",
              "1  467306.0 -0.181508 -0.148895 -0.077765 -0.292518                2   \n",
              "2  467306.0 -0.156237 -0.148895 -0.178845 -0.292518                2   \n",
              "\n",
              "  ActivityArea Service Support TransportationType  ResponseDays BeginMonth  \\\n",
              "0          1.0     0.0     0.0                0.0     -0.104964          7   \n",
              "1          2.0     0.0     0.0                0.0     -0.104964          2   \n",
              "2          3.0     0.0     0.0                2.0     -0.104964          2   \n",
              "\n",
              "  EndMonth IsHoliday IsWeekend  percent_nClick  BinNclick  \n",
              "0        7         0         0             0.0          0  \n",
              "1        2         0         0             0.0          0  \n",
              "2        7         0         0             0.0          0  "
            ]
          },
          "execution_count": 249,
          "metadata": {},
          "output_type": "execute_result"
        }
      ],
      "source": [
        "final_df['BinNclick'] = final_df['percent_nClick'].map(lambda x: 1 if x>0.35 else 0)\n",
        "final_df.head(3)"
      ]
    },
    {
      "cell_type": "markdown",
      "metadata": {},
      "source": [
        "# <a id=\"5\">Статистический анализ данных</a>"
      ]
    },
    {
      "cell_type": "markdown",
      "metadata": {
        "id": "9q2ocLgHcZAj"
      },
      "source": [
        "### Теперь перейдём к рассмотрению числовых признаков. Построим матрицу корреляции числовых признаков на обучаюещй выборке"
      ]
    },
    {
      "cell_type": "code",
      "execution_count": null,
      "metadata": {
        "id": "mowh2vItkTWJ",
        "outputId": "a1072397-d6ee-43b4-e897-9fd92043d8d4"
      },
      "outputs": [
        {
          "data": {
            "image/png": "[encoded data removed]",
            "text/plain": [
              "<Figure size 1200x1000 with 2 Axes>"
            ]
          },
          "metadata": {},
          "output_type": "display_data"
        }
      ],
      "source": [
        "# Вычисление корреляции между признаками\n",
        "correlation_matrix = final_df.loc[:, numeric_columns + ['percent_nClick']].corr()\n",
        "\n",
        "# Построение тепловой карты\n",
        "plt.figure(figsize=(12, 10))\n",
        "sns.heatmap(correlation_matrix, annot=True, cmap='coolwarm', fmt=\".2f\")\n",
        "plt.title('Матрица корреляции для числовых признаков')\n",
        "plt.show()"
      ]
    },
    {
      "cell_type": "markdown",
      "metadata": {
        "id": "1G5yCQAcchRV"
      },
      "source": [
        "### Подверждается предположение о линейной зависимости между объёмом и весом. Но есть гипотеза, что эти признаки могут дать совокупный эффект с другими признакми, поэтому пока их оставим. Остльные признаки не коррелируют"
      ]
    },
    {
      "cell_type": "markdown",
      "metadata": {
        "id": "nFI0yhXmc0lW"
      },
      "source": [
        "# Проверка статистической значимости коэффициентов при числовых признаках в модель логистической регрессии"
      ]
    },
    {
      "cell_type": "code",
      "execution_count": null,
      "metadata": {
        "id": "6VtRDnCokTWK",
        "outputId": "4289e390-6418-4726-ab10-fb08cb5622ec"
      },
      "outputs": [
        {
          "name": "stdout",
          "output_type": "stream",
          "text": [
            "Optimization terminated successfully.\n",
            "         Current function value: 0.692275\n",
            "         Iterations 5\n",
            "                           Logit Regression Results                           \n",
            "==============================================================================\n",
            "Dep. Variable:              BinNclick   No. Observations:                66859\n",
            "Model:                          Logit   Df Residuals:                    66855\n",
            "Method:                           MLE   Df Model:                            3\n",
            "Date:                Sat, 18 May 2024   Pseudo R-squ.:                 -0.3410\n",
            "Time:                        17:40:38   Log-Likelihood:                -46285.\n",
            "converged:                       True   LL-Null:                       -34514.\n",
            "Covariance Type:            nonrobust   LLR p-value:                     1.000\n",
            "================================================================================\n",
            "                   coef    std err          z      P>|z|      [0.025      0.975]\n",
            "--------------------------------------------------------------------------------\n",
            "nCount           0.0242      0.008      2.929      0.003       0.008       0.040\n",
            "Amount           0.0688      0.012      5.827      0.000       0.046       0.092\n",
            "Weight           0.0454      0.009      5.115      0.000       0.028       0.063\n",
            "ResponseDays    -0.0075      0.008     -0.967      0.334      -0.023       0.008\n",
            "================================================================================\n",
            "Признаки с низким значением p: Index(['nCount', 'Amount', 'Weight'], dtype='object')\n"
          ]
        }
      ],
      "source": [
        "df_numeric = final_df.loc[:, numeric_columns].drop('Volume', axis  =  1)\n",
        "X, y = df_numeric,   final_df.loc[:, 'BinNclick']\n",
        "\n",
        "# Инициализация логистической регрессии\n",
        "logit_model = sm.Logit(y, X)\n",
        "\n",
        "# Подгонка модели\n",
        "result = logit_model.fit()\n",
        "\n",
        "# Вывод результатов\n",
        "print(result.summary())\n",
        "\n",
        "# Отбор признаков с использованием критерия Акаике\n",
        "selected_features = X.columns[np.where(result.pvalues < 0.05)[0]]\n",
        "print(\"Признаки с низким значением p:\", selected_features)"
      ]
    },
    {
      "cell_type": "markdown",
      "metadata": {
        "id": "wbrmHFnVc9ST"
      },
      "source": [
        " Похоже, что 3 из 4 числовых признаков имеют статистическую значимость"
      ]
    },
    {
      "cell_type": "markdown",
      "metadata": {},
      "source": [
        "# <a id=\"6\">Отбор признаков</a>"
      ]
    },
    {
      "cell_type": "markdown",
      "metadata": {
        "id": "Fk2ovn2hdJKQ"
      },
      "source": [
        "### Проводим OneHotEncoding для категориальных данных"
      ]
    },
    {
      "cell_type": "code",
      "execution_count": null,
      "metadata": {
        "id": "WSLMofj7kTWK"
      },
      "outputs": [],
      "source": [
        "# Создаем таблицу с фиктивными переменными для категориальных колонок\n",
        "# Метод get_dummies() преобразует категориальные данные в бинарные фиктивные переменные (dummy variables)\n",
        "dummie_table = pd.get_dummies(final_df[categorical_columns]).astype(int)\n",
        "\n",
        "# Объединяем числовые колонки и таблицу с фиктивными переменными в один DataFrame\n",
        "# Используем pd.concat() для объединения по горизонтали (axis=1)\n",
        "dummie_table = pd.concat([final_df[numeric_columns], dummie_table], axis=1)"
      ]
    },
    {
      "cell_type": "code",
      "execution_count": null,
      "metadata": {
        "colab": {
          "base_uri": "https://localhost:8080/"
        },
        "id": "Rchq3fCWkTWL",
        "outputId": "9a38632f-29e1-4fa6-fc8a-a203d05344c0"
      },
      "outputs": [
        {
          "data": {
            "text/plain": [
              "1157"
            ]
          },
          "execution_count": 251,
          "metadata": {},
          "output_type": "execute_result"
        }
      ],
      "source": [
        "len(dummie_table.columns) #количество признаков + 2 таргета"
      ]
    },
    {
      "cell_type": "markdown",
      "metadata": {
        "id": "Oyw2dTaxdQmL"
      },
      "source": [
        "всего получилось 1155 признаков"
      ]
    },
    {
      "cell_type": "markdown",
      "metadata": {
        "id": "bfOVE_GPdVK9"
      },
      "source": [
        "### Проверка гипотезы о возможности отбора признаков при помощи информационного критерия Акайке и модели логистической регрессии"
      ]
    },
    {
      "cell_type": "code",
      "execution_count": null,
      "metadata": {
        "id": "aZWcX9OMkTWL",
        "outputId": "843d6fb9-b741-4556-963d-f9a36172d03d"
      },
      "outputs": [
        {
          "name": "stdout",
          "output_type": "stream",
          "text": [
            "Character Variables (Dummies Generated, First Dummies Dropped): []\n"
          ]
        },
        {
          "name": "stderr",
          "output_type": "stream",
          "text": [
            "c:\\Anaconda3\\lib\\site-packages\\statsmodels\\discrete\\discrete_model.py:1810: RuntimeWarning: overflow encountered in exp\n",
            "  return 1/(1+np.exp(-X))\n",
            "c:\\Anaconda3\\lib\\site-packages\\statsmodels\\discrete\\discrete_model.py:1863: RuntimeWarning: divide by zero encountered in log\n",
            "  return np.sum(np.log(self.cdf(q*np.dot(X,params))))\n"
          ]
        },
        {
          "name": "stdout",
          "output_type": "stream",
          "text": [
            "Warning: Maximum number of iterations has been exceeded.\n",
            "         Current function value: inf\n",
            "         Iterations: 35\n",
            "Ошибка: сингулярная матрица\n"
          ]
        }
      ],
      "source": [
        "# Определяем переменную X как таблицу с фиктивными переменными и числовыми данными\n",
        "X = dummie_table\n",
        "\n",
        "# Определяем целевую переменную y как колонку 'BinNclick' из исходного DataFrame\n",
        "y = final_df['BinNclick']\n",
        "\n",
        "# Пытаемся выполнить обратный отбор признаков (backward selection) с использованием логистической регрессии\n",
        "try:\n",
        "    final_vars, iterations_logs = ss.backwardSelection(X, y, model_type=\"logistic\")\n",
        "# Обрабатываем исключение в случае возникновения ошибки, например, из-за сингулярной матрицы\n",
        "except BaseException:\n",
        "    print('Ошибка: сингулярная матрица')"
      ]
    },
    {
      "cell_type": "markdown",
      "metadata": {
        "id": "aXbsmJtRdcCl"
      },
      "source": [
        "Вывод: модель выдала ошибку о сингулярности матрицы. Значит данные взаимозависимы. Это неудивительно, учитывая большое количество бинарных признаков, которые завиясят друг от друга. Такая модель не подходит, надо искать другой способ отбора признаков"
      ]
    },
    {
      "cell_type": "markdown",
      "metadata": {
        "id": "4n2ZL6U6drcJ"
      },
      "source": [
        "### Отбор признаков при помощи Деревье решений. Поскольку есть 2 таргета (бинарный и вещественный) можно построить деревья классификации и регрессии и отобрать признаки по их важности"
      ]
    },
    {
      "cell_type": "code",
      "execution_count": null,
      "metadata": {
        "id": "l50rbMbhkTWM"
      },
      "outputs": [],
      "source": [
        "# Определяем переменную X как таблицу с фиктивными переменными и числовыми данными\n",
        "X = dummie_table\n",
        "\n",
        "# Определяем целевую переменную y как колонку 'BinNclick' из исходного DataFrame\n",
        "y = final_df['BinNclick']\n",
        "\n",
        "# Определяем вероятностную целевую переменную y_prob как колонку 'percent_nClick' из исходного DataFrame\n",
        "y_prob = final_df['percent_nClick']"
      ]
    },
    {
      "cell_type": "code",
      "execution_count": null,
      "metadata": {
        "colab": {
          "base_uri": "https://localhost:8080/",
          "height": 75
        },
        "id": "EQXSaw8ykTWM",
        "outputId": "fc9f66db-cc34-45aa-93d5-09f0f7339348"
      },
      "outputs": [
        {
          "data": {
            "text/html": [
              "<style>#sk-container-id-1 {color: black;background-color: white;}#sk-container-id-1 pre{padding: 0;}#sk-container-id-1 div.sk-toggleable {background-color: white;}#sk-container-id-1 label.sk-toggleable__label {cursor: pointer;display: block;width: 100%;margin-bottom: 0;padding: 0.3em;box-sizing: border-box;text-align: center;}#sk-container-id-1 label.sk-toggleable__label-arrow:before {content: \"▸\";float: left;margin-right: 0.25em;color: #696969;}#sk-container-id-1 label.sk-toggleable__label-arrow:hover:before {color: black;}#sk-container-id-1 div.sk-estimator:hover label.sk-toggleable__label-arrow:before {color: black;}#sk-container-id-1 div.sk-toggleable__content {max-height: 0;max-width: 0;overflow: hidden;text-align: left;background-color: #f0f8ff;}#sk-container-id-1 div.sk-toggleable__content pre {margin: 0.2em;color: black;border-radius: 0.25em;background-color: #f0f8ff;}#sk-container-id-1 input.sk-toggleable__control:checked~div.sk-toggleable__content {max-height: 200px;max-width: 100%;overflow: auto;}#sk-container-id-1 input.sk-toggleable__control:checked~label.sk-toggleable__label-arrow:before {content: \"▾\";}#sk-container-id-1 div.sk-estimator input.sk-toggleable__control:checked~label.sk-toggleable__label {background-color: #d4ebff;}#sk-container-id-1 div.sk-label input.sk-toggleable__control:checked~label.sk-toggleable__label {background-color: #d4ebff;}#sk-container-id-1 input.sk-hidden--visually {border: 0;clip: rect(1px 1px 1px 1px);clip: rect(1px, 1px, 1px, 1px);height: 1px;margin: -1px;overflow: hidden;padding: 0;position: absolute;width: 1px;}#sk-container-id-1 div.sk-estimator {font-family: monospace;background-color: #f0f8ff;border: 1px dotted black;border-radius: 0.25em;box-sizing: border-box;margin-bottom: 0.5em;}#sk-container-id-1 div.sk-estimator:hover {background-color: #d4ebff;}#sk-container-id-1 div.sk-parallel-item::after {content: \"\";width: 100%;border-bottom: 1px solid gray;flex-grow: 1;}#sk-container-id-1 div.sk-label:hover label.sk-toggleable__label {background-color: #d4ebff;}#sk-container-id-1 div.sk-serial::before {content: \"\";position: absolute;border-left: 1px solid gray;box-sizing: border-box;top: 0;bottom: 0;left: 50%;z-index: 0;}#sk-container-id-1 div.sk-serial {display: flex;flex-direction: column;align-items: center;background-color: white;padding-right: 0.2em;padding-left: 0.2em;position: relative;}#sk-container-id-1 div.sk-item {position: relative;z-index: 1;}#sk-container-id-1 div.sk-parallel {display: flex;align-items: stretch;justify-content: center;background-color: white;position: relative;}#sk-container-id-1 div.sk-item::before, #sk-container-id-1 div.sk-parallel-item::before {content: \"\";position: absolute;border-left: 1px solid gray;box-sizing: border-box;top: 0;bottom: 0;left: 50%;z-index: -1;}#sk-container-id-1 div.sk-parallel-item {display: flex;flex-direction: column;z-index: 1;position: relative;background-color: white;}#sk-container-id-1 div.sk-parallel-item:first-child::after {align-self: flex-end;width: 50%;}#sk-container-id-1 div.sk-parallel-item:last-child::after {align-self: flex-start;width: 50%;}#sk-container-id-1 div.sk-parallel-item:only-child::after {width: 0;}#sk-container-id-1 div.sk-dashed-wrapped {border: 1px dashed gray;margin: 0 0.4em 0.5em 0.4em;box-sizing: border-box;padding-bottom: 0.4em;background-color: white;}#sk-container-id-1 div.sk-label label {font-family: monospace;font-weight: bold;display: inline-block;line-height: 1.2em;}#sk-container-id-1 div.sk-label-container {text-align: center;}#sk-container-id-1 div.sk-container {/* jupyter's `normalize.less` sets `[hidden] { display: none; }` but bootstrap.min.css set `[hidden] { display: none !important; }` so we also need the `!important` here to be able to override the default hidden behavior on the sphinx rendered scikit-learn.org. See: https://github.com/scikit-learn/scikit-learn/issues/21755 */display: inline-block !important;position: relative;}#sk-container-id-1 div.sk-text-repr-fallback {display: none;}</style><div id=\"sk-container-id-1\" class=\"sk-top-container\"><div class=\"sk-text-repr-fallback\"><pre>RandomForestClassifier(n_estimators=30, random_state=42)</pre><b>In a Jupyter environment, please rerun this cell to show the HTML representation or trust the notebook. <br />On GitHub, the HTML representation is unable to render, please try loading this page with nbviewer.org.</b></div><div class=\"sk-container\" hidden><div class=\"sk-item\"><div class=\"sk-estimator sk-toggleable\"><input class=\"sk-toggleable__control sk-hidden--visually\" id=\"sk-estimator-id-1\" type=\"checkbox\" checked><label for=\"sk-estimator-id-1\" class=\"sk-toggleable__label sk-toggleable__label-arrow\">RandomForestClassifier</label><div class=\"sk-toggleable__content\"><pre>RandomForestClassifier(n_estimators=30, random_state=42)</pre></div></div></div></div></div>"
            ],
            "text/plain": [
              "RandomForestClassifier(n_estimators=30, random_state=42)"
            ]
          },
          "execution_count": 120,
          "metadata": {},
          "output_type": "execute_result"
        }
      ],
      "source": [
        "# Разделяем датасет на обучающую и тестовую выборки\n",
        "X_train, X_test, y_train, y_test = train_test_split(X, y, test_size=0.2, random_state=42)\n",
        "\n",
        "# Создаем модель случайного леса с 30 деревьями и фиксированным значением random_state для воспроизводимости результатов\n",
        "clf = RandomForestClassifier(n_estimators=30, random_state=42)\n",
        "\n",
        "# Обучаем модель на обучающей выборке\n",
        "clf.fit(X_train, y_train)"
      ]
    },
    {
      "cell_type": "code",
      "execution_count": null,
      "metadata": {
        "colab": {
          "base_uri": "https://localhost:8080/",
          "height": 75
        },
        "id": "otIXM4BfkTWN",
        "outputId": "f96eff10-f2b2-4280-9b13-6575ac604200"
      },
      "outputs": [
        {
          "data": {
            "text/html": [
              "<style>#sk-container-id-2 {color: black;background-color: white;}#sk-container-id-2 pre{padding: 0;}#sk-container-id-2 div.sk-toggleable {background-color: white;}#sk-container-id-2 label.sk-toggleable__label {cursor: pointer;display: block;width: 100%;margin-bottom: 0;padding: 0.3em;box-sizing: border-box;text-align: center;}#sk-container-id-2 label.sk-toggleable__label-arrow:before {content: \"▸\";float: left;margin-right: 0.25em;color: #696969;}#sk-container-id-2 label.sk-toggleable__label-arrow:hover:before {color: black;}#sk-container-id-2 div.sk-estimator:hover label.sk-toggleable__label-arrow:before {color: black;}#sk-container-id-2 div.sk-toggleable__content {max-height: 0;max-width: 0;overflow: hidden;text-align: left;background-color: #f0f8ff;}#sk-container-id-2 div.sk-toggleable__content pre {margin: 0.2em;color: black;border-radius: 0.25em;background-color: #f0f8ff;}#sk-container-id-2 input.sk-toggleable__control:checked~div.sk-toggleable__content {max-height: 200px;max-width: 100%;overflow: auto;}#sk-container-id-2 input.sk-toggleable__control:checked~label.sk-toggleable__label-arrow:before {content: \"▾\";}#sk-container-id-2 div.sk-estimator input.sk-toggleable__control:checked~label.sk-toggleable__label {background-color: #d4ebff;}#sk-container-id-2 div.sk-label input.sk-toggleable__control:checked~label.sk-toggleable__label {background-color: #d4ebff;}#sk-container-id-2 input.sk-hidden--visually {border: 0;clip: rect(1px 1px 1px 1px);clip: rect(1px, 1px, 1px, 1px);height: 1px;margin: -1px;overflow: hidden;padding: 0;position: absolute;width: 1px;}#sk-container-id-2 div.sk-estimator {font-family: monospace;background-color: #f0f8ff;border: 1px dotted black;border-radius: 0.25em;box-sizing: border-box;margin-bottom: 0.5em;}#sk-container-id-2 div.sk-estimator:hover {background-color: #d4ebff;}#sk-container-id-2 div.sk-parallel-item::after {content: \"\";width: 100%;border-bottom: 1px solid gray;flex-grow: 1;}#sk-container-id-2 div.sk-label:hover label.sk-toggleable__label {background-color: #d4ebff;}#sk-container-id-2 div.sk-serial::before {content: \"\";position: absolute;border-left: 1px solid gray;box-sizing: border-box;top: 0;bottom: 0;left: 50%;z-index: 0;}#sk-container-id-2 div.sk-serial {display: flex;flex-direction: column;align-items: center;background-color: white;padding-right: 0.2em;padding-left: 0.2em;position: relative;}#sk-container-id-2 div.sk-item {position: relative;z-index: 1;}#sk-container-id-2 div.sk-parallel {display: flex;align-items: stretch;justify-content: center;background-color: white;position: relative;}#sk-container-id-2 div.sk-item::before, #sk-container-id-2 div.sk-parallel-item::before {content: \"\";position: absolute;border-left: 1px solid gray;box-sizing: border-box;top: 0;bottom: 0;left: 50%;z-index: -1;}#sk-container-id-2 div.sk-parallel-item {display: flex;flex-direction: column;z-index: 1;position: relative;background-color: white;}#sk-container-id-2 div.sk-parallel-item:first-child::after {align-self: flex-end;width: 50%;}#sk-container-id-2 div.sk-parallel-item:last-child::after {align-self: flex-start;width: 50%;}#sk-container-id-2 div.sk-parallel-item:only-child::after {width: 0;}#sk-container-id-2 div.sk-dashed-wrapped {border: 1px dashed gray;margin: 0 0.4em 0.5em 0.4em;box-sizing: border-box;padding-bottom: 0.4em;background-color: white;}#sk-container-id-2 div.sk-label label {font-family: monospace;font-weight: bold;display: inline-block;line-height: 1.2em;}#sk-container-id-2 div.sk-label-container {text-align: center;}#sk-container-id-2 div.sk-container {/* jupyter's `normalize.less` sets `[hidden] { display: none; }` but bootstrap.min.css set `[hidden] { display: none !important; }` so we also need the `!important` here to be able to override the default hidden behavior on the sphinx rendered scikit-learn.org. See: https://github.com/scikit-learn/scikit-learn/issues/21755 */display: inline-block !important;position: relative;}#sk-container-id-2 div.sk-text-repr-fallback {display: none;}</style><div id=\"sk-container-id-2\" class=\"sk-top-container\"><div class=\"sk-text-repr-fallback\"><pre>RandomForestRegressor(n_estimators=30, random_state=42)</pre><b>In a Jupyter environment, please rerun this cell to show the HTML representation or trust the notebook. <br />On GitHub, the HTML representation is unable to render, please try loading this page with nbviewer.org.</b></div><div class=\"sk-container\" hidden><div class=\"sk-item\"><div class=\"sk-estimator sk-toggleable\"><input class=\"sk-toggleable__control sk-hidden--visually\" id=\"sk-estimator-id-2\" type=\"checkbox\" checked><label for=\"sk-estimator-id-2\" class=\"sk-toggleable__label sk-toggleable__label-arrow\">RandomForestRegressor</label><div class=\"sk-toggleable__content\"><pre>RandomForestRegressor(n_estimators=30, random_state=42)</pre></div></div></div></div></div>"
            ],
            "text/plain": [
              "RandomForestRegressor(n_estimators=30, random_state=42)"
            ]
          },
          "execution_count": 121,
          "metadata": {},
          "output_type": "execute_result"
        }
      ],
      "source": [
        "# Создаем модель случайного леса для регрессии с 30 деревьями и фиксированным значением random_state для воспроизводимости результатов\n",
        "reg = RandomForestRegressor(n_estimators=30, random_state=42)\n",
        "\n",
        "# Обучаем модель на обучающей выборке\n",
        "reg.fit(X_train, y_train)"
      ]
    },
    {
      "cell_type": "code",
      "execution_count": null,
      "metadata": {
        "colab": {
          "base_uri": "https://localhost:8080/"
        },
        "id": "h8BV7oeUkTWN",
        "outputId": "34144e3c-d7d2-41f1-b310-e5c48f0afe3a"
      },
      "outputs": [
        {
          "name": "stdout",
          "output_type": "stream",
          "text": [
            "Тоность классификатора: 0.9015106192043075\n",
            "MAE регрессора: 0.11765247383674166\n"
          ]
        }
      ],
      "source": [
        "print('Тоность классификатора:', accuracy_score(clf.predict(X_test), y_test))\n",
        "print('MAE регрессора:', mean_absolute_error(reg.predict(X_test), y_test))"
      ]
    },
    {
      "cell_type": "markdown",
      "metadata": {
        "id": "5zqEdG6Id2ap"
      },
      "source": [
        "Вывод: деревья показали неплохие метрики, поэтому можно положиться на них в вопросе отбора признаков."
      ]
    },
    {
      "cell_type": "markdown",
      "metadata": {
        "id": "fgl8uWvQeJM3"
      },
      "source": [
        "### На основе информационного критерия Джини смотрим важность признаков для деревьев классификации и регрессии\n"
      ]
    },
    {
      "cell_type": "code",
      "execution_count": null,
      "metadata": {
        "colab": {
          "base_uri": "https://localhost:8080/"
        },
        "id": "3DpmNBsakTWN",
        "outputId": "8445e85c-68bf-4f27-cb05-5a8f03337c1e"
      },
      "outputs": [
        {
          "name": "stdout",
          "output_type": "stream",
          "text": [
            "             Feature  Gini Importance\n",
            "1             Amount         0.098374\n",
            "0             nCount         0.055245\n",
            "3             Weight         0.054565\n",
            "2             Volume         0.048150\n",
            "101   OKVED_139909.0         0.014382\n",
            "...              ...              ...\n",
            "310   OKVED_353000.0         0.000000\n",
            "1119    Service_44.0         0.000000\n",
            "747   OKVED_712003.0         0.000000\n",
            "66    OKVED_107239.0         0.000000\n",
            "736   OKVED_711101.0         0.000000\n",
            "\n",
            "[1157 rows x 2 columns]\n",
            "            Feature  Gini Importance\n",
            "1            Amount         0.124517\n",
            "3            Weight         0.072030\n",
            "0            nCount         0.053425\n",
            "2            Volume         0.049043\n",
            "101  OKVED_139909.0         0.015305\n",
            "..              ...              ...\n",
            "636  OKVED_521000.0         0.000000\n",
            "637  OKVED_521003.0         0.000000\n",
            "638  OKVED_521009.0         0.000000\n",
            "641  OKVED_521101.0         0.000000\n",
            "578  OKVED_477201.0         0.000000\n",
            "\n",
            "[1157 rows x 2 columns]\n"
          ]
        }
      ],
      "source": [
        "# Встроенная важность признаков (Gini Importance) для классификатора\n",
        "importances = clf.feature_importances_\n",
        "\n",
        "# Создаем DataFrame для отображения важности признаков\n",
        "feature_imp_df_cl = pd.DataFrame({'Feature': dummie_table.columns.to_list(), 'Gini Importance': importances}).sort_values('Gini Importance', ascending=False)\n",
        "\n",
        "# Выводим DataFrame с важностью признаков для классификатора\n",
        "print(feature_imp_df_cl)\n",
        "\n",
        "# Встроенная важность признаков (Gini Importance) для регрессора\n",
        "importances = reg.feature_importances_\n",
        "\n",
        "# Создаем DataFrame для отображения важности признаков\n",
        "feature_imp_df_reg = pd.DataFrame({'Feature': dummie_table.columns.to_list(), 'Gini Importance': importances}).sort_values('Gini Importance', ascending=False)\n",
        "\n",
        "# Выводим DataFrame с важностью признаков для регрессора\n",
        "print(feature_imp_df_reg)"
      ]
    },
    {
      "cell_type": "markdown",
      "metadata": {
        "id": "F8Br-OIzeLo5"
      },
      "source": [
        "### График важности признаков (первые 20 признаков по важности)"
      ]
    },
    {
      "cell_type": "code",
      "execution_count": null,
      "metadata": {
        "colab": {
          "base_uri": "https://localhost:8080/",
          "height": 1000
        },
        "id": "DQ6KLPHpkTWO",
        "outputId": "bfda5101-46ca-41a3-b2e9-f664e7e03730"
      },
      "outputs": [
        {
          "data": {
            "image/png": "[encoded data removed]",
            "text/plain": [
              "<Figure size 1200x1600 with 2 Axes>"
            ]
          },
          "metadata": {},
          "output_type": "display_data"
        }
      ],
      "source": [
        "# Создадим графики для отображения признаков по важности\n",
        "fig = plt.figure(figsize=(12, 16))\n",
        "ax = fig.add_subplot(1, 2, 1)\n",
        "ax.barh(feature_imp_df_cl['Feature'][:20], feature_imp_df_cl['Gini Importance'][:20], color='skyblue')\n",
        "#ax.xlabel('Gini Importance')\n",
        "plt.title('Feature Importance RandomForest Classifier')\n",
        "fig.gca().invert_yaxis()  # Invert y-axis for better visualization\n",
        "\n",
        "\n",
        "ax = fig.add_subplot(1, 2, 2)\n",
        "ax.barh(feature_imp_df_reg['Feature'][:20], feature_imp_df_reg['Gini Importance'][:20], color='skyblue')\n",
        "#ax.xlabel('Gini Importance')\n",
        "plt.title('Feature Importance RandomForest Regressor')\n",
        "plt.gca().invert_yaxis()  # Invert y-axis for better visualization\n",
        "plt.show()"
      ]
    },
    {
      "cell_type": "markdown",
      "metadata": {
        "id": "tTwEuYzxeQWB"
      },
      "source": [
        "можно отобрать признаки, важность которых больше некоторого порога и сохранить соответсвующую таблицу."
      ]
    },
    {
      "cell_type": "code",
      "execution_count": null,
      "metadata": {
        "colab": {
          "base_uri": "https://localhost:8080/"
        },
        "id": "sG10Emy8kTWO",
        "outputId": "f356f57c-31e7-4559-babc-10012be1ab6f"
      },
      "outputs": [
        {
          "name": "stdout",
          "output_type": "stream",
          "text": [
            "Количество признаков 198\n"
          ]
        }
      ],
      "source": [
        "# Отбираем признаки с важностью (Gini Importance) больше 0.001\n",
        "important_features = feature_imp_df_cl[feature_imp_df_cl['Gini Importance'] > 0.001]['Feature']\n",
        "\n",
        "# Выводим количество отобранных важных признаков\n",
        "print(f'Количество признаков {len(important_features)}')"
      ]
    },
    {
      "cell_type": "code",
      "execution_count": null,
      "metadata": {
        "id": "Ccf5aKzAkTWP"
      },
      "outputs": [],
      "source": [
        "# Создаем новый DataFrame, содержащий только важные признаки, а также целевые переменные 'BinNclick' и 'percent_nClick'\n",
        "selected_data = pd.concat([dummie_table[important_features], final_df['BinNclick'], final_df['percent_nClick']], axis=1)\n",
        "\n",
        "# Сохраняем полученный DataFrame в CSV файл\n",
        "selected_data.to_csv(r'raw_selected_data.csv')"
      ]
    },
    {
      "cell_type": "markdown",
      "metadata": {
        "id": "h2fb-806eqNt"
      },
      "source": [
        "### В итоге получилось 198 признаков.  2 последние колонки это таргеты:\n",
        "*   BinNclick - 1 если клиент классифицируется как часто переходящий по ссылке, 0 наооборот\n",
        "*   percent_nClick - частота перехода клиента по ссылке"
      ]
    },
    {
      "cell_type": "code",
      "execution_count": null,
      "metadata": {
        "colab": {
          "base_uri": "https://localhost:8080/",
          "height": 256
        },
        "id": "E7RwGCt5vRrW",
        "outputId": "627848be-63ef-4e0a-d55e-642b75c6cd1d"
      },
      "outputs": [
        {
          "data": {
            "application/vnd.google.colaboratory.intrinsic+json": {
              "type": "dataframe",
              "variable_name": "selected_data"
            },
            "text/html": [
              "\n",
              "  <div id=\"df-93bdb7ce-3aab-4ac4-848c-cdc7faba4386\" class=\"colab-df-container\">\n",
              "    <div>\n",
              "<style scoped>\n",
              "    .dataframe tbody tr th:only-of-type {\n",
              "        vertical-align: middle;\n",
              "    }\n",
              "\n",
              "    .dataframe tbody tr th {\n",
              "        vertical-align: top;\n",
              "    }\n",
              "\n",
              "    .dataframe thead th {\n",
              "        text-align: right;\n",
              "    }\n",
              "</style>\n",
              "<table border=\"1\" class=\"dataframe\">\n",
              "  <thead>\n",
              "    <tr style=\"text-align: right;\">\n",
              "      <th></th>\n",
              "      <th>Amount</th>\n",
              "      <th>nCount</th>\n",
              "      <th>Weight</th>\n",
              "      <th>Volume</th>\n",
              "      <th>OKVED_139909.0</th>\n",
              "      <th>OKVED_0.0</th>\n",
              "      <th>BeginMonth_1</th>\n",
              "      <th>OKVED_461409.0</th>\n",
              "      <th>EndMonth_12</th>\n",
              "      <th>UnitTypeCategory_2</th>\n",
              "      <th>...</th>\n",
              "      <th>OKVED_281300.0</th>\n",
              "      <th>OKVED_471100.0</th>\n",
              "      <th>ActivityArea_1.0</th>\n",
              "      <th>OKVED_472900.0</th>\n",
              "      <th>ActivityArea_75.0</th>\n",
              "      <th>OKVED_464400.0</th>\n",
              "      <th>ActivityArea_131.0</th>\n",
              "      <th>OKVED_422202.0</th>\n",
              "      <th>BinNclick</th>\n",
              "      <th>percent_nClick</th>\n",
              "    </tr>\n",
              "  </thead>\n",
              "  <tbody>\n",
              "    <tr>\n",
              "      <th>0</th>\n",
              "      <td>-0.148895</td>\n",
              "      <td>-0.181508</td>\n",
              "      <td>-0.292518</td>\n",
              "      <td>-0.279925</td>\n",
              "      <td>0</td>\n",
              "      <td>0</td>\n",
              "      <td>0</td>\n",
              "      <td>0</td>\n",
              "      <td>0</td>\n",
              "      <td>1</td>\n",
              "      <td>...</td>\n",
              "      <td>0</td>\n",
              "      <td>0</td>\n",
              "      <td>1</td>\n",
              "      <td>0</td>\n",
              "      <td>0</td>\n",
              "      <td>0</td>\n",
              "      <td>0</td>\n",
              "      <td>0</td>\n",
              "      <td>0</td>\n",
              "      <td>0.0</td>\n",
              "    </tr>\n",
              "    <tr>\n",
              "      <th>1</th>\n",
              "      <td>-0.148895</td>\n",
              "      <td>-0.181508</td>\n",
              "      <td>-0.292518</td>\n",
              "      <td>-0.077765</td>\n",
              "      <td>0</td>\n",
              "      <td>0</td>\n",
              "      <td>0</td>\n",
              "      <td>0</td>\n",
              "      <td>0</td>\n",
              "      <td>1</td>\n",
              "      <td>...</td>\n",
              "      <td>0</td>\n",
              "      <td>0</td>\n",
              "      <td>0</td>\n",
              "      <td>0</td>\n",
              "      <td>0</td>\n",
              "      <td>0</td>\n",
              "      <td>0</td>\n",
              "      <td>0</td>\n",
              "      <td>0</td>\n",
              "      <td>0.0</td>\n",
              "    </tr>\n",
              "    <tr>\n",
              "      <th>2</th>\n",
              "      <td>-0.148895</td>\n",
              "      <td>-0.156237</td>\n",
              "      <td>-0.292518</td>\n",
              "      <td>-0.178845</td>\n",
              "      <td>0</td>\n",
              "      <td>0</td>\n",
              "      <td>0</td>\n",
              "      <td>0</td>\n",
              "      <td>0</td>\n",
              "      <td>1</td>\n",
              "      <td>...</td>\n",
              "      <td>0</td>\n",
              "      <td>0</td>\n",
              "      <td>0</td>\n",
              "      <td>0</td>\n",
              "      <td>0</td>\n",
              "      <td>0</td>\n",
              "      <td>0</td>\n",
              "      <td>0</td>\n",
              "      <td>0</td>\n",
              "      <td>0.0</td>\n",
              "    </tr>\n",
              "    <tr>\n",
              "      <th>3</th>\n",
              "      <td>-0.148895</td>\n",
              "      <td>-0.181508</td>\n",
              "      <td>-0.292518</td>\n",
              "      <td>-0.279925</td>\n",
              "      <td>0</td>\n",
              "      <td>0</td>\n",
              "      <td>0</td>\n",
              "      <td>0</td>\n",
              "      <td>0</td>\n",
              "      <td>1</td>\n",
              "      <td>...</td>\n",
              "      <td>0</td>\n",
              "      <td>0</td>\n",
              "      <td>1</td>\n",
              "      <td>0</td>\n",
              "      <td>0</td>\n",
              "      <td>0</td>\n",
              "      <td>0</td>\n",
              "      <td>0</td>\n",
              "      <td>0</td>\n",
              "      <td>0.0</td>\n",
              "    </tr>\n",
              "    <tr>\n",
              "      <th>4</th>\n",
              "      <td>-0.148895</td>\n",
              "      <td>-0.181508</td>\n",
              "      <td>-0.292518</td>\n",
              "      <td>-0.077765</td>\n",
              "      <td>0</td>\n",
              "      <td>0</td>\n",
              "      <td>0</td>\n",
              "      <td>0</td>\n",
              "      <td>0</td>\n",
              "      <td>1</td>\n",
              "      <td>...</td>\n",
              "      <td>0</td>\n",
              "      <td>0</td>\n",
              "      <td>0</td>\n",
              "      <td>0</td>\n",
              "      <td>0</td>\n",
              "      <td>0</td>\n",
              "      <td>0</td>\n",
              "      <td>0</td>\n",
              "      <td>0</td>\n",
              "      <td>0.0</td>\n",
              "    </tr>\n",
              "  </tbody>\n",
              "</table>\n",
              "<p>5 rows × 200 columns</p>\n",
              "</div>\n",
              "    <div class=\"colab-df-buttons\">\n",
              "\n",
              "  <div class=\"colab-df-container\">\n",
              "    <button class=\"colab-df-convert\" onclick=\"convertToInteractive('df-93bdb7ce-3aab-4ac4-848c-cdc7faba4386')\"\n",
              "            title=\"Convert this dataframe to an interactive table.\"\n",
              "            style=\"display:none;\">\n",
              "\n",
              "  <svg xmlns=\"http://www.w3.org/2000/svg\" height=\"24px\" viewBox=\"0 -960 960 960\">\n",
              "    <path d=\"M120-120v-720h720v720H120Zm60-500h600v-160H180v160Zm220 220h160v-160H400v160Zm0 220h160v-160H400v160ZM180-400h160v-160H180v160Zm440 0h160v-160H620v160ZM180-180h160v-160H180v160Zm440 0h160v-160H620v160Z\"/>\n",
              "  </svg>\n",
              "    </button>\n",
              "\n",
              "  <style>\n",
              "    .colab-df-container {\n",
              "      display:flex;\n",
              "      gap: 12px;\n",
              "    }\n",
              "\n",
              "    .colab-df-convert {\n",
              "      background-color: #E8F0FE;\n",
              "      border: none;\n",
              "      border-radius: 50%;\n",
              "      cursor: pointer;\n",
              "      display: none;\n",
              "      fill: #1967D2;\n",
              "      height: 32px;\n",
              "      padding: 0 0 0 0;\n",
              "      width: 32px;\n",
              "    }\n",
              "\n",
              "    .colab-df-convert:hover {\n",
              "      background-color: #E2EBFA;\n",
              "      box-shadow: 0px 1px 2px rgba(60, 64, 67, 0.3), 0px 1px 3px 1px rgba(60, 64, 67, 0.15);\n",
              "      fill: #174EA6;\n",
              "    }\n",
              "\n",
              "    .colab-df-buttons div {\n",
              "      margin-bottom: 4px;\n",
              "    }\n",
              "\n",
              "    [theme=dark] .colab-df-convert {\n",
              "      background-color: #3B4455;\n",
              "      fill: #D2E3FC;\n",
              "    }\n",
              "\n",
              "    [theme=dark] .colab-df-convert:hover {\n",
              "      background-color: #434B5C;\n",
              "      box-shadow: 0px 1px 3px 1px rgba(0, 0, 0, 0.15);\n",
              "      filter: drop-shadow(0px 1px 2px rgba(0, 0, 0, 0.3));\n",
              "      fill: #FFFFFF;\n",
              "    }\n",
              "  </style>\n",
              "\n",
              "    <script>\n",
              "      const buttonEl =\n",
              "        document.querySelector('#df-93bdb7ce-3aab-4ac4-848c-cdc7faba4386 button.colab-df-convert');\n",
              "      buttonEl.style.display =\n",
              "        google.colab.kernel.accessAllowed ? 'block' : 'none';\n",
              "\n",
              "      async function convertToInteractive(key) {\n",
              "        const element = document.querySelector('#df-93bdb7ce-3aab-4ac4-848c-cdc7faba4386');\n",
              "        const dataTable =\n",
              "          await google.colab.kernel.invokeFunction('convertToInteractive',\n",
              "                                                    [key], {});\n",
              "        if (!dataTable) return;\n",
              "\n",
              "        const docLinkHtml = 'Like what you see? Visit the ' +\n",
              "          '<a target=\"_blank\" href=https://colab.research.google.com/notebooks/data_table.ipynb>data table notebook</a>'\n",
              "          + ' to learn more about interactive tables.';\n",
              "        element.innerHTML = '';\n",
              "        dataTable['output_type'] = 'display_data';\n",
              "        await google.colab.output.renderOutput(dataTable, element);\n",
              "        const docLink = document.createElement('div');\n",
              "        docLink.innerHTML = docLinkHtml;\n",
              "        element.appendChild(docLink);\n",
              "      }\n",
              "    </script>\n",
              "  </div>\n",
              "\n",
              "\n",
              "<div id=\"df-c4f6a9fd-0ef1-403c-8bd8-d77b4902d269\">\n",
              "  <button class=\"colab-df-quickchart\" onclick=\"quickchart('df-c4f6a9fd-0ef1-403c-8bd8-d77b4902d269')\"\n",
              "            title=\"Suggest charts\"\n",
              "            style=\"display:none;\">\n",
              "\n",
              "<svg xmlns=\"http://www.w3.org/2000/svg\" height=\"24px\"viewBox=\"0 0 24 24\"\n",
              "     width=\"24px\">\n",
              "    <g>\n",
              "        <path d=\"M19 3H5c-1.1 0-2 .9-2 2v14c0 1.1.9 2 2 2h14c1.1 0 2-.9 2-2V5c0-1.1-.9-2-2-2zM9 17H7v-7h2v7zm4 0h-2V7h2v10zm4 0h-2v-4h2v4z\"/>\n",
              "    </g>\n",
              "</svg>\n",
              "  </button>\n",
              "\n",
              "<style>\n",
              "  .colab-df-quickchart {\n",
              "      --bg-color: #E8F0FE;\n",
              "      --fill-color: #1967D2;\n",
              "      --hover-bg-color: #E2EBFA;\n",
              "      --hover-fill-color: #174EA6;\n",
              "      --disabled-fill-color: #AAA;\n",
              "      --disabled-bg-color: #DDD;\n",
              "  }\n",
              "\n",
              "  [theme=dark] .colab-df-quickchart {\n",
              "      --bg-color: #3B4455;\n",
              "      --fill-color: #D2E3FC;\n",
              "      --hover-bg-color: #434B5C;\n",
              "      --hover-fill-color: #FFFFFF;\n",
              "      --disabled-bg-color: #3B4455;\n",
              "      --disabled-fill-color: #666;\n",
              "  }\n",
              "\n",
              "  .colab-df-quickchart {\n",
              "    background-color: var(--bg-color);\n",
              "    border: none;\n",
              "    border-radius: 50%;\n",
              "    cursor: pointer;\n",
              "    display: none;\n",
              "    fill: var(--fill-color);\n",
              "    height: 32px;\n",
              "    padding: 0;\n",
              "    width: 32px;\n",
              "  }\n",
              "\n",
              "  .colab-df-quickchart:hover {\n",
              "    background-color: var(--hover-bg-color);\n",
              "    box-shadow: 0 1px 2px rgba(60, 64, 67, 0.3), 0 1px 3px 1px rgba(60, 64, 67, 0.15);\n",
              "    fill: var(--button-hover-fill-color);\n",
              "  }\n",
              "\n",
              "  .colab-df-quickchart-complete:disabled,\n",
              "  .colab-df-quickchart-complete:disabled:hover {\n",
              "    background-color: var(--disabled-bg-color);\n",
              "    fill: var(--disabled-fill-color);\n",
              "    box-shadow: none;\n",
              "  }\n",
              "\n",
              "  .colab-df-spinner {\n",
              "    border: 2px solid var(--fill-color);\n",
              "    border-color: transparent;\n",
              "    border-bottom-color: var(--fill-color);\n",
              "    animation:\n",
              "      spin 1s steps(1) infinite;\n",
              "  }\n",
              "\n",
              "  @keyframes spin {\n",
              "    0% {\n",
              "      border-color: transparent;\n",
              "      border-bottom-color: var(--fill-color);\n",
              "      border-left-color: var(--fill-color);\n",
              "    }\n",
              "    20% {\n",
              "      border-color: transparent;\n",
              "      border-left-color: var(--fill-color);\n",
              "      border-top-color: var(--fill-color);\n",
              "    }\n",
              "    30% {\n",
              "      border-color: transparent;\n",
              "      border-left-color: var(--fill-color);\n",
              "      border-top-color: var(--fill-color);\n",
              "      border-right-color: var(--fill-color);\n",
              "    }\n",
              "    40% {\n",
              "      border-color: transparent;\n",
              "      border-right-color: var(--fill-color);\n",
              "      border-top-color: var(--fill-color);\n",
              "    }\n",
              "    60% {\n",
              "      border-color: transparent;\n",
              "      border-right-color: var(--fill-color);\n",
              "    }\n",
              "    80% {\n",
              "      border-color: transparent;\n",
              "      border-right-color: var(--fill-color);\n",
              "      border-bottom-color: var(--fill-color);\n",
              "    }\n",
              "    90% {\n",
              "      border-color: transparent;\n",
              "      border-bottom-color: var(--fill-color);\n",
              "    }\n",
              "  }\n",
              "</style>\n",
              "\n",
              "  <script>\n",
              "    async function quickchart(key) {\n",
              "      const quickchartButtonEl =\n",
              "        document.querySelector('#' + key + ' button');\n",
              "      quickchartButtonEl.disabled = true;  // To prevent multiple clicks.\n",
              "      quickchartButtonEl.classList.add('colab-df-spinner');\n",
              "      try {\n",
              "        const charts = await google.colab.kernel.invokeFunction(\n",
              "            'suggestCharts', [key], {});\n",
              "      } catch (error) {\n",
              "        console.error('Error during call to suggestCharts:', error);\n",
              "      }\n",
              "      quickchartButtonEl.classList.remove('colab-df-spinner');\n",
              "      quickchartButtonEl.classList.add('colab-df-quickchart-complete');\n",
              "    }\n",
              "    (() => {\n",
              "      let quickchartButtonEl =\n",
              "        document.querySelector('#df-c4f6a9fd-0ef1-403c-8bd8-d77b4902d269 button');\n",
              "      quickchartButtonEl.style.display =\n",
              "        google.colab.kernel.accessAllowed ? 'block' : 'none';\n",
              "    })();\n",
              "  </script>\n",
              "</div>\n",
              "    </div>\n",
              "  </div>\n"
            ],
            "text/plain": [
              "     Amount    nCount    Weight    Volume  OKVED_139909.0  OKVED_0.0  \\\n",
              "0 -0.148895 -0.181508 -0.292518 -0.279925               0          0   \n",
              "1 -0.148895 -0.181508 -0.292518 -0.077765               0          0   \n",
              "2 -0.148895 -0.156237 -0.292518 -0.178845               0          0   \n",
              "3 -0.148895 -0.181508 -0.292518 -0.279925               0          0   \n",
              "4 -0.148895 -0.181508 -0.292518 -0.077765               0          0   \n",
              "\n",
              "   BeginMonth_1  OKVED_461409.0  EndMonth_12  UnitTypeCategory_2  ...  \\\n",
              "0             0               0            0                   1  ...   \n",
              "1             0               0            0                   1  ...   \n",
              "2             0               0            0                   1  ...   \n",
              "3             0               0            0                   1  ...   \n",
              "4             0               0            0                   1  ...   \n",
              "\n",
              "   OKVED_281300.0  OKVED_471100.0  ActivityArea_1.0  OKVED_472900.0  \\\n",
              "0               0               0                 1               0   \n",
              "1               0               0                 0               0   \n",
              "2               0               0                 0               0   \n",
              "3               0               0                 1               0   \n",
              "4               0               0                 0               0   \n",
              "\n",
              "   ActivityArea_75.0  OKVED_464400.0  ActivityArea_131.0  OKVED_422202.0  \\\n",
              "0                  0               0                   0               0   \n",
              "1                  0               0                   0               0   \n",
              "2                  0               0                   0               0   \n",
              "3                  0               0                   0               0   \n",
              "4                  0               0                   0               0   \n",
              "\n",
              "   BinNclick  percent_nClick  \n",
              "0          0             0.0  \n",
              "1          0             0.0  \n",
              "2          0             0.0  \n",
              "3          0             0.0  \n",
              "4          0             0.0  \n",
              "\n",
              "[5 rows x 200 columns]"
            ]
          },
          "execution_count": 254,
          "metadata": {},
          "output_type": "execute_result"
        }
      ],
      "source": [
        "selected_data.head()"
      ]
    },
    {
      "cell_type": "markdown",
      "metadata": {
        "id": "zlt2NfoFkTWP"
      },
      "source": [
        "# <a id=\"7\">Создание эмбединга признаков</a>"
      ]
    },
    {
      "cell_type": "markdown",
      "metadata": {
        "id": "5Ik4J2d-fBjr"
      },
      "source": [
        "Для создания эмбеддинга будем использовать простые Encoder и Decoder, которые напсианы в utils.py. Из выборке удаляем колонки IsHoliday_0 и IsWeekend_0, потому что они представляются собй полную противополоджность колонок IsHoliday_1 и IsWeekend_1, поэтому бесмысленны."
      ]
    },
    {
      "cell_type": "code",
      "execution_count": null,
      "metadata": {
        "id": "iH_ugE5VkTWP"
      },
      "outputs": [],
      "source": [
        "# Разделяем данные на обучающую и тестовую выборки, удаляя колонки 'IsHoliday_0' и 'IsWeekend_0', так как они противоположны колонкам 'IsHoliday_1' и 'IsWeekend_1'\n",
        "X_train, X_test, y_train, y_test = train_test_split(\n",
        "    dummie_table.drop(['IsHoliday_0', 'IsWeekend_0'], axis=1),  # Удаляем ненужные колонки\n",
        "    final_df['percent_nClick'],  # Целевая переменная\n",
        "    test_size=0.05,  # 5% данных используем для тестирования\n",
        "    random_state=42  # Фиксируем random_state для воспроизводимости\n",
        ")\n",
        "\n",
        "# Создаем TensorDataset для обучающей выборки\n",
        "dataset = TensorDataset(torch.tensor(X_train.values), torch.tensor(y_train.values))\n",
        "# Создаем DataLoader для обучающей выборки с batch_size 64 и перемешиванием данных\n",
        "train_DataLoader = DataLoader(dataset, batch_size=64, shuffle=True)\n",
        "\n",
        "# Создаем TensorDataset для тестовой выборки\n",
        "dataset = TensorDataset(torch.tensor(X_test.values), torch.tensor(y_test.values))\n",
        "# Создаем DataLoader для тестовой выборки с batch_size 64 без перемешивания данных\n",
        "test_DataLoader = DataLoader(dataset, batch_size=64, shuffle=False)"
      ]
    },
    {
      "cell_type": "code",
      "execution_count": null,
      "metadata": {
        "colab": {
          "base_uri": "https://localhost:8080/"
        },
        "id": "iwwozG0FkTWQ",
        "outputId": "e2c3911b-8a56-42be-a7a5-6f5111e6ae72"
      },
      "outputs": [
        {
          "name": "stderr",
          "output_type": "stream",
          "text": [
            "Эпохи: 100%|██████████| 6/6 [02:47<00:00, 27.86s/it]\n"
          ]
        }
      ],
      "source": [
        "# Инициализация модели\n",
        "hidden_state = 64\n",
        "num_features = np.shape(X_train)[1]\n",
        "encoder = Encoder(num_input_features= num_features, num_output_features = hidden_state)\n",
        "decoder = Decoder(num_input_features=hidden_state, num_output_features=num_features)\n",
        "\n",
        "# Определение функции потерь и оптимизатора\n",
        "criterion = nn.MSELoss()\n",
        "optimizer = optim.Adam(list(encoder.parameters()) + list(decoder.parameters()), lr=0.0005)\n",
        "epoch_train_loss, epoch_test_loss = [], []\n",
        "# Обучение модели\n",
        "for epoch in tqdm.tqdm(range(6), 'Эпохи'):\n",
        "    encoder.train()\n",
        "    decoder.train()\n",
        "    train_loss, test_loss  = [], []\n",
        "    for batch in train_DataLoader:\n",
        "        x = batch[0]\n",
        "        optimizer.zero_grad()\n",
        "        encoded = encoder(x.float())\n",
        "        decoded = decoder(encoded)\n",
        "        loss = criterion(decoded, x.float())\n",
        "        train_loss.append(loss.item())\n",
        "        loss.backward()\n",
        "        optimizer.step()\n",
        "    encoder.eval()\n",
        "    decoder.eval()\n",
        "    for batch in test_DataLoader:\n",
        "        x = batch[0]\n",
        "        with torch.no_grad():\n",
        "            encoded = encoder(x.float())\n",
        "            decoded = decoder(encoded)\n",
        "        loss = criterion(decoded, x.float())\n",
        "        test_loss.append(loss.item())\n",
        "    epoch_train_loss.append(np.mean(train_loss))\n",
        "    epoch_test_loss.append(np.mean(test_loss))"
      ]
    },
    {
      "cell_type": "code",
      "execution_count": null,
      "metadata": {
        "colab": {
          "base_uri": "https://localhost:8080/",
          "height": 465
        },
        "id": "rnZf1om4kTWQ",
        "outputId": "1370ed33-7e2f-4a7d-d3ed-e5cb66437cfb"
      },
      "outputs": [
        {
          "data": {
            "image/png": "[encoded data removed]",
            "text/plain": [
              "<Figure size 1000x500 with 1 Axes>"
            ]
          },
          "metadata": {},
          "output_type": "display_data"
        }
      ],
      "source": [
        "# Создаем фигуру с размерами 10 на 5 дюймов\n",
        "fig = plt.figure(figsize=(10, 5))\n",
        "\n",
        "# Строим график потерь на тренировке\n",
        "plt.plot(epoch_train_loss, label='Train losses')\n",
        "\n",
        "# Строим график потерь на тестировании\n",
        "plt.plot(epoch_test_loss, label='Test losses')\n",
        "\n",
        "# Добавляем легенду\n",
        "plt.legend()\n",
        "\n",
        "# Называем оси\n",
        "plt.xlabel('Epochs')\n",
        "plt.ylabel('Loss values')\n",
        "\n",
        "# Показываем график\n",
        "plt.show()"
      ]
    },
    {
      "cell_type": "markdown",
      "metadata": {
        "id": "_hmgh2cSfWg0"
      },
      "source": [
        "Потери у сети снижаются, значит он восстанавливает данные из скрытого представления. Значит скрытое представление размерности 64 отражает суть данных. Такое векторное представление таблицы можно использовать как признаки. Иными словами, пусть сеть сама решает какие признаки стоит использовать, а какие нет и в какой степени."
      ]
    },
    {
      "cell_type": "code",
      "execution_count": null,
      "metadata": {
        "id": "MW6CS8r-kTWR"
      },
      "outputs": [],
      "source": [
        "torch.save(encoder, 'encoder_model.pt') #сохраняем модель"
      ]
    },
    {
      "cell_type": "code",
      "execution_count": null,
      "metadata": {
        "id": "ih-ur4gokTWS"
      },
      "outputs": [],
      "source": [
        "# Сохраняем dummie_table как таблицу из эмбеддингов\n",
        "# Загружаем предобученную модель Encoder\n",
        "model = torch.load(r'utils/encoder_model.pt')\n",
        "model.eval()  # Переводим модель в режим оценки\n",
        "\n",
        "# Создаем TensorDataset из dummie_table без последних двух колонок и целевых переменных\n",
        "dataset = TensorDataset(\n",
        "    torch.tensor(dummie_table.iloc[:, :-2].values),  # Входные данные для эмбеддинга\n",
        "    torch.tensor(final_df[['percent_nClick', 'BinNclick']].values)  # Целевые переменные\n",
        ")\n",
        "\n",
        "# Создаем DataLoader для всего набора данных с batch_size 32 без перемешивания\n",
        "all_dataloader = DataLoader(dataset, batch_size=32, shuffle=False)\n",
        "\n",
        "# Инициализируем списки для хранения эмбеддингов и меток\n",
        "all_vectors, all_labels = [], []\n",
        "\n",
        "# Проходим по батчам данных в DataLoader\n",
        "for batch in all_dataloader:\n",
        "    x = batch[0]  # Входные данные\n",
        "    y = batch[1].detach().numpy()  # Целевые переменные\n",
        "    embedding = model(x.float())  # Получаем эмбеддинги из модели\n",
        "    all_vectors.append(embedding.detach().numpy())  # Сохраняем эмбеддинги\n",
        "    all_labels.append(y)  # Сохраняем метки\n",
        "\n",
        "# Создаем DataFrame из эмбеддингов\n",
        "embedding_df = pd.DataFrame(\n",
        "    np.concatenate(all_vectors), \n",
        "    columns=[f'feature_{i}' for i in range(hidden_state)]  # Названия колонок для эмбеддингов\n",
        ")\n",
        "\n",
        "# Создаем DataFrame из меток\n",
        "labels_df = pd.DataFrame(\n",
        "    np.concatenate(all_labels), \n",
        "    columns=['percent_nClick', 'BinNclick']  # Названия колонок для меток\n",
        ")\n",
        "\n",
        "# Объединяем эмбеддинги и метки в один DataFrame\n",
        "final_embedding_df = pd.concat([embedding_df, labels_df], axis=1)"
      ]
    },
    {
      "cell_type": "markdown",
      "metadata": {
        "id": "N3l6XszrfuWU"
      },
      "source": [
        "Таблица преобразованная в эмбеддинги выглядит так:"
      ]
    },
    {
      "cell_type": "code",
      "execution_count": null,
      "metadata": {
        "colab": {
          "base_uri": "https://localhost:8080/",
          "height": 256
        },
        "id": "0sOEtHZG7j9b",
        "outputId": "12e8ef71-12b0-48ce-f41c-a24934655ef0"
      },
      "outputs": [
        {
          "data": {
            "application/vnd.google.colaboratory.intrinsic+json": {
              "type": "dataframe",
              "variable_name": "final_embedding_df"
            },
            "text/html": [
              "\n",
              "  <div id=\"df-21b5f99c-2b28-4757-b9f2-6123747359fe\" class=\"colab-df-container\">\n",
              "    <div>\n",
              "<style scoped>\n",
              "    .dataframe tbody tr th:only-of-type {\n",
              "        vertical-align: middle;\n",
              "    }\n",
              "\n",
              "    .dataframe tbody tr th {\n",
              "        vertical-align: top;\n",
              "    }\n",
              "\n",
              "    .dataframe thead th {\n",
              "        text-align: right;\n",
              "    }\n",
              "</style>\n",
              "<table border=\"1\" class=\"dataframe\">\n",
              "  <thead>\n",
              "    <tr style=\"text-align: right;\">\n",
              "      <th></th>\n",
              "      <th>feature_0</th>\n",
              "      <th>feature_1</th>\n",
              "      <th>feature_2</th>\n",
              "      <th>feature_3</th>\n",
              "      <th>feature_4</th>\n",
              "      <th>feature_5</th>\n",
              "      <th>feature_6</th>\n",
              "      <th>feature_7</th>\n",
              "      <th>feature_8</th>\n",
              "      <th>feature_9</th>\n",
              "      <th>...</th>\n",
              "      <th>feature_56</th>\n",
              "      <th>feature_57</th>\n",
              "      <th>feature_58</th>\n",
              "      <th>feature_59</th>\n",
              "      <th>feature_60</th>\n",
              "      <th>feature_61</th>\n",
              "      <th>feature_62</th>\n",
              "      <th>feature_63</th>\n",
              "      <th>percent_nClick</th>\n",
              "      <th>BinNclick</th>\n",
              "    </tr>\n",
              "  </thead>\n",
              "  <tbody>\n",
              "    <tr>\n",
              "      <th>0</th>\n",
              "      <td>-0.331746</td>\n",
              "      <td>-3.457138</td>\n",
              "      <td>0.125102</td>\n",
              "      <td>1.021463</td>\n",
              "      <td>2.472393</td>\n",
              "      <td>2.566365</td>\n",
              "      <td>1.332137</td>\n",
              "      <td>2.003790</td>\n",
              "      <td>1.629643</td>\n",
              "      <td>1.988239</td>\n",
              "      <td>...</td>\n",
              "      <td>-3.085047</td>\n",
              "      <td>-0.224229</td>\n",
              "      <td>0.271834</td>\n",
              "      <td>1.150964</td>\n",
              "      <td>-0.437560</td>\n",
              "      <td>2.302062</td>\n",
              "      <td>0.724630</td>\n",
              "      <td>2.088537</td>\n",
              "      <td>0.0</td>\n",
              "      <td>0.0</td>\n",
              "    </tr>\n",
              "    <tr>\n",
              "      <th>1</th>\n",
              "      <td>-0.760387</td>\n",
              "      <td>-2.433104</td>\n",
              "      <td>2.148351</td>\n",
              "      <td>2.141187</td>\n",
              "      <td>1.686539</td>\n",
              "      <td>1.412063</td>\n",
              "      <td>3.730581</td>\n",
              "      <td>1.293363</td>\n",
              "      <td>0.712259</td>\n",
              "      <td>1.832634</td>\n",
              "      <td>...</td>\n",
              "      <td>-3.748603</td>\n",
              "      <td>0.207825</td>\n",
              "      <td>0.666451</td>\n",
              "      <td>2.040472</td>\n",
              "      <td>-1.574180</td>\n",
              "      <td>2.136939</td>\n",
              "      <td>-0.291978</td>\n",
              "      <td>-0.196457</td>\n",
              "      <td>0.0</td>\n",
              "      <td>0.0</td>\n",
              "    </tr>\n",
              "    <tr>\n",
              "      <th>2</th>\n",
              "      <td>-1.273467</td>\n",
              "      <td>0.056620</td>\n",
              "      <td>1.844341</td>\n",
              "      <td>0.993846</td>\n",
              "      <td>0.568709</td>\n",
              "      <td>3.994567</td>\n",
              "      <td>3.033117</td>\n",
              "      <td>-0.178665</td>\n",
              "      <td>-0.666688</td>\n",
              "      <td>-0.546674</td>\n",
              "      <td>...</td>\n",
              "      <td>0.782387</td>\n",
              "      <td>-5.887007</td>\n",
              "      <td>-1.785824</td>\n",
              "      <td>-3.722951</td>\n",
              "      <td>-5.684657</td>\n",
              "      <td>1.169104</td>\n",
              "      <td>-1.951936</td>\n",
              "      <td>-2.048238</td>\n",
              "      <td>0.0</td>\n",
              "      <td>0.0</td>\n",
              "    </tr>\n",
              "    <tr>\n",
              "      <th>3</th>\n",
              "      <td>-0.235222</td>\n",
              "      <td>-1.081148</td>\n",
              "      <td>0.286984</td>\n",
              "      <td>0.808517</td>\n",
              "      <td>1.195306</td>\n",
              "      <td>3.188333</td>\n",
              "      <td>1.210665</td>\n",
              "      <td>2.051494</td>\n",
              "      <td>0.862255</td>\n",
              "      <td>2.662023</td>\n",
              "      <td>...</td>\n",
              "      <td>-0.113559</td>\n",
              "      <td>-2.164554</td>\n",
              "      <td>0.407967</td>\n",
              "      <td>-0.552224</td>\n",
              "      <td>-1.559123</td>\n",
              "      <td>1.198165</td>\n",
              "      <td>-0.345436</td>\n",
              "      <td>2.045499</td>\n",
              "      <td>0.0</td>\n",
              "      <td>0.0</td>\n",
              "    </tr>\n",
              "    <tr>\n",
              "      <th>4</th>\n",
              "      <td>-0.834875</td>\n",
              "      <td>0.038956</td>\n",
              "      <td>2.473953</td>\n",
              "      <td>1.657729</td>\n",
              "      <td>0.030935</td>\n",
              "      <td>1.591627</td>\n",
              "      <td>3.866596</td>\n",
              "      <td>1.418826</td>\n",
              "      <td>-0.297197</td>\n",
              "      <td>2.170367</td>\n",
              "      <td>...</td>\n",
              "      <td>-0.805988</td>\n",
              "      <td>-1.887454</td>\n",
              "      <td>0.055080</td>\n",
              "      <td>0.089022</td>\n",
              "      <td>-2.977000</td>\n",
              "      <td>0.637381</td>\n",
              "      <td>-1.487314</td>\n",
              "      <td>-0.554593</td>\n",
              "      <td>0.0</td>\n",
              "      <td>0.0</td>\n",
              "    </tr>\n",
              "  </tbody>\n",
              "</table>\n",
              "<p>5 rows × 66 columns</p>\n",
              "</div>\n",
              "    <div class=\"colab-df-buttons\">\n",
              "\n",
              "  <div class=\"colab-df-container\">\n",
              "    <button class=\"colab-df-convert\" onclick=\"convertToInteractive('df-21b5f99c-2b28-4757-b9f2-6123747359fe')\"\n",
              "            title=\"Convert this dataframe to an interactive table.\"\n",
              "            style=\"display:none;\">\n",
              "\n",
              "  <svg xmlns=\"http://www.w3.org/2000/svg\" height=\"24px\" viewBox=\"0 -960 960 960\">\n",
              "    <path d=\"M120-120v-720h720v720H120Zm60-500h600v-160H180v160Zm220 220h160v-160H400v160Zm0 220h160v-160H400v160ZM180-400h160v-160H180v160Zm440 0h160v-160H620v160ZM180-180h160v-160H180v160Zm440 0h160v-160H620v160Z\"/>\n",
              "  </svg>\n",
              "    </button>\n",
              "\n",
              "  <style>\n",
              "    .colab-df-container {\n",
              "      display:flex;\n",
              "      gap: 12px;\n",
              "    }\n",
              "\n",
              "    .colab-df-convert {\n",
              "      background-color: #E8F0FE;\n",
              "      border: none;\n",
              "      border-radius: 50%;\n",
              "      cursor: pointer;\n",
              "      display: none;\n",
              "      fill: #1967D2;\n",
              "      height: 32px;\n",
              "      padding: 0 0 0 0;\n",
              "      width: 32px;\n",
              "    }\n",
              "\n",
              "    .colab-df-convert:hover {\n",
              "      background-color: #E2EBFA;\n",
              "      box-shadow: 0px 1px 2px rgba(60, 64, 67, 0.3), 0px 1px 3px 1px rgba(60, 64, 67, 0.15);\n",
              "      fill: #174EA6;\n",
              "    }\n",
              "\n",
              "    .colab-df-buttons div {\n",
              "      margin-bottom: 4px;\n",
              "    }\n",
              "\n",
              "    [theme=dark] .colab-df-convert {\n",
              "      background-color: #3B4455;\n",
              "      fill: #D2E3FC;\n",
              "    }\n",
              "\n",
              "    [theme=dark] .colab-df-convert:hover {\n",
              "      background-color: #434B5C;\n",
              "      box-shadow: 0px 1px 3px 1px rgba(0, 0, 0, 0.15);\n",
              "      filter: drop-shadow(0px 1px 2px rgba(0, 0, 0, 0.3));\n",
              "      fill: #FFFFFF;\n",
              "    }\n",
              "  </style>\n",
              "\n",
              "    <script>\n",
              "      const buttonEl =\n",
              "        document.querySelector('#df-21b5f99c-2b28-4757-b9f2-6123747359fe button.colab-df-convert');\n",
              "      buttonEl.style.display =\n",
              "        google.colab.kernel.accessAllowed ? 'block' : 'none';\n",
              "\n",
              "      async function convertToInteractive(key) {\n",
              "        const element = document.querySelector('#df-21b5f99c-2b28-4757-b9f2-6123747359fe');\n",
              "        const dataTable =\n",
              "          await google.colab.kernel.invokeFunction('convertToInteractive',\n",
              "                                                    [key], {});\n",
              "        if (!dataTable) return;\n",
              "\n",
              "        const docLinkHtml = 'Like what you see? Visit the ' +\n",
              "          '<a target=\"_blank\" href=https://colab.research.google.com/notebooks/data_table.ipynb>data table notebook</a>'\n",
              "          + ' to learn more about interactive tables.';\n",
              "        element.innerHTML = '';\n",
              "        dataTable['output_type'] = 'display_data';\n",
              "        await google.colab.output.renderOutput(dataTable, element);\n",
              "        const docLink = document.createElement('div');\n",
              "        docLink.innerHTML = docLinkHtml;\n",
              "        element.appendChild(docLink);\n",
              "      }\n",
              "    </script>\n",
              "  </div>\n",
              "\n",
              "\n",
              "<div id=\"df-2ce05542-ef85-4e49-a659-436d91301896\">\n",
              "  <button class=\"colab-df-quickchart\" onclick=\"quickchart('df-2ce05542-ef85-4e49-a659-436d91301896')\"\n",
              "            title=\"Suggest charts\"\n",
              "            style=\"display:none;\">\n",
              "\n",
              "<svg xmlns=\"http://www.w3.org/2000/svg\" height=\"24px\"viewBox=\"0 0 24 24\"\n",
              "     width=\"24px\">\n",
              "    <g>\n",
              "        <path d=\"M19 3H5c-1.1 0-2 .9-2 2v14c0 1.1.9 2 2 2h14c1.1 0 2-.9 2-2V5c0-1.1-.9-2-2-2zM9 17H7v-7h2v7zm4 0h-2V7h2v10zm4 0h-2v-4h2v4z\"/>\n",
              "    </g>\n",
              "</svg>\n",
              "  </button>\n",
              "\n",
              "<style>\n",
              "  .colab-df-quickchart {\n",
              "      --bg-color: #E8F0FE;\n",
              "      --fill-color: #1967D2;\n",
              "      --hover-bg-color: #E2EBFA;\n",
              "      --hover-fill-color: #174EA6;\n",
              "      --disabled-fill-color: #AAA;\n",
              "      --disabled-bg-color: #DDD;\n",
              "  }\n",
              "\n",
              "  [theme=dark] .colab-df-quickchart {\n",
              "      --bg-color: #3B4455;\n",
              "      --fill-color: #D2E3FC;\n",
              "      --hover-bg-color: #434B5C;\n",
              "      --hover-fill-color: #FFFFFF;\n",
              "      --disabled-bg-color: #3B4455;\n",
              "      --disabled-fill-color: #666;\n",
              "  }\n",
              "\n",
              "  .colab-df-quickchart {\n",
              "    background-color: var(--bg-color);\n",
              "    border: none;\n",
              "    border-radius: 50%;\n",
              "    cursor: pointer;\n",
              "    display: none;\n",
              "    fill: var(--fill-color);\n",
              "    height: 32px;\n",
              "    padding: 0;\n",
              "    width: 32px;\n",
              "  }\n",
              "\n",
              "  .colab-df-quickchart:hover {\n",
              "    background-color: var(--hover-bg-color);\n",
              "    box-shadow: 0 1px 2px rgba(60, 64, 67, 0.3), 0 1px 3px 1px rgba(60, 64, 67, 0.15);\n",
              "    fill: var(--button-hover-fill-color);\n",
              "  }\n",
              "\n",
              "  .colab-df-quickchart-complete:disabled,\n",
              "  .colab-df-quickchart-complete:disabled:hover {\n",
              "    background-color: var(--disabled-bg-color);\n",
              "    fill: var(--disabled-fill-color);\n",
              "    box-shadow: none;\n",
              "  }\n",
              "\n",
              "  .colab-df-spinner {\n",
              "    border: 2px solid var(--fill-color);\n",
              "    border-color: transparent;\n",
              "    border-bottom-color: var(--fill-color);\n",
              "    animation:\n",
              "      spin 1s steps(1) infinite;\n",
              "  }\n",
              "\n",
              "  @keyframes spin {\n",
              "    0% {\n",
              "      border-color: transparent;\n",
              "      border-bottom-color: var(--fill-color);\n",
              "      border-left-color: var(--fill-color);\n",
              "    }\n",
              "    20% {\n",
              "      border-color: transparent;\n",
              "      border-left-color: var(--fill-color);\n",
              "      border-top-color: var(--fill-color);\n",
              "    }\n",
              "    30% {\n",
              "      border-color: transparent;\n",
              "      border-left-color: var(--fill-color);\n",
              "      border-top-color: var(--fill-color);\n",
              "      border-right-color: var(--fill-color);\n",
              "    }\n",
              "    40% {\n",
              "      border-color: transparent;\n",
              "      border-right-color: var(--fill-color);\n",
              "      border-top-color: var(--fill-color);\n",
              "    }\n",
              "    60% {\n",
              "      border-color: transparent;\n",
              "      border-right-color: var(--fill-color);\n",
              "    }\n",
              "    80% {\n",
              "      border-color: transparent;\n",
              "      border-right-color: var(--fill-color);\n",
              "      border-bottom-color: var(--fill-color);\n",
              "    }\n",
              "    90% {\n",
              "      border-color: transparent;\n",
              "      border-bottom-color: var(--fill-color);\n",
              "    }\n",
              "  }\n",
              "</style>\n",
              "\n",
              "  <script>\n",
              "    async function quickchart(key) {\n",
              "      const quickchartButtonEl =\n",
              "        document.querySelector('#' + key + ' button');\n",
              "      quickchartButtonEl.disabled = true;  // To prevent multiple clicks.\n",
              "      quickchartButtonEl.classList.add('colab-df-spinner');\n",
              "      try {\n",
              "        const charts = await google.colab.kernel.invokeFunction(\n",
              "            'suggestCharts', [key], {});\n",
              "      } catch (error) {\n",
              "        console.error('Error during call to suggestCharts:', error);\n",
              "      }\n",
              "      quickchartButtonEl.classList.remove('colab-df-spinner');\n",
              "      quickchartButtonEl.classList.add('colab-df-quickchart-complete');\n",
              "    }\n",
              "    (() => {\n",
              "      let quickchartButtonEl =\n",
              "        document.querySelector('#df-2ce05542-ef85-4e49-a659-436d91301896 button');\n",
              "      quickchartButtonEl.style.display =\n",
              "        google.colab.kernel.accessAllowed ? 'block' : 'none';\n",
              "    })();\n",
              "  </script>\n",
              "</div>\n",
              "    </div>\n",
              "  </div>\n"
            ],
            "text/plain": [
              "   feature_0  feature_1  feature_2  feature_3  feature_4  feature_5  \\\n",
              "0  -0.331746  -3.457138   0.125102   1.021463   2.472393   2.566365   \n",
              "1  -0.760387  -2.433104   2.148351   2.141187   1.686539   1.412063   \n",
              "2  -1.273467   0.056620   1.844341   0.993846   0.568709   3.994567   \n",
              "3  -0.235222  -1.081148   0.286984   0.808517   1.195306   3.188333   \n",
              "4  -0.834875   0.038956   2.473953   1.657729   0.030935   1.591627   \n",
              "\n",
              "   feature_6  feature_7  feature_8  feature_9  ...  feature_56  feature_57  \\\n",
              "0   1.332137   2.003790   1.629643   1.988239  ...   -3.085047   -0.224229   \n",
              "1   3.730581   1.293363   0.712259   1.832634  ...   -3.748603    0.207825   \n",
              "2   3.033117  -0.178665  -0.666688  -0.546674  ...    0.782387   -5.887007   \n",
              "3   1.210665   2.051494   0.862255   2.662023  ...   -0.113559   -2.164554   \n",
              "4   3.866596   1.418826  -0.297197   2.170367  ...   -0.805988   -1.887454   \n",
              "\n",
              "   feature_58  feature_59  feature_60  feature_61  feature_62  feature_63  \\\n",
              "0    0.271834    1.150964   -0.437560    2.302062    0.724630    2.088537   \n",
              "1    0.666451    2.040472   -1.574180    2.136939   -0.291978   -0.196457   \n",
              "2   -1.785824   -3.722951   -5.684657    1.169104   -1.951936   -2.048238   \n",
              "3    0.407967   -0.552224   -1.559123    1.198165   -0.345436    2.045499   \n",
              "4    0.055080    0.089022   -2.977000    0.637381   -1.487314   -0.554593   \n",
              "\n",
              "   percent_nClick  BinNclick  \n",
              "0             0.0        0.0  \n",
              "1             0.0        0.0  \n",
              "2             0.0        0.0  \n",
              "3             0.0        0.0  \n",
              "4             0.0        0.0  \n",
              "\n",
              "[5 rows x 66 columns]"
            ]
          },
          "execution_count": 219,
          "metadata": {},
          "output_type": "execute_result"
        }
      ],
      "source": [
        "final_embedding_df.head()"
      ]
    },
    {
      "cell_type": "code",
      "execution_count": null,
      "metadata": {
        "id": "YbbjUhE0kTWS"
      },
      "outputs": [],
      "source": [
        "final_embedding_df.to_csv('embdedding_features.csv') #сохраняем обучающую выборку в форме эмбеддингов"
      ]
    },
    {
      "cell_type": "markdown",
      "metadata": {
        "id": "6Kf6q8G1gBX8"
      },
      "source": [
        "### Определяем функцию, которая переводит таблицу из формата предообратонной таблицы behaviour_2023_preprocessed в эмбеддинги"
      ]
    },
    {
      "cell_type": "code",
      "execution_count": 54,
      "metadata": {
        "id": "rjLYlKVRK_Qp"
      },
      "outputs": [],
      "source": [
        "def df_to_embed(df):\n",
        "    ''''Функция преобразует признаки таблицы behavior в эмбеддинги.\n",
        "        df - pd.DataFrame с такими же признаками как и behaviour_2023_preprocessed.csv\n",
        "\n",
        "        return pd.DataFrame - таблица с эмбедингами без таргета'''\n",
        "\n",
        "    numeric_columns = ['nCount', 'Amount', 'Volume', 'Weight', 'ResponseDays']\n",
        "    categorical_columns = ['OKVED', 'UnitTypeCategory', 'ActivityArea', 'Service',\n",
        "                       'Support', 'TransportationType', 'BeginMonth', 'EndMonth',\n",
        "                       'IsHoliday', 'IsWeekend']\n",
        "\n",
        "    encoder = torch.load(r'utils/encoder_model.pt')\n",
        "    num_features = encoder.fc2.out_features\n",
        "\n",
        "    with open('utils/dummie_columns.pickle', 'rb') as file:\n",
        "        col_names = pickle.load(file)\n",
        "\n",
        "    tmp = pd.DataFrame(data = None, columns=col_names)\n",
        "\n",
        "    df = categorize_table(df).drop([ 'UID'], axis = 1)\n",
        "   # df = df.drop('UID', axis = 1)\n",
        "\n",
        "    with open('utils/scaler.pickle', 'rb') as file:\n",
        "         scaler = pickle.load(file)\n",
        "\n",
        "    df.loc[:, numeric_columns] = scaler.transform(df.loc[:, numeric_columns])\n",
        "\n",
        "    dummie_table = pd.get_dummies(df[categorical_columns]).astype(int)\n",
        "    dummie_table = pd.concat([df[numeric_columns], dummie_table],  axis=  1)\n",
        "    \n",
        "    ['IsHoliday_0', 'IsWeekend_0', 'ActivityArea_0']\n",
        "\n",
        "    final_df = pd.concat([tmp, dummie_table], axis = 0).drop(['IsHoliday_0', 'IsWeekend_0'], axis = 1)\n",
        "    for missed_col in ['IsHoliday_0', 'IsWeekend_0', 'ActivityArea_0']:\n",
        "        if missed_col in final_df:\n",
        "            final_df = final_df.drop(missed_col, axis = 1)\n",
        "    final_df = final_df.fillna(0)\n",
        "\n",
        "    #сохраняем dummie_table как таблицу из эмбеддингов\n",
        "    all_vectors = []\n",
        "    for row in final_df.iterrows():\n",
        "        x = torch.tensor(row[1].values).unsqueeze(0)\n",
        "        embedding = encoder(x.float())\n",
        "        all_vectors.append(embedding.detach().numpy())\n",
        "    embedding_df = pd.DataFrame(np.concatenate(all_vectors), columns=[f'feature_{i}' for i in range(num_features)])\n",
        "    print('Преобразование в эмбеддинги завершено')\n",
        "    return embedding_df"
      ]
    },
    {
      "cell_type": "markdown",
      "metadata": {},
      "source": [
        "загружаем таблицу и берём 20 строк"
      ]
    },
    {
      "cell_type": "code",
      "execution_count": 55,
      "metadata": {
        "id": "m0Bj7FsOK_Q0"
      },
      "outputs": [],
      "source": [
        "behaviour = pd.read_csv(r'../preprocessed/behaviour_2023_preprocessed.csv')\n",
        "df = behaviour.iloc[10:30, :]"
      ]
    },
    {
      "cell_type": "markdown",
      "metadata": {},
      "source": [
        "применяем функцию df_to_embed и выводим результат"
      ]
    },
    {
      "cell_type": "code",
      "execution_count": 56,
      "metadata": {
        "colab": {
          "base_uri": "https://localhost:8080/",
          "height": 411
        },
        "id": "oFuZUqrXK_Q0",
        "outputId": "0be0e480-c8fc-4b59-94d5-50102ce452fb"
      },
      "outputs": [
        {
          "name": "stderr",
          "output_type": "stream",
          "text": [
            "c:\\Users\\Mikhail\\Desktop\\крипты мфти\\проектный практикум\\mipt_datatons\\target_customer_segment\\feature_selection\\utils\\utils.py:48: SettingWithCopyWarning: \n",
            "A value is trying to be set on a copy of a slice from a DataFrame.\n",
            "Try using .loc[row_indexer,col_indexer] = value instead\n",
            "\n",
            "See the caveats in the documentation: https://pandas.pydata.org/pandas-docs/stable/user_guide/indexing.html#returning-a-view-versus-a-copy\n",
            "  behaviour.loc[:, 'OKVED'] = behaviour['OKVED'].map(lambda x: 0 if pd.isna(x) else x) #.astype(\"category\")\n",
            "c:\\Users\\Mikhail\\Desktop\\крипты мфти\\проектный практикум\\mipt_datatons\\target_customer_segment\\feature_selection\\utils\\utils.py:49: SettingWithCopyWarning: \n",
            "A value is trying to be set on a copy of a slice from a DataFrame.\n",
            "Try using .loc[row_indexer,col_indexer] = value instead\n",
            "\n",
            "See the caveats in the documentation: https://pandas.pydata.org/pandas-docs/stable/user_guide/indexing.html#returning-a-view-versus-a-copy\n",
            "  behaviour.loc[:, 'ActivityArea'] = behaviour['ActivityArea'].map(lambda x: 0 if pd.isna(x) else x+1) #.astype(\"category\")\n",
            "c:\\Users\\Mikhail\\Desktop\\крипты мфти\\проектный практикум\\mipt_datatons\\target_customer_segment\\feature_selection\\utils\\utils.py:49: FutureWarning: In a future version, `df.iloc[:, i] = newvals` will attempt to set the values inplace instead of always setting a new array. To retain the old behavior, use either `df[df.columns[i]] = newvals` or, if columns are non-unique, `df.isetitem(i, newvals)`\n",
            "  behaviour.loc[:, 'ActivityArea'] = behaviour['ActivityArea'].map(lambda x: 0 if pd.isna(x) else x+1) #.astype(\"category\")\n"
          ]
        },
        {
          "name": "stdout",
          "output_type": "stream",
          "text": [
            "Преобразование в эмбеддинги завершено\n"
          ]
        },
        {
          "data": {
            "text/html": [
              "<div>\n",
              "<style scoped>\n",
              "    .dataframe tbody tr th:only-of-type {\n",
              "        vertical-align: middle;\n",
              "    }\n",
              "\n",
              "    .dataframe tbody tr th {\n",
              "        vertical-align: top;\n",
              "    }\n",
              "\n",
              "    .dataframe thead th {\n",
              "        text-align: right;\n",
              "    }\n",
              "</style>\n",
              "<table border=\"1\" class=\"dataframe\">\n",
              "  <thead>\n",
              "    <tr style=\"text-align: right;\">\n",
              "      <th></th>\n",
              "      <th>feature_0</th>\n",
              "      <th>feature_1</th>\n",
              "      <th>feature_2</th>\n",
              "      <th>feature_3</th>\n",
              "      <th>feature_4</th>\n",
              "      <th>feature_5</th>\n",
              "      <th>feature_6</th>\n",
              "      <th>feature_7</th>\n",
              "      <th>feature_8</th>\n",
              "      <th>feature_9</th>\n",
              "      <th>...</th>\n",
              "      <th>feature_54</th>\n",
              "      <th>feature_55</th>\n",
              "      <th>feature_56</th>\n",
              "      <th>feature_57</th>\n",
              "      <th>feature_58</th>\n",
              "      <th>feature_59</th>\n",
              "      <th>feature_60</th>\n",
              "      <th>feature_61</th>\n",
              "      <th>feature_62</th>\n",
              "      <th>feature_63</th>\n",
              "    </tr>\n",
              "  </thead>\n",
              "  <tbody>\n",
              "    <tr>\n",
              "      <th>0</th>\n",
              "      <td>-1.879712</td>\n",
              "      <td>-0.062494</td>\n",
              "      <td>1.219812</td>\n",
              "      <td>-0.942602</td>\n",
              "      <td>0.901811</td>\n",
              "      <td>-0.921155</td>\n",
              "      <td>1.409124</td>\n",
              "      <td>0.471208</td>\n",
              "      <td>0.706856</td>\n",
              "      <td>-0.516168</td>\n",
              "      <td>...</td>\n",
              "      <td>-2.483780</td>\n",
              "      <td>0.441799</td>\n",
              "      <td>-1.772649</td>\n",
              "      <td>0.196960</td>\n",
              "      <td>2.635578</td>\n",
              "      <td>1.236344</td>\n",
              "      <td>0.130977</td>\n",
              "      <td>2.292270</td>\n",
              "      <td>1.712600</td>\n",
              "      <td>0.297776</td>\n",
              "    </tr>\n",
              "    <tr>\n",
              "      <th>1</th>\n",
              "      <td>-1.189257</td>\n",
              "      <td>-0.421894</td>\n",
              "      <td>-0.195553</td>\n",
              "      <td>0.173048</td>\n",
              "      <td>2.774388</td>\n",
              "      <td>-0.506277</td>\n",
              "      <td>1.385067</td>\n",
              "      <td>-0.374000</td>\n",
              "      <td>0.126479</td>\n",
              "      <td>-0.702917</td>\n",
              "      <td>...</td>\n",
              "      <td>-0.083395</td>\n",
              "      <td>0.549440</td>\n",
              "      <td>-1.744801</td>\n",
              "      <td>-0.349327</td>\n",
              "      <td>2.434678</td>\n",
              "      <td>2.434294</td>\n",
              "      <td>0.040048</td>\n",
              "      <td>1.559436</td>\n",
              "      <td>2.119968</td>\n",
              "      <td>-0.344434</td>\n",
              "    </tr>\n",
              "    <tr>\n",
              "      <th>2</th>\n",
              "      <td>-1.762193</td>\n",
              "      <td>-0.801992</td>\n",
              "      <td>-0.257771</td>\n",
              "      <td>-1.236851</td>\n",
              "      <td>0.628606</td>\n",
              "      <td>0.769811</td>\n",
              "      <td>0.027066</td>\n",
              "      <td>-0.694934</td>\n",
              "      <td>0.775178</td>\n",
              "      <td>-0.763566</td>\n",
              "      <td>...</td>\n",
              "      <td>-0.822053</td>\n",
              "      <td>0.746517</td>\n",
              "      <td>-2.581679</td>\n",
              "      <td>0.009575</td>\n",
              "      <td>2.076722</td>\n",
              "      <td>2.623639</td>\n",
              "      <td>0.967002</td>\n",
              "      <td>1.756314</td>\n",
              "      <td>0.257418</td>\n",
              "      <td>0.522938</td>\n",
              "    </tr>\n",
              "  </tbody>\n",
              "</table>\n",
              "<p>3 rows × 64 columns</p>\n",
              "</div>"
            ],
            "text/plain": [
              "   feature_0  feature_1  feature_2  feature_3  feature_4  feature_5  \\\n",
              "0  -1.879712  -0.062494   1.219812  -0.942602   0.901811  -0.921155   \n",
              "1  -1.189257  -0.421894  -0.195553   0.173048   2.774388  -0.506277   \n",
              "2  -1.762193  -0.801992  -0.257771  -1.236851   0.628606   0.769811   \n",
              "\n",
              "   feature_6  feature_7  feature_8  feature_9  ...  feature_54  feature_55  \\\n",
              "0   1.409124   0.471208   0.706856  -0.516168  ...   -2.483780    0.441799   \n",
              "1   1.385067  -0.374000   0.126479  -0.702917  ...   -0.083395    0.549440   \n",
              "2   0.027066  -0.694934   0.775178  -0.763566  ...   -0.822053    0.746517   \n",
              "\n",
              "   feature_56  feature_57  feature_58  feature_59  feature_60  feature_61  \\\n",
              "0   -1.772649    0.196960    2.635578    1.236344    0.130977    2.292270   \n",
              "1   -1.744801   -0.349327    2.434678    2.434294    0.040048    1.559436   \n",
              "2   -2.581679    0.009575    2.076722    2.623639    0.967002    1.756314   \n",
              "\n",
              "   feature_62  feature_63  \n",
              "0    1.712600    0.297776  \n",
              "1    2.119968   -0.344434  \n",
              "2    0.257418    0.522938  \n",
              "\n",
              "[3 rows x 64 columns]"
            ]
          },
          "execution_count": 56,
          "metadata": {},
          "output_type": "execute_result"
        }
      ],
      "source": [
        "df_embedings = df_to_embed(df)\n",
        "df_embedings.head(3)"
      ]
    },
    {
      "cell_type": "markdown",
      "metadata": {},
      "source": [
        "теперь таблица преобразована в эмбеддинги"
      ]
    },
    {
      "cell_type": "markdown",
      "metadata": {},
      "source": [
        "# <a id=\"8\">Выводы</a>"
      ]
    },
    {
      "cell_type": "markdown",
      "metadata": {},
      "source": [
        "* Гипотеза о возможности создания таргета за счёт кластеризации не подтвердилась\n",
        "* В качестве таргета создан признак percent_nClick, который означает частоту перехода клиента по ссылке.\n",
        "* Из признака percent_nClick создан бинарный признак BinNclick, имеющий значение 1, если клиент перейдёт по ссылке, и 0 если нет\n",
        "* Анализ статистической значимости коэффициентов логистической регресси показал значимое отличие коэффициентов числовых признаков от 0\n",
        "* Отбор признаков по критерию Акайке и логистической регрессией не увенчался успехом, поскольку матрица данных оказалась сингулярной\n",
        "* Проведён отбор отбор признаков по их важности с использованием информационного критерия Джини для бэггинга деревьев. Регрессионное и классифицирующее деревья для числового и бинарного признаков показали одинаковый результат.\n",
        "* Из 1155 полученных в результате OneHotEncoding признаков было отобрано 198 за счёт важности признака, полученного от использования деревьев решений. Эти данные сохранены в feature_selection\\data\\raw_selected_data.csv  Последние две колонки это таргет: percent_nClick и BinNclickBinNclick\n",
        "* Классчиские методы понижегния размерности (например, PCA) не подходят для матрицы данных ввиду скореллированности признаков и большого количества категориальных данных.\n",
        "* Построена и обучена полносвязанная нейронная сеть по типо энкодер-декодер, которая возвращает эмбеддинг размерности  64 из таблицы данных, полученной в результате преобразования OneHotEncoding (из 1155 признаков в 64). Преобразованные в эмбеддинги данные сохранены в feature_selection\\data\\embdedding_features.csv Последние две колонки это таргет: percent_nClick и BinNclickBinNclick"
      ]
    }
  ],
  "metadata": {
    "colab": {
      "provenance": []
    },
    "kernelspec": {
      "display_name": "Python 3",
      "name": "python3"
    },
    "language_info": {
      "codemirror_mode": {
        "name": "ipython",
        "version": 3
      },
      "file_extension": ".py",
      "mimetype": "text/x-python",
      "name": "python",
      "nbconvert_exporter": "python",
      "pygments_lexer": "ipython3",
      "version": "3.10.0"
    }
  },
  "nbformat": 4,
  "nbformat_minor": 0
}
